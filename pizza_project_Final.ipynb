{
 "cells": [
  {
   "cell_type": "markdown",
   "metadata": {},
   "source": [
    "# W207-1 Final Project - \"Random Acts of Pizza\"\n",
    "\n",
    "## Team\n",
    "- Andrew Mamroth\n",
    "- Colby Carter\n",
    "- Matt Adereth\n",
    "- Rob Deng\n",
    "\n",
    "[Team Github](https://github.com/mamrotha/2017_Fall_207_KaggleProj)\n",
    "\n",
    "## Overview\n",
    "\n",
    "[Original Kaggle Description](https://www.kaggle.com/c/random-acts-of-pizza)\n",
    "\n",
    "There is a sub-reddit called [r/Random_Acts_Of_Pizza](https://www.reddit.com/r/Random_Acts_Of_Pizza/) where users can post requests for someone to purchase them a pizza and, shockingly, random internet strangers will then buy them pizza.  In this competition, we are provided with a data set containing over 5,000 posts from this sub-reddit and our goal is to build a model that can predict whether or not the post will result in a pizza purchase."
   ]
  },
  {
   "cell_type": "markdown",
   "metadata": {},
   "source": [
    "# Package Initialization"
   ]
  },
  {
   "cell_type": "code",
   "execution_count": 42,
   "metadata": {},
   "outputs": [],
   "source": [
    "# This tells matplotlib not to try opening a new window for each plot.\n",
    "%matplotlib inline\n",
    "\n",
    "# General libraries.\n",
    "import re\n",
    "import numpy as np\n",
    "import matplotlib.pyplot as plt\n",
    "from sklearn.linear_model import LogisticRegression\n",
    "from sklearn.naive_bayes import MultinomialNB\n",
    "from sklearn.naive_bayes import GaussianNB\n",
    "from sklearn.feature_extraction.text import *\n",
    "from sklearn.grid_search import GridSearchCV\n",
    "from sklearn.pipeline import Pipeline\n",
    "from sklearn.ensemble import RandomForestClassifier\n",
    "from sklearn.ensemble import AdaBoostClassifier\n",
    "\n",
    "import pandas as pd\n",
    "from pandas.tseries.holiday import USFederalHolidayCalendar\n",
    "\n",
    "# ADD METRICS\n",
    "from sklearn import metrics\n",
    "from sklearn.metrics import classification_report\n",
    "\n",
    "#NLTK - NLP Tokenizing and Cleaning\n",
    "import nltk\n",
    "from nltk import pos_tag, pos_tag_sents\n",
    "from nltk.tokenize import word_tokenize, sent_tokenize\n",
    "from nltk.corpus import stopwords\n",
    "from nltk.corpus import wordnet\n",
    "from nltk.stem import WordNetLemmatizer\n",
    "from nltk.sentiment.vader import SentimentIntensityAnalyzer\n",
    "\n",
    "#GMM\n",
    "from sklearn.decomposition import PCA\n",
    "from sklearn.cluster import KMeans\n",
    "from sklearn.mixture import GMM\n",
    "from sklearn.mixture import GaussianMixture"
   ]
  },
  {
   "cell_type": "code",
   "execution_count": 2,
   "metadata": {
    "collapsed": true
   },
   "outputs": [],
   "source": [
    "# Only evaluate this if you don't already have the NLTK corpora\n",
    "#nltk.download()"
   ]
  },
  {
   "cell_type": "markdown",
   "metadata": {},
   "source": [
    "# Data \n",
    "\n",
    "## Original description of the data from the Kaggle website\n",
    "\n",
    "This dataset includes 5671 requests collected from the Reddit community Random Acts of Pizza between December 8, 2010 and September 29, 2013 (retrieved on September 30, 2013). All requests ask for the same thing: a free pizza. The outcome of each request -- whether its author received a pizza or not -- is known. Meta-data includes information such as: time of the request, activity of the requester, community-age of the requester, etc.\n",
    "\n",
    "Each JSON entry corresponds to one request (the first and only request by the requester on Random Acts of Pizza). We have removed fields from the test set which would not be available at the time of posting.\n",
    "\n",
    "### Field Descriptions\n",
    "\n",
    "| Field Name | Description |\n",
    "| ---------- | ----------- |\n",
    "| giver_username_if_known | Reddit username of giver if known, i.e. the person satisfying the request (\"N/A\" otherwise). |\n",
    "| number_of_downvotes_of_request_at_retrieval | Number of downvotes at the time the request was collected. |\n",
    "| number_of_upvotes_of_request_at_retrieval | Number of upvotes at the time the request was collected. |\n",
    "| post_was_edited | Boolean indicating whether this post was edited (from Reddit). |\n",
    "| request_id | Identifier of the post on Reddit, e.g. \"t3_w5491\". |\n",
    "| request_number_of_comments_at_retrieval | Number of comments for the request at time of retrieval. |\n",
    "| request_text | Full text of the request. |\n",
    "| request_text_edit_aware | Edit aware version of \"request_text\". We use a set of rules to strip edited comments indicating the success of the request such as \"EDIT: Thanks /u/foo, the pizza was delicous\". |\n",
    "| request_title | Title of the request. |\n",
    "| requester_account_age_in_days_at_request | Account age of requester in days at time of request. |\n",
    "| requester_account_age_in_days_at_retrieval | Account age of requester in days at time of retrieval. |\n",
    "| requester_days_since_first_post_on_raop_at_request | Number of days between requesters first post on RAOP and this request (zero if requester has never posted before on RAOP). |\n",
    "| requester_days_since_first_post_on_raop_at_retrieval | Number of days between requesters first post on RAOP and time of retrieval. |\n",
    "| requester_number_of_comments_at_request | Total number of comments on Reddit by requester at time of request. |\n",
    "| requester_number_of_comments_at_retrieval | Total number of comments on Reddit by requester at time of retrieval. |\n",
    "| requester_number_of_comments_in_raop_at_request | Total number of comments in RAOP by requester at time of request. |\n",
    "| requester_number_of_comments_in_raop_at_retrieval | Total number of comments in RAOP by requester at time of retrieval. |\n",
    "| requester_number_of_posts_at_request | Total number of posts on Reddit by requester at time of request. |\n",
    "| requester_number_of_posts_at_retrieval | Total number of posts on Reddit by requester at time of retrieval. |\n",
    "| requester_number_of_posts_on_raop_at_request | Total number of posts in RAOP by requester at time of request. |\n",
    "| requester_number_of_posts_on_raop_at_retrieval | Total number of posts in RAOP by requester at time of retrieval. |\n",
    "| requester_number_of_subreddits_at_request | The number of subreddits in which the author had already posted in at the time of request. |\n",
    "| requester_received_pizza | Boolean indicating the success of the request, i.e., whether the requester received pizza. |\n",
    "| requester_subreddits_at_request | The list of subreddits in which the author had already posted in at the time of request. |\n",
    "| requester_upvotes_minus_downvotes_at_request | Difference of total upvotes and total downvotes of requester at time of request. |\n",
    "| requester_upvotes_minus_downvotes_at_retrieval | Difference of total upvotes and total downvotes of requester at time of retrieval. |\n",
    "| requester_upvotes_plus_downvotes_at_request | Sum of total upvotes and total downvotes of requester at time of request. |\n",
    "| requester_upvotes_plus_downvotes_at_retrieval | Sum of total upvotes and total downvotes of requester at time of retrieval. |\n",
    "| requester_user_flair | Users on RAOP receive badges (Reddit calls them flairs) which is a small picture next to their username. In our data set the user flair is either None (neither given nor received pizza, N=4282), \"shroom\" (received pizza, but not given, N=1306), or \"PIF\" (pizza given after having received, N=83). |\n",
    "| requester_username | Reddit username of requester. |\n",
    "| unix_timestamp_of_request | Unix timestamp of request (supposedly in timezone of user, but in most cases it is equal to the UTC timestamp -- which is incorrect since most RAOP users are from the USA). |\n",
    "| unix_timestamp_of_request_utc | Unit timestamp of request in UTC. |\n",
    "\n",
    "## Initial Loading"
   ]
  },
  {
   "cell_type": "code",
   "execution_count": 3,
   "metadata": {},
   "outputs": [
    {
     "name": "stdout",
     "output_type": "stream",
     "text": [
      "Raw Train Shape: (4040, 32)\n",
      "Raw Test Shape: (1631, 17)\n"
     ]
    }
   ],
   "source": [
    "# Load raw data and create labels\n",
    "raw_train = pd.read_json('./data/train.json')\n",
    "raw_test = pd.read_json('./data/test.json')\n",
    "\n",
    "print(\"Raw Train Shape:\", raw_train.shape)\n",
    "print(\"Raw Test Shape:\", raw_test.shape)"
   ]
  },
  {
   "cell_type": "markdown",
   "metadata": {},
   "source": [
    "## Schema Reconciliation\n",
    "\n",
    "The training data has 32 columns, while the test data only has 17.  Let's look at which columns are different:"
   ]
  },
  {
   "cell_type": "code",
   "execution_count": 4,
   "metadata": {},
   "outputs": [
    {
     "name": "stdout",
     "output_type": "stream",
     "text": [
      "Columns in Train but not Test:\n",
      "  request_text\n",
      "  requester_number_of_comments_at_retrieval\n",
      "  request_number_of_comments_at_retrieval\n",
      "  requester_received_pizza\n",
      "  number_of_downvotes_of_request_at_retrieval\n",
      "  requester_number_of_posts_at_retrieval\n",
      "  post_was_edited\n",
      "  requester_number_of_posts_on_raop_at_retrieval\n",
      "  requester_user_flair\n",
      "  requester_days_since_first_post_on_raop_at_retrieval\n",
      "  requester_upvotes_plus_downvotes_at_retrieval\n",
      "  requester_upvotes_minus_downvotes_at_retrieval\n",
      "  requester_number_of_comments_in_raop_at_retrieval\n",
      "  number_of_upvotes_of_request_at_retrieval\n",
      "  requester_account_age_in_days_at_retrieval\n",
      "\n",
      "No columns in Test but not Train\n"
     ]
    }
   ],
   "source": [
    "raw_train_only_columns = set(raw_train.columns.values) - set(raw_test.columns.values)\n",
    "\n",
    "if len(raw_train_only_columns) > 0:\n",
    "    print (\"Columns in Train but not Test:\")\n",
    "    for c in raw_train_only_columns:\n",
    "        print (\" \", c)\n",
    "else:\n",
    "    print (\"No columns in Train but not Test\")\n",
    "    \n",
    "raw_test_only_columns = set(raw_test.columns.values) - set(raw_train.columns.values)\n",
    "print(\"\")\n",
    "if len(raw_test_only_columns) > 0:\n",
    "    print (\"Columns in Test but not Train:\")\n",
    "    for c in raw_test_only_columns:\n",
    "        print (\" \", c)\n",
    "else:\n",
    "    print (\"No columns in Test but not Train\")"
   ]
  },
  {
   "cell_type": "markdown",
   "metadata": {
    "collapsed": true
   },
   "source": [
    "There are several columns that aren't included in the test data and thus need to be excluded from the training data.\n",
    "\n",
    "- \\*_at_retrival - These are features that are dependent on when the data was pulled.  For real-time prediction when a post is made, these are not relevant since they will be the same as their \\*_at_request counterparts\n",
    "- post_was_edited - Since users are supposed to edit their post if they receive a pizza, this would be a major leak of results.  Additionally, we want to be able to make predictions as soon as the post is made, so subsequent edits won't be available.\n",
    "- requester_user_flair - There isn't historical flair information, so this feature isn't an accurate reflection of the state at the time of the request.  Users who successfully give or receive pizza are granted special flair, so this would also be an unfair indicator of results.\n",
    "- request_text - Since successful posts are often edited to indicate that the request has been fulfilled, the full request_text can't be used.  The additional \"request_text_edit_aware\" field has edits stripped out and is available in both the train and test data and will be used instead."
   ]
  },
  {
   "cell_type": "code",
   "execution_count": 5,
   "metadata": {
    "collapsed": true
   },
   "outputs": [],
   "source": [
    "train_with_test_schema = raw_train[raw_test.columns.values]"
   ]
  },
  {
   "cell_type": "markdown",
   "metadata": {},
   "source": [
    "## Train/Development Data Split\n",
    "\n",
    "We'll hold out ~15% of the training data as our development data set.  All exploratory data analysis and model training will be done only on the ~85% of training data that is not being held out.  We do not know if the order of the training data is meaningful, so we will use random sampling to avoid introducing bias."
   ]
  },
  {
   "cell_type": "code",
   "execution_count": 6,
   "metadata": {
    "collapsed": true
   },
   "outputs": [],
   "source": [
    "np.random.seed(6)\n",
    "in_dev = np.random.choice([True, False], len(raw_train), p=[0.15, 0.85])\n",
    "\n",
    "# train_data will be the training data without any new features added.  This will be used for the EDA.\n",
    "train_data = train_with_test_schema[np.logical_not(in_dev)].copy()\n",
    "\n",
    "train_labels = raw_train[\"requester_received_pizza\"][np.logical_not(in_dev)]\n",
    "dev_labels = raw_train[\"requester_received_pizza\"][in_dev]\n",
    "\n",
    "# We will add new features to extended_data as we explore.  When we complete, we will set the train_data, dev_data, \n",
    "# and test_data to be the appropriate rows from extended_data.\n",
    "extended_data = pd.concat([train_with_test_schema.copy(), raw_test])\n",
    "in_train = np.concatenate((np.logical_not(in_dev), np.full(len(raw_test), False)))\n",
    "in_dev = np.concatenate((in_dev, np.full(len(raw_test), False)))\n",
    "in_test = np.concatenate((np.full(len(raw_train), False), np.full(len(raw_test), True)))"
   ]
  },
  {
   "cell_type": "markdown",
   "metadata": {},
   "source": [
    "## Exploratory Data Analysis\n",
    "We'll now look at the individual fields to understand their types and distributions.\n",
    "\n",
    "### Request Time\n",
    "There are several things to look at with respect to the request time:\n",
    "\n",
    "1. Has the frequency of requests changed over time?\n",
    "2. Has the rate of request fulfillment changed over time?\n",
    "3. Does day of week matter? (Possible new feature)\n",
    "4. Does time of day matter? (Possible new feature)\n",
    "\n",
    "#### Request Frequency"
   ]
  },
  {
   "cell_type": "code",
   "execution_count": 7,
   "metadata": {},
   "outputs": [
    {
     "data": {
      "text/plain": [
       "<matplotlib.text.Text at 0x24a3335a1d0>"
      ]
     },
     "execution_count": 7,
     "metadata": {},
     "output_type": "execute_result"
    },
    {
     "data": {
      "image/png": "[encoded data removed]",
      "text/plain": [
       "<matplotlib.figure.Figure at 0x24a33b48f28>"
      ]
     },
     "metadata": {},
     "output_type": "display_data"
    }
   ],
   "source": [
    "d = pd.DataFrame()\n",
    "d['datetime'] = pd.to_datetime(train_data[\"unix_timestamp_of_request\"], unit = 's')\n",
    "d.index = d['datetime']\n",
    "d['datetime'].resample('W').count().plot().set_title('Number of Posts by Week')"
   ]
  },
  {
   "cell_type": "markdown",
   "metadata": {},
   "source": [
    "#### Request Fulfillment over Time"
   ]
  },
  {
   "cell_type": "code",
   "execution_count": 8,
   "metadata": {},
   "outputs": [
    {
     "data": {
      "text/plain": [
       "<matplotlib.text.Text at 0x24a33d158d0>"
      ]
     },
     "execution_count": 8,
     "metadata": {},
     "output_type": "execute_result"
    },
    {
     "data": {
      "image/png": "[encoded data removed]",
      "text/plain": [
       "<matplotlib.figure.Figure at 0x24a33e44128>"
      ]
     },
     "metadata": {},
     "output_type": "display_data"
    }
   ],
   "source": [
    "d = pd.DataFrame()\n",
    "d['datetime'] = pd.to_datetime(train_data[\"unix_timestamp_of_request\"], unit = 's')\n",
    "d['result'] = train_labels\n",
    "d.index = d['datetime']\n",
    "d.resample('W').mean().plot().set_title(\"Percent of Requests Fulfilled by Week\")"
   ]
  },
  {
   "cell_type": "markdown",
   "metadata": {},
   "source": [
    "It looks like there was a lot of excitement at the start of the sub-reddit.  There was a burst of requests and an unsustained high rate of fulfillment.  We will add a feature that indicates whether or not the post was during this initial time, since it doesn't seem to be a part of the general trend.  August 1st, 2011 looks like a reasonable cutoff, so there will be a new boolean feature called \"during_initial_period\" that indicates this."
   ]
  },
  {
   "cell_type": "code",
   "execution_count": 9,
   "metadata": {
    "collapsed": true
   },
   "outputs": [],
   "source": [
    "import time\n",
    "import datetime\n",
    "cutoff_date = datetime.date(2011,8,1)\n",
    "cutoff_time = time.mktime(cutoff_date.timetuple())\n",
    "extended_data['during_initial_period'] = np.where(extended_data['unix_timestamp_of_request_utc'] < cutoff_time, 1, 0)"
   ]
  },
  {
   "cell_type": "markdown",
   "metadata": {},
   "source": [
    "#### Day of Week"
   ]
  },
  {
   "cell_type": "code",
   "execution_count": 10,
   "metadata": {},
   "outputs": [
    {
     "data": {
      "text/html": [
       "<div>\n",
       "<style>\n",
       "    .dataframe thead tr:only-child th {\n",
       "        text-align: right;\n",
       "    }\n",
       "\n",
       "    .dataframe thead th {\n",
       "        text-align: left;\n",
       "    }\n",
       "\n",
       "    .dataframe tbody tr th {\n",
       "        vertical-align: top;\n",
       "    }\n",
       "</style>\n",
       "<table border=\"1\" class=\"dataframe\">\n",
       "  <thead>\n",
       "    <tr>\n",
       "      <th></th>\n",
       "      <th colspan=\"2\" halign=\"left\">result</th>\n",
       "    </tr>\n",
       "    <tr>\n",
       "      <th></th>\n",
       "      <th>mean</th>\n",
       "      <th>count</th>\n",
       "    </tr>\n",
       "    <tr>\n",
       "      <th>dayofweek</th>\n",
       "      <th></th>\n",
       "      <th></th>\n",
       "    </tr>\n",
       "  </thead>\n",
       "  <tbody>\n",
       "    <tr>\n",
       "      <th>0</th>\n",
       "      <td>0.253521</td>\n",
       "      <td>497</td>\n",
       "    </tr>\n",
       "    <tr>\n",
       "      <th>1</th>\n",
       "      <td>0.230315</td>\n",
       "      <td>508</td>\n",
       "    </tr>\n",
       "    <tr>\n",
       "      <th>2</th>\n",
       "      <td>0.217241</td>\n",
       "      <td>580</td>\n",
       "    </tr>\n",
       "    <tr>\n",
       "      <th>3</th>\n",
       "      <td>0.296375</td>\n",
       "      <td>469</td>\n",
       "    </tr>\n",
       "    <tr>\n",
       "      <th>4</th>\n",
       "      <td>0.265351</td>\n",
       "      <td>456</td>\n",
       "    </tr>\n",
       "    <tr>\n",
       "      <th>5</th>\n",
       "      <td>0.230088</td>\n",
       "      <td>452</td>\n",
       "    </tr>\n",
       "    <tr>\n",
       "      <th>6</th>\n",
       "      <td>0.230769</td>\n",
       "      <td>481</td>\n",
       "    </tr>\n",
       "  </tbody>\n",
       "</table>\n",
       "</div>"
      ],
      "text/plain": [
       "             result      \n",
       "               mean count\n",
       "dayofweek                \n",
       "0          0.253521   497\n",
       "1          0.230315   508\n",
       "2          0.217241   580\n",
       "3          0.296375   469\n",
       "4          0.265351   456\n",
       "5          0.230088   452\n",
       "6          0.230769   481"
      ]
     },
     "execution_count": 10,
     "metadata": {},
     "output_type": "execute_result"
    }
   ],
   "source": [
    "d['dayofweek'] = d['datetime'].dt.dayofweek\n",
    "d.groupby('dayofweek').agg(['mean', 'count'])"
   ]
  },
  {
   "cell_type": "markdown",
   "metadata": {},
   "source": [
    "#### Time of Day"
   ]
  },
  {
   "cell_type": "code",
   "execution_count": 11,
   "metadata": {},
   "outputs": [
    {
     "data": {
      "text/plain": [
       "<matplotlib.text.Text at 0x24a330bc710>"
      ]
     },
     "execution_count": 11,
     "metadata": {},
     "output_type": "execute_result"
    },
    {
     "data": {
      "image/png": "[encoded data removed]",
      "text/plain": [
       "<matplotlib.figure.Figure at 0x24a33d66e10>"
      ]
     },
     "metadata": {},
     "output_type": "display_data"
    },
    {
     "data": {
      "image/png": "[encoded data removed]",
      "text/plain": [
       "<matplotlib.figure.Figure at 0x24a33d66128>"
      ]
     },
     "metadata": {},
     "output_type": "display_data"
    }
   ],
   "source": [
    "d['hour'] = d['datetime'].dt.hour\n",
    "d[['hour', 'result']].groupby('hour').agg('count').plot().set_title(\"Number of Requests by Hour of Day\")\n",
    "d[['hour', 'result']].groupby('hour').agg('mean').plot().set_title(\"Percent of Requests Fulfilled by Hour of Day\")"
   ]
  },
  {
   "cell_type": "markdown",
   "metadata": {},
   "source": [
    "The fulfillment rate varies from 21.1% to 28.8% by the day of the week and from 11.1% to 39.0% depending on the hour of the day. Both of these seem like reasonably distinguishing features that we should include."
   ]
  },
  {
   "cell_type": "code",
   "execution_count": 12,
   "metadata": {
    "collapsed": true
   },
   "outputs": [],
   "source": [
    "extended_data['day_of_week'] = pd.to_datetime(extended_data[\"unix_timestamp_of_request\"], unit = 's').dt.dayofweek\n",
    "extended_data['hour_of_day'] = pd.to_datetime(extended_data[\"unix_timestamp_of_request\"], unit = 's').dt.hour"
   ]
  },
  {
   "cell_type": "markdown",
   "metadata": {},
   "source": [
    "### Field Comparison Utilities"
   ]
  },
  {
   "cell_type": "code",
   "execution_count": 13,
   "metadata": {
    "collapsed": true
   },
   "outputs": [],
   "source": [
    "from scipy.stats import ttest_ind\n",
    "\n",
    "def success_vs_fail_report(feature, try_log = False):\n",
    "    print (feature)\n",
    "    success_values = train_data[feature][train_labels]\n",
    "    print (\"SUCCESS\", \"Mean:\", \"{:.3f}\".format(success_values.mean()), \"StdDev:\", \"{:.3f}\".format(success_values.std()))\n",
    "    fail_values = train_data[feature][np.logical_not(train_labels)]\n",
    "    print (\"FAIL   \", \"Mean:\", \"{:.3f}\".format(fail_values.mean()), \"StdDev:\", \"{:.3f}\".format(fail_values.std()))\n",
    "    ttest = ttest_ind(success_values, fail_values, equal_var=False)\n",
    "    print (\"TStat:\", \"{:.3f}\".format(ttest.statistic))\n",
    "    \n",
    "    if try_log:\n",
    "        ttest_of_log = ttest_ind(np.log(success_values + 1), np.log(fail_values + 1), equal_var=False)\n",
    "        print (\"TStat (log):\", \"{:.3f}\".format(ttest_of_log.statistic))\n",
    "    "
   ]
  },
  {
   "cell_type": "markdown",
   "metadata": {},
   "source": [
    "### Text Field Lengths\n",
    "#### Title Length"
   ]
  },
  {
   "cell_type": "code",
   "execution_count": 14,
   "metadata": {},
   "outputs": [
    {
     "name": "stdout",
     "output_type": "stream",
     "text": [
      "title_length\n",
      "SUCCESS Mean: 73.527 StdDev: 37.051\n",
      "FAIL    Mean: 71.085 StdDev: 35.765\n",
      "TStat: 1.678\n",
      "TStat (log): 2.099\n"
     ]
    }
   ],
   "source": [
    "train_data['title_length'] = train_data['request_title'].str.len()\n",
    "success_vs_fail_report('title_length', try_log=True)"
   ]
  },
  {
   "cell_type": "markdown",
   "metadata": {},
   "source": [
    "#### Request Length"
   ]
  },
  {
   "cell_type": "code",
   "execution_count": 15,
   "metadata": {},
   "outputs": [
    {
     "name": "stdout",
     "output_type": "stream",
     "text": [
      "request_length\n",
      "SUCCESS Mean: 466.801 StdDev: 388.117\n",
      "FAIL    Mean: 371.984 StdDev: 347.083\n",
      "TStat: 6.324\n",
      "TStat (log): 6.540\n"
     ]
    }
   ],
   "source": [
    "train_data['request_length'] = train_data['request_text_edit_aware'].str.len()\n",
    "success_vs_fail_report('request_length', try_log=True)"
   ]
  },
  {
   "cell_type": "markdown",
   "metadata": {},
   "source": [
    "It seems that the title length doesn't seem to vary much for those who received a pizza vs those that did not.  However, it does appear that a longer request is much more likely to get you a pizza.  This is a very good feature to include in the model."
   ]
  },
  {
   "cell_type": "code",
   "execution_count": 16,
   "metadata": {
    "collapsed": true
   },
   "outputs": [],
   "source": [
    "extended_data['request_length'] = extended_data['request_text_edit_aware'].str.len()"
   ]
  },
  {
   "cell_type": "markdown",
   "metadata": {},
   "source": [
    "### Upvotes vs Downvotes\n",
    "\n",
    "Here we compare using the features requester_upvotes_minus_downvotes_at_request and requester_upvotes_plus_downvotes_at_request vs creating new features 'upvotes' and 'downvotes'"
   ]
  },
  {
   "cell_type": "code",
   "execution_count": 17,
   "metadata": {},
   "outputs": [
    {
     "name": "stdout",
     "output_type": "stream",
     "text": [
      "requester_upvotes_minus_downvotes_at_request\n",
      "SUCCESS Mean: 1384.634 StdDev: 5722.983\n",
      "FAIL    Mean: 1099.245 StdDev: 3111.062\n",
      "TStat: 1.384\n",
      "\n",
      "requester_upvotes_plus_downvotes_at_request\n",
      "SUCCESS Mean: 5189.639 StdDev: 45467.228\n",
      "FAIL    Mean: 3412.276 StdDev: 18660.821\n",
      "TStat: 1.106\n",
      "TStat (log): 7.138\n",
      "\n",
      "upvotes\n",
      "SUCCESS Mean: 3287.136 StdDev: 25527.129\n",
      "FAIL    Mean: 2255.761 StdDev: 10711.807\n",
      "TStat: 1.142\n",
      "TStat (log): 7.172\n",
      "\n",
      "downvotes\n",
      "SUCCESS Mean: 8476.775 StdDev: 70988.942\n",
      "FAIL    Mean: 5668.037 StdDev: 29355.211\n",
      "TStat: 1.119\n",
      "TStat (log): 7.297\n",
      "\n",
      "upvotes_ratio\n",
      "SUCCESS Mean: 0.670 StdDev: 0.255\n",
      "FAIL    Mean: 0.597 StdDev: 0.316\n",
      "TStat: 6.753\n"
     ]
    }
   ],
   "source": [
    "success_vs_fail_report('requester_upvotes_minus_downvotes_at_request')  #Not doing log because this can be negative\n",
    "\n",
    "print()\n",
    "success_vs_fail_report('requester_upvotes_plus_downvotes_at_request', try_log=True)\n",
    "\n",
    "print()\n",
    "train_data['upvotes']  = (train_data['requester_upvotes_minus_downvotes_at_request'] +\n",
    "                       train_data['requester_upvotes_plus_downvotes_at_request']) / 2\n",
    "success_vs_fail_report('upvotes', try_log=True)\n",
    "\n",
    "print()\n",
    "train_data['downvotes']  = (train_data['requester_upvotes_plus_downvotes_at_request'] +\n",
    "                       train_data['upvotes'])\n",
    "success_vs_fail_report('downvotes', try_log=True)\n",
    "\n",
    "print()\n",
    "train_data['upvotes_ratio']  = np.nan_to_num(train_data['upvotes'] / train_data['requester_upvotes_plus_downvotes_at_request'], 0)\n",
    "success_vs_fail_report('upvotes_ratio')"
   ]
  },
  {
   "cell_type": "markdown",
   "metadata": {},
   "source": [
    "Both the upvotes_ratio and log(upvotes + 1) are very strong indicators, so they should also be included as a new feature."
   ]
  },
  {
   "cell_type": "code",
   "execution_count": 18,
   "metadata": {
    "collapsed": true
   },
   "outputs": [],
   "source": [
    "extended_data['upvotes'] = (extended_data['requester_upvotes_minus_downvotes_at_request'] +\n",
    "                            extended_data['requester_upvotes_plus_downvotes_at_request']) / 2\n",
    "\n",
    "extended_data['upvotes_log'] = np.log(extended_data['upvotes'] + 1)\n",
    "\n",
    "extended_data['upvotes_ratio'] = np.nan_to_num(\n",
    "   (extended_data['upvotes'] / extended_data['requester_upvotes_plus_downvotes_at_request']), 0)"
   ]
  },
  {
   "cell_type": "markdown",
   "metadata": {},
   "source": [
    "### Requestor Activity"
   ]
  },
  {
   "cell_type": "code",
   "execution_count": 19,
   "metadata": {},
   "outputs": [
    {
     "name": "stdout",
     "output_type": "stream",
     "text": [
      "requester_number_of_posts_at_request\n",
      "SUCCESS Mean: 24.236 StdDev: 54.234\n",
      "FAIL    Mean: 20.962 StdDev: 51.430\n",
      "TStat: 1.543\n",
      "TStat (log): 3.860\n",
      "\n",
      "requester_number_of_posts_on_raop_at_request\n",
      "SUCCESS Mean: 0.139 StdDev: 0.528\n",
      "FAIL    Mean: 0.035 StdDev: 0.212\n",
      "TStat: 5.539\n",
      "TStat (log): 5.823\n",
      "\n",
      "requester_account_age_in_days_at_request\n",
      "SUCCESS Mean: 278.416 StdDev: 310.823\n",
      "FAIL    Mean: 247.189 StdDev: 301.900\n",
      "TStat: 2.554\n",
      "TStat (log): 6.198\n",
      "\n",
      "requester_number_of_subreddits_at_request\n",
      "SUCCESS Mean: 19.722 StdDev: 21.521\n",
      "FAIL    Mean: 17.359 StdDev: 21.529\n",
      "TStat: 2.770\n",
      "TStat (log): 5.856\n"
     ]
    }
   ],
   "source": [
    "success_vs_fail_report('requester_number_of_posts_at_request', try_log=True)\n",
    "print()\n",
    "success_vs_fail_report('requester_number_of_posts_on_raop_at_request', try_log=True)\n",
    "print()\n",
    "success_vs_fail_report('requester_account_age_in_days_at_request', try_log=True)\n",
    "print()\n",
    "success_vs_fail_report('requester_number_of_subreddits_at_request', try_log=True)"
   ]
  },
  {
   "cell_type": "code",
   "execution_count": 20,
   "metadata": {
    "collapsed": true
   },
   "outputs": [],
   "source": [
    "extended_data['requester_number_of_posts_at_request_log'] = np.log(extended_data['requester_number_of_posts_at_request'] + 1)\n",
    "extended_data['requester_account_age_in_days_at_request_log'] = np.log(extended_data['requester_account_age_in_days_at_request'] + 1)\n",
    "extended_data['requester_number_of_subreddits_at_request_log'] = np.log(extended_data['requester_number_of_subreddits_at_request'] + 1)"
   ]
  },
  {
   "cell_type": "markdown",
   "metadata": {},
   "source": [
    "#### First Time Posting\n",
    "We see that the number of posts on r/raop is likely a good indicator.  What about just seeing if this being the first time someone posts is significant?"
   ]
  },
  {
   "cell_type": "code",
   "execution_count": 21,
   "metadata": {
    "scrolled": true
   },
   "outputs": [
    {
     "name": "stdout",
     "output_type": "stream",
     "text": [
      "first_raop_post\n",
      "SUCCESS Mean: 0.911 StdDev: 0.285\n",
      "FAIL    Mean: 0.970 StdDev: 0.172\n",
      "TStat: -5.642\n",
      "\n",
      "Success Rate if First Post: 0.233809668592\n",
      "Success Rate if Not First Post: 0.487012987013\n"
     ]
    }
   ],
   "source": [
    "train_data['first_raop_post'] = train_data['requester_number_of_posts_on_raop_at_request'] == 0\n",
    "success_vs_fail_report('first_raop_post')\n",
    "\n",
    "print()\n",
    "print (\"Success Rate if First Post:\", train_labels[train_data['first_raop_post']].mean())\n",
    "print (\"Success Rate if Not First Post:\", train_labels[np.logical_not(train_data['first_raop_post'])].mean())"
   ]
  },
  {
   "cell_type": "markdown",
   "metadata": {},
   "source": [
    "We can see that the success rate is much higher if this is not the users first time posting on the subreddit.  This is likely a stong feature to add."
   ]
  },
  {
   "cell_type": "code",
   "execution_count": 22,
   "metadata": {
    "collapsed": true
   },
   "outputs": [],
   "source": [
    "extended_data['first_raop_post'] = extended_data['requester_number_of_posts_on_raop_at_request'] == 0"
   ]
  },
  {
   "cell_type": "markdown",
   "metadata": {},
   "source": [
    "### Text Analysis\n",
    "#### Magic Words: Please vs Need\n",
    "As a warm up, let's investigate the hypothesis that being polite makes a difference."
   ]
  },
  {
   "cell_type": "code",
   "execution_count": 23,
   "metadata": {},
   "outputs": [
    {
     "name": "stdout",
     "output_type": "stream",
     "text": [
      "says_please\n",
      "SUCCESS Mean: 0.090 StdDev: 0.286\n",
      "FAIL    Mean: 0.096 StdDev: 0.295\n",
      "TStat: -0.537\n",
      "says_need\n",
      "SUCCESS Mean: 0.168 StdDev: 0.374\n",
      "FAIL    Mean: 0.127 StdDev: 0.333\n",
      "TStat: 2.857\n"
     ]
    }
   ],
   "source": [
    "train_data['says_please'] = train_data['request_text_edit_aware'].str.lower().str.contains(\"please\")\n",
    "success_vs_fail_report('says_please')\n",
    "\n",
    "train_data['says_need'] = train_data['request_text_edit_aware'].str.lower().str.contains(\"need\")\n",
    "success_vs_fail_report('says_need')"
   ]
  },
  {
   "cell_type": "markdown",
   "metadata": {},
   "source": [
    "Here we see that the magic word isn't so magic, but all is not lost.  It seems people in need are more likely to get a pizza.  The NLTK transformations will take care of collecting these features but still nice to check."
   ]
  },
  {
   "cell_type": "markdown",
   "metadata": {},
   "source": [
    "### Vectorizing Request Titles & Text\n",
    "We believe that the titles and request body should be treated separately. We will do so by building a preprocessor that includes NLTK capabilities along with regular expression cleaning.\n",
    "\n",
    "1. Regular Expressions: cleaning out sequences of numbers, non-letter characters, strings with underscores, and lower-casing\n",
    "2. Tokenizing: splits raw text into sentences, words and punctuation\n",
    "3. Stop Words: removing filler words i.e. the, me, then\n",
    "4. Pos Tag: use tokenized words to identify the part of speech WordNet tag from Penn Treebank https://www.ling.upenn.edu/courses/Fall_2003/ling001/penn_treebank_pos.html\n",
    "5. Lemmatizing: Convert the part of speech WordNet tag to identify a noun, verb, adverb, or adjective (based on starting with 'N’, ‘V’, ‘R’, or ‘J’). Then we use the tag to translate to the lemma, or the root word in the english lexicon."
   ]
  },
  {
   "cell_type": "code",
   "execution_count": 24,
   "metadata": {
    "collapsed": true
   },
   "outputs": [],
   "source": [
    "def nltk_preprocess(data):\n",
    "    '''This function preprocesses a data frame, specifing a text_column, \n",
    "    and strips down the document to cleaned, individualized word tokens without\n",
    "    stop words and other excessive parts of speech and eventually rejoins the remaining words.\n",
    "    '''\n",
    "    #Initializes stop words and new column creation\n",
    "    stop = stopwords.words('english')\n",
    "    \n",
    "    \n",
    "    #Initialize Lemmatizer object and final list of lemmatized words\n",
    "    lemmatizer = WordNetLemmatizer()\n",
    "    \n",
    "    def get_wordnet_pos(treebank_tag):\n",
    "        if treebank_tag.startswith('J'):\n",
    "            return wordnet.ADJ\n",
    "        elif treebank_tag.startswith('V'):\n",
    "            return wordnet.VERB\n",
    "        elif treebank_tag.startswith('N'):\n",
    "            return wordnet.NOUN\n",
    "        elif treebank_tag.startswith('R'):\n",
    "            return wordnet.ADV\n",
    "        else:\n",
    "            return None # for easy if-statement\n",
    "        \n",
    "    def lemmatized(word, tag):\n",
    "        wntag = get_wordnet_pos(tag)\n",
    "        if wntag is None:\n",
    "            lemma = str(lemmatizer.lemmatize(word))\n",
    "        else:\n",
    "            lemma = str(lemmatizer.lemmatize(word, pos=wntag))\n",
    "        return lemma\n",
    "\n",
    "    data = data.apply(lambda x: re.sub(r'\\d+', r' ', x)).apply(lambda y: re.sub(r'\\W+', r' ', y)).apply(lambda z: re.sub(r\"_+\",r\" \",z))\n",
    "    data = data.str.lower()\n",
    "    data = data.apply(word_tokenize)\n",
    "    data = data.apply(lambda x: [item for item in x if item not in stop])\n",
    "    data = data.apply(pos_tag)\n",
    "    data = data.apply(lambda x: [lemmatized(word, tag) for (word, tag) in x])\n",
    "    data = data.apply(lambda x: ' '.join(x))\n",
    "    return data\n",
    "    \n",
    "    #new_column = 'Tokenized_' + str(text_column)\n",
    "    #data[new_column] = data[text_column].apply(lambda x: re.sub(r'\\d+', r' ', x)).apply(lambda y: re.sub(r'\\W+', r' ', y)).apply(lambda z: re.sub(r\"_+\",r\" \",z))\n",
    "    #data[new_column] = data[new_column].str.lower()\n",
    "    #data[new_column] = data[new_column].apply(word_tokenize)\n",
    "    #data[new_column] = data[new_column].apply(lambda x: [item for item in x if item not in stop])\n",
    "    #data[new_column] = data[new_column].apply(pos_tag)\n",
    "    #data[new_column] = data[new_column].apply(lambda x: [lemmatized(word, tag) for (word, tag) in x])\n",
    "    #data[new_column] = data[new_column].apply(lambda x: ' '.join(x))\n",
    "    #return data[new_column]"
   ]
  },
  {
   "cell_type": "code",
   "execution_count": 25,
   "metadata": {},
   "outputs": [
    {
     "name": "stdout",
     "output_type": "stream",
     "text": [
      "Request Text Shape: (5671, 364)\n",
      "Request Title Shape: (5671, 58)\n"
     ]
    }
   ],
   "source": [
    "request_text_vectorizer = Pipeline([('cv', CountVectorizer(min_df=.02, max_df=.3, ngram_range=(1,3))),\n",
    "                                    ('tfidf', TfidfTransformer())])\n",
    "train_request_text_wordvecs = request_text_vectorizer.fit_transform(nltk_preprocess(extended_data['request_text_edit_aware']))\n",
    "\n",
    "request_title_vectorizer = Pipeline([('cv', CountVectorizer(min_df=.02, max_df=.5, ngram_range=(1,3))),\n",
    "                                     ('tfidf', TfidfTransformer())])\n",
    "train_request_title_wordvecs = request_title_vectorizer.fit_transform(nltk_preprocess(extended_data['request_title']))\n",
    "\n",
    "print (\"Request Text Shape:\", train_request_text_wordvecs.shape)\n",
    "print (\"Request Title Shape:\", train_request_title_wordvecs.shape)"
   ]
  },
  {
   "cell_type": "markdown",
   "metadata": {},
   "source": [
    "After NLTK preprocessing, we end up with 364 unique words, bi- and tri-grams for the request text and 58 for the request title; without limiting the document frequency minimum and maximum, this would otherwise prove to be an unreasonably large number of features for some models. We look to fine tune the min_df / max_df to see if we can further compact our data."
   ]
  },
  {
   "cell_type": "code",
   "execution_count": 26,
   "metadata": {},
   "outputs": [
    {
     "name": "stdout",
     "output_type": "stream",
     "text": [
      "      occurrences      term  frequency\n",
      "5818         3126     pizza   0.349274\n",
      "3202         2406       get   0.268827\n",
      "8804         2249     would   0.251285\n",
      "5639         1411       pay   0.157654\n",
      "3577         1369      help   0.152961\n",
      "3263         1126        go   0.125810\n",
      "6356         1082    really   0.120894\n",
      "8784         1060      work   0.118436\n",
      "1847         1034       day   0.115531\n",
      "8633         1027      week   0.114749\n",
      "2954          999      food   0.111620\n",
      "4979          942     money   0.105251\n",
      "4659          813      make   0.090838\n",
      "4154          806       job   0.090056\n",
      "4461          787      like   0.087933\n",
      "1636          744     could   0.083128\n",
      "7958          742      time   0.082905\n",
      "7862          734    thanks   0.082011\n",
      "2382          669       eat   0.074749\n",
      "4353          647      last   0.072291\n",
      "4573          640      love   0.071508\n",
      "5393          613       one   0.068492\n",
      "8572          608      want   0.067933\n",
      "7259          580   someone   0.064804\n",
      "5038          579      much   0.064693\n",
      "4985          574     month   0.064134\n",
      "4286          558      know   0.062346\n",
      "554           554      back   0.061899\n",
      "314           543    anyone   0.060670\n",
      "897           543     break   0.060670\n",
      "...           ...       ...        ...\n",
      "206           330      also   0.036872\n",
      "45            329   account   0.036760\n",
      "3435          322       guy   0.035978\n",
      "8018          322  tomorrow   0.035978\n",
      "3742          318      http   0.035531\n",
      "1435          318       com   0.035531\n",
      "3719          316     house   0.035307\n",
      "2801          314      feel   0.035084\n",
      "11            313      able   0.034972\n",
      "2743          308    family   0.034413\n",
      "7442          304     start   0.033966\n",
      "5964          303      post   0.033855\n",
      "7553          300   student   0.033520\n",
      "4257          299      kind   0.033408\n",
      "6048          296    pretty   0.033073\n",
      "8608          293       way   0.032737\n",
      "1422          291   college   0.032514\n",
      "732           289      bill   0.032291\n",
      "4536          285      long   0.031844\n",
      "6517          280      rent   0.031285\n",
      "2531          279    enough   0.031173\n",
      "6932          276      send   0.030838\n",
      "5688          275    people   0.030726\n",
      "7509          265     story   0.029609\n",
      "3052          263    friday   0.029385\n",
      "2406          262      edit   0.029274\n",
      "1102          259       car   0.028939\n",
      "7652          258      sure   0.028827\n",
      "3599          256       hey   0.028603\n",
      "6292          256     ramen   0.028603\n",
      "\n",
      "[100 rows x 3 columns]\n"
     ]
    }
   ],
   "source": [
    "vectorizer = CountVectorizer(min_df = 1)\n",
    "rtv = vectorizer.fit_transform(nltk_preprocess(train_data['request_text_edit_aware']))\n",
    "rtv_freq = pd.DataFrame({'term': vectorizer.get_feature_names(), 'occurrences':np.asarray(rtv.sum(axis=0)).ravel().tolist()})\n",
    "rtv_freq['frequency'] = rtv_freq['occurrences']/rtv_freq.shape[0]\n",
    "print (rtv_freq.sort_values('frequency', ascending = False).head(100))"
   ]
  },
  {
   "cell_type": "markdown",
   "metadata": {},
   "source": [
    "The most common request text words from the post body are in line with expectation of desperation stories - pizza, help, work, week, food. In effort establish min_df and max_df cutoffs for frequencies, there looks to be meaningful words from **0.028** - ramen, student, rent, bill, enough, all the way to **0.1**, as everything in the top 10 are to generic and commonplace in a pizza subreddit."
   ]
  },
  {
   "cell_type": "code",
   "execution_count": 27,
   "metadata": {
    "scrolled": true
   },
   "outputs": [
    {
     "name": "stdout",
     "output_type": "stream",
     "text": [
      "The best parameter of choice: {'cv__max_df': 0.10000000000000001, 'cv__min_df': 0.077600000000000002, 'cv__ngram_range': (1, 2)} \n",
      "\n",
      "\n"
     ]
    }
   ],
   "source": [
    "request_text_pipeline = Pipeline([('cv', CountVectorizer()),\n",
    "                          ('tfidf', TfidfTransformer()),\n",
    "                          ('lr', LogisticRegression())])\n",
    "\n",
    "pipeline_gscv = GridSearchCV(request_text_pipeline, [{\"cv__min_df\":np.linspace(0.028,.09,6), \n",
    "                                              \"cv__max_df\":np.linspace(0.1, 0.15, 2), \n",
    "                                              \"cv__ngram_range\":[(1,2), (1,3)]}])\n",
    "\n",
    "pipeline_gscv.fit(train_data[\"request_text_edit_aware\"], train_labels)\n",
    "print('The best parameter of choice:', pipeline_gscv.best_params_,'\\n\\n')"
   ]
  },
  {
   "cell_type": "markdown",
   "metadata": {},
   "source": [
    "#### Updating paramters per gridsearch"
   ]
  },
  {
   "cell_type": "code",
   "execution_count": 28,
   "metadata": {
    "collapsed": true
   },
   "outputs": [],
   "source": [
    "request_text_vectorizer = Pipeline([('cv', CountVectorizer(min_df=.07, max_df=.1, ngram_range=(1,2))),\n",
    "                                    ('tfidf', TfidfTransformer())])\n",
    "train_request_text_wordvecs = request_text_vectorizer.fit_transform(nltk_preprocess(extended_data['request_text_edit_aware']))\n",
    "extended_request_text_wordvecs = request_text_vectorizer.transform(extended_data['request_text_edit_aware'])"
   ]
  },
  {
   "cell_type": "code",
   "execution_count": 29,
   "metadata": {},
   "outputs": [
    {
     "name": "stdout",
     "output_type": "stream",
     "text": [
      "      occurrences        term  frequency\n",
      "2546         3465     request   1.004057\n",
      "2294         1353       pizza   0.392060\n",
      "3413          539       would   0.156187\n",
      "363           432       break   0.125181\n",
      "1436          410      hungry   0.118806\n",
      "2964          292     student   0.084613\n",
      "1747          287        love   0.083164\n",
      "1118          282        food   0.081715\n",
      "1215          276         get   0.079977\n",
      "1353          267        help   0.077369\n",
      "3249          235         usa   0.068096\n",
      "643           221       could   0.064039\n",
      "1923          218       money   0.063170\n",
      "577           216     college   0.062591\n",
      "716           211         day   0.061142\n",
      "2482          203      really   0.058824\n",
      "2005          195        need   0.056505\n",
      "3251          189         use   0.054767\n",
      "2223          170         pay   0.049261\n",
      "3336          167        week   0.048392\n",
      "3401          155        work   0.044915\n",
      "908           152         eat   0.044045\n",
      "1551          151         job   0.043755\n",
      "3130          137     tonight   0.039699\n",
      "1235          136          go   0.039409\n",
      "2021          128         new   0.037091\n",
      "3311          127        want   0.036801\n",
      "2315          115      please   0.033324\n",
      "3118          113       today   0.032744\n",
      "1697          112        like   0.032454\n",
      "...           ...         ...        ...\n",
      "213            51         bad   0.014778\n",
      "1112           51     florida   0.014778\n",
      "2120           51         old   0.014778\n",
      "441            51      canada   0.014778\n",
      "2587           50       right   0.014489\n",
      "2125           50         one   0.014489\n",
      "3104           50        till   0.014489\n",
      "210            49        back   0.014199\n",
      "1293           49         guy   0.014199\n",
      "453            49         car   0.014199\n",
      "2534           49        rent   0.014199\n",
      "1062           48        feel   0.013909\n",
      "2942           48       story   0.013909\n",
      "1828           48        meal   0.013909\n",
      "1241           47        good   0.013619\n",
      "2841           47     someone   0.013619\n",
      "77             47       alone   0.013619\n",
      "1103           46          fl   0.013329\n",
      "2227           45      payday   0.013040\n",
      "3225           45  unemployed   0.013040\n",
      "2082           44          ny   0.012750\n",
      "3069           43       texas   0.012460\n",
      "2906           43       start   0.012460\n",
      "227            43        bank   0.012460\n",
      "18             42     account   0.012170\n",
      "2879           42       spend   0.012170\n",
      "1228           42        give   0.012170\n",
      "1712           42        live   0.012170\n",
      "2711           42        send   0.012170\n",
      "3181           41         try   0.011881\n",
      "\n",
      "[100 rows x 3 columns]\n"
     ]
    }
   ],
   "source": [
    "vectorizer = CountVectorizer(min_df = 1)\n",
    "tv = vectorizer.fit_transform(nltk_preprocess(train_data['request_title']))\n",
    "tv_freq = pd.DataFrame({'term': vectorizer.get_feature_names(), 'occurrences':np.asarray(tv.sum(axis=0)).ravel().tolist()})\n",
    "tv_freq['frequency'] = tv_freq['occurrences']/tv_freq.shape[0]\n",
    "print (tv_freq.sort_values('frequency', ascending = False).head(100))"
   ]
  },
  {
   "cell_type": "markdown",
   "metadata": {},
   "source": [
    "The title words are less telling compared to the request text, but they still craft desperation stories with meaningful words (bank, account, unemployed, payday, alone) in the low **0.01** range all the way to **0.1** as the top 5 words are too generic and commonplace for this subreddit. (note a frequency > 1 is interpretable and could mean it was used at least once in each post)"
   ]
  },
  {
   "cell_type": "code",
   "execution_count": 30,
   "metadata": {
    "scrolled": false
   },
   "outputs": [
    {
     "name": "stdout",
     "output_type": "stream",
     "text": [
      "The best parameter of choice: {'cv__max_df': 0.10000000000000001, 'cv__min_df': 0.026000000000000002, 'cv__ngram_range': (1, 2)} \n",
      "\n",
      "\n"
     ]
    }
   ],
   "source": [
    "title_pipeline = Pipeline([('cv', CountVectorizer()),\n",
    "                          ('tfidf', TfidfTransformer()),\n",
    "                          ('lr', LogisticRegression())])\n",
    "\n",
    "pipeline_gscv = GridSearchCV(title_pipeline, [{\"cv__min_df\":np.linspace(0.01,.09,6), \n",
    "                                              \"cv__max_df\":np.linspace(0.1, 0.15, 2), \n",
    "                                              \"cv__ngram_range\":[(1,2), (1,3)]}])\n",
    "\n",
    "pipeline_gscv.fit(train_data[\"request_title\"], train_labels)\n",
    "print('The best parameter of choice:', pipeline_gscv.best_params_,'\\n\\n')"
   ]
  },
  {
   "cell_type": "markdown",
   "metadata": {},
   "source": [
    "#### Updating parameters per gridsearch"
   ]
  },
  {
   "cell_type": "code",
   "execution_count": 31,
   "metadata": {
    "collapsed": true
   },
   "outputs": [],
   "source": [
    "request_title_vectorizer = Pipeline([('cv', CountVectorizer(min_df=.026, max_df=.1, ngram_range=(1,2))),\n",
    "                                     ('tfidf', TfidfTransformer())])\n",
    "train_request_title_wordvecs = request_title_vectorizer.fit_transform(nltk_preprocess(extended_data['request_title']))\n",
    "extended_request_title_wordvecs = request_title_vectorizer.transform(extended_data['request_title'])"
   ]
  },
  {
   "cell_type": "markdown",
   "metadata": {},
   "source": [
    "For the models that can deal with huge dimensions, we will provide the original word vectors.  For models that can't handle this, we consider dimensionality reduction using PCA. However, we notice right away that limiting to a small number of principle components does not explain a substantial part of the features' explained variance."
   ]
  },
  {
   "cell_type": "code",
   "execution_count": 32,
   "metadata": {},
   "outputs": [
    {
     "data": {
      "image/png": "[encoded data removed]",
      "text/plain": [
       "<matplotlib.figure.Figure at 0x24a33bb6d30>"
      ]
     },
     "metadata": {},
     "output_type": "display_data"
    }
   ],
   "source": [
    "title_pca = PCA(30)\n",
    "title_pca.fit(train_request_title_wordvecs.todense())\n",
    "plt.plot(np.cumsum(title_pca.explained_variance_ratio_))\n",
    "plt.xlabel('PCA Component Count')\n",
    "plt.ylabel('Cumulative Explained Variance %')\n",
    "plt.title('Explained Variance for Request Title PCA')\n",
    "plt.show()"
   ]
  },
  {
   "cell_type": "code",
   "execution_count": 33,
   "metadata": {},
   "outputs": [
    {
     "data": {
      "image/png": "[encoded data removed]",
      "text/plain": [
       "<matplotlib.figure.Figure at 0x24a3525d668>"
      ]
     },
     "metadata": {},
     "output_type": "display_data"
    }
   ],
   "source": [
    "text_pca = PCA(40)\n",
    "text_pca.fit(train_request_text_wordvecs.todense())\n",
    "np.cumsum(text_pca.explained_variance_ratio_)\n",
    "\n",
    "plt.plot(np.cumsum(text_pca.explained_variance_ratio_))\n",
    "plt.xlabel('PCA Component Count')\n",
    "plt.ylabel('Cumulative Explained Variance %')\n",
    "plt.title('Explained Variance for Request Text PCA')\n",
    "plt.show()"
   ]
  },
  {
   "cell_type": "markdown",
   "metadata": {},
   "source": [
    "Because PCA does not allow us to cut down significantly on the feature dimensions while still explaining much of the variance, we look to a Random Forest on only the word vector counts in order to identify the most important features. This also serves to prevent overfitting in classifiers like Logistic regression.\n",
    "\n",
    "So, we fit a Random Forest classifier on the full word-vector list from titles and posts and keep only those with the largest weights after ensembling."
   ]
  },
  {
   "cell_type": "code",
   "execution_count": 34,
   "metadata": {},
   "outputs": [
    {
     "name": "stdout",
     "output_type": "stream",
     "text": [
      "Word vector features: (5671, 85)\n",
      "\n",
      "Random Forest\n",
      "Development score: 0.564\n"
     ]
    }
   ],
   "source": [
    "extended_wordvecs = np.concatenate((extended_request_title_wordvecs.toarray(),\n",
    "                                extended_request_text_wordvecs.toarray()), axis=1)\n",
    "print(\"Word vector features:\", extended_wordvecs.shape)\n",
    "\n",
    "train_words = extended_wordvecs[in_train]\n",
    "dev_words = extended_wordvecs[in_dev]\n",
    "test_words = extended_wordvecs[in_test]\n",
    "\n",
    "rf = RandomForestClassifier()\n",
    "rf.fit(train_words, train_labels)\n",
    "\n",
    "dev_score = rf.score(dev_words, dev_labels)\n",
    "dev_probs = rf.predict_proba(dev_words)\n",
    "print(\"\\nRandom Forest\")\n",
    "print(\"Development score:\", \"{:.3f}\".format(metrics.roc_auc_score(dev_labels, dev_probs[:,1])))\n",
    "\n",
    "importance_index = np.argsort(rf.feature_importances_)\n",
    "\n",
    "top = 100\n",
    "restricted_wordvecs = extended_wordvecs[:,importance_index[importance_index.shape[0]-top:]]"
   ]
  },
  {
   "cell_type": "markdown",
   "metadata": {},
   "source": [
    "## Final Data Preparation\n",
    "Now that we've done all our transformations on the \"extended\" data set, we can replace our raw text fields with our transformed vocabulary and keep only our numeric model features."
   ]
  },
  {
   "cell_type": "markdown",
   "metadata": {},
   "source": [
    "We're going to also add in a set of sentiment scores for the two text columns using VADER, which produces four sentiment metrics: positive, neutral and negative, and compound score, which is the sum of all of the lexicon ratings (1.9 and 1.8 in this case) which have been standardised to range between -1 and 1. In our case, compound scores could be negative so we decline to use them."
   ]
  },
  {
   "cell_type": "code",
   "execution_count": 35,
   "metadata": {
    "scrolled": true
   },
   "outputs": [
    {
     "data": {
      "text/html": [
       "<div>\n",
       "<style>\n",
       "    .dataframe thead tr:only-child th {\n",
       "        text-align: right;\n",
       "    }\n",
       "\n",
       "    .dataframe thead th {\n",
       "        text-align: left;\n",
       "    }\n",
       "\n",
       "    .dataframe tbody tr th {\n",
       "        vertical-align: top;\n",
       "    }\n",
       "</style>\n",
       "<table border=\"1\" class=\"dataframe\">\n",
       "  <thead>\n",
       "    <tr style=\"text-align: right;\">\n",
       "      <th></th>\n",
       "      <th>request_text_edit_aware_neg</th>\n",
       "      <th>request_title_neg</th>\n",
       "      <th>request_text_edit_aware_neu</th>\n",
       "      <th>request_title_neu</th>\n",
       "      <th>request_text_edit_aware_pos</th>\n",
       "      <th>request_title_pos</th>\n",
       "    </tr>\n",
       "  </thead>\n",
       "  <tbody>\n",
       "    <tr>\n",
       "      <th>0</th>\n",
       "      <td>0.025</td>\n",
       "      <td>0.000</td>\n",
       "      <td>0.836</td>\n",
       "      <td>0.444</td>\n",
       "      <td>0.139</td>\n",
       "      <td>0.556</td>\n",
       "    </tr>\n",
       "    <tr>\n",
       "      <th>1</th>\n",
       "      <td>0.322</td>\n",
       "      <td>0.216</td>\n",
       "      <td>0.678</td>\n",
       "      <td>0.784</td>\n",
       "      <td>0.000</td>\n",
       "      <td>0.000</td>\n",
       "    </tr>\n",
       "    <tr>\n",
       "      <th>2</th>\n",
       "      <td>0.000</td>\n",
       "      <td>0.000</td>\n",
       "      <td>0.867</td>\n",
       "      <td>0.667</td>\n",
       "      <td>0.133</td>\n",
       "      <td>0.333</td>\n",
       "    </tr>\n",
       "    <tr>\n",
       "      <th>3</th>\n",
       "      <td>0.086</td>\n",
       "      <td>0.000</td>\n",
       "      <td>0.733</td>\n",
       "      <td>1.000</td>\n",
       "      <td>0.180</td>\n",
       "      <td>0.000</td>\n",
       "    </tr>\n",
       "    <tr>\n",
       "      <th>4</th>\n",
       "      <td>0.065</td>\n",
       "      <td>0.000</td>\n",
       "      <td>0.677</td>\n",
       "      <td>0.596</td>\n",
       "      <td>0.258</td>\n",
       "      <td>0.404</td>\n",
       "    </tr>\n",
       "    <tr>\n",
       "      <th>5</th>\n",
       "      <td>0.097</td>\n",
       "      <td>0.000</td>\n",
       "      <td>0.684</td>\n",
       "      <td>1.000</td>\n",
       "      <td>0.219</td>\n",
       "      <td>0.000</td>\n",
       "    </tr>\n",
       "    <tr>\n",
       "      <th>6</th>\n",
       "      <td>0.051</td>\n",
       "      <td>0.000</td>\n",
       "      <td>0.788</td>\n",
       "      <td>0.769</td>\n",
       "      <td>0.161</td>\n",
       "      <td>0.231</td>\n",
       "    </tr>\n",
       "    <tr>\n",
       "      <th>7</th>\n",
       "      <td>0.090</td>\n",
       "      <td>0.000</td>\n",
       "      <td>0.743</td>\n",
       "      <td>1.000</td>\n",
       "      <td>0.167</td>\n",
       "      <td>0.000</td>\n",
       "    </tr>\n",
       "  </tbody>\n",
       "</table>\n",
       "</div>"
      ],
      "text/plain": [
       "   request_text_edit_aware_neg  request_title_neg  \\\n",
       "0                        0.025              0.000   \n",
       "1                        0.322              0.216   \n",
       "2                        0.000              0.000   \n",
       "3                        0.086              0.000   \n",
       "4                        0.065              0.000   \n",
       "5                        0.097              0.000   \n",
       "6                        0.051              0.000   \n",
       "7                        0.090              0.000   \n",
       "\n",
       "   request_text_edit_aware_neu  request_title_neu  \\\n",
       "0                        0.836              0.444   \n",
       "1                        0.678              0.784   \n",
       "2                        0.867              0.667   \n",
       "3                        0.733              1.000   \n",
       "4                        0.677              0.596   \n",
       "5                        0.684              1.000   \n",
       "6                        0.788              0.769   \n",
       "7                        0.743              1.000   \n",
       "\n",
       "   request_text_edit_aware_pos  request_title_pos  \n",
       "0                        0.139              0.556  \n",
       "1                        0.000              0.000  \n",
       "2                        0.133              0.333  \n",
       "3                        0.180              0.000  \n",
       "4                        0.258              0.404  \n",
       "5                        0.219              0.000  \n",
       "6                        0.161              0.231  \n",
       "7                        0.167              0.000  "
      ]
     },
     "execution_count": 35,
     "metadata": {},
     "output_type": "execute_result"
    }
   ],
   "source": [
    "sid_rt = SentimentIntensityAnalyzer()\n",
    "sid_t = SentimentIntensityAnalyzer()\n",
    "sentiment_metrics = ['neg', 'neu', 'pos'] #compound metrics produce negative numbers which we can't use\n",
    "extended_sentiment_data = pd.DataFrame()\n",
    "for metrix in sentiment_metrics:\n",
    "    extended_sentiment_data['request_text_edit_aware_'+ metrix] = extended_data['request_text_edit_aware'].apply(lambda x: sid_rt.polarity_scores(x)[metrix])\n",
    "    extended_sentiment_data['request_title_'+ metrix] = extended_data['request_title'].apply(lambda x: sid_t.polarity_scores(x)[metrix])\n",
    "extended_sentiment_data.head(8)"
   ]
  },
  {
   "cell_type": "code",
   "execution_count": 36,
   "metadata": {},
   "outputs": [
    {
     "name": "stdout",
     "output_type": "stream",
     "text": [
      "(5671, 85)\n",
      "(5671, 42)\n"
     ]
    }
   ],
   "source": [
    "model_data = extended_data.copy()\n",
    "\n",
    "exclude_features = ['giver_username_if_known', 'request_id', 'request_text_edit_aware',\n",
    "                    'request_title','requester_subreddits_at_request','requester_username',\n",
    "                    'requester_upvotes_minus_downvotes_at_request']\n",
    "\n",
    "model_data = model_data.drop(exclude_features, axis=1)\n",
    "\n",
    "#extended_request_text_wordvecs = request_text_vectorizer.transform(extended_data['request_text_edit_aware'])\n",
    "#extended_request_title_wordvecs = request_title_vectorizer.transform(extended_data['request_title'])\n",
    "\n",
    "\n",
    "model_data = np.concatenate((model_data, extended_sentiment_data,restricted_wordvecs), axis=1)\n",
    "print(extended_wordvecs.shape)\n",
    "print(model_data.shape)"
   ]
  },
  {
   "cell_type": "markdown",
   "metadata": {},
   "source": [
    "Now that we've done all our transformations on the \"extended\" data set, we will split it back up into train, dev, and test."
   ]
  },
  {
   "cell_type": "code",
   "execution_count": 37,
   "metadata": {},
   "outputs": [
    {
     "name": "stdout",
     "output_type": "stream",
     "text": [
      "Train: (3443, 42) Development: (597, 42) Test: (1631, 42)\n"
     ]
    }
   ],
   "source": [
    "train_data = model_data[in_train]\n",
    "dev_data = model_data[in_dev]\n",
    "test_data = model_data[in_test]\n",
    "\n",
    "print(\"Train:\", train_data.shape, \"Development:\", dev_data.shape, \"Test:\", test_data.shape)"
   ]
  },
  {
   "cell_type": "markdown",
   "metadata": {},
   "source": [
    "# Modeling\n",
    "\n",
    "### Logistic Regression\n",
    "We begin modeling with training a series of logistic regression models on our generated word counts and other numeric variables, including log transformations and vote ratios, for hyperparameters C and lasso regularization. The continuous nature of the features and the likely interactions between them potentially lend credence to logistic estimation."
   ]
  },
  {
   "cell_type": "code",
   "execution_count": 38,
   "metadata": {
    "scrolled": false
   },
   "outputs": [
    {
     "name": "stdout",
     "output_type": "stream",
     "text": [
      "Logistic with c = 0.0001 and l1 regularization:\n",
      "train ROC: 0.609\n",
      "dev ROC:   0.600\n",
      "******************************\n",
      "Logistic with c = 0.001 and l1 regularization:\n",
      "train ROC: 0.617\n",
      "dev ROC:   0.609\n",
      "******************************\n",
      "Logistic with c = 0.005 and l1 regularization:\n",
      "train ROC: 0.644\n",
      "dev ROC:   0.611\n",
      "******************************\n",
      "Logistic with c = 0.01 and l1 regularization:\n",
      "train ROC: 0.645\n",
      "dev ROC:   0.616\n",
      "******************************\n",
      "Logistic with c = 0.025 and l1 regularization:\n",
      "train ROC: 0.661\n",
      "dev ROC:   0.640\n",
      "******************************\n",
      "Logistic with c = 0.05 and l1 regularization:\n",
      "train ROC: 0.668\n",
      "dev ROC:   0.654\n",
      "******************************\n",
      "Logistic with c = 0.1 and l1 regularization:\n",
      "train ROC: 0.673\n",
      "dev ROC:   0.657\n",
      "******************************\n",
      "Logistic with c = 0.125 and l1 regularization:\n",
      "train ROC: 0.675\n",
      "dev ROC:   0.658\n",
      "******************************\n",
      "Logistic with c = 0.25 and l1 regularization:\n",
      "train ROC: 0.680\n",
      "dev ROC:   0.657\n",
      "******************************\n",
      "Logistic with c = 0.5 and l1 regularization:\n",
      "train ROC: 0.682\n",
      "dev ROC:   0.656\n",
      "******************************\n",
      "Logistic with c = 1 and l1 regularization:\n",
      "train ROC: 0.684\n",
      "dev ROC:   0.657\n",
      "******************************\n"
     ]
    },
    {
     "data": {
      "image/png": "[encoded data removed]",
      "text/plain": [
       "<matplotlib.figure.Figure at 0x24a3538d470>"
      ]
     },
     "metadata": {},
     "output_type": "display_data"
    },
    {
     "name": "stdout",
     "output_type": "stream",
     "text": [
      "Logistic with c = 0.0001 and l2 regularization:\n",
      "train ROC: 0.579\n",
      "dev ROC:   0.549\n",
      "******************************\n",
      "Logistic with c = 0.001 and l2 regularization:\n",
      "train ROC: 0.579\n",
      "dev ROC:   0.549\n",
      "******************************\n",
      "Logistic with c = 0.005 and l2 regularization:\n",
      "train ROC: 0.579\n",
      "dev ROC:   0.549\n",
      "******************************\n",
      "Logistic with c = 0.01 and l2 regularization:\n",
      "train ROC: 0.579\n",
      "dev ROC:   0.549\n",
      "******************************\n",
      "Logistic with c = 0.025 and l2 regularization:\n",
      "train ROC: 0.579\n",
      "dev ROC:   0.549\n",
      "******************************\n",
      "Logistic with c = 0.05 and l2 regularization:\n",
      "train ROC: 0.579\n",
      "dev ROC:   0.549\n",
      "******************************\n",
      "Logistic with c = 0.1 and l2 regularization:\n",
      "train ROC: 0.579\n",
      "dev ROC:   0.549\n",
      "******************************\n",
      "Logistic with c = 0.125 and l2 regularization:\n",
      "train ROC: 0.579\n",
      "dev ROC:   0.549\n",
      "******************************\n",
      "Logistic with c = 0.25 and l2 regularization:\n",
      "train ROC: 0.579\n",
      "dev ROC:   0.549\n",
      "******************************\n",
      "Logistic with c = 0.5 and l2 regularization:\n",
      "train ROC: 0.579\n",
      "dev ROC:   0.549\n",
      "******************************\n",
      "Logistic with c = 1 and l2 regularization:\n",
      "train ROC: 0.579\n",
      "dev ROC:   0.549\n",
      "******************************\n"
     ]
    },
    {
     "data": {
      "image/png": "[encoded data removed]",
      "text/plain": [
       "<matplotlib.figure.Figure at 0x24a351afc88>"
      ]
     },
     "metadata": {},
     "output_type": "display_data"
    },
    {
     "name": "stdout",
     "output_type": "stream",
     "text": [
      "Best development ROC: 0.658 (c= 0.125 , reg= l1 )\n",
      "For train:\n",
      "              precision    recall  f1-score   support\n",
      "\n",
      "      False       0.68      0.83      0.75      2150\n",
      "       True       0.56      0.37      0.44      1293\n",
      "\n",
      "avg / total       0.64      0.65      0.63      3443\n",
      "\n",
      "For dev:\n",
      "              precision    recall  f1-score   support\n",
      "\n",
      "      False       0.66      0.81      0.73       367\n",
      "       True       0.53      0.34      0.42       230\n",
      "\n",
      "avg / total       0.61      0.63      0.61       597\n",
      "\n"
     ]
    }
   ],
   "source": [
    "def logistic_tester(c=1, p=\"l2\", \n",
    "                    train_data = train_data,\n",
    "                    train_labels = train_labels,\n",
    "                    dev_data = dev_data,\n",
    "                    dev_labels = dev_labels,\n",
    "                    test_data = test_data):\n",
    "    \"\"\"Train logistic for any C, penalty; return ROC score on development set and test set predictions\"\"\"\n",
    "    \n",
    "    print(\"Logistic with c =\", str(c), \"and\", p,\"regularization:\")\n",
    "    full_lr = LogisticRegression(penalty=p, C=c, tol=.001, class_weight=\"balanced\")\n",
    "    full_lr.fit(train_data, train_labels)\n",
    "\n",
    "    train_preds = full_lr.predict(train_data)\n",
    "    train_probs = full_lr.predict_proba(train_data)\n",
    "    train_ROC = metrics.roc_auc_score(train_labels, train_probs[:,1])\n",
    "\n",
    "    dev_preds = full_lr.predict(dev_data)\n",
    "    dev_probs = full_lr.predict_proba(dev_data)\n",
    "    dev_ROC = metrics.roc_auc_score(dev_labels, dev_probs[:,1])\n",
    "\n",
    "    #Misclassified\n",
    "    misclassified_lr = np.where(dev_labels != dev_preds)\n",
    "    \n",
    "    test_preds = full_lr.predict(test_data)\n",
    "    \n",
    "    print(\"train ROC:\", \"{:.3f}\".format(train_ROC))\n",
    "    print(\"dev ROC:  \", \"{:.3f}\".format(dev_ROC))\n",
    "    \n",
    "    print(\"*\"*30)\n",
    "    return train_ROC, dev_ROC, test_preds, misclassified_lr, train_preds, dev_preds\n",
    "\n",
    "\n",
    "c_list = [.0001, .001, .005, .01, .025, .05, .1, .125, .25, .5, 1]\n",
    "reg = [\"l1\",\"l2\"]\n",
    "\n",
    "best_dev_roc = 0\n",
    "\n",
    "for r in reg:\n",
    "    train_scores = []\n",
    "    dev_scores = []\n",
    "    for c in c_list:\n",
    "        train_ROC, dev_ROC, test_out, misclassified_lr, train_preds, dev_preds = logistic_tester(c=c, p=r)\n",
    "        if (dev_ROC > best_dev_roc):\n",
    "            best_dev_roc = dev_ROC\n",
    "            test_preds = test_out\n",
    "            best_c = c\n",
    "            best_reg = r\n",
    "            best_train_preds, best_dev_preds = train_preds, dev_preds\n",
    "        train_scores.append(train_ROC)\n",
    "        dev_scores.append(dev_ROC)\n",
    "    plt.plot(c_list, train_scores, \"r\", c_list, dev_scores, \"b\")\n",
    "    plt.title(r+\" Regularization\")\n",
    "    plt.ylim(.5,.75)\n",
    "    plt.show()\n",
    "\n",
    "print(\"Best development ROC:\", \"{:.3f}\".format(best_dev_roc), \"(c=\", best_c,\", reg=\", best_reg, \")\")\n",
    "\n",
    "print(\"For train:\\n\", classification_report(best_train_preds, train_labels))\n",
    "print(\"For dev:\\n\", classification_report(best_dev_preds, dev_labels))"
   ]
  },
  {
   "cell_type": "code",
   "execution_count": 39,
   "metadata": {
    "collapsed": true
   },
   "outputs": [],
   "source": [
    "def export_test_preds(test_preds=test_preds, model=\"X\"):\n",
    "    test_out = pd.DataFrame()\n",
    "    test_out['request_id'] = extended_data[in_test]['request_id']\n",
    "    test_out['requester_received_pizza'] = test_preds.astype(int)\n",
    "    test_out.to_csv('./data/submission_'+model+'.csv', index=False)\n",
    "    return None\n",
    "\n",
    "#export_test_preds(test_preds, \"logit\")"
   ]
  },
  {
   "cell_type": "markdown",
   "metadata": {},
   "source": [
    "### Logistic with AdaBoost\n",
    "With lots of room for potential improvement over the original logistic based on the missed true positives, we try using AdaBoost to bump up the scale, to no avail."
   ]
  },
  {
   "cell_type": "code",
   "execution_count": 43,
   "metadata": {},
   "outputs": [
    {
     "name": "stdout",
     "output_type": "stream",
     "text": [
      "train ROC: 0.607\n",
      "dev ROC:   0.605\n"
     ]
    }
   ],
   "source": [
    "ada = AdaBoostClassifier(LogisticRegression(penalty=\"l1\", C=0.1, tol=.001))\n",
    "ada.fit(train_data, train_labels)\n",
    "\n",
    "train_preds = ada.predict(train_data)\n",
    "train_probs = ada.predict_proba(train_data)\n",
    "train_ROC = metrics.roc_auc_score(train_labels, train_probs[:,1])\n",
    "\n",
    "dev_preds = ada.predict(dev_data)\n",
    "dev_probs = ada.predict_proba(dev_data)\n",
    "dev_ROC = metrics.roc_auc_score(dev_labels, dev_probs[:,1])\n",
    "\n",
    "test_preds = ada.predict(test_data)\n",
    "\n",
    "print(\"train ROC:\", \"{:.3f}\".format(train_ROC))\n",
    "print(\"dev ROC:  \", \"{:.3f}\".format(dev_ROC))"
   ]
  },
  {
   "cell_type": "markdown",
   "metadata": {},
   "source": [
    "### Multinomial Naive Bayes\n",
    "We next try using the Naive Bayes classifier, varying the hyperparameter of alpha and comparing its ROC score on our development set to that of the logistic regression."
   ]
  },
  {
   "cell_type": "code",
   "execution_count": 44,
   "metadata": {
    "scrolled": true
   },
   "outputs": [
    {
     "name": "stdout",
     "output_type": "stream",
     "text": [
      "Naive Bayes with a = 0.0001 :\n",
      "train ROC: 0.528859988074\n",
      "dev ROC: 0.505316927666\n",
      "******************************\n",
      "\n",
      "Naive Bayes with a = 0.001 :\n",
      "train ROC: 0.528859988074\n",
      "dev ROC: 0.505316927666\n",
      "******************************\n",
      "\n",
      "Naive Bayes with a = 0.01 :\n",
      "train ROC: 0.528859988074\n",
      "dev ROC: 0.505316927666\n",
      "******************************\n",
      "\n",
      "Naive Bayes with a = 0.1 :\n",
      "train ROC: 0.528859988074\n",
      "dev ROC: 0.505316927666\n",
      "******************************\n",
      "\n",
      "Naive Bayes with a = 0.5 :\n",
      "train ROC: 0.528859988074\n",
      "dev ROC: 0.505316927666\n",
      "******************************\n",
      "\n",
      "Naive Bayes with a = 1.0 :\n",
      "train ROC: 0.528859988074\n",
      "dev ROC: 0.505316927666\n",
      "******************************\n",
      "\n"
     ]
    },
    {
     "data": {
      "image/png": "[encoded data removed]",
      "text/plain": [
       "<matplotlib.figure.Figure at 0x24a3540a9b0>"
      ]
     },
     "metadata": {},
     "output_type": "display_data"
    },
    {
     "name": "stdout",
     "output_type": "stream",
     "text": [
      "Best development ROC: 0.505316927666 (a= 0.0001 )\n"
     ]
    }
   ],
   "source": [
    "def nb_tester(a=1, \n",
    "                train_data = train_data,\n",
    "                train_labels = train_labels,\n",
    "                dev_data = dev_data,\n",
    "                dev_labels = dev_labels,\n",
    "                test_data = test_data):\n",
    "    \"\"\"Train Multi NB for any alpha a; return ROC score on development set and test set predictions\"\"\"\n",
    "    \n",
    "    print(\"Naive Bayes with a =\", str(a),\":\")\n",
    "    full_nb = MultinomialNB(alpha=a)\n",
    "    full_nb.fit(train_data, train_labels)\n",
    "\n",
    "    train_preds = full_nb.predict(train_data)\n",
    "    train_probs = full_nb.predict_proba(train_data)\n",
    "    train_ROC = metrics.roc_auc_score(train_labels, train_probs[:,1])\n",
    "\n",
    "    dev_preds = full_nb.predict(dev_data)\n",
    "    dev_probs = full_nb.predict_proba(dev_data)\n",
    "    dev_ROC = metrics.roc_auc_score(dev_labels, dev_probs[:,1])\n",
    "    \n",
    "    #misclassified\n",
    "    misclassified_mnb = np.where(dev_labels != dev_preds)\n",
    "    \n",
    "    test_preds = full_nb.predict(test_data)\n",
    "\n",
    "    print(\"train ROC:\", train_ROC)\n",
    "    print(\"dev ROC:\", dev_ROC)\n",
    "\n",
    "    #print(classification_report(train_preds, train_labels))\n",
    "    #print(classification_report(dev_preds, dev_labels))\n",
    "    \n",
    "    print(\"*\"*30+\"\\n\")\n",
    "    return train_ROC, dev_ROC, test_preds, misclassified_mnb\n",
    "\n",
    "a_list = [0.0001, 0.001, 0.01, 0.1, 0.5, 1.0]\n",
    "\n",
    "best_dev_roc = 0\n",
    "\n",
    "train_scores = []\n",
    "dev_scores = []\n",
    "for a in a_list:\n",
    "    train_ROC, dev_ROC, test_out, misclassified_mnb = nb_tester(a=a)\n",
    "    if (dev_ROC > best_dev_roc):\n",
    "        best_dev_roc = dev_ROC\n",
    "        test_preds = test_out\n",
    "        best_a = a\n",
    "    train_scores.append(train_ROC)\n",
    "    dev_scores.append(dev_ROC)\n",
    "plt.plot(a_list, train_scores, \"r\", a_list, dev_scores, \"b\")\n",
    "plt.title(\"ROC of MNB by alpha\")\n",
    "plt.ylim(.50,.75)\n",
    "plt.show()\n",
    "\n",
    "print(\"Best development ROC:\", best_dev_roc, \"(a=\", best_a,\")\")"
   ]
  },
  {
   "cell_type": "code",
   "execution_count": 45,
   "metadata": {
    "collapsed": true
   },
   "outputs": [],
   "source": [
    "#export_test_preds(test_preds, \"gnb\")"
   ]
  },
  {
   "cell_type": "markdown",
   "metadata": {},
   "source": [
    "Given the presence of numeric features including log-transformations, we consider a Gaussian NB, but like the Multinomial NB for different values of alpha, the classifier struggles to predict true positives."
   ]
  },
  {
   "cell_type": "code",
   "execution_count": 46,
   "metadata": {},
   "outputs": [
    {
     "name": "stdout",
     "output_type": "stream",
     "text": [
      "Gaussian Naive Bayes:\n",
      "Training set:\n",
      "              precision    recall  f1-score   support\n",
      "\n",
      "      False       0.99      0.76      0.86      3399\n",
      "       True       0.01      0.27      0.03        44\n",
      "\n",
      "avg / total       0.98      0.75      0.85      3443\n",
      "\n",
      "Development set:\n",
      "              precision    recall  f1-score   support\n",
      "\n",
      "      False       0.99      0.75      0.85       590\n",
      "       True       0.01      0.29      0.03         7\n",
      "\n",
      "avg / total       0.98      0.74      0.84       597\n",
      "\n",
      "GNB train ROC:       0.580307272757\n",
      "GNB development ROC: 0.600462341536\n"
     ]
    }
   ],
   "source": [
    "def gnb_tester(train_data = train_data,\n",
    "                train_labels = train_labels,\n",
    "                dev_data = dev_data,\n",
    "                dev_labels = dev_labels,\n",
    "                test_data = test_data):\n",
    "    \"\"\"Train Gaussian NB; return ROC score on development set and test set predictions\"\"\"\n",
    "    \n",
    "    print(\"Gaussian Naive Bayes:\")\n",
    "    gnb = GaussianNB()\n",
    "    gnb.fit(train_data, train_labels)\n",
    "\n",
    "    train_preds = gnb.predict(train_data)\n",
    "    train_probs = gnb.predict_proba(train_data)\n",
    "    train_ROC = metrics.roc_auc_score(train_labels, train_probs[:,1])\n",
    "\n",
    "    dev_preds = gnb.predict(dev_data)\n",
    "    dev_probs = gnb.predict_proba(dev_data)\n",
    "    dev_ROC = metrics.roc_auc_score(dev_labels, dev_probs[:,1])\n",
    "    \n",
    "    #misclassified\n",
    "    misclassified_gnb = np.where(dev_labels != dev_preds)\n",
    "    \n",
    "    test_preds = gnb.predict(test_data)\n",
    "\n",
    "    print(\"Training set:\\n\", classification_report(train_preds, train_labels))\n",
    "    print(\"Development set:\\n\", classification_report(dev_preds, dev_labels))\n",
    "    \n",
    "    return train_ROC, dev_ROC, test_preds, misclassified_gnb\n",
    "\n",
    "\n",
    "train_ROC, dev_ROC, test_out, misclassified_gnb = gnb_tester()\n",
    "\n",
    "print(\"GNB train ROC:      \", train_ROC)\n",
    "print(\"GNB development ROC:\", dev_ROC)"
   ]
  },
  {
   "cell_type": "markdown",
   "metadata": {},
   "source": [
    "### Gaussian Mixture Model\n",
    "Lastly, we consider a GMM built on both the received and did-not-receive groups, thinking that there may be clusters of types of requesters who may have similar likelihoods of receiving. However, much like NB, it still over-predicts did-not-receive and struggles to identify the true positives."
   ]
  },
  {
   "cell_type": "code",
   "execution_count": 47,
   "metadata": {},
   "outputs": [
    {
     "name": "stdout",
     "output_type": "stream",
     "text": [
      "Best development accuracy: 0.754 (PCA= 15 , N= 10 , cov= tied )\n"
     ]
    }
   ],
   "source": [
    "def gmm_tester(pca_comp=10, n_comp=5, covar=\"full\",\n",
    "               train_data = train_data,\n",
    "               train_labels = train_labels,\n",
    "               dev_data = dev_data,\n",
    "               dev_labels = dev_labels,\n",
    "               test_data = test_data):\n",
    "    \"\"\"Train GMM for n components and each covariance matrix;\n",
    "        return ROC score on development set and test set predictions\"\"\"\n",
    "    \n",
    "    #print(str(pca_comp),\"PCA components,\", str(n_comp), \"GMM components,\", covar)\n",
    "    pca = PCA(n_components=pca_comp)\n",
    "    train_data2 = pca.fit_transform(train_data)\n",
    "    dev_data2 = pca.transform(dev_data)\n",
    "    test_data2 = pca.transform(test_data)\n",
    "    \n",
    "    train_pos, train_neg = train_data2[train_labels == 1], train_data2[train_labels == 0]\n",
    "    \n",
    "    gmm_pos = GaussianMixture(n_components=n_comp, covariance_type=covar)\n",
    "    gmm_pos.fit(train_pos)\n",
    "    train_pos = gmm_pos.score_samples(train_data2)\n",
    "    dev_pos = gmm_pos.score_samples(dev_data2)\n",
    "    test_pos = gmm_pos.score_samples(test_data2)\n",
    "    \n",
    "    gmm_neg = GaussianMixture(n_components=n_comp, covariance_type=covar)\n",
    "    gmm_neg.fit(train_neg)\n",
    "    train_neg = gmm_neg.score_samples(train_data2)\n",
    "    dev_neg = gmm_neg.score_samples(dev_data2)\n",
    "    test_neg = gmm_neg.score_samples(test_data2)\n",
    "    \n",
    "    train_preds = np.zeros(train_pos.shape)\n",
    "    train_preds = (train_pos > train_neg).astype(int)\n",
    "    #train_scores = np.exp(train_pos)/(np.exp(train_pos) + np.exp(train_neg))\n",
    "    train_accuracy = np.sum(train_labels == train_preds) / len(train_labels)\n",
    "\n",
    "    \n",
    "    dev_preds = np.zeros(dev_pos.shape)\n",
    "    dev_preds = (dev_pos > dev_neg).astype(int)\n",
    "    #dev_scores = np.exp(dev_pos)/(np.exp(dev_pos) + np.exp(dev_neg))\n",
    "    dev_accuracy = np.sum(dev_labels == dev_preds) / len(dev_labels)\n",
    "    \n",
    "    #misclassified\n",
    "    misclassified_gmm = np.where(dev_preds != dev_labels)\n",
    "    \n",
    "    #print(\"train accuracy:\", \"{:.3f}\".format(train_accuracy))\n",
    "    #print(\"dev accuracy:  \", \"{:.3f}\".format(dev_accuracy))\n",
    "    #print()\n",
    "    \n",
    "    test_preds = np.zeros(test_pos.shape)\n",
    "    test_preds = (test_pos > test_neg).astype(int)\n",
    "    \n",
    "    #print(classification_report(train_preds, train_labels))\n",
    "    #print(classification_report(dev_preds, dev_labels))\n",
    "    \n",
    "    return train_accuracy, dev_accuracy, test_preds, misclassified_gmm\n",
    "\n",
    "#gmm_tester()\n",
    "\n",
    "\n",
    "pca_comps = [5*i for i in range(1,5)]\n",
    "n_comps = [i for i in range(2,11)]\n",
    "cov = ['full', 'tied', 'diag', 'spherical']\n",
    "\n",
    "best_dev_accuracy = 0\n",
    "for p in pca_comps:\n",
    "    #train_scores = []\n",
    "    #dev_scores = []\n",
    "    for n in n_comps:\n",
    "        for c in cov:\n",
    "            train_accuracy, dev_accuracy, test_out, misclassified_gmm = gmm_tester(p, n, c)\n",
    "            if (dev_accuracy > best_dev_accuracy):\n",
    "                best_dev_accuracy = dev_accuracy\n",
    "                test_preds = test_out\n",
    "                best_p = p\n",
    "                best_n = n\n",
    "                best_c = c\n",
    "                \n",
    "            #train_scores.append(train_ROC)\n",
    "            #dev_scores.append(dev_ROC)\n",
    "        #plt.plot(n_comps, train_scores, \"r\", n_comps, dev_scores, \"b\")\n",
    "        #plt.title(str(p)+\" Components\")\n",
    "        #plt.ylim(.5,1)\n",
    "        #plt.show()\n",
    "print(\"Best development accuracy:\", \"{:.3f}\".format(best_dev_accuracy), \"(PCA=\", best_p,\", N=\", best_n,\", cov=\", best_c,\")\")"
   ]
  },
  {
   "cell_type": "markdown",
   "metadata": {},
   "source": [
    "The best performing GMM, with 15 PCA components, 10 GMM components, and a tied covariance matrix, performs poorly on the test dataset, with an ROC close to 50%."
   ]
  },
  {
   "cell_type": "code",
   "execution_count": 48,
   "metadata": {
    "collapsed": true
   },
   "outputs": [],
   "source": [
    "#export_test_preds(test_preds, \"gmm\")"
   ]
  },
  {
   "cell_type": "markdown",
   "metadata": {},
   "source": [
    "## Error Checking"
   ]
  },
  {
   "cell_type": "code",
   "execution_count": 49,
   "metadata": {},
   "outputs": [
    {
     "data": {
      "text/plain": [
       "(array([  0,   6,   7,  12,  17,  23,  25,  26,  28,  32,  33,  34,  35,\n",
       "         40,  41,  44,  47,  48,  49,  54,  55,  57,  59,  63,  64,  65,\n",
       "         70,  71,  72,  74,  75,  77,  78,  80,  82,  86,  88,  90,  95,\n",
       "         96,  97,  98, 102, 104, 105, 108, 109, 110, 111, 115, 117, 118,\n",
       "        120, 122, 125, 126, 127, 128, 130, 132, 133, 139, 141, 143, 146,\n",
       "        147, 148, 151, 155, 156, 157, 160, 161, 165, 166, 167, 170, 173,\n",
       "        174, 176, 178, 179, 182, 183, 185, 186, 187, 190, 191, 194, 195,\n",
       "        196, 197, 200, 201, 203, 205, 207, 209, 216, 218, 220, 221, 225,\n",
       "        228, 230, 231, 233, 241, 243, 245, 249, 250, 252, 255, 257, 262,\n",
       "        263, 267, 269, 273, 274, 275, 276, 279, 280, 282, 285, 286, 287,\n",
       "        288, 292, 293, 296, 297, 300, 302, 303, 309, 310, 311, 312, 313,\n",
       "        314, 315, 316, 317, 319, 323, 324, 326, 327, 328, 330, 331, 334,\n",
       "        335, 337, 338, 340, 342, 343, 350, 353, 354, 355, 357, 359, 361,\n",
       "        362, 363, 365, 367, 372, 374, 375, 378, 380, 382, 384, 386, 387,\n",
       "        389, 391, 393, 394, 395, 397, 398, 400, 402, 404, 405, 406, 407,\n",
       "        408, 409, 410, 411, 412, 415, 418, 419, 422, 428, 429, 430, 432,\n",
       "        437, 439, 441, 443, 445, 447, 448, 450, 452, 454, 456, 457, 460,\n",
       "        466, 467, 470, 472, 473, 475, 476, 477, 478, 486, 488, 489, 490,\n",
       "        493, 494, 495, 498, 499, 504, 505, 512, 513, 518, 520, 522, 523,\n",
       "        524, 527, 528, 529, 530, 532, 535, 536, 538, 541, 544, 545, 546,\n",
       "        550, 551, 552, 556, 560, 564, 567, 568, 569, 570, 573, 574, 575,\n",
       "        580, 592, 594, 595, 596], dtype=int64),)"
      ]
     },
     "execution_count": 49,
     "metadata": {},
     "output_type": "execute_result"
    }
   ],
   "source": [
    "misclassified_lr\n",
    "misclassified_gnb\n",
    "misclassified_mnb\n",
    "misclassified_gmm"
   ]
  },
  {
   "cell_type": "code",
   "execution_count": 50,
   "metadata": {
    "scrolled": false
   },
   "outputs": [
    {
     "data": {
      "text/plain": [
       "array([  7,  25,  34,  44,  65,  70,  71,  90,  97, 109, 110, 126, 143,\n",
       "       155, 167, 179, 191, 196, 197, 216, 231, 255, 257, 267, 288, 300,\n",
       "       302, 309, 312, 316, 328, 331, 353, 355, 363, 365, 367, 386, 387,\n",
       "       391, 397, 422, 437, 439, 450, 456, 470, 473, 498, 504, 520, 527,\n",
       "       535, 545, 556, 592, 594, 596], dtype=int64)"
      ]
     },
     "execution_count": 50,
     "metadata": {},
     "output_type": "execute_result"
    }
   ],
   "source": [
    "misclassified_intersect = np.intersect1d(misclassified_lr, misclassified_gnb)\n",
    "misclassified_intersect = np.intersect1d(misclassified_intersect, misclassified_mnb)\n",
    "misclassified_intersect = np.intersect1d(misclassified_intersect, misclassified_gmm)\n",
    "misclassified_intersect"
   ]
  },
  {
   "cell_type": "markdown",
   "metadata": {},
   "source": [
    "Let's look now at the unique misclassification rates per model to learn how each model performed"
   ]
  },
  {
   "cell_type": "code",
   "execution_count": 52,
   "metadata": {
    "scrolled": true
   },
   "outputs": [
    {
     "name": "stdout",
     "output_type": "stream",
     "text": [
      "misclassified_lr had a 2.069% unique error rate\n",
      "misclassified_mnb had a 2.517% unique error rate\n",
      "misclassified_gnb had a 1.638% unique error rate\n",
      "misclassified_gmm had a 3.793% unique error rate\n"
     ]
    },
    {
     "name": "stderr",
     "output_type": "stream",
     "text": [
      "C:\\Users\\Colby\\Anaconda3\\lib\\site-packages\\ipykernel\\__main__.py:5: DeprecationWarning: elementwise == comparison failed; this will raise an error in the future.\n"
     ]
    }
   ],
   "source": [
    "common_misclassification_count = len(misclassified_intersect)\n",
    "misclass_list = [misclassified_lr, misclassified_mnb, misclassified_gnb, misclassified_gmm]\n",
    "misclass_list_name = ['misclassified_lr', 'misclassified_mnb', 'misclassified_gnb', 'misclassified_gmm']\n",
    "for i in misclass_list:\n",
    "    print(\"{} had a {:.3f}% unique error rate\".format(misclass_list_name[misclass_list.index(i)], len(np.setdiff1d(i, misclassified_intersect))/common_misclassification_count))"
   ]
  },
  {
   "cell_type": "markdown",
   "metadata": {},
   "source": [
    "GMM, to no surprise, had the most difficult and unique errors at 10% given how it doesn't perform well with word vectors as word2vec numerical values aren't generally normally distributed hence difficult to model."
   ]
  },
  {
   "cell_type": "code",
   "execution_count": 61,
   "metadata": {},
   "outputs": [
    {
     "data": {
      "text/html": [
       "<div>\n",
       "<style>\n",
       "    .dataframe thead tr:only-child th {\n",
       "        text-align: right;\n",
       "    }\n",
       "\n",
       "    .dataframe thead th {\n",
       "        text-align: left;\n",
       "    }\n",
       "\n",
       "    .dataframe tbody tr th {\n",
       "        vertical-align: top;\n",
       "    }\n",
       "</style>\n",
       "<table border=\"1\" class=\"dataframe\">\n",
       "  <thead>\n",
       "    <tr style=\"text-align: right;\">\n",
       "      <th></th>\n",
       "      <th>request_title</th>\n",
       "      <th>request_text_edit_aware</th>\n",
       "      <th>requester_received_pizza</th>\n",
       "    </tr>\n",
       "  </thead>\n",
       "  <tbody>\n",
       "    <tr>\n",
       "      <th>967</th>\n",
       "      <td>(Request) Dinner in Pacific, Mo?</td>\n",
       "      <td>Hi everyone. I usually just lurk around reddit...</td>\n",
       "      <td>NaN</td>\n",
       "    </tr>\n",
       "    <tr>\n",
       "      <th>1033</th>\n",
       "      <td>[Request] Broke until payday. Lubbock, Texas</td>\n",
       "      <td>All I have to get me through until Friday is a...</td>\n",
       "      <td>NaN</td>\n",
       "    </tr>\n",
       "    <tr>\n",
       "      <th>1112</th>\n",
       "      <td>[Request] I have been craving Pizza for two we...</td>\n",
       "      <td>Hi, I am a married college student with no job...</td>\n",
       "      <td>NaN</td>\n",
       "    </tr>\n",
       "    <tr>\n",
       "      <th>1176</th>\n",
       "      <td>[Request] Broke student. I have little money a...</td>\n",
       "      <td>Proof: http://imgur.com/7UrIW\\n\\nAny size pizz...</td>\n",
       "      <td>NaN</td>\n",
       "    </tr>\n",
       "    <tr>\n",
       "      <th>1267</th>\n",
       "      <td>[REQUEST]Old friend in town, no food in house....</td>\n",
       "      <td>Hello RAOP\\n\\nI have an old friend in town thi...</td>\n",
       "      <td>NaN</td>\n",
       "    </tr>\n",
       "    <tr>\n",
       "      <th>1283</th>\n",
       "      <td>[REQUEST] Not much food until tomorrow.</td>\n",
       "      <td>I will go ahead and say that I got a pizza mea...</td>\n",
       "      <td>NaN</td>\n",
       "    </tr>\n",
       "    <tr>\n",
       "      <th>1286</th>\n",
       "      <td>[Request] I just lost my job, short on rent :(</td>\n",
       "      <td>Yesterday I got laid off with a job I've been ...</td>\n",
       "      <td>NaN</td>\n",
       "    </tr>\n",
       "    <tr>\n",
       "      <th>1407</th>\n",
       "      <td>[Request] US Married couple in between jobs wo...</td>\n",
       "      <td>(Tennessee USA) It is a day to celebrate after...</td>\n",
       "      <td>NaN</td>\n",
       "    </tr>\n",
       "    <tr>\n",
       "      <th>1485</th>\n",
       "      <td>[REQUEST] Hungry dad with no food in Kent, WA</td>\n",
       "      <td>Hello everyone,\\n\\nThis is my first time here,...</td>\n",
       "      <td>NaN</td>\n",
       "    </tr>\n",
       "    <tr>\n",
       "      <th>1669</th>\n",
       "      <td>[Request] No money until Friday, could use a p...</td>\n",
       "      <td>Hi RAoP! \\nI live in Miami and have been short...</td>\n",
       "      <td>NaN</td>\n",
       "    </tr>\n",
       "    <tr>\n",
       "      <th>1689</th>\n",
       "      <td>[Request] A Pizza To Surprise My Hardworking W...</td>\n",
       "      <td>Hello. I've never posted in Random Acts of Piz...</td>\n",
       "      <td>NaN</td>\n",
       "    </tr>\n",
       "    <tr>\n",
       "      <th>1770</th>\n",
       "      <td>[Request] Hungry in Washington :)</td>\n",
       "      <td>I would be so eternally grateful if someone wo...</td>\n",
       "      <td>NaN</td>\n",
       "    </tr>\n",
       "    <tr>\n",
       "      <th>1900</th>\n",
       "      <td>[Request] Flat broke student would love a pizz...</td>\n",
       "      <td>I got hit with some unexpected bills this payc...</td>\n",
       "      <td>NaN</td>\n",
       "    </tr>\n",
       "    <tr>\n",
       "      <th>1998</th>\n",
       "      <td>[REQUEST] Hungry in Pennsylvania</td>\n",
       "      <td>Hi ROAP! I am going through a rough time right...</td>\n",
       "      <td>NaN</td>\n",
       "    </tr>\n",
       "    <tr>\n",
       "      <th>2005</th>\n",
       "      <td>[Request] Broke and under the weather, anyone ...</td>\n",
       "      <td>Getting over a cold would love some comfort fo...</td>\n",
       "      <td>NaN</td>\n",
       "    </tr>\n",
       "    <tr>\n",
       "      <th>2053</th>\n",
       "      <td>[Request] Increased living expenses and no pay...</td>\n",
       "      <td>My younger sister just moved into my apartment...</td>\n",
       "      <td>NaN</td>\n",
       "    </tr>\n",
       "    <tr>\n",
       "      <th>2091</th>\n",
       "      <td>[Request] Bronchitis and broke (Iowa USA)</td>\n",
       "      <td>Howdy, I seem to be in a predicament. I have b...</td>\n",
       "      <td>NaN</td>\n",
       "    </tr>\n",
       "    <tr>\n",
       "      <th>2107</th>\n",
       "      <td>[Request] Bessemer City, NC - single mother of...</td>\n",
       "      <td>I am a single mother of 4 - currently unemploy...</td>\n",
       "      <td>NaN</td>\n",
       "    </tr>\n",
       "    <tr>\n",
       "      <th>2174</th>\n",
       "      <td>Request: Dallas - Kicked out of my apt on Mond...</td>\n",
       "      <td>Family of 4 would really love a pizza.</td>\n",
       "      <td>NaN</td>\n",
       "    </tr>\n",
       "    <tr>\n",
       "      <th>2200</th>\n",
       "      <td>[Request] Los Angeles - Just got two rescue ca...</td>\n",
       "      <td>Just rescued two cats (http://imgur.com/fBpUEL...</td>\n",
       "      <td>NaN</td>\n",
       "    </tr>\n",
       "    <tr>\n",
       "      <th>2429</th>\n",
       "      <td>[REQUEST] SC Couple on Our Last Leg</td>\n",
       "      <td>I'm a student who is currently looking for wor...</td>\n",
       "      <td>NaN</td>\n",
       "    </tr>\n",
       "    <tr>\n",
       "      <th>2434</th>\n",
       "      <td>[REQUEST] Very Hungry Family</td>\n",
       "      <td>Us + our two children. A family member who is ...</td>\n",
       "      <td>NaN</td>\n",
       "    </tr>\n",
       "    <tr>\n",
       "      <th>2480</th>\n",
       "      <td>[Request]\\nHelp a needy family of 4 in Cali?</td>\n",
       "      <td>Hello, we've posted before when we first got t...</td>\n",
       "      <td>NaN</td>\n",
       "    </tr>\n",
       "    <tr>\n",
       "      <th>2484</th>\n",
       "      <td>[Request] Hospital food sucks... how about a p...</td>\n",
       "      <td>Posted this yesterday, no luck. Just wondering...</td>\n",
       "      <td>NaN</td>\n",
       "    </tr>\n",
       "    <tr>\n",
       "      <th>2490</th>\n",
       "      <td>[Request] Pregnant and hungry. Pizza please?</td>\n",
       "      <td>Just had to shell out most of my paycheck on 2...</td>\n",
       "      <td>NaN</td>\n",
       "    </tr>\n",
       "    <tr>\n",
       "      <th>2667</th>\n",
       "      <td>[Request] Los Angeles - My girlfriend and I ha...</td>\n",
       "      <td>First request, will pay it forward when we're ...</td>\n",
       "      <td>NaN</td>\n",
       "    </tr>\n",
       "    <tr>\n",
       "      <th>2678</th>\n",
       "      <td>[Request] California. A girl and her doggie wa...</td>\n",
       "      <td>Hello :)\\n\\nMy adorable puppy (pic - http://i....</td>\n",
       "      <td>NaN</td>\n",
       "    </tr>\n",
       "    <tr>\n",
       "      <th>2705</th>\n",
       "      <td>[request] I have had a real depressing week...</td>\n",
       "      <td>How has my week been? Well I got paid on Thurs...</td>\n",
       "      <td>NaN</td>\n",
       "    </tr>\n",
       "    <tr>\n",
       "      <th>2733</th>\n",
       "      <td>[REQUEST] Chesterfield MI. My family's been go...</td>\n",
       "      <td>PM for details. If you can't that's alright. O...</td>\n",
       "      <td>NaN</td>\n",
       "    </tr>\n",
       "    <tr>\n",
       "      <th>2977</th>\n",
       "      <td>[Request] Feeling down in KS, can you spare a ...</td>\n",
       "      <td>I'm broke, unemployed, and my self-esteem is i...</td>\n",
       "      <td>NaN</td>\n",
       "    </tr>\n",
       "    <tr>\n",
       "      <th>3072</th>\n",
       "      <td>(Request) Denver, CO - Unemployed, struggling ...</td>\n",
       "      <td>So I've fallen on some really hard times, and ...</td>\n",
       "      <td>NaN</td>\n",
       "    </tr>\n",
       "    <tr>\n",
       "      <th>3080</th>\n",
       "      <td>[Request] Work an overnight shift, only have $...</td>\n",
       "      <td>Don't really have money for food right now. I ...</td>\n",
       "      <td>NaN</td>\n",
       "    </tr>\n",
       "    <tr>\n",
       "      <th>3128</th>\n",
       "      <td>Hard working single mom could really use a piz...</td>\n",
       "      <td>Help a girl out? 1 medium cheese pizza to my w...</td>\n",
       "      <td>NaN</td>\n",
       "    </tr>\n",
       "    <tr>\n",
       "      <th>3144</th>\n",
       "      <td>[Request] Would really like to eat something o...</td>\n",
       "      <td>Hey guys I've been without stable income for a...</td>\n",
       "      <td>NaN</td>\n",
       "    </tr>\n",
       "    <tr>\n",
       "      <th>3231</th>\n",
       "      <td>[Request] Spokane WA We're broke, I'm hormonal...</td>\n",
       "      <td>We're completely broke and craving pizza. I th...</td>\n",
       "      <td>NaN</td>\n",
       "    </tr>\n",
       "    <tr>\n",
       "      <th>3241</th>\n",
       "      <td>[Request] Family of NEWLY five fresh out of th...</td>\n",
       "      <td>On Sept 30th our baby boy Ezra was born and un...</td>\n",
       "      <td>NaN</td>\n",
       "    </tr>\n",
       "    <tr>\n",
       "      <th>3412</th>\n",
       "      <td>{REQUEST: AB, CANADA} New to Reddit! Need help...</td>\n",
       "      <td>Hi. My girlfriend told me about Reddit and ran...</td>\n",
       "      <td>NaN</td>\n",
       "    </tr>\n",
       "    <tr>\n",
       "      <th>3454</th>\n",
       "      <td>[REQUEST] Pizza for some firefighters tonight ...</td>\n",
       "      <td>I volunteer at a firehouse and we love pizza!!</td>\n",
       "      <td>NaN</td>\n",
       "    </tr>\n",
       "    <tr>\n",
       "      <th>3612</th>\n",
       "      <td>[Request] [usa] Broke, can't seem to find a jo...</td>\n",
       "      <td>Been subsisting on friends generosity and a ba...</td>\n",
       "      <td>NaN</td>\n",
       "    </tr>\n",
       "    <tr>\n",
       "      <th>3638</th>\n",
       "      <td>[Request] Broke and hungry in Kentucky, would ...</td>\n",
       "      <td>Any help would be appreciated, and reciprocate...</td>\n",
       "      <td>NaN</td>\n",
       "    </tr>\n",
       "    <tr>\n",
       "      <th>3702</th>\n",
       "      <td>[request] NC USA, lonely and hungry</td>\n",
       "      <td>Been eating the same stuff in for a week now, ...</td>\n",
       "      <td>NaN</td>\n",
       "    </tr>\n",
       "    <tr>\n",
       "      <th>3750</th>\n",
       "      <td>[Request] [US] Home alone tonight with son, it...</td>\n",
       "      <td>My 5-year-old son and I will be home alone ton...</td>\n",
       "      <td>NaN</td>\n",
       "    </tr>\n",
       "    <tr>\n",
       "      <th>3801</th>\n",
       "      <td>[REQUEST]Here in  El Dorado hills, CA and woul...</td>\n",
       "      <td>Have enough for a few meals for the next 2 day...</td>\n",
       "      <td>NaN</td>\n",
       "    </tr>\n",
       "    <tr>\n",
       "      <th>4004</th>\n",
       "      <td>[request] broken shoulder, out of work, very h...</td>\n",
       "      <td>hey there,\\nfirst time poster, long time lurke...</td>\n",
       "      <td>NaN</td>\n",
       "    </tr>\n",
       "    <tr>\n",
       "      <th>4024</th>\n",
       "      <td>[request] Unemployment check never came, waiti...</td>\n",
       "      <td>*</td>\n",
       "      <td>NaN</td>\n",
       "    </tr>\n",
       "    <tr>\n",
       "      <th>4036</th>\n",
       "      <td>[Request][USA] Papa Johns is giving away one f...</td>\n",
       "      <td>If someone could hook me up with a $15 gift ca...</td>\n",
       "      <td>NaN</td>\n",
       "    </tr>\n",
       "  </tbody>\n",
       "</table>\n",
       "</div>"
      ],
      "text/plain": [
       "                                          request_title  \\\n",
       "967                    (Request) Dinner in Pacific, Mo?   \n",
       "1033       [Request] Broke until payday. Lubbock, Texas   \n",
       "1112  [Request] I have been craving Pizza for two we...   \n",
       "1176  [Request] Broke student. I have little money a...   \n",
       "1267  [REQUEST]Old friend in town, no food in house....   \n",
       "1283            [REQUEST] Not much food until tomorrow.   \n",
       "1286     [Request] I just lost my job, short on rent :(   \n",
       "1407  [Request] US Married couple in between jobs wo...   \n",
       "1485      [REQUEST] Hungry dad with no food in Kent, WA   \n",
       "1669  [Request] No money until Friday, could use a p...   \n",
       "1689  [Request] A Pizza To Surprise My Hardworking W...   \n",
       "1770                  [Request] Hungry in Washington :)   \n",
       "1900  [Request] Flat broke student would love a pizz...   \n",
       "1998                   [REQUEST] Hungry in Pennsylvania   \n",
       "2005  [Request] Broke and under the weather, anyone ...   \n",
       "2053  [Request] Increased living expenses and no pay...   \n",
       "2091          [Request] Bronchitis and broke (Iowa USA)   \n",
       "2107  [Request] Bessemer City, NC - single mother of...   \n",
       "2174  Request: Dallas - Kicked out of my apt on Mond...   \n",
       "2200  [Request] Los Angeles - Just got two rescue ca...   \n",
       "2429                [REQUEST] SC Couple on Our Last Leg   \n",
       "2434                       [REQUEST] Very Hungry Family   \n",
       "2480       [Request]\\nHelp a needy family of 4 in Cali?   \n",
       "2484  [Request] Hospital food sucks... how about a p...   \n",
       "2490       [Request] Pregnant and hungry. Pizza please?   \n",
       "2667  [Request] Los Angeles - My girlfriend and I ha...   \n",
       "2678  [Request] California. A girl and her doggie wa...   \n",
       "2705     [request] I have had a real depressing week...   \n",
       "2733  [REQUEST] Chesterfield MI. My family's been go...   \n",
       "2977  [Request] Feeling down in KS, can you spare a ...   \n",
       "3072  (Request) Denver, CO - Unemployed, struggling ...   \n",
       "3080  [Request] Work an overnight shift, only have $...   \n",
       "3128  Hard working single mom could really use a piz...   \n",
       "3144  [Request] Would really like to eat something o...   \n",
       "3231  [Request] Spokane WA We're broke, I'm hormonal...   \n",
       "3241  [Request] Family of NEWLY five fresh out of th...   \n",
       "3412  {REQUEST: AB, CANADA} New to Reddit! Need help...   \n",
       "3454  [REQUEST] Pizza for some firefighters tonight ...   \n",
       "3612  [Request] [usa] Broke, can't seem to find a jo...   \n",
       "3638  [Request] Broke and hungry in Kentucky, would ...   \n",
       "3702                [request] NC USA, lonely and hungry   \n",
       "3750  [Request] [US] Home alone tonight with son, it...   \n",
       "3801  [REQUEST]Here in  El Dorado hills, CA and woul...   \n",
       "4004  [request] broken shoulder, out of work, very h...   \n",
       "4024  [request] Unemployment check never came, waiti...   \n",
       "4036  [Request][USA] Papa Johns is giving away one f...   \n",
       "\n",
       "                                request_text_edit_aware  \\\n",
       "967   Hi everyone. I usually just lurk around reddit...   \n",
       "1033  All I have to get me through until Friday is a...   \n",
       "1112  Hi, I am a married college student with no job...   \n",
       "1176  Proof: http://imgur.com/7UrIW\\n\\nAny size pizz...   \n",
       "1267  Hello RAOP\\n\\nI have an old friend in town thi...   \n",
       "1283  I will go ahead and say that I got a pizza mea...   \n",
       "1286  Yesterday I got laid off with a job I've been ...   \n",
       "1407  (Tennessee USA) It is a day to celebrate after...   \n",
       "1485  Hello everyone,\\n\\nThis is my first time here,...   \n",
       "1669  Hi RAoP! \\nI live in Miami and have been short...   \n",
       "1689  Hello. I've never posted in Random Acts of Piz...   \n",
       "1770  I would be so eternally grateful if someone wo...   \n",
       "1900  I got hit with some unexpected bills this payc...   \n",
       "1998  Hi ROAP! I am going through a rough time right...   \n",
       "2005  Getting over a cold would love some comfort fo...   \n",
       "2053  My younger sister just moved into my apartment...   \n",
       "2091  Howdy, I seem to be in a predicament. I have b...   \n",
       "2107  I am a single mother of 4 - currently unemploy...   \n",
       "2174            Family of 4 would really love a pizza.    \n",
       "2200  Just rescued two cats (http://imgur.com/fBpUEL...   \n",
       "2429  I'm a student who is currently looking for wor...   \n",
       "2434  Us + our two children. A family member who is ...   \n",
       "2480  Hello, we've posted before when we first got t...   \n",
       "2484  Posted this yesterday, no luck. Just wondering...   \n",
       "2490  Just had to shell out most of my paycheck on 2...   \n",
       "2667  First request, will pay it forward when we're ...   \n",
       "2678  Hello :)\\n\\nMy adorable puppy (pic - http://i....   \n",
       "2705  How has my week been? Well I got paid on Thurs...   \n",
       "2733  PM for details. If you can't that's alright. O...   \n",
       "2977  I'm broke, unemployed, and my self-esteem is i...   \n",
       "3072  So I've fallen on some really hard times, and ...   \n",
       "3080  Don't really have money for food right now. I ...   \n",
       "3128  Help a girl out? 1 medium cheese pizza to my w...   \n",
       "3144  Hey guys I've been without stable income for a...   \n",
       "3231  We're completely broke and craving pizza. I th...   \n",
       "3241  On Sept 30th our baby boy Ezra was born and un...   \n",
       "3412  Hi. My girlfriend told me about Reddit and ran...   \n",
       "3454     I volunteer at a firehouse and we love pizza!!   \n",
       "3612  Been subsisting on friends generosity and a ba...   \n",
       "3638  Any help would be appreciated, and reciprocate...   \n",
       "3702  Been eating the same stuff in for a week now, ...   \n",
       "3750  My 5-year-old son and I will be home alone ton...   \n",
       "3801  Have enough for a few meals for the next 2 day...   \n",
       "4004  hey there,\\nfirst time poster, long time lurke...   \n",
       "4024                                                  *   \n",
       "4036  If someone could hook me up with a $15 gift ca...   \n",
       "\n",
       "     requester_received_pizza  \n",
       "967                       NaN  \n",
       "1033                      NaN  \n",
       "1112                      NaN  \n",
       "1176                      NaN  \n",
       "1267                      NaN  \n",
       "1283                      NaN  \n",
       "1286                      NaN  \n",
       "1407                      NaN  \n",
       "1485                      NaN  \n",
       "1669                      NaN  \n",
       "1689                      NaN  \n",
       "1770                      NaN  \n",
       "1900                      NaN  \n",
       "1998                      NaN  \n",
       "2005                      NaN  \n",
       "2053                      NaN  \n",
       "2091                      NaN  \n",
       "2107                      NaN  \n",
       "2174                      NaN  \n",
       "2200                      NaN  \n",
       "2429                      NaN  \n",
       "2434                      NaN  \n",
       "2480                      NaN  \n",
       "2484                      NaN  \n",
       "2490                      NaN  \n",
       "2667                      NaN  \n",
       "2678                      NaN  \n",
       "2705                      NaN  \n",
       "2733                      NaN  \n",
       "2977                      NaN  \n",
       "3072                      NaN  \n",
       "3080                      NaN  \n",
       "3128                      NaN  \n",
       "3144                      NaN  \n",
       "3231                      NaN  \n",
       "3241                      NaN  \n",
       "3412                      NaN  \n",
       "3454                      NaN  \n",
       "3612                      NaN  \n",
       "3638                      NaN  \n",
       "3702                      NaN  \n",
       "3750                      NaN  \n",
       "3801                      NaN  \n",
       "4004                      NaN  \n",
       "4024                      NaN  \n",
       "4036                      NaN  "
      ]
     },
     "execution_count": 61,
     "metadata": {},
     "output_type": "execute_result"
    }
   ],
   "source": [
    "dev_data_extended = extended_data[in_dev]\n",
    "true_labels = dev_labels[misclassified_intersect]\n",
    "most_common_misclassfied = pd.concat([dev_data_extended[[\"request_title\", \"request_text_edit_aware\"]].iloc[misclassified_intersect], true_labels], axis = 1) \n",
    "most_common_misclassfied[70:]"
   ]
  },
  {
   "cell_type": "code",
   "execution_count": 79,
   "metadata": {
    "collapsed": true
   },
   "outputs": [],
   "source": [
    "most_common_misclassfied.to_csv('./data/most_common_misclassified.csv', index=False)"
   ]
  },
  {
   "cell_type": "markdown",
   "metadata": {},
   "source": [
    "After reading the most common misclassified CSV, most of the fulfilled requests that our models missed were financially related unfortunate events - paycheck to paycheck, unemployed, recently laid off, college/grad school income, followed by personal relational events - pregnant, relocation, lonely, heartbreak, divorce."
   ]
  },
  {
   "cell_type": "code",
   "execution_count": null,
   "metadata": {
    "collapsed": true
   },
   "outputs": [],
   "source": []
  }
 ],
 "metadata": {
  "anaconda-cloud": {},
  "kernelspec": {
   "display_name": "Python [conda root]",
   "language": "python",
   "name": "conda-root-py"
  },
  "language_info": {
   "codemirror_mode": {
    "name": "ipython",
    "version": 3
   },
   "file_extension": ".py",
   "mimetype": "text/x-python",
   "name": "python",
   "nbconvert_exporter": "python",
   "pygments_lexer": "ipython3",
   "version": "3.5.3"
  }
 },
 "nbformat": 4,
 "nbformat_minor": 1
}
