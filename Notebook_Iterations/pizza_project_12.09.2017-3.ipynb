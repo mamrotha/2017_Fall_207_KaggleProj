{
 "cells": [
  {
   "cell_type": "markdown",
   "metadata": {},
   "source": [
    "# W207-1 Final Project - \"Random Acts of Pizza\"\n",
    "\n",
    "## Team\n",
    "- Andrew Mamroth\n",
    "- Colby Carter\n",
    "- Matt Adereth\n",
    "- Rob Deng\n",
    "\n",
    "[Team Github](https://github.com/mamrotha/2017_Fall_207_KaggleProj)\n",
    "\n",
    "## Overview\n",
    "\n",
    "[Original Kaggle Description](https://www.kaggle.com/c/random-acts-of-pizza)\n",
    "\n",
    "There is a sub-reddit called [r/Random_Acts_Of_Pizza](https://www.reddit.com/r/Random_Acts_Of_Pizza/) where users can post requests for someone to purchase them a pizza and, shockingly, random internet strangers will then buy them pizza.  In this competition, we are provided with a data set containing over 5,000 posts from this sub-reddit and our goal is to build a model that can predict whether or not the post will result in a pizza purchase."
   ]
  },
  {
   "cell_type": "markdown",
   "metadata": {},
   "source": [
    "# Package Initialization"
   ]
  },
  {
   "cell_type": "code",
   "execution_count": 2,
   "metadata": {
    "collapsed": true
   },
   "outputs": [],
   "source": [
    "# This tells matplotlib not to try opening a new window for each plot.\n",
    "%matplotlib inline\n",
    "\n",
    "# General libraries.\n",
    "import re\n",
    "import numpy as np\n",
    "import matplotlib.pyplot as plt\n",
    "from sklearn.linear_model import LogisticRegression\n",
    "from sklearn.naive_bayes import MultinomialNB\n",
    "from sklearn.feature_extraction.text import *\n",
    "from sklearn.pipeline import Pipeline\n",
    "\n",
    "import pandas as pd\n",
    "from pandas.tseries.holiday import USFederalHolidayCalendar\n",
    "\n",
    "# ADD METRICS\n",
    "from sklearn import metrics\n",
    "from sklearn.metrics import classification_report\n",
    "\n",
    "#NLTK - NLP Tokenizing and Cleaning\n",
    "import nltk\n",
    "from nltk.tokenize import word_tokenize, sent_tokenize\n",
    "from nltk.corpus import stopwords\n",
    "from nltk.stem import PorterStemmer\n",
    "from nltk.stem import WordNetLemmatizer\n",
    "\n",
    "#GMM\n",
    "from sklearn.decomposition import PCA\n",
    "from sklearn.cluster import KMeans\n",
    "from sklearn.mixture import GMM"
   ]
  },
  {
   "cell_type": "code",
   "execution_count": null,
   "metadata": {
    "collapsed": true
   },
   "outputs": [],
   "source": [
    "# Only evaluate this if you don't already have the NLTK corpora\n",
    "nltk.download()"
   ]
  },
  {
   "cell_type": "markdown",
   "metadata": {},
   "source": [
    "# Data \n",
    "\n",
    "## Original description of the data from the Kaggle website\n",
    "\n",
    "This dataset includes 5671 requests collected from the Reddit community Random Acts of Pizza between December 8, 2010 and September 29, 2013 (retrieved on September 30, 2013). All requests ask for the same thing: a free pizza. The outcome of each request -- whether its author received a pizza or not -- is known. Meta-data includes information such as: time of the request, activity of the requester, community-age of the requester, etc.\n",
    "\n",
    "Each JSON entry corresponds to one request (the first and only request by the requester on Random Acts of Pizza). We have removed fields from the test set which would not be available at the time of posting.\n",
    "\n",
    "### Field Descriptions\n",
    "\n",
    "| Field Name | Description |\n",
    "| ---------- | ----------- |\n",
    "| giver_username_if_known | Reddit username of giver if known, i.e. the person satisfying the request (\"N/A\" otherwise). |\n",
    "| number_of_downvotes_of_request_at_retrieval | Number of downvotes at the time the request was collected. |\n",
    "| number_of_upvotes_of_request_at_retrieval | Number of upvotes at the time the request was collected. |\n",
    "| post_was_edited | Boolean indicating whether this post was edited (from Reddit). |\n",
    "| request_id | Identifier of the post on Reddit, e.g. \"t3_w5491\". |\n",
    "| request_number_of_comments_at_retrieval | Number of comments for the request at time of retrieval. |\n",
    "| request_text | Full text of the request. |\n",
    "| request_text_edit_aware | Edit aware version of \"request_text\". We use a set of rules to strip edited comments indicating the success of the request such as \"EDIT: Thanks /u/foo, the pizza was delicous\". |\n",
    "| request_title | Title of the request. |\n",
    "| requester_account_age_in_days_at_request | Account age of requester in days at time of request. |\n",
    "| requester_account_age_in_days_at_retrieval | Account age of requester in days at time of retrieval. |\n",
    "| requester_days_since_first_post_on_raop_at_request | Number of days between requesters first post on RAOP and this request (zero if requester has never posted before on RAOP). |\n",
    "| requester_days_since_first_post_on_raop_at_retrieval | Number of days between requesters first post on RAOP and time of retrieval. |\n",
    "| requester_number_of_comments_at_request | Total number of comments on Reddit by requester at time of request. |\n",
    "| requester_number_of_comments_at_retrieval | Total number of comments on Reddit by requester at time of retrieval. |\n",
    "| requester_number_of_comments_in_raop_at_request | Total number of comments in RAOP by requester at time of request. |\n",
    "| requester_number_of_comments_in_raop_at_retrieval | Total number of comments in RAOP by requester at time of retrieval. |\n",
    "| requester_number_of_posts_at_request | Total number of posts on Reddit by requester at time of request. |\n",
    "| requester_number_of_posts_at_retrieval | Total number of posts on Reddit by requester at time of retrieval. |\n",
    "| requester_number_of_posts_on_raop_at_request | Total number of posts in RAOP by requester at time of request. |\n",
    "| requester_number_of_posts_on_raop_at_retrieval | Total number of posts in RAOP by requester at time of retrieval. |\n",
    "| requester_number_of_subreddits_at_request | The number of subreddits in which the author had already posted in at the time of request. |\n",
    "| requester_received_pizza | Boolean indicating the success of the request, i.e., whether the requester received pizza. |\n",
    "| requester_subreddits_at_request | The list of subreddits in which the author had already posted in at the time of request. |\n",
    "| requester_upvotes_minus_downvotes_at_request | Difference of total upvotes and total downvotes of requester at time of request. |\n",
    "| requester_upvotes_minus_downvotes_at_retrieval | Difference of total upvotes and total downvotes of requester at time of retrieval. |\n",
    "| requester_upvotes_plus_downvotes_at_request | Sum of total upvotes and total downvotes of requester at time of request. |\n",
    "| requester_upvotes_plus_downvotes_at_retrieval | Sum of total upvotes and total downvotes of requester at time of retrieval. |\n",
    "| requester_user_flair | Users on RAOP receive badges (Reddit calls them flairs) which is a small picture next to their username. In our data set the user flair is either None (neither given nor received pizza, N=4282), \"shroom\" (received pizza, but not given, N=1306), or \"PIF\" (pizza given after having received, N=83). |\n",
    "| requester_username | Reddit username of requester. |\n",
    "| unix_timestamp_of_request | Unix timestamp of request (supposedly in timezone of user, but in most cases it is equal to the UTC timestamp -- which is incorrect since most RAOP users are from the USA). |\n",
    "| unix_timestamp_of_request_utc | Unit timestamp of request in UTC. |\n",
    "\n",
    "## Initial Loading"
   ]
  },
  {
   "cell_type": "code",
   "execution_count": 31,
   "metadata": {},
   "outputs": [
    {
     "name": "stdout",
     "output_type": "stream",
     "text": [
      "Raw Train Shape: (4040, 32)\n",
      "Raw Test Shape: (1631, 17)\n"
     ]
    }
   ],
   "source": [
    "# Load raw data and create labels\n",
    "raw_train = pd.read_json('./data/train.json')\n",
    "raw_test = pd.read_json('./data/test.json')\n",
    "\n",
    "print(\"Raw Train Shape:\", raw_train.shape)\n",
    "print(\"Raw Test Shape:\", raw_test.shape)"
   ]
  },
  {
   "cell_type": "markdown",
   "metadata": {},
   "source": [
    "## Schema Reconciliation\n",
    "\n",
    "The training data has 32 columns, while the test data only has 17.  Let's look at which columns are different:"
   ]
  },
  {
   "cell_type": "code",
   "execution_count": 32,
   "metadata": {},
   "outputs": [
    {
     "name": "stdout",
     "output_type": "stream",
     "text": [
      "Columns in Train but not Test:\n",
      "  number_of_downvotes_of_request_at_retrieval\n",
      "  requester_days_since_first_post_on_raop_at_retrieval\n",
      "  number_of_upvotes_of_request_at_retrieval\n",
      "  post_was_edited\n",
      "  requester_received_pizza\n",
      "  requester_number_of_posts_at_retrieval\n",
      "  requester_user_flair\n",
      "  request_text\n",
      "  request_number_of_comments_at_retrieval\n",
      "  requester_upvotes_plus_downvotes_at_retrieval\n",
      "  requester_number_of_posts_on_raop_at_retrieval\n",
      "  requester_number_of_comments_in_raop_at_retrieval\n",
      "  requester_number_of_comments_at_retrieval\n",
      "  requester_account_age_in_days_at_retrieval\n",
      "  requester_upvotes_minus_downvotes_at_retrieval\n",
      "\n",
      "No columns in Test but not Train\n"
     ]
    }
   ],
   "source": [
    "raw_train_only_columns = set(raw_train.columns.values) - set(raw_test.columns.values)\n",
    "\n",
    "if len(raw_train_only_columns) > 0:\n",
    "    print (\"Columns in Train but not Test:\")\n",
    "    for c in raw_train_only_columns:\n",
    "        print (\" \", c)\n",
    "else:\n",
    "    print (\"No columns in Train but not Test\")\n",
    "    \n",
    "raw_test_only_columns = set(raw_test.columns.values) - set(raw_train.columns.values)\n",
    "print(\"\")\n",
    "if len(raw_test_only_columns) > 0:\n",
    "    print (\"Columns in Test but not Train:\")\n",
    "    for c in raw_test_only_columns:\n",
    "        print (\" \", c)\n",
    "else:\n",
    "    print (\"No columns in Test but not Train\")"
   ]
  },
  {
   "cell_type": "markdown",
   "metadata": {
    "collapsed": true
   },
   "source": [
    "There are several columns that aren't included in the test data and thus need to be excluded from the training data.\n",
    "\n",
    "- \\*_at_retrival - These are features that are dependent on when the data was pulled.  For real-time prediction when a post is made, these are not relevant since they will be the same as their \\*_at_request counterparts\n",
    "- post_was_edited - Since users are supposed to edit their post if they receive a pizza, this would be a major leak of results.  Additionally, we want to be able to make predictions as soon as the post is made, so subsequent edits won't be available.\n",
    "- requester_user_flair - There isn't historical flair information, so this feature isn't an accurate reflection of the state at the time of the request.  Users who successfully give or receive pizza are granted special flair, so this would also be an unfair indicator of results.\n",
    "- request_text - Since successful posts are often edited to indicate that the request has been fulfilled, the full request_text can't be used.  The additional \"request_text_edit_aware\" field has edits stripped out and is available in both the train and test data and will be used instead."
   ]
  },
  {
   "cell_type": "code",
   "execution_count": 33,
   "metadata": {
    "collapsed": true
   },
   "outputs": [],
   "source": [
    "train_with_test_schema = raw_train[raw_test.columns.values]"
   ]
  },
  {
   "cell_type": "markdown",
   "metadata": {},
   "source": [
    "## Train/Development Data Split\n",
    "\n",
    "We'll hold out ~15% of the training data as our development data set.  All exploratory data analysis and model training will be done only on the ~85% of training data that is not being held out.  We do not know if the order of the training data is meaningful, so we will use random sampling to avoid introducing bias."
   ]
  },
  {
   "cell_type": "code",
   "execution_count": 34,
   "metadata": {
    "collapsed": true
   },
   "outputs": [],
   "source": [
    "np.random.seed(1)\n",
    "in_dev = np.random.choice([True, False], len(raw_train), p=[0.15, 0.85])\n",
    "\n",
    "# train_data will be the training data without any new features added.  This will be used for the EDA.\n",
    "train_data = train_with_test_schema[np.logical_not(in_dev)].copy()\n",
    "\n",
    "train_labels = raw_train[\"requester_received_pizza\"][np.logical_not(in_dev)]\n",
    "dev_labels = raw_train[\"requester_received_pizza\"][in_dev]\n",
    "\n",
    "# We will add new features to extended_data as we explore.  When we complete, we will set the train_data, dev_data, \n",
    "# and test_data to be the appropriate rows from extended_data.\n",
    "extended_data = pd.concat([train_with_test_schema.copy(), raw_test])\n",
    "in_train = np.concatenate((np.logical_not(in_dev), np.full(len(raw_test), False)))\n",
    "in_dev = np.concatenate((in_dev, np.full(len(raw_test), False)))\n",
    "in_test = np.concatenate((np.full(len(raw_train), False), np.full(len(raw_test), True)))"
   ]
  },
  {
   "cell_type": "markdown",
   "metadata": {},
   "source": [
    "## Exploratory Data Analysis\n",
    "We'll now look at the individual fields to understand their types and distributions.\n",
    "\n",
    "### Request Time\n",
    "There are several things to look at with respect to the request time:\n",
    "\n",
    "1. Has the frequency of requests changed over time?\n",
    "2. Has the rate of request fulfillment changed over time?\n",
    "3. Does day of week matter? (Possible new feature)\n",
    "4. Does time of day matter? (Possible new feature)\n",
    "\n",
    "#### Request Frequency"
   ]
  },
  {
   "cell_type": "code",
   "execution_count": 35,
   "metadata": {},
   "outputs": [
    {
     "data": {
      "text/plain": [
       "<matplotlib.text.Text at 0x1ea04bbb860>"
      ]
     },
     "execution_count": 35,
     "metadata": {},
     "output_type": "execute_result"
    },
    {
     "data": {
      "image/png": "[encoded data removed]",
      "text/plain": [
       "<matplotlib.figure.Figure at 0x1ea72463c50>"
      ]
     },
     "metadata": {},
     "output_type": "display_data"
    }
   ],
   "source": [
    "d = pd.DataFrame()\n",
    "d['datetime'] = pd.to_datetime(train_data[\"unix_timestamp_of_request\"], unit = 's')\n",
    "d.index = d['datetime']\n",
    "d['datetime'].resample('W').count().plot().set_title('Number of Posts by Week')"
   ]
  },
  {
   "cell_type": "markdown",
   "metadata": {},
   "source": [
    "#### Request Fulfillment over Time"
   ]
  },
  {
   "cell_type": "code",
   "execution_count": 36,
   "metadata": {},
   "outputs": [
    {
     "data": {
      "text/plain": [
       "<matplotlib.text.Text at 0x1ea04a9ae10>"
      ]
     },
     "execution_count": 36,
     "metadata": {},
     "output_type": "execute_result"
    },
    {
     "data": {
      "image/png": "[encoded data removed]",
      "text/plain": [
       "<matplotlib.figure.Figure at 0x1ea04d64588>"
      ]
     },
     "metadata": {},
     "output_type": "display_data"
    }
   ],
   "source": [
    "d = pd.DataFrame()\n",
    "d['datetime'] = pd.to_datetime(train_data[\"unix_timestamp_of_request\"], unit = 's')\n",
    "d['result'] = train_labels\n",
    "d.index = d['datetime']\n",
    "d.resample('W').mean().plot().set_title(\"Percent of Requests Fulfilled by Week\")"
   ]
  },
  {
   "cell_type": "markdown",
   "metadata": {},
   "source": [
    "It looks like there was a lot of excitement at the start of the sub-reddit.  There was a burst of requests and an unsustained high rate of fulfillment.  We will add a feature that indicates whether or not the post was during this initial time, since it doesn't seem to be a part of the general trend.  August 1st, 2011 looks like a reasonable cutoff, so there will be a new boolean feature called \"during_initial_period\" that indicates this."
   ]
  },
  {
   "cell_type": "code",
   "execution_count": 37,
   "metadata": {
    "collapsed": true
   },
   "outputs": [],
   "source": [
    "import time\n",
    "import datetime\n",
    "cutoff_date = datetime.date(2011,8,1)\n",
    "cutoff_time = time.mktime(cutoff_date.timetuple())\n",
    "extended_data['during_initial_period'] = np.where(extended_data['unix_timestamp_of_request_utc'] < cutoff_time, 1, 0)"
   ]
  },
  {
   "cell_type": "markdown",
   "metadata": {},
   "source": [
    "#### Day of Week"
   ]
  },
  {
   "cell_type": "code",
   "execution_count": 38,
   "metadata": {},
   "outputs": [
    {
     "data": {
      "text/html": [
       "<div>\n",
       "<style>\n",
       "    .dataframe thead tr:only-child th {\n",
       "        text-align: right;\n",
       "    }\n",
       "\n",
       "    .dataframe thead th {\n",
       "        text-align: left;\n",
       "    }\n",
       "\n",
       "    .dataframe tbody tr th {\n",
       "        vertical-align: top;\n",
       "    }\n",
       "</style>\n",
       "<table border=\"1\" class=\"dataframe\">\n",
       "  <thead>\n",
       "    <tr>\n",
       "      <th></th>\n",
       "      <th colspan=\"2\" halign=\"left\">result</th>\n",
       "    </tr>\n",
       "    <tr>\n",
       "      <th></th>\n",
       "      <th>mean</th>\n",
       "      <th>count</th>\n",
       "    </tr>\n",
       "    <tr>\n",
       "      <th>dayofweek</th>\n",
       "      <th></th>\n",
       "      <th></th>\n",
       "    </tr>\n",
       "  </thead>\n",
       "  <tbody>\n",
       "    <tr>\n",
       "      <th>0</th>\n",
       "      <td>0.267894</td>\n",
       "      <td>489</td>\n",
       "    </tr>\n",
       "    <tr>\n",
       "      <th>1</th>\n",
       "      <td>0.232246</td>\n",
       "      <td>521</td>\n",
       "    </tr>\n",
       "    <tr>\n",
       "      <th>2</th>\n",
       "      <td>0.229167</td>\n",
       "      <td>576</td>\n",
       "    </tr>\n",
       "    <tr>\n",
       "      <th>3</th>\n",
       "      <td>0.288503</td>\n",
       "      <td>461</td>\n",
       "    </tr>\n",
       "    <tr>\n",
       "      <th>4</th>\n",
       "      <td>0.259825</td>\n",
       "      <td>458</td>\n",
       "    </tr>\n",
       "    <tr>\n",
       "      <th>5</th>\n",
       "      <td>0.211111</td>\n",
       "      <td>450</td>\n",
       "    </tr>\n",
       "    <tr>\n",
       "      <th>6</th>\n",
       "      <td>0.232323</td>\n",
       "      <td>495</td>\n",
       "    </tr>\n",
       "  </tbody>\n",
       "</table>\n",
       "</div>"
      ],
      "text/plain": [
       "             result      \n",
       "               mean count\n",
       "dayofweek                \n",
       "0          0.267894   489\n",
       "1          0.232246   521\n",
       "2          0.229167   576\n",
       "3          0.288503   461\n",
       "4          0.259825   458\n",
       "5          0.211111   450\n",
       "6          0.232323   495"
      ]
     },
     "execution_count": 38,
     "metadata": {},
     "output_type": "execute_result"
    }
   ],
   "source": [
    "d['dayofweek'] = d['datetime'].dt.dayofweek\n",
    "d.groupby('dayofweek').agg(['mean', 'count'])"
   ]
  },
  {
   "cell_type": "markdown",
   "metadata": {},
   "source": [
    "#### Time of Day"
   ]
  },
  {
   "cell_type": "code",
   "execution_count": 39,
   "metadata": {},
   "outputs": [
    {
     "data": {
      "text/plain": [
       "<matplotlib.text.Text at 0x1ea0496a2e8>"
      ]
     },
     "execution_count": 39,
     "metadata": {},
     "output_type": "execute_result"
    },
    {
     "data": {
      "image/png": "[encoded data removed]",
      "text/plain": [
       "<matplotlib.figure.Figure at 0x1ea04a72128>"
      ]
     },
     "metadata": {},
     "output_type": "display_data"
    },
    {
     "data": {
      "image/png": "[encoded data removed]",
      "text/plain": [
       "<matplotlib.figure.Figure at 0x1ea04a72320>"
      ]
     },
     "metadata": {},
     "output_type": "display_data"
    }
   ],
   "source": [
    "d['hour'] = d['datetime'].dt.hour\n",
    "d[['hour', 'result']].groupby('hour').agg('count').plot().set_title(\"Number of Requests by Hour of Day\")\n",
    "d[['hour', 'result']].groupby('hour').agg('mean').plot().set_title(\"Percent of Requests Fulfilled by Hour of Day\")"
   ]
  },
  {
   "cell_type": "markdown",
   "metadata": {},
   "source": [
    "The fulfillment rate varies from 21.1% to 28.8% by the day of the week and from 11.1% to 39.0% depending on the hour of the day. Both of these seem like reasonably distinguishing features that we should include."
   ]
  },
  {
   "cell_type": "code",
   "execution_count": 40,
   "metadata": {
    "collapsed": true
   },
   "outputs": [],
   "source": [
    "extended_data['day_of_week'] = pd.to_datetime(extended_data[\"unix_timestamp_of_request\"], unit = 's').dt.dayofweek\n",
    "extended_data['hour_of_day'] = pd.to_datetime(extended_data[\"unix_timestamp_of_request\"], unit = 's').dt.hour"
   ]
  },
  {
   "cell_type": "markdown",
   "metadata": {},
   "source": [
    "### Field Comparison Utilities"
   ]
  },
  {
   "cell_type": "code",
   "execution_count": 41,
   "metadata": {
    "collapsed": true
   },
   "outputs": [],
   "source": [
    "from scipy.stats import ttest_ind\n",
    "\n",
    "def success_vs_fail_report(feature, try_log = False):\n",
    "    print (feature)\n",
    "    success_values = train_data[feature][train_labels]\n",
    "    print (\"SUCCESS\", \"Mean:\", \"{:.3f}\".format(success_values.mean()), \"StdDev:\", \"{:.3f}\".format(success_values.std()))\n",
    "    fail_values = train_data[feature][np.logical_not(train_labels)]\n",
    "    print (\"FAIL   \", \"Mean:\", \"{:.3f}\".format(fail_values.mean()), \"StdDev:\", \"{:.3f}\".format(fail_values.std()))\n",
    "    ttest = ttest_ind(success_values, fail_values, equal_var=False)\n",
    "    print (\"TStat:\", \"{:.3f}\".format(ttest.statistic))\n",
    "    \n",
    "    if try_log:\n",
    "        ttest_of_log = ttest_ind(np.log(success_values + 1), np.log(fail_values + 1), equal_var=False)\n",
    "        print (\"TStat (log):\", \"{:.3f}\".format(ttest_of_log.statistic))\n",
    "    "
   ]
  },
  {
   "cell_type": "markdown",
   "metadata": {},
   "source": [
    "### Text Field Lengths\n",
    "#### Title Length"
   ]
  },
  {
   "cell_type": "code",
   "execution_count": 42,
   "metadata": {},
   "outputs": [
    {
     "name": "stdout",
     "output_type": "stream",
     "text": [
      "title_length\n",
      "SUCCESS Mean: 72.673 StdDev: 36.547\n",
      "FAIL    Mean: 70.975 StdDev: 36.131\n",
      "TStat: 1.177\n",
      "TStat (log): 1.627\n"
     ]
    }
   ],
   "source": [
    "train_data['title_length'] = train_data['request_title'].str.len()\n",
    "success_vs_fail_report('title_length', try_log=True)"
   ]
  },
  {
   "cell_type": "markdown",
   "metadata": {},
   "source": [
    "#### Request Length"
   ]
  },
  {
   "cell_type": "code",
   "execution_count": 43,
   "metadata": {},
   "outputs": [
    {
     "name": "stdout",
     "output_type": "stream",
     "text": [
      "request_length\n",
      "SUCCESS Mean: 464.468 StdDev: 386.954\n",
      "FAIL    Mean: 375.359 StdDev: 346.614\n",
      "TStat: 5.965\n",
      "TStat (log): 5.934\n"
     ]
    }
   ],
   "source": [
    "train_data['request_length'] = train_data['request_text_edit_aware'].str.len()\n",
    "success_vs_fail_report('request_length', try_log=True)"
   ]
  },
  {
   "cell_type": "markdown",
   "metadata": {},
   "source": [
    "It seems that the title length doesn't seem to vary much for those who received a pizza vs those that did not.  However, it does appear that a longer request is much more likely to get you a pizza.  This is a very good feature to include in the model."
   ]
  },
  {
   "cell_type": "code",
   "execution_count": 44,
   "metadata": {
    "collapsed": true
   },
   "outputs": [],
   "source": [
    "extended_data['request_length'] = extended_data['request_text_edit_aware'].str.len()"
   ]
  },
  {
   "cell_type": "markdown",
   "metadata": {},
   "source": [
    "### Upvotes vs Downvotes\n",
    "\n",
    "Here we compare using the features requester_upvotes_minus_downvotes_at_request and requester_upvotes_plus_downvotes_at_request vs creating new features 'upvotes' and 'downvotes'"
   ]
  },
  {
   "cell_type": "code",
   "execution_count": 45,
   "metadata": {},
   "outputs": [
    {
     "name": "stdout",
     "output_type": "stream",
     "text": [
      "requester_upvotes_minus_downvotes_at_request\n",
      "SUCCESS Mean: 1373.866 StdDev: 5750.130\n",
      "FAIL    Mean: 1091.154 StdDev: 3032.528\n",
      "TStat: 1.370\n",
      "\n",
      "requester_upvotes_plus_downvotes_at_request\n",
      "SUCCESS Mean: 4913.838 StdDev: 45155.115\n",
      "FAIL    Mean: 3388.588 StdDev: 18429.577\n",
      "TStat: 0.957\n",
      "TStat (log): 6.320\n",
      "\n",
      "upvotes\n",
      "SUCCESS Mean: 3143.852 StdDev: 25375.832\n",
      "FAIL    Mean: 2239.871 StdDev: 10555.068\n",
      "TStat: 1.008\n",
      "TStat (log): 6.375\n",
      "\n",
      "downvotes\n",
      "SUCCESS Mean: 8057.690 StdDev: 70524.770\n",
      "FAIL    Mean: 5628.459 StdDev: 28967.296\n",
      "TStat: 0.975\n",
      "TStat (log): 6.454\n",
      "\n",
      "upvotes_ratio\n",
      "SUCCESS Mean: 0.665 StdDev: 0.263\n",
      "FAIL    Mean: 0.600 StdDev: 0.315\n",
      "TStat: 5.892\n"
     ]
    }
   ],
   "source": [
    "success_vs_fail_report('requester_upvotes_minus_downvotes_at_request')  #Not doing log because this can be negative\n",
    "\n",
    "print()\n",
    "success_vs_fail_report('requester_upvotes_plus_downvotes_at_request', try_log=True)\n",
    "\n",
    "print()\n",
    "train_data['upvotes']  = (train_data['requester_upvotes_minus_downvotes_at_request'] +\n",
    "                       train_data['requester_upvotes_plus_downvotes_at_request']) / 2\n",
    "success_vs_fail_report('upvotes', try_log=True)\n",
    "\n",
    "print()\n",
    "train_data['downvotes']  = (train_data['requester_upvotes_plus_downvotes_at_request'] +\n",
    "                       train_data['upvotes'])\n",
    "success_vs_fail_report('downvotes', try_log=True)\n",
    "\n",
    "print()\n",
    "train_data['upvotes_ratio']  = np.nan_to_num(train_data['upvotes'] / train_data['requester_upvotes_plus_downvotes_at_request'], 0)\n",
    "success_vs_fail_report('upvotes_ratio')"
   ]
  },
  {
   "cell_type": "markdown",
   "metadata": {},
   "source": [
    "Both the upvotes_ratio and log(upvotes + 1) are very strong indicators, so they should also be included as a new feature."
   ]
  },
  {
   "cell_type": "code",
   "execution_count": 46,
   "metadata": {
    "collapsed": true
   },
   "outputs": [],
   "source": [
    "extended_data['upvotes'] = (extended_data['requester_upvotes_minus_downvotes_at_request'] +\n",
    "                            extended_data['requester_upvotes_plus_downvotes_at_request']) / 2\n",
    "\n",
    "extended_data['upvotes_log'] = np.log(extended_data['upvotes'] + 1)\n",
    "\n",
    "extended_data['upvotes_ratio'] = np.nan_to_num(\n",
    "   (extended_data['upvotes'] / extended_data['requester_upvotes_plus_downvotes_at_request']), 0)"
   ]
  },
  {
   "cell_type": "markdown",
   "metadata": {},
   "source": [
    "### Requestor Activity"
   ]
  },
  {
   "cell_type": "code",
   "execution_count": 47,
   "metadata": {},
   "outputs": [
    {
     "name": "stdout",
     "output_type": "stream",
     "text": [
      "requester_number_of_posts_at_request\n",
      "SUCCESS Mean: 24.457 StdDev: 55.193\n",
      "FAIL    Mean: 21.011 StdDev: 50.562\n",
      "TStat: 1.610\n",
      "TStat (log): 3.372\n",
      "\n",
      "requester_number_of_posts_on_raop_at_request\n",
      "SUCCESS Mean: 0.128 StdDev: 0.492\n",
      "FAIL    Mean: 0.037 StdDev: 0.216\n",
      "TStat: 5.189\n",
      "TStat (log): 5.356\n",
      "\n",
      "requester_account_age_in_days_at_request\n",
      "SUCCESS Mean: 277.821 StdDev: 306.417\n",
      "FAIL    Mean: 250.212 StdDev: 302.220\n",
      "TStat: 2.284\n",
      "TStat (log): 5.496\n",
      "\n",
      "requester_number_of_subreddits_at_request\n",
      "SUCCESS Mean: 19.930 StdDev: 21.806\n",
      "FAIL    Mean: 17.660 StdDev: 21.698\n",
      "TStat: 2.634\n",
      "TStat (log): 5.184\n"
     ]
    }
   ],
   "source": [
    "success_vs_fail_report('requester_number_of_posts_at_request', try_log=True)\n",
    "print()\n",
    "success_vs_fail_report('requester_number_of_posts_on_raop_at_request', try_log=True)\n",
    "print()\n",
    "success_vs_fail_report('requester_account_age_in_days_at_request', try_log=True)\n",
    "print()\n",
    "success_vs_fail_report('requester_number_of_subreddits_at_request', try_log=True)"
   ]
  },
  {
   "cell_type": "code",
   "execution_count": 48,
   "metadata": {
    "collapsed": true
   },
   "outputs": [],
   "source": [
    "extended_data['requester_number_of_posts_at_request_log'] = np.log(extended_data['requester_number_of_posts_at_request'] + 1)\n",
    "extended_data['requester_account_age_in_days_at_request_log'] = np.log(extended_data['requester_account_age_in_days_at_request'] + 1)\n",
    "extended_data['requester_number_of_subreddits_at_request_log'] = np.log(extended_data['requester_number_of_subreddits_at_request'] + 1)"
   ]
  },
  {
   "cell_type": "markdown",
   "metadata": {},
   "source": [
    "#### First Time Posting\n",
    "We see that the number of posts on r/raop is likely a good indicator.  What about just seeing if this being the first time someone posts is significant?"
   ]
  },
  {
   "cell_type": "code",
   "execution_count": 49,
   "metadata": {
    "scrolled": true
   },
   "outputs": [
    {
     "name": "stdout",
     "output_type": "stream",
     "text": [
      "first_raop_post\n",
      "SUCCESS Mean: 0.916 StdDev: 0.277\n",
      "FAIL    Mean: 0.968 StdDev: 0.177\n",
      "TStat: -5.091\n",
      "\n",
      "Success Rate if First Post: 0.235204855842\n",
      "Success Rate if Not First Post: 0.458064516129\n"
     ]
    }
   ],
   "source": [
    "train_data['first_raop_post'] = train_data['requester_number_of_posts_on_raop_at_request'] == 0\n",
    "success_vs_fail_report('first_raop_post')\n",
    "\n",
    "print()\n",
    "print (\"Success Rate if First Post:\", train_labels[train_data['first_raop_post']].mean())\n",
    "print (\"Success Rate if Not First Post:\", train_labels[np.logical_not(train_data['first_raop_post'])].mean())"
   ]
  },
  {
   "cell_type": "markdown",
   "metadata": {},
   "source": [
    "We can see that the success rate is much higher if this is not the users first time posting on the subreddit.  This is likely a stong feature to add."
   ]
  },
  {
   "cell_type": "code",
   "execution_count": 50,
   "metadata": {
    "collapsed": true
   },
   "outputs": [],
   "source": [
    "extended_data['first_raop_post'] = extended_data['requester_number_of_posts_on_raop_at_request'] == 0"
   ]
  },
  {
   "cell_type": "markdown",
   "metadata": {},
   "source": [
    "### Text Analysis\n",
    "#### Magic Words: Please vs Need\n",
    "As a warm up, let's investigate the hypothesis that being polite makes a difference."
   ]
  },
  {
   "cell_type": "code",
   "execution_count": 51,
   "metadata": {},
   "outputs": [
    {
     "name": "stdout",
     "output_type": "stream",
     "text": [
      "says_please\n",
      "SUCCESS Mean: 0.084 StdDev: 0.277\n",
      "FAIL    Mean: 0.098 StdDev: 0.297\n",
      "TStat: -1.219\n",
      "says_need\n",
      "SUCCESS Mean: 0.165 StdDev: 0.372\n",
      "FAIL    Mean: 0.125 StdDev: 0.331\n",
      "TStat: 2.811\n"
     ]
    }
   ],
   "source": [
    "train_data['says_please'] = train_data['request_text_edit_aware'].str.lower().str.contains(\"please\")\n",
    "success_vs_fail_report('says_please')\n",
    "\n",
    "train_data['says_need'] = train_data['request_text_edit_aware'].str.lower().str.contains(\"need\")\n",
    "success_vs_fail_report('says_need')"
   ]
  },
  {
   "cell_type": "markdown",
   "metadata": {},
   "source": [
    "Here we see that the magic word isn't so magic, but all is not lost.  It seems people in need are more likely to get a pizza.  The NLTK transformations will take care of collecting these features but still nice to check."
   ]
  },
  {
   "cell_type": "markdown",
   "metadata": {},
   "source": [
    "#### Vectorizing Request Titles & Text\n",
    "We believe that the titles and request body should be treated separately."
   ]
  },
  {
   "cell_type": "code",
   "execution_count": 52,
   "metadata": {},
   "outputs": [
    {
     "name": "stdout",
     "output_type": "stream",
     "text": [
      "Request Text Shape: (3450, 11311)\n",
      "Request Title Shape: (3450, 4072)\n"
     ]
    }
   ],
   "source": [
    "request_text_vectorizer = Pipeline([('cv', CountVectorizer()),\n",
    "                                    ('tfidf', TfidfTransformer())])\n",
    "train_request_text_wordvecs = request_text_vectorizer.fit_transform(train_data['request_text_edit_aware'])\n",
    "\n",
    "request_title_vectorizer = Pipeline([('cv', CountVectorizer()),\n",
    "                                    ('tfidf', TfidfTransformer())])\n",
    "train_request_title_wordvecs = request_title_vectorizer.fit_transform(train_data['request_title'])\n",
    "\n",
    "print (\"Request Text Shape:\", train_request_text_wordvecs.shape)\n",
    "print (\"Request Title Shape:\", train_request_title_wordvecs.shape)\n",
    "\n",
    "extended_request_text_wordvecs = request_text_vectorizer.transform(extended_data['request_text_edit_aware'])\n",
    "extended_request_title_wordvecs = request_title_vectorizer.transform(extended_data['request_title'])"
   ]
  },
  {
   "cell_type": "markdown",
   "metadata": {},
   "source": [
    "With 11311 unique words for the request text and 4072 unique words for the request title, this may prove to be an unreasonably large number of features for some models.  For the models that can deal with huge dimensions, we will provide the original word vectors.  For models that can't handle this, we will perform dimensionality reduction using PCA."
   ]
  },
  {
   "cell_type": "code",
   "execution_count": 53,
   "metadata": {},
   "outputs": [
    {
     "data": {
      "image/png": "[encoded data removed]",
      "text/plain": [
       "<matplotlib.figure.Figure at 0x1ea71bf7320>"
      ]
     },
     "metadata": {},
     "output_type": "display_data"
    }
   ],
   "source": [
    "title_pca = PCA(2000)\n",
    "title_pca.fit(train_request_title_wordvecs.todense())\n",
    "plt.plot(np.cumsum(title_pca.explained_variance_ratio_))\n",
    "plt.xlabel('PCA Component Count')\n",
    "plt.ylabel('Cumulative Explained Variance %')\n",
    "plt.title('Explained Variance for Request Title PCA')\n",
    "plt.show()\n"
   ]
  },
  {
   "cell_type": "code",
   "execution_count": 54,
   "metadata": {},
   "outputs": [
    {
     "data": {
      "image/png": "[encoded data removed]",
      "text/plain": [
       "<matplotlib.figure.Figure at 0x1ea71bf7908>"
      ]
     },
     "metadata": {},
     "output_type": "display_data"
    }
   ],
   "source": [
    "text_pca = PCA(2000)\n",
    "text_pca.fit(train_request_title_wordvecs.todense())\n",
    "np.cumsum(text_pca.explained_variance_ratio_)\n",
    "\n",
    "plt.plot(np.cumsum(text_pca.explained_variance_ratio_))\n",
    "plt.xlabel('PCA Component Count')\n",
    "plt.ylabel('Cumulative Explained Variance %')\n",
    "plt.title('Explained Variance for Request Text PCA')\n",
    "plt.show()"
   ]
  },
  {
   "cell_type": "markdown",
   "metadata": {},
   "source": [
    "## Final Data Preparation\n",
    "Now that we've done all our transformations on the \"extended\" data set, we will split it back up into train, dev, and test."
   ]
  },
  {
   "cell_type": "code",
   "execution_count": 70,
   "metadata": {},
   "outputs": [],
   "source": [
    "train_data = extended_data[in_train]\n",
    "dev_data = extended_data[in_dev]\n",
    "test_data = extended_data[in_test]"
   ]
  },
  {
   "cell_type": "markdown",
   "metadata": {},
   "source": [
    "### Numeric Features to Use"
   ]
  },
  {
   "cell_type": "code",
   "execution_count": 56,
   "metadata": {
    "collapsed": true
   },
   "outputs": [],
   "source": [
    "features = [\n",
    "    'day_of_week',\n",
    "    'hour_of_day',\n",
    "    'request_length',\n",
    "    'upvotes_log',\n",
    "    'upvotes_ratio',\n",
    "    'requester_number_of_posts_on_raop_at_request',\n",
    "    'requester_number_of_posts_at_request_log',\n",
    "    'requester_account_age_in_days_at_request_log',\n",
    "    'requester_number_of_subreddits_at_request_log',\n",
    "    'first_raop_post'\n",
    "]"
   ]
  },
  {
   "cell_type": "markdown",
   "metadata": {},
   "source": [
    "# Modeling"
   ]
  },
  {
   "cell_type": "code",
   "execution_count": 71,
   "metadata": {},
   "outputs": [
    {
     "name": "stdout",
     "output_type": "stream",
     "text": [
      "Logistic with c = 0.0001 and l2 regularization:\n",
      "train ROC: 0.584\n",
      "dev ROC:   0.618\n",
      "\n",
      "******************************\n",
      "\n",
      "Logistic with c = 0.001 and l2 regularization:\n",
      "train ROC: 0.607\n",
      "dev ROC:   0.642\n",
      "\n",
      "******************************\n",
      "\n",
      "Logistic with c = 0.005 and l2 regularization:\n",
      "train ROC: 0.625\n",
      "dev ROC:   0.667\n",
      "\n",
      "******************************\n",
      "\n",
      "Logistic with c = 0.01 and l2 regularization:\n",
      "train ROC: 0.628\n",
      "dev ROC:   0.671\n",
      "\n",
      "******************************\n",
      "\n",
      "Logistic with c = 0.025 and l2 regularization:\n",
      "train ROC: 0.629\n",
      "dev ROC:   0.674\n",
      "\n",
      "******************************\n",
      "\n",
      "Logistic with c = 0.05 and l2 regularization:\n",
      "train ROC: 0.629\n",
      "dev ROC:   0.674\n",
      "\n",
      "******************************\n",
      "\n",
      "Logistic with c = 0.1 and l2 regularization:\n",
      "train ROC: 0.629\n",
      "dev ROC:   0.675\n",
      "\n",
      "******************************\n",
      "\n",
      "Logistic with c = 0.125 and l2 regularization:\n",
      "train ROC: 0.629\n",
      "dev ROC:   0.674\n",
      "\n",
      "******************************\n",
      "\n",
      "Logistic with c = 0.25 and l2 regularization:\n",
      "train ROC: 0.629\n",
      "dev ROC:   0.675\n",
      "\n",
      "******************************\n",
      "\n",
      "Logistic with c = 0.5 and l2 regularization:\n",
      "train ROC: 0.629\n",
      "dev ROC:   0.675\n",
      "\n",
      "******************************\n",
      "\n",
      "Logistic with c = 1 and l2 regularization:\n",
      "train ROC: 0.629\n",
      "dev ROC:   0.675\n",
      "\n",
      "******************************\n",
      "\n",
      "Logistic with c = 5 and l2 regularization:\n",
      "train ROC: 0.629\n",
      "dev ROC:   0.675\n",
      "\n",
      "******************************\n",
      "\n",
      "Logistic with c = 10 and l2 regularization:\n",
      "train ROC: 0.629\n",
      "dev ROC:   0.675\n",
      "\n",
      "******************************\n",
      "\n",
      "Logistic with c = 25 and l2 regularization:\n",
      "train ROC: 0.629\n",
      "dev ROC:   0.675\n",
      "\n",
      "******************************\n",
      "\n",
      "Logistic with c = 50 and l2 regularization:\n",
      "train ROC: 0.629\n",
      "dev ROC:   0.674\n",
      "\n",
      "******************************\n",
      "\n",
      "Logistic with c = 100 and l2 regularization:\n",
      "train ROC: 0.629\n",
      "dev ROC:   0.675\n",
      "\n",
      "******************************\n",
      "\n",
      "Logistic with c = 200 and l2 regularization:\n",
      "train ROC: 0.629\n",
      "dev ROC:   0.675\n",
      "\n",
      "******************************\n",
      "\n",
      "Logistic with c = 500 and l2 regularization:\n",
      "train ROC: 0.629\n",
      "dev ROC:   0.675\n",
      "\n",
      "******************************\n",
      "\n",
      "Logistic with c = 1000 and l2 regularization:\n",
      "train ROC: 0.629\n",
      "dev ROC:   0.675\n",
      "\n",
      "******************************\n",
      "\n"
     ]
    },
    {
     "data": {
      "image/png": "[encoded data removed]",
      "text/plain": [
       "<matplotlib.figure.Figure at 0x1ea71740588>"
      ]
     },
     "metadata": {},
     "output_type": "display_data"
    },
    {
     "name": "stdout",
     "output_type": "stream",
     "text": [
      "Logistic with c = 0.0001 and l1 regularization:\n",
      "train ROC: 0.591\n",
      "dev ROC:   0.629\n",
      "\n",
      "******************************\n",
      "\n",
      "Logistic with c = 0.001 and l1 regularization:\n",
      "train ROC: 0.591\n",
      "dev ROC:   0.629\n",
      "\n",
      "******************************\n",
      "\n",
      "Logistic with c = 0.005 and l1 regularization:\n",
      "train ROC: 0.582\n",
      "dev ROC:   0.610\n",
      "\n",
      "******************************\n",
      "\n",
      "Logistic with c = 0.01 and l1 regularization:\n",
      "train ROC: 0.595\n",
      "dev ROC:   0.623\n",
      "\n",
      "******************************\n",
      "\n",
      "Logistic with c = 0.025 and l1 regularization:\n",
      "train ROC: 0.627\n",
      "dev ROC:   0.662\n",
      "\n",
      "******************************\n",
      "\n",
      "Logistic with c = 0.05 and l1 regularization:\n",
      "train ROC: 0.629\n",
      "dev ROC:   0.668\n",
      "\n",
      "******************************\n",
      "\n",
      "Logistic with c = 0.1 and l1 regularization:\n",
      "train ROC: 0.629\n",
      "dev ROC:   0.671\n",
      "\n",
      "******************************\n",
      "\n",
      "Logistic with c = 0.125 and l1 regularization:\n",
      "train ROC: 0.629\n",
      "dev ROC:   0.672\n",
      "\n",
      "******************************\n",
      "\n",
      "Logistic with c = 0.25 and l1 regularization:\n",
      "train ROC: 0.629\n",
      "dev ROC:   0.674\n",
      "\n",
      "******************************\n",
      "\n",
      "Logistic with c = 0.5 and l1 regularization:\n",
      "train ROC: 0.630\n",
      "dev ROC:   0.675\n",
      "\n",
      "******************************\n",
      "\n",
      "Logistic with c = 1 and l1 regularization:\n",
      "train ROC: 0.630\n",
      "dev ROC:   0.675\n",
      "\n",
      "******************************\n",
      "\n",
      "Logistic with c = 5 and l1 regularization:\n",
      "train ROC: 0.630\n",
      "dev ROC:   0.675\n",
      "\n",
      "******************************\n",
      "\n",
      "Logistic with c = 10 and l1 regularization:\n",
      "train ROC: 0.630\n",
      "dev ROC:   0.676\n",
      "\n",
      "******************************\n",
      "\n",
      "Logistic with c = 25 and l1 regularization:\n",
      "train ROC: 0.630\n",
      "dev ROC:   0.674\n",
      "\n",
      "******************************\n",
      "\n",
      "Logistic with c = 50 and l1 regularization:\n",
      "train ROC: 0.630\n",
      "dev ROC:   0.676\n",
      "\n",
      "******************************\n",
      "\n",
      "Logistic with c = 100 and l1 regularization:\n",
      "train ROC: 0.631\n",
      "dev ROC:   0.676\n",
      "\n",
      "******************************\n",
      "\n",
      "Logistic with c = 200 and l1 regularization:\n",
      "train ROC: 0.630\n",
      "dev ROC:   0.676\n",
      "\n",
      "******************************\n",
      "\n",
      "Logistic with c = 500 and l1 regularization:\n",
      "train ROC: 0.630\n",
      "dev ROC:   0.676\n",
      "\n",
      "******************************\n",
      "\n",
      "Logistic with c = 1000 and l1 regularization:\n",
      "train ROC: 0.630\n",
      "dev ROC:   0.675\n",
      "\n",
      "******************************\n",
      "\n"
     ]
    },
    {
     "data": {
      "image/png": "[encoded data removed]",
      "text/plain": [
       "<matplotlib.figure.Figure at 0x1ea720a6fd0>"
      ]
     },
     "metadata": {},
     "output_type": "display_data"
    },
    {
     "name": "stdout",
     "output_type": "stream",
     "text": [
      "Best development ROC: 0.676 (c= 500 , reg= l1 )\n"
     ]
    }
   ],
   "source": [
    "def logistic_tester(c=1, p=\"l2\", \n",
    "                    train_data = train_data[features],\n",
    "                    train_labels = train_labels,\n",
    "                    dev_data = dev_data[features],\n",
    "                    dev_labels = dev_labels,\n",
    "                    test_data = test_data[features]):\n",
    "    \"\"\"Train logistic for any C, penalty; return ROC score on development set and test set predictions\"\"\"\n",
    "    \n",
    "    print(\"Logistic with c =\", str(c), \"and\", p,\"regularization:\")\n",
    "    full_lr = LogisticRegression(penalty=p, C=c, tol=.001, class_weight=\"balanced\")\n",
    "    full_lr.fit(train_data, train_labels)\n",
    "\n",
    "    train_preds = full_lr.predict(train_data)\n",
    "    train_probs = full_lr.predict_proba(train_data)\n",
    "    train_ROC = metrics.roc_auc_score(train_labels, train_probs[:,1])\n",
    "\n",
    "    dev_preds = full_lr.predict(dev_data)\n",
    "    dev_probs = full_lr.predict_proba(dev_data)\n",
    "    dev_ROC = metrics.roc_auc_score(dev_labels, dev_probs[:,1])\n",
    "\n",
    "    test_preds = full_lr.predict(test_data)\n",
    "\n",
    "    print(\"train ROC:\", \"{:.3f}\".format(train_ROC))\n",
    "    print(\"dev ROC:  \", \"{:.3f}\".format(dev_ROC))\n",
    "\n",
    "    #print(\"For train:\\n\", classification_report(train_preds, train_labels))\n",
    "    #print(\"For dev:\\n\", classification_report(dev_preds, dev_labels))\n",
    "    \n",
    "    print(\"\\n\"+\"*\"*30+\"\\n\")\n",
    "    return train_ROC, dev_ROC, test_preds\n",
    "\n",
    "\n",
    "c_list = [.0001, .001, .005, .01, .025, .05, .1, .125, .25, .5, 1, 5, 10, 25, 50, 100, 200, 500, 1000]\n",
    "reg = [\"l2\",\"l1\"]\n",
    "\n",
    "best_dev_roc = 0\n",
    "\n",
    "for r in reg:\n",
    "    train_scores = []\n",
    "    dev_scores = []\n",
    "    for c in c_list:\n",
    "        train_ROC, dev_ROC, test_out = logistic_tester(c=c, p=r)\n",
    "        if (dev_ROC > best_dev_roc):\n",
    "            best_dev_roc = dev_ROC\n",
    "            test_preds = test_out\n",
    "            best_c = c\n",
    "            best_reg = r\n",
    "        train_scores.append(train_ROC)\n",
    "        dev_scores.append(dev_ROC)\n",
    "    plt.plot(c_list, train_scores, \"r\", c_list, dev_scores, \"b\")\n",
    "    plt.title(r+\" Regularization\")\n",
    "    plt.ylim(.55,1)\n",
    "    plt.show()\n",
    "\n",
    "print(\"Best development ROC:\", \"{:.3f}\".format(best_dev_roc), \"(c=\", best_c,\", reg=\", best_reg, \")\")\n",
    "\n",
    "\n",
    "def export_test_preds(test_preds, test_data = test_data):\n",
    "    test_out = pd.DataFrame()\n",
    "    test_out['request_id'] = test_data['request_id']\n",
    "    test_out['requester_received_pizza'] = test_preds.astype(int)\n",
    "    test_out.to_csv('./data/submissionX.csv', index=False)\n",
    "    return None\n",
    "\n",
    "export_test_preds(test_preds)"
   ]
  },
  {
   "cell_type": "markdown",
   "metadata": {},
   "source": [
    "## [old]"
   ]
  },
  {
   "cell_type": "code",
   "execution_count": 96,
   "metadata": {},
   "outputs": [
    {
     "name": "stderr",
     "output_type": "stream",
     "text": [
      "C:\\Users\\madereth\\Anaconda\\lib\\site-packages\\ipykernel_launcher.py:8: SettingWithCopyWarning: \n",
      "A value is trying to be set on a copy of a slice from a DataFrame.\n",
      "Try using .loc[row_indexer,col_indexer] = value instead\n",
      "\n",
      "See the caveats in the documentation: http://pandas.pydata.org/pandas-docs/stable/indexing.html#indexing-view-versus-copy\n",
      "  \n",
      "C:\\Users\\madereth\\Anaconda\\lib\\site-packages\\ipykernel_launcher.py:10: SettingWithCopyWarning: \n",
      "A value is trying to be set on a copy of a slice from a DataFrame.\n",
      "Try using .loc[row_indexer,col_indexer] = value instead\n",
      "\n",
      "See the caveats in the documentation: http://pandas.pydata.org/pandas-docs/stable/indexing.html#indexing-view-versus-copy\n",
      "  # Remove the CWD from sys.path while we load stuff.\n",
      "C:\\Users\\madereth\\Anaconda\\lib\\site-packages\\ipykernel_launcher.py:12: SettingWithCopyWarning: \n",
      "A value is trying to be set on a copy of a slice from a DataFrame.\n",
      "Try using .loc[row_indexer,col_indexer] = value instead\n",
      "\n",
      "See the caveats in the documentation: http://pandas.pydata.org/pandas-docs/stable/indexing.html#indexing-view-versus-copy\n",
      "  if sys.path[0] == '':\n",
      "C:\\Users\\madereth\\Anaconda\\lib\\site-packages\\ipykernel_launcher.py:14: SettingWithCopyWarning: \n",
      "A value is trying to be set on a copy of a slice from a DataFrame.\n",
      "Try using .loc[row_indexer,col_indexer] = value instead\n",
      "\n",
      "See the caveats in the documentation: http://pandas.pydata.org/pandas-docs/stable/indexing.html#indexing-view-versus-copy\n",
      "  \n"
     ]
    },
    {
     "ename": "KeyError",
     "evalue": "620L",
     "output_type": "error",
     "traceback": [
      "\u001b[1;31m\u001b[0m",
      "\u001b[1;31mKeyError\u001b[0mTraceback (most recent call last)",
      "\u001b[1;32m<ipython-input-96-682b1d0d340c>\u001b[0m in \u001b[0;36m<module>\u001b[1;34m()\u001b[0m\n\u001b[0;32m     41\u001b[0m \u001b[1;33m\u001b[0m\u001b[0m\n\u001b[0;32m     42\u001b[0m \u001b[1;31m#process text entries\u001b[0m\u001b[1;33m\u001b[0m\u001b[1;33m\u001b[0m\u001b[0m\n\u001b[1;32m---> 43\u001b[1;33m \u001b[0mprocessed_mini_train_data\u001b[0m \u001b[1;33m=\u001b[0m \u001b[0mnltk_preprocess\u001b[0m\u001b[1;33m(\u001b[0m\u001b[0mmini_train_data\u001b[0m\u001b[1;33m)\u001b[0m\u001b[1;33m\u001b[0m\u001b[0m\n\u001b[0m\u001b[0;32m     44\u001b[0m \u001b[0mprocessed_dev_data\u001b[0m \u001b[1;33m=\u001b[0m \u001b[0mnltk_preprocess\u001b[0m\u001b[1;33m(\u001b[0m\u001b[0mdev_data\u001b[0m\u001b[1;33m)\u001b[0m\u001b[1;33m\u001b[0m\u001b[0m\n\u001b[0;32m     45\u001b[0m \u001b[0mprocessed_test_data\u001b[0m \u001b[1;33m=\u001b[0m \u001b[0mnltk_preprocess\u001b[0m\u001b[1;33m(\u001b[0m\u001b[0mtest_data\u001b[0m\u001b[1;33m)\u001b[0m\u001b[1;33m\u001b[0m\u001b[0m\n",
      "\u001b[1;32m<ipython-input-96-682b1d0d340c>\u001b[0m in \u001b[0;36mnltk_preprocess\u001b[1;34m(data)\u001b[0m\n\u001b[0;32m     14\u001b[0m     \u001b[0mdata\u001b[0m\u001b[1;33m[\u001b[0m\u001b[1;34m'tokenized_requests'\u001b[0m\u001b[1;33m]\u001b[0m \u001b[1;33m=\u001b[0m \u001b[0mdata\u001b[0m\u001b[1;33m[\u001b[0m\u001b[1;34m'tokenized_requests'\u001b[0m\u001b[1;33m]\u001b[0m\u001b[1;33m.\u001b[0m\u001b[0mapply\u001b[0m\u001b[1;33m(\u001b[0m\u001b[1;32mlambda\u001b[0m \u001b[0mx\u001b[0m\u001b[1;33m:\u001b[0m \u001b[1;33m[\u001b[0m\u001b[0mitem\u001b[0m \u001b[1;32mfor\u001b[0m \u001b[0mitem\u001b[0m \u001b[1;32min\u001b[0m \u001b[0mx\u001b[0m \u001b[1;32mif\u001b[0m \u001b[0mitem\u001b[0m \u001b[1;32mnot\u001b[0m \u001b[1;32min\u001b[0m \u001b[0mstop\u001b[0m\u001b[1;33m]\u001b[0m\u001b[1;33m)\u001b[0m\u001b[1;33m\u001b[0m\u001b[0m\n\u001b[0;32m     15\u001b[0m     \u001b[1;31m#Word count of leftovers; didn't use this yet\u001b[0m\u001b[1;33m\u001b[0m\u001b[1;33m\u001b[0m\u001b[0m\n\u001b[1;32m---> 16\u001b[1;33m     \u001b[0mdata\u001b[0m\u001b[1;33m[\u001b[0m\u001b[1;34m'word_count'\u001b[0m\u001b[1;33m]\u001b[0m \u001b[1;33m=\u001b[0m \u001b[1;33m[\u001b[0m\u001b[0mlen\u001b[0m\u001b[1;33m(\u001b[0m\u001b[0mdata\u001b[0m\u001b[1;33m[\u001b[0m\u001b[1;34m'tokenized_requests'\u001b[0m\u001b[1;33m]\u001b[0m\u001b[1;33m[\u001b[0m\u001b[0mi\u001b[0m\u001b[1;33m]\u001b[0m\u001b[1;33m)\u001b[0m \u001b[1;32mfor\u001b[0m \u001b[0mi\u001b[0m \u001b[1;32min\u001b[0m \u001b[0mrange\u001b[0m\u001b[1;33m(\u001b[0m\u001b[0mdata\u001b[0m\u001b[1;33m.\u001b[0m\u001b[0mindex\u001b[0m\u001b[1;33m[\u001b[0m\u001b[1;36m0\u001b[0m\u001b[1;33m]\u001b[0m\u001b[1;33m,\u001b[0m \u001b[0mdata\u001b[0m\u001b[1;33m.\u001b[0m\u001b[0mindex\u001b[0m\u001b[1;33m[\u001b[0m\u001b[1;33m-\u001b[0m\u001b[1;36m1\u001b[0m\u001b[1;33m]\u001b[0m\u001b[1;33m+\u001b[0m\u001b[1;36m1\u001b[0m\u001b[1;33m)\u001b[0m\u001b[1;33m]\u001b[0m\u001b[1;33m\u001b[0m\u001b[0m\n\u001b[0m\u001b[0;32m     17\u001b[0m     \u001b[1;31m#Rejoin after str split\u001b[0m\u001b[1;33m\u001b[0m\u001b[1;33m\u001b[0m\u001b[0m\n\u001b[0;32m     18\u001b[0m     \u001b[0mdata\u001b[0m\u001b[1;33m[\u001b[0m\u001b[1;34m'tokenized_requests'\u001b[0m\u001b[1;33m]\u001b[0m \u001b[1;33m=\u001b[0m \u001b[0mdata\u001b[0m\u001b[1;33m[\u001b[0m\u001b[1;34m'tokenized_requests'\u001b[0m\u001b[1;33m]\u001b[0m\u001b[1;33m.\u001b[0m\u001b[0mapply\u001b[0m\u001b[1;33m(\u001b[0m\u001b[1;32mlambda\u001b[0m \u001b[0mx\u001b[0m\u001b[1;33m:\u001b[0m \u001b[1;34m' '\u001b[0m\u001b[1;33m.\u001b[0m\u001b[0mjoin\u001b[0m\u001b[1;33m(\u001b[0m\u001b[0mx\u001b[0m\u001b[1;33m)\u001b[0m\u001b[1;33m)\u001b[0m\u001b[1;33m\u001b[0m\u001b[0m\n",
      "\u001b[1;32mC:\\Users\\madereth\\Anaconda\\lib\\site-packages\\pandas\\core\\series.pyc\u001b[0m in \u001b[0;36m__getitem__\u001b[1;34m(self, key)\u001b[0m\n\u001b[0;32m    599\u001b[0m         \u001b[0mkey\u001b[0m \u001b[1;33m=\u001b[0m \u001b[0mcom\u001b[0m\u001b[1;33m.\u001b[0m\u001b[0m_apply_if_callable\u001b[0m\u001b[1;33m(\u001b[0m\u001b[0mkey\u001b[0m\u001b[1;33m,\u001b[0m \u001b[0mself\u001b[0m\u001b[1;33m)\u001b[0m\u001b[1;33m\u001b[0m\u001b[0m\n\u001b[0;32m    600\u001b[0m         \u001b[1;32mtry\u001b[0m\u001b[1;33m:\u001b[0m\u001b[1;33m\u001b[0m\u001b[0m\n\u001b[1;32m--> 601\u001b[1;33m             \u001b[0mresult\u001b[0m \u001b[1;33m=\u001b[0m \u001b[0mself\u001b[0m\u001b[1;33m.\u001b[0m\u001b[0mindex\u001b[0m\u001b[1;33m.\u001b[0m\u001b[0mget_value\u001b[0m\u001b[1;33m(\u001b[0m\u001b[0mself\u001b[0m\u001b[1;33m,\u001b[0m \u001b[0mkey\u001b[0m\u001b[1;33m)\u001b[0m\u001b[1;33m\u001b[0m\u001b[0m\n\u001b[0m\u001b[0;32m    602\u001b[0m \u001b[1;33m\u001b[0m\u001b[0m\n\u001b[0;32m    603\u001b[0m             \u001b[1;32mif\u001b[0m \u001b[1;32mnot\u001b[0m \u001b[0mis_scalar\u001b[0m\u001b[1;33m(\u001b[0m\u001b[0mresult\u001b[0m\u001b[1;33m)\u001b[0m\u001b[1;33m:\u001b[0m\u001b[1;33m\u001b[0m\u001b[0m\n",
      "\u001b[1;32mC:\\Users\\madereth\\Anaconda\\lib\\site-packages\\pandas\\core\\indexes\\base.pyc\u001b[0m in \u001b[0;36mget_value\u001b[1;34m(self, series, key)\u001b[0m\n\u001b[0;32m   2475\u001b[0m         \u001b[1;32mtry\u001b[0m\u001b[1;33m:\u001b[0m\u001b[1;33m\u001b[0m\u001b[0m\n\u001b[0;32m   2476\u001b[0m             return self._engine.get_value(s, k,\n\u001b[1;32m-> 2477\u001b[1;33m                                           tz=getattr(series.dtype, 'tz', None))\n\u001b[0m\u001b[0;32m   2478\u001b[0m         \u001b[1;32mexcept\u001b[0m \u001b[0mKeyError\u001b[0m \u001b[1;32mas\u001b[0m \u001b[0me1\u001b[0m\u001b[1;33m:\u001b[0m\u001b[1;33m\u001b[0m\u001b[0m\n\u001b[0;32m   2479\u001b[0m             \u001b[1;32mif\u001b[0m \u001b[0mlen\u001b[0m\u001b[1;33m(\u001b[0m\u001b[0mself\u001b[0m\u001b[1;33m)\u001b[0m \u001b[1;33m>\u001b[0m \u001b[1;36m0\u001b[0m \u001b[1;32mand\u001b[0m \u001b[0mself\u001b[0m\u001b[1;33m.\u001b[0m\u001b[0minferred_type\u001b[0m \u001b[1;32min\u001b[0m \u001b[1;33m[\u001b[0m\u001b[1;34m'integer'\u001b[0m\u001b[1;33m,\u001b[0m \u001b[1;34m'boolean'\u001b[0m\u001b[1;33m]\u001b[0m\u001b[1;33m:\u001b[0m\u001b[1;33m\u001b[0m\u001b[0m\n",
      "\u001b[1;32mpandas\\_libs\\index.pyx\u001b[0m in \u001b[0;36mpandas._libs.index.IndexEngine.get_value (pandas\\_libs\\index.c:4404)\u001b[1;34m()\u001b[0m\n",
      "\u001b[1;32mpandas\\_libs\\index.pyx\u001b[0m in \u001b[0;36mpandas._libs.index.IndexEngine.get_value (pandas\\_libs\\index.c:4087)\u001b[1;34m()\u001b[0m\n",
      "\u001b[1;32mpandas\\_libs\\index.pyx\u001b[0m in \u001b[0;36mpandas._libs.index.IndexEngine.get_loc (pandas\\_libs\\index.c:5126)\u001b[1;34m()\u001b[0m\n",
      "\u001b[1;32mpandas\\_libs\\hashtable_class_helper.pxi\u001b[0m in \u001b[0;36mpandas._libs.hashtable.Int64HashTable.get_item (pandas\\_libs\\hashtable.c:14031)\u001b[1;34m()\u001b[0m\n",
      "\u001b[1;32mpandas\\_libs\\hashtable_class_helper.pxi\u001b[0m in \u001b[0;36mpandas._libs.hashtable.Int64HashTable.get_item (pandas\\_libs\\hashtable.c:13975)\u001b[1;34m()\u001b[0m\n",
      "\u001b[1;31mKeyError\u001b[0m: 620L"
     ]
    }
   ],
   "source": [
    "#Rob's Section\n",
    "\n",
    "#Preprocess\n",
    "def nltk_preprocess(data):\n",
    "    stop = stopwords.words('english')\n",
    "    \n",
    "    #Merge title and request text together, lower string\n",
    "    data['title_and_request'] = data[['request_text_edit_aware', 'request_title']].apply(lambda x: ''.join(x), axis=1).str.lower()\n",
    "    #replacing sequences of numbers with a single token, removing various other non-letter characters, removing strings with underscores\n",
    "    data['title_and_request'] = data['title_and_request'].apply(lambda x: re.sub(r'\\d+', r' ', x)).apply(lambda y: re.sub(r'\\W+', r' ', y)).apply(lambda z: re.sub(r\"_+\",r\" \",z))\n",
    "    #NLTK Tokenize\n",
    "    data['tokenized_requests'] = data['title_and_request'].apply(word_tokenize)\n",
    "    #NLTK Remove Stop Words i.e. the, an, etc\n",
    "    data['tokenized_requests'] = data['tokenized_requests'].apply(lambda x: [item for item in x if item not in stop])\n",
    "    #Word count of leftovers; didn't use this yet\n",
    "    data['word_count'] = [len(data['tokenized_requests'][i]) for i in range(data.index[0], data.index[-1]+1)]\n",
    "    #Rejoin after str split\n",
    "    data['tokenized_requests'] = data['tokenized_requests'].apply(lambda x: ' '.join(x))\n",
    "    return data['tokenized_requests']\n",
    "\n",
    "\n",
    "def classify(model, model_parameters = False, use_tfidf=False):\n",
    "    \"\"\"Takes a model and parameters. \n",
    "       Outputs a classification report on the dev data, scored by f1_weighted.\n",
    "       Prints out the best gridsearch parameter of choice.\"\"\"\n",
    "    if(use_tfidf):\n",
    "        pipeliner = Pipeline([('cv', CountVectorizer()),\n",
    "                        ('tfidf', TfidfTransformer()),\n",
    "                        ('model', model())])\n",
    "    else:\n",
    "        pipeliner = Pipeline([(\"cv\", CountVectorizer()), \n",
    "                              (\"model\", model())])\n",
    "\n",
    "        #Make a simple prediction\n",
    "    pipeliner.fit(processed_mini_train_data, mini_train_labels)\n",
    "    pipeliner_pred = pipeliner.predict(processed_dev_data)\n",
    "    print(model, \"\\n\\n\", \"TFIDF = \", use_tfidf, \"\\n\")\n",
    "    print(classification_report(pipeliner_pred, dev_labels))\n",
    "    return None\n",
    "\n",
    "\n",
    "#process text entries\n",
    "processed_mini_train_data = nltk_preprocess(mini_train_data)\n",
    "processed_dev_data = nltk_preprocess(dev_data)\n",
    "processed_test_data = nltk_preprocess(test_data)\n",
    "\n",
    "classify(MultinomialNB, model_parameters = {\"model__analyzer\":\"word\", \"model__ngram_range\":(1,2)}, use_tfidf = True)\n",
    "classify(MultinomialNB, model_parameters = {\"model__analyzer\":\"word\", \"model__ngram_range\":(1,2)}, use_tfidf = False)\n",
    "classify(LogisticRegression, use_tfidf = True)\n",
    "classify(LogisticRegression, use_tfidf = False)"
   ]
  },
  {
   "cell_type": "code",
   "execution_count": null,
   "metadata": {
    "collapsed": true
   },
   "outputs": [],
   "source": [
    "# Explore terms with the largest coefficients\n",
    "\n",
    "def classify2(model, model_parameters = False, use_tfidf=False):\n",
    "    \"\"\"Takes a model and parameters. \n",
    "       Outputs a classification report on the dev data, scored by f1_weighted.\n",
    "       Prints out the best gridsearch parameter of choice.\"\"\"\n",
    "    vec = CountVectorizer()\n",
    "    train_feats = vec.fit_transform(processed_mini_train_data)\n",
    "    train_vocab = vec.get_feature_names()\n",
    "    print(len(train_vocab))\n",
    "    dev_feats = vec.transform(processed_dev_data)\n",
    "    \n",
    "    lr =  LogisticRegression()\n",
    "    #lr =  LogisticRegression(penalty=\"l1\")\n",
    "    lr.fit(train_feats, mini_train_labels)\n",
    "    lr_preds = lr.predict(dev_feats)\n",
    "    print(metrics.f1_score(dev_labels, lr_preds, average='micro'))\n",
    "    print(classification_report(lr_preds, dev_labels))\n",
    "\n",
    "    coefs = lr.coef_\n",
    "    #print(coefs.shape)\n",
    "    max_coefs = np.argsort(coefs, axis=1)[:,-30:]\n",
    "    #print(max_coefs)\n",
    "    top_features = []\n",
    "    for i in range(max_coefs.shape[1]):\n",
    "        #print(max_coefs[0][i])\n",
    "        print(train_vocab[max_coefs[0][i]])\n",
    "\n",
    "\n",
    "classify2(LogisticRegression, use_tfidf = False)"
   ]
  },
  {
   "cell_type": "code",
   "execution_count": null,
   "metadata": {
    "collapsed": true
   },
   "outputs": [],
   "source": [
    "#join numeric and vocabulary features\n",
    "\n",
    "#use preprocessed vocab features\n",
    "vec_full = CountVectorizer(stop_words = \"english\")\n",
    "train_feats = vec_full.fit_transform(processed_mini_train_data)\n",
    "train_vocab = vec_full.get_feature_names()\n",
    "dev_feats = vec_full.transform(processed_dev_data)\n",
    "test_feats = vec_full.transform(processed_test_data)\n",
    "\n",
    "#make vocab arrays\n",
    "train_vocab_ar = train_feats.toarray()\n",
    "dev_vocab_ar = dev_feats.toarray()\n",
    "test_vocab_ar = test_feats.toarray()\n",
    "#new_array = np.array(train_feats)\n",
    "print(\"Vocab train:\", train_vocab_ar.shape)\n",
    "\n",
    "#make numeric arrays\n",
    "train_num_ar = mini_train_data[num_columns].as_matrix()\n",
    "dev_num_ar = dev_data[num_columns].as_matrix()\n",
    "test_num_ar = test_data[num_columns].as_matrix()\n",
    "print(\"Numeric train:\",train_num_ar.shape)\n",
    "\n",
    "#join arrays into final feature sets\n",
    "combined_train_feats = np.concatenate((train_vocab_ar,train_num_ar), axis = 1)\n",
    "combined_dev_feats = np.concatenate((dev_vocab_ar,dev_num_ar), axis = 1)\n",
    "combined_test_feats = np.concatenate((test_vocab_ar,test_num_ar), axis = 1)\n",
    "print(\"Combined:\",combined_train_feats.shape)\n",
    "print(\"Test:\",combined_test_feats.shape)"
   ]
  },
  {
   "cell_type": "code",
   "execution_count": null,
   "metadata": {
    "collapsed": true
   },
   "outputs": [],
   "source": [
    "#Build a logistic model based on number value columns + preprocessed text field\n",
    "# test with various values for C\n",
    "full_lr = LogisticRegression(penalty=\"l1\", C = .5)\n",
    "full_lr.fit(combined_train_feats, mini_train_labels)\n",
    "#full_lr.fit(train_feats, mini_train_labels)\n",
    "\n",
    "#print(full_lr.coef_[0:20])\n",
    "\n",
    "dev_preds = full_lr.predict(combined_dev_feats)\n",
    "test_preds = full_lr.predict(combined_test_feats)\n",
    "#dev_preds = full_lr.predict(dev_feats)\n",
    "print(metrics.f1_score(dev_labels, dev_preds, average='micro'))\n",
    "print(classification_report(dev_preds, dev_labels))\n",
    "\n",
    "#test_preds = full_lr.predict(combined_test_feats)\n",
    "\n",
    "test_out = pd.DataFrame()\n",
    "test_out['request_id'] = test_data['request_id']\n",
    "test_out['requester_received_pizza'] = test_preds.astype(int)\n",
    "#num = sum(preds['requester_received_pizza'])\n",
    "\n",
    "#print(num, sum(train_labels))\n",
    "\n",
    "test_out.to_csv('./data/submission2.csv', index=False)"
   ]
  },
  {
   "cell_type": "markdown",
   "metadata": {
    "collapsed": true
   },
   "source": [
    "## GMM and PCA"
   ]
  },
  {
   "cell_type": "code",
   "execution_count": null,
   "metadata": {
    "collapsed": true
   },
   "outputs": [],
   "source": [
    "feat_nums = list(range(4,13))\n",
    "train_nums = train_data[feat_nums]\n",
    "\n",
    "names = train_nums.columns.values\n",
    "for i in names:\n",
    "    plt.title(i)\n",
    "    plt.hist(train_nums[i])\n",
    "    plt.show()"
   ]
  },
  {
   "cell_type": "code",
   "execution_count": null,
   "metadata": {
    "collapsed": true
   },
   "outputs": [],
   "source": [
    "exp_var = []\n",
    "\n",
    "#Cycle through 50 iterations of PCA\n",
    "for i in range(1,21):\n",
    "    \n",
    "    pca = PCA(n_components=i)\n",
    "    pca.fit(train_num_ar)\n",
    "\n",
    "#Grab the coefs of the explained variance, sum them and put them on the list to graph\n",
    "    coefs = pca.explained_variance_ratio_\n",
    "    tot = sum(coefs)\n",
    "    exp_var.append(tot)\n",
    "\n",
    "#Create the graph using the exp_var list\n",
    "x = range(1,21)\n",
    "y = exp_var\n",
    "plt.plot(x,y,'b')\n",
    "plt.title('Variance Explained by the First k Components')\n",
    "plt.ylabel('Explained Variance')\n",
    "plt.xlabel('Number of Principal Components')\n",
    "plt.show()"
   ]
  },
  {
   "cell_type": "code",
   "execution_count": null,
   "metadata": {
    "collapsed": true
   },
   "outputs": [],
   "source": []
  }
 ],
 "metadata": {
  "anaconda-cloud": {},
  "kernelspec": {
   "display_name": "Python [conda root]",
   "language": "python",
   "name": "conda-root-py"
  },
  "language_info": {
   "codemirror_mode": {
    "name": "ipython",
    "version": 3
   },
   "file_extension": ".py",
   "mimetype": "text/x-python",
   "name": "python",
   "nbconvert_exporter": "python",
   "pygments_lexer": "ipython3",
   "version": "3.5.3"
  }
 },
 "nbformat": 4,
 "nbformat_minor": 1
}
