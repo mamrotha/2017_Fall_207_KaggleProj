{
 "cells": [
  {
   "cell_type": "code",
   "execution_count": 1,
   "metadata": {
    "collapsed": true
   },
   "outputs": [],
   "source": [
    "# This tells matplotlib not to try opening a new window for each plot.\n",
    "%matplotlib inline\n",
    "\n",
    "# General libraries.\n",
    "import re\n",
    "import numpy as np\n",
    "import matplotlib.pyplot as plt\n",
    "from sklearn.linear_model import LogisticRegression\n",
    "from sklearn.naive_bayes import MultinomialNB\n",
    "from sklearn.feature_extraction.text import *\n",
    "\n",
    "import pandas as pd"
   ]
  },
  {
   "cell_type": "markdown",
   "metadata": {},
   "source": [
    "#Julia sample code\n",
    "using DataFrames\n",
    "using MachineLearning\n",
    "using JSON\n",
    "\n",
    "function read_data(file_name)\n",
    "    f = open(file_name)\n",
    "    json = JSON.parse(readall(f))\n",
    "    close(f)\n",
    "\n",
    "    colnames = keys(json[1])\n",
    "    columns  = Any[[json[i][name] for i=1:length(json)] for name=colnames]\n",
    "    DataFrame(columns, Symbol[name for name=colnames])\n",
    "end\n",
    "\n",
    "train = read_data(\"../data/train.json\")\n",
    "test  = read_data(\"../data/test.json\")\n",
    "\n",
    "println(@sprintf(\"There are %d rows in the training set\", nrow(train)))\n",
    "println(@sprintf(\"There are %d rows in the test set\", nrow(test)))\n",
    "\n",
    "feature_names = Symbol[\"requester_account_age_in_days_at_request\",\n",
    "                       \"requester_days_since_first_post_on_raop_at_request\",\n",
    "                       \"requester_number_of_comments_at_request\",\n",
    "                       \"requester_number_of_comments_in_raop_at_request\",\n",
    "                       \"requester_number_of_posts_at_request\",\n",
    "                       \"requester_number_of_posts_on_raop_at_request\",\n",
    "                       \"requester_number_of_subreddits_at_request\",\n",
    "                       \"requester_upvotes_minus_downvotes_at_request\",\n",
    "                       \"requester_upvotes_plus_downvotes_at_request\",\n",
    "                       \"unix_timestamp_of_request_utc\"]\n",
    "\n",
    "for feature = feature_names\n",
    "    train[feature] = float64(train[feature])\n",
    "    test[feature]  = float64(test[feature])\n",
    "end\n",
    "\n",
    "columns_to_keep = cat(1, feature_names, [:requester_received_pizza])\n",
    "\n",
    "rf = fit(train[columns_to_keep], :requester_received_pizza, classification_forest_options(num_trees=200, display=true))\n",
    "println(\"\")\n",
    "println(rf)\n",
    "println(\"\")\n",
    "predictions = predict_probs(rf, test)[:,2]\n",
    "submission = DataFrame(request_id=test[:request_id], requester_received_pizza=predictions)\n",
    "writetable(\"simple_julia_benchmark.csv\", submission)"
   ]
  },
  {
   "cell_type": "code",
   "execution_count": 7,
   "metadata": {},
   "outputs": [
    {
     "data": {
      "text/plain": [
       "404     The title pretty much explains it all. I've be...\n",
       "405     I'm going into a residential rehab tomorrow fo...\n",
       "406     My son will be 1 on Friday. He does eat pizza ...\n",
       "407     Would love pizza for me and the family on Tues...\n",
       "408     Here's a list of current edible food (edible, ...\n",
       "409                                                      \n",
       "410     Alright...so, I'll try to keep it brief, not s...\n",
       "411     I'm not poor or anything but my fellow reddito...\n",
       "412     I've been debating whether to post here or not...\n",
       "413     Hi my cousin kellie told me about this website...\n",
       "414     We just moved to the area, and as a result of ...\n",
       "415     I only have a pizza hut nearby plus some local...\n",
       "416     It's not about the food. I have dinner already...\n",
       "417     To whom it may concern, I just bombed a Math t...\n",
       "418                CAN WE STILL CELEBRATE WITH A PIZZA???\n",
       "419     Busy and hungry university student in Edmonton...\n",
       "420     I would like to request pizza this evening. A ...\n",
       "421     https://www.facebook.com/TheRomanCandle?fref=t...\n",
       "422     I have two friends who are on hard times right...\n",
       "423     So I made this throwaway because I just feel b...\n",
       "424     Need some delicious pizza to go with the massi...\n",
       "425     So, I'm hungry, and I want pizza (I'm in Texas...\n",
       "426     Dear Sir,\\n \\n Please to you very much this fi...\n",
       "427     We moved to Austin recently, and our spare foo...\n",
       "428     My husband and I have been in a bad situation ...\n",
       "429     Freelance worker here, currently my funds are ...\n",
       "430     Just down on my luck, couple of rough things h...\n",
       "431     My family is so nice and awesome I would love ...\n",
       "432     Out of work for several weeks now, unemploymen...\n",
       "433     I've been left at home all day in order to stu...\n",
       "                              ...                        \n",
       "4010    My 20th birthday was the 14th (Of may) and I w...\n",
       "4011    Hi guys-- I'm a college student in Atlanta, Ge...\n",
       "4012    Hi, I've never requested this before and I fee...\n",
       "4013    We dont tend to have fast food pizza, we make ...\n",
       "4014    We ate lunch yesterday around noon, then proce...\n",
       "4015    I've been having such a down week worrying abo...\n",
       "4016    So, a friend got screwed out of a place tonigh...\n",
       "4017    I just arrived back at school after visting my...\n",
       "4018    Hey all, I'm paying for my own college and try...\n",
       "4019    My husband just started a new job but until we...\n",
       "4020    As the title says, it's been a rough month for...\n",
       "4021    Just got done paying this months bill, rent, a...\n",
       "4022                                                     \n",
       "4023    So, in light of the article that has been floa...\n",
       "4024    **EDIT! The wonderful Hrnmyd has provided me w...\n",
       "4025    I've been cleaning all day, and waiting for th...\n",
       "4026    Freelance graphic designer here, looking to he...\n",
       "4027                                                     \n",
       "4028    I just got back to work. My first day was toda...\n",
       "4029    I'm home from college for the summer and my pa...\n",
       "4030                      Now all I want is Pizza Hut. :)\n",
       "4031    I am feeling depressed. I do not know if it is...\n",
       "4032    \\nThere's a local hotspot that takes orders un...\n",
       "4033    I wanted to surprise my roommate and girlfrien...\n",
       "4034    No sob story here, just a hungry guy after wor...\n",
       "4035    Is anyone out there kind enough to help me out...\n",
       "4036    If someone could hook me up with a $15 gift ca...\n",
       "4037    Have today off, soo I'll be stuck in the house...\n",
       "4038    I've never done anything like this before, but...\n",
       "4039    Like the title says, had to pay an unexpected ...\n",
       "Name: request_text, dtype: object"
      ]
     },
     "execution_count": 7,
     "metadata": {},
     "output_type": "execute_result"
    }
   ],
   "source": [
    "\n",
    "train_data[\"request_text\"]"
   ]
  },
  {
   "cell_type": "code",
   "execution_count": 2,
   "metadata": {},
   "outputs": [
    {
     "name": "stdout",
     "output_type": "stream",
     "text": [
      "(3636, 31)\n",
      "(3636,)\n",
      "(1631, 17)\n",
      "(404, 31)\n",
      "['giver_username_if_known', 'request_id', 'request_text_edit_aware', 'request_title', 'requester_account_age_in_days_at_request', 'requester_days_since_first_post_on_raop_at_request', 'requester_number_of_comments_at_request', 'requester_number_of_comments_in_raop_at_request', 'requester_number_of_posts_at_request', 'requester_number_of_posts_on_raop_at_request', 'requester_number_of_subreddits_at_request', 'requester_subreddits_at_request', 'requester_upvotes_minus_downvotes_at_request', 'requester_upvotes_plus_downvotes_at_request', 'requester_username', 'unix_timestamp_of_request', 'unix_timestamp_of_request_utc']\n",
      "404\n"
     ]
    }
   ],
   "source": [
    "# Load Data\n",
    "train_data  = pd.read_json('./data/train.json')\n",
    "train_labels = train_data['requester_received_pizza']\n",
    "train_data = train_data.drop('requester_received_pizza', 1)\n",
    "dev_size = int(train_data.shape[0]*.1)\n",
    "\n",
    "train_data, train_labels  = train_data[dev_size:], train_labels[dev_size:]\n",
    "dev_data, dev_labels = train_data[:dev_size], train_labels[:dev_size]\n",
    "\n",
    "names = list(train_data.columns.values)\n",
    "\n",
    "test_data  = pd.read_json('./data/test.json')\n",
    "#test_label = test_data['requester_received_pizza']\n",
    "#test_data = test_data.drop('requester_received_pizza', 1)\n",
    "\n",
    "print(train_data.shape)\n",
    "print(train_labels.shape)\n",
    "print(test_data.shape)\n",
    "print(dev_data.shape)\n",
    "#print(test_label.shape)\n",
    "print(list(test_data.columns.values))\n",
    "print(dev_size)\n",
    "#print(train_data.dtypes)"
   ]
  },
  {
   "cell_type": "code",
   "execution_count": 3,
   "metadata": {},
   "outputs": [
    {
     "name": "stdout",
     "output_type": "stream",
     "text": [
      "11\n",
      "6\n"
     ]
    }
   ],
   "source": [
    "#Here we split the number variables from the object or string type variables\n",
    "obj_columns = ['giver_username_if_known','request_id','request_text','request_text_edit_aware','request_title',\n",
    "              'requester_subreddits_at_request','requester_user_flair','requester_username']\n",
    "num_columns = [i for i in names if i not in obj_columns]\n",
    "\n",
    "#Here we split the test data columns into\n",
    "test_names = list(test_data.columns.values)\n",
    "test_num_columns = [i for i in test_names if i not in obj_columns]\n",
    "test_obj_columns = [i for i in test_names if i not in test_num_columns]\n",
    "\n",
    "print(len(test_num_columns))\n",
    "print(len(test_obj_columns))"
   ]
  },
  {
   "cell_type": "code",
   "execution_count": 4,
   "metadata": {},
   "outputs": [
    {
     "name": "stdout",
     "output_type": "stream",
     "text": [
      "(1631,)\n",
      "<class 'numpy.ndarray'>\n",
      "0 894\n"
     ]
    }
   ],
   "source": [
    "#Build an initial model based on number value columns\n",
    "lr = LogisticRegression(C=1)\n",
    "lr.fit(train_data[test_num_columns], train_labels)\n",
    "\n",
    "y_pred = lr.predict(test_data[test_num_columns])\n",
    "print(y_pred.shape)\n",
    "print(type(y_pred))\n",
    "\n",
    "preds = pd.DataFrame()\n",
    "preds['request_id'] = test_data['request_id']\n",
    "preds['requester_received_pizza'] = y_pred.astype(int)\n",
    "num = sum(preds['requester_received_pizza'])\n",
    "\n",
    "print(num, sum(train_labels))\n",
    "\n",
    "preds.to_csv('./data/submission1.csv', index=False)"
   ]
  },
  {
   "cell_type": "code",
   "execution_count": 14,
   "metadata": {},
   "outputs": [
    {
     "name": "stdout",
     "output_type": "stream",
     "text": [
      "(1631,)\n",
      "<class 'numpy.ndarray'>\n",
      "0 894\n"
     ]
    }
   ],
   "source": [
    "#Normalized Dataframe\n",
    "num_train_data = pd.DataFrame()\n",
    "\n",
    "for column in train_data[test_num_columns]:\n",
    "    num_train_data[column] = (train_data[column]-train_data[column].mean())/ train_data[column].std()\n",
    "    \n",
    "lr = LogisticRegression(C=1)\n",
    "lr.fit(num_train_data, train_labels)\n",
    "\n",
    "y_pred = lr.predict(test_data[test_num_columns])\n",
    "print(y_pred.shape)\n",
    "print(type(y_pred))\n",
    "\n",
    "preds = pd.DataFrame()\n",
    "preds['request_id'] = test_data['request_id']\n",
    "preds['requester_received_pizza'] = y_pred.astype(int)\n",
    "num = sum(preds['requester_received_pizza'])\n",
    "\n",
    "print(num, sum(train_labels))\n",
    "\n",
    "preds.to_csv('./data/submission1.csv', index=False)"
   ]
  },
  {
   "cell_type": "code",
   "execution_count": 5,
   "metadata": {},
   "outputs": [
    {
     "name": "stdout",
     "output_type": "stream",
     "text": [
      "(1631,)\n",
      "<class 'numpy.ndarray'>\n",
      "81 894\n"
     ]
    }
   ],
   "source": [
    "#Try looking at request only\n",
    "train_req = train_data['request_text_edit_aware']\n",
    "test_req = test_data['request_text_edit_aware']\n",
    "vec = CountVectorizer()\n",
    "train = vec.fit_transform(train_req)\n",
    "vocab_train = vec.get_feature_names()\n",
    "vec2 = CountVectorizer(vocabulary=vocab_train)\n",
    "test = vec2.fit_transform(test_req)\n",
    "\n",
    "mb =  MultinomialNB()\n",
    "mb.fit(train, train_labels)\n",
    "y_pred = mb.predict(test)\n",
    "\n",
    "print(y_pred.shape)\n",
    "print(type(y_pred))\n",
    "\n",
    "preds = pd.DataFrame()\n",
    "preds['request_id'] = test_data['request_id']\n",
    "preds['requester_received_pizza'] = y_pred.astype(int)\n",
    "num = sum(preds['requester_received_pizza'])\n",
    "\n",
    "print(num, sum(train_labels))\n",
    "\n",
    "preds.to_csv('./data/submission1.csv', index=False)"
   ]
  },
  {
   "cell_type": "code",
   "execution_count": null,
   "metadata": {
    "collapsed": true
   },
   "outputs": [],
   "source": []
  }
 ],
 "metadata": {
  "anaconda-cloud": {},
  "kernelspec": {
   "display_name": "Python [conda root]",
   "language": "python",
   "name": "conda-root-py"
  },
  "language_info": {
   "codemirror_mode": {
    "name": "ipython",
    "version": 3
   },
   "file_extension": ".py",
   "mimetype": "text/x-python",
   "name": "python",
   "nbconvert_exporter": "python",
   "pygments_lexer": "ipython3",
   "version": "3.5.2"
  }
 },
 "nbformat": 4,
 "nbformat_minor": 1
}
