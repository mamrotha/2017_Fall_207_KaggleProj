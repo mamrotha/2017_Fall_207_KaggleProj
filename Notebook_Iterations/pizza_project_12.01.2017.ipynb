{
 "cells": [
  {
   "cell_type": "markdown",
   "metadata": {},
   "source": [
    "# W207-1 Final Project - \"Random Acts of Pizza\"\n",
    "\n",
    "## Team\n",
    "- Andrew Mamroth\n",
    "- Colby Carter\n",
    "- Matt Adereth\n",
    "- Rob Deng\n",
    "\n",
    "[Team Github](https://github.com/mamrotha/2017_Fall_207_KaggleProj)\n",
    "\n",
    "## Overview\n",
    "\n",
    "[Original Kaggle Description](https://www.kaggle.com/c/random-acts-of-pizza)\n",
    "\n",
    "There is a sub-reddit called [r/Random_Acts_Of_Pizza](https://www.reddit.com/r/Random_Acts_Of_Pizza/) where users can post requests for someone to purchase them a pizza and, shockingly, random internet strangers will then buy them pizza.  In this competition, we are provided with a data set containing over 5,000 posts from this sub-reddit and our goal is to build a model that can predict whether or not the post will result in a pizza purchase."
   ]
  },
  {
   "cell_type": "markdown",
   "metadata": {},
   "source": [
    "# Package Initialization"
   ]
  },
  {
   "cell_type": "code",
   "execution_count": 3,
   "metadata": {
    "collapsed": true
   },
   "outputs": [],
   "source": [
    "# This tells matplotlib not to try opening a new window for each plot.\n",
    "%matplotlib inline\n",
    "\n",
    "# General libraries.\n",
    "import re\n",
    "import numpy as np\n",
    "import matplotlib.pyplot as plt\n",
    "from sklearn.linear_model import LogisticRegression\n",
    "from sklearn.naive_bayes import MultinomialNB\n",
    "from sklearn.feature_extraction.text import *\n",
    "from sklearn.pipeline import Pipeline\n",
    "\n",
    "import pandas as pd\n",
    "\n",
    "# ADD METRICS\n",
    "from sklearn import metrics\n",
    "from sklearn.metrics import classification_report\n",
    "\n",
    "#NLTK - NLP Tokenizing and Cleaning\n",
    "import nltk\n",
    "from nltk.tokenize import word_tokenize, sent_tokenize\n",
    "from nltk.corpus import stopwords\n",
    "from nltk.stem import PorterStemmer\n",
    "from nltk.stem import WordNetLemmatizer"
   ]
  },
  {
   "cell_type": "code",
   "execution_count": 3,
   "metadata": {},
   "outputs": [
    {
     "name": "stdout",
     "output_type": "stream",
     "text": [
      "showing info http://www.nltk.org/nltk_data/\n"
     ]
    },
    {
     "data": {
      "text/plain": [
       "True"
      ]
     },
     "execution_count": 3,
     "metadata": {},
     "output_type": "execute_result"
    }
   ],
   "source": [
    "# Only evaluate this if you don't already have the NLTK corpora\n",
    "nltk.download()"
   ]
  },
  {
   "cell_type": "markdown",
   "metadata": {},
   "source": [
    "# Data \n",
    "\n",
    "## Original description of the data from the Kaggle website\n",
    "\n",
    "This dataset includes 5671 requests collected from the Reddit community Random Acts of Pizza between December 8, 2010 and September 29, 2013 (retrieved on September 30, 2013). All requests ask for the same thing: a free pizza. The outcome of each request -- whether its author received a pizza or not -- is known. Meta-data includes information such as: time of the request, activity of the requester, community-age of the requester, etc.\n",
    "\n",
    "Each JSON entry corresponds to one request (the first and only request by the requester on Random Acts of Pizza). We have removed fields from the test set which would not be available at the time of posting.\n",
    "\n",
    "### Field Descriptions\n",
    "\n",
    "| Field Name | Description |\n",
    "| ---------- | ----------- |\n",
    "| giver_username_if_known | Reddit username of giver if known, i.e. the person satisfying the request (\"N/A\" otherwise). |\n",
    "| number_of_downvotes_of_request_at_retrieval | Number of downvotes at the time the request was collected. |\n",
    "| number_of_upvotes_of_request_at_retrieval | Number of upvotes at the time the request was collected. |\n",
    "| post_was_edited | Boolean indicating whether this post was edited (from Reddit). |\n",
    "| request_id | Identifier of the post on Reddit, e.g. \"t3_w5491\". |\n",
    "| request_number_of_comments_at_retrieval | Number of comments for the request at time of retrieval. |\n",
    "| request_text | Full text of the request. |\n",
    "| request_text_edit_aware | Edit aware version of \"request_text\". We use a set of rules to strip edited comments indicating the success of the request such as \"EDIT: Thanks /u/foo, the pizza was delicous\". |\n",
    "| request_title | Title of the request. |\n",
    "| requester_account_age_in_days_at_request | Account age of requester in days at time of request. |\n",
    "| requester_account_age_in_days_at_retrieval | Account age of requester in days at time of retrieval. |\n",
    "| requester_days_since_first_post_on_raop_at_request | Number of days between requesters first post on RAOP and this request (zero if requester has never posted before on RAOP). |\n",
    "| requester_days_since_first_post_on_raop_at_retrieval | Number of days between requesters first post on RAOP and time of retrieval. |\n",
    "| requester_number_of_comments_at_request | Total number of comments on Reddit by requester at time of request. |\n",
    "| requester_number_of_comments_at_retrieval | Total number of comments on Reddit by requester at time of retrieval. |\n",
    "| requester_number_of_comments_in_raop_at_request | Total number of comments in RAOP by requester at time of request. |\n",
    "| requester_number_of_comments_in_raop_at_retrieval | Total number of comments in RAOP by requester at time of retrieval. |\n",
    "| requester_number_of_posts_at_request | Total number of posts on Reddit by requester at time of request. |\n",
    "| requester_number_of_posts_at_retrieval | Total number of posts on Reddit by requester at time of retrieval. |\n",
    "| requester_number_of_posts_on_raop_at_request | Total number of posts in RAOP by requester at time of request. |\n",
    "| requester_number_of_posts_on_raop_at_retrieval | Total number of posts in RAOP by requester at time of retrieval. |\n",
    "| requester_number_of_subreddits_at_request | The number of subreddits in which the author had already posted in at the time of request. |\n",
    "| requester_received_pizza | Boolean indicating the success of the request, i.e., whether the requester received pizza. |\n",
    "| requester_subreddits_at_request | The list of subreddits in which the author had already posted in at the time of request. |\n",
    "| requester_upvotes_minus_downvotes_at_request | Difference of total upvotes and total downvotes of requester at time of request. |\n",
    "| requester_upvotes_minus_downvotes_at_retrieval | Difference of total upvotes and total downvotes of requester at time of retrieval. |\n",
    "| requester_upvotes_plus_downvotes_at_request | Sum of total upvotes and total downvotes of requester at time of request. |\n",
    "| requester_upvotes_plus_downvotes_at_retrieval | Sum of total upvotes and total downvotes of requester at time of retrieval. |\n",
    "| requester_user_flair | Users on RAOP receive badges (Reddit calls them flairs) which is a small picture next to their username. In our data set the user flair is either None (neither given nor received pizza, N=4282), \"shroom\" (received pizza, but not given, N=1306), or \"PIF\" (pizza given after having received, N=83). |\n",
    "| requester_username | Reddit username of requester. |\n",
    "| unix_timestamp_of_request | Unix timestamp of request (supposedly in timezone of user, but in most cases it is equal to the UTC timestamp -- which is incorrect since most RAOP users are from the USA). |\n",
    "| unix_timestamp_of_request_utc | Unit timestamp of request in UTC. |\n",
    "\n",
    "## Initial Loading"
   ]
  },
  {
   "cell_type": "code",
   "execution_count": 51,
   "metadata": {},
   "outputs": [
    {
     "name": "stdout",
     "output_type": "stream",
     "text": [
      "Raw Train Shape: (4040, 32)\n",
      "Raw Test Shape: (1631, 17)\n"
     ]
    }
   ],
   "source": [
    "# Load raw data and create labels\n",
    "raw_train = pd.read_json('./data/train.json')\n",
    "raw_test = pd.read_json('./data/test.json')\n",
    "\n",
    "print \"Raw Train Shape:\", raw_train.shape\n",
    "print \"Raw Test Shape:\", raw_test.shape"
   ]
  },
  {
   "cell_type": "markdown",
   "metadata": {},
   "source": [
    "## Schema Reconciliation\n",
    "\n",
    "The training data has 32 columns, while the test data only has 17.  Let's look at which columns are different:"
   ]
  },
  {
   "cell_type": "code",
   "execution_count": 50,
   "metadata": {},
   "outputs": [
    {
     "name": "stdout",
     "output_type": "stream",
     "text": [
      "Columns in Train but not Test:\n",
      "  request_number_of_comments_at_retrieval\n",
      "  requester_number_of_posts_on_raop_at_retrieval\n",
      "  post_was_edited\n",
      "  requester_upvotes_minus_downvotes_at_retrieval\n",
      "  requester_received_pizza\n",
      "  requester_account_age_in_days_at_retrieval\n",
      "  requester_number_of_posts_at_retrieval\n",
      "  requester_upvotes_plus_downvotes_at_retrieval\n",
      "  number_of_upvotes_of_request_at_retrieval\n",
      "  number_of_downvotes_of_request_at_retrieval\n",
      "  request_text\n",
      "  requester_user_flair\n",
      "  requester_number_of_comments_in_raop_at_retrieval\n",
      "  requester_days_since_first_post_on_raop_at_retrieval\n",
      "  requester_number_of_comments_at_retrieval\n",
      "\n",
      "No columns in Test but not Train\n"
     ]
    }
   ],
   "source": [
    "raw_train_only_columns = set(raw_train.columns.values) - set(raw_test.columns.values)\n",
    "\n",
    "if len(raw_train_only_columns) > 0:\n",
    "    print \"Columns in Train but not Test:\"\n",
    "    for c in raw_train_only_columns:\n",
    "        print \" \", c\n",
    "else:\n",
    "    print \"No columns in Train but not Test\"\n",
    "    \n",
    "raw_test_only_columns = set(raw_test.columns.values) - set(raw_train.columns.values)\n",
    "print\n",
    "if len(raw_test_only_columns) > 0:\n",
    "    print \"Columns in Test but not Train:\"\n",
    "    for c in raw_test_only_columns:\n",
    "        print \" \",c\n",
    "else:\n",
    "    print \"No columns in Test but not Train\""
   ]
  },
  {
   "cell_type": "markdown",
   "metadata": {
    "collapsed": true
   },
   "source": [
    "There are several columns that aren't included in the test data and thus need to be excluded from the training data.\n",
    "\n",
    "- \\*_at_retrival - These are features that are dependent on when the data was pulled.  For real-time prediction when a post is made, these are not relevant since they will be the same as their \\*_at_request counterparts\n",
    "- post_was_edited - Since users are supposed to edit their post if they receive a pizza, this would be a major leak of results.  Additionally, we want to be able to make predictions as soon as the post is made, so subsequent edits won't be available.\n",
    "- requester_user_flair - There isn't historical flair information, so this feature isn't an accurate reflection of the state at the time of the request.  Users who successfully give or receive pizza are granted special flair, so this would also be an unfair indicator of results.\n",
    "- request_text - Since successful posts are often edited to indicate that the request has been fulfilled, the full request_text can't be used.  The additional \"request_text_edit_aware\" field has edits stripped out and is available in both the train and test data and will be used instead."
   ]
  },
  {
   "cell_type": "code",
   "execution_count": 9,
   "metadata": {},
   "outputs": [],
   "source": [
    "train_with_test_schema = raw_train[raw_test.columns.values]"
   ]
  },
  {
   "cell_type": "markdown",
   "metadata": {},
   "source": [
    "## Train/Development Data Split\n",
    "\n",
    "We'll hold out ~15% of the training data as our development data set.  All exploratory data analysis and model training will be done only on the ~85% of training data that is not being held out.  We do not know if the order of the training data is meaningful, so we will use random sampling to avoid introducing bias."
   ]
  },
  {
   "cell_type": "code",
   "execution_count": 43,
   "metadata": {},
   "outputs": [
    {
     "name": "stdout",
     "output_type": "stream",
     "text": [
      "Training Rows: 3450\n",
      "Dev Rows: 590\n"
     ]
    }
   ],
   "source": [
    "np.random.seed(1)\n",
    "in_dev = np.random.choice([True, False], len(raw_train), p=[0.15, 0.85])\n",
    "train_data = train_with_test_schema[np.logical_not(in_dev)]\n",
    "dev_data = train_with_test_schema[in_dev]\n",
    "\n",
    "print \"Training Rows:\", len(train_data)\n",
    "print \"Dev Rows:\", len(dev_data)\n",
    "\n",
    "train_labels = raw_train[\"requester_received_pizza\"][np.logical_not(in_dev)]\n",
    "dev_labels = raw_train[\"requester_received_pizza\"][in_dev]"
   ]
  },
  {
   "cell_type": "markdown",
   "metadata": {},
   "source": [
    "## Exploratory Data Analysis\n",
    "We'll now look at the individual fields to understand their types and distributions.\n",
    "\n",
    "### Request Time\n",
    "There are several things to look at with respect to the request time:\n",
    "\n",
    "1. Has the frequency of requests changed over time?\n",
    "2. Has the rate of request fulfillment changed over time?\n",
    "3. Does day of week matter? (Possible new feature)\n",
    "4. Does time of day matter? (Possible new feature)\n",
    "\n",
    "#### Request Frequency"
   ]
  },
  {
   "cell_type": "code",
   "execution_count": 98,
   "metadata": {},
   "outputs": [
    {
     "data": {
      "text/plain": [
       "<matplotlib.text.Text at 0x13349a20>"
      ]
     },
     "execution_count": 98,
     "metadata": {},
     "output_type": "execute_result"
    },
    {
     "data": {
      "image/png": "[encoded data removed]",
      "text/plain": [
       "<matplotlib.figure.Figure at 0x1322ec50>"
      ]
     },
     "metadata": {},
     "output_type": "display_data"
    }
   ],
   "source": [
    "d = pd.DataFrame()\n",
    "d['datetime'] = pd.to_datetime(train_data[\"unix_timestamp_of_request\"], unit = 's')\n",
    "d.index = d['datetime']\n",
    "d['datetime'].resample('W').count().plot().set_title('Number of Posts by Week')"
   ]
  },
  {
   "cell_type": "markdown",
   "metadata": {},
   "source": [
    "#### Request Fulfillment over Time"
   ]
  },
  {
   "cell_type": "code",
   "execution_count": 100,
   "metadata": {},
   "outputs": [
    {
     "data": {
      "text/plain": [
       "<matplotlib.text.Text at 0x13327358>"
      ]
     },
     "execution_count": 100,
     "metadata": {},
     "output_type": "execute_result"
    },
    {
     "data": {
      "image/png": "[encoded data removed]",
      "text/plain": [
       "<matplotlib.figure.Figure at 0x13246668>"
      ]
     },
     "metadata": {},
     "output_type": "display_data"
    }
   ],
   "source": [
    "d = pd.DataFrame()\n",
    "d['datetime'] = pd.to_datetime(train_data[\"unix_timestamp_of_request\"], unit = 's')\n",
    "d['result'] = train_labels\n",
    "d.index = d['datetime']\n",
    "d.resample('W').mean().plot().set_title(\"Percent of Requests Fulfilled by Week\")"
   ]
  },
  {
   "cell_type": "markdown",
   "metadata": {},
   "source": [
    "It looks like there was a lot of excitement at the start of the sub-reddit.  There was a burst of requests and an unsustained high rate of fulfillment.  We may want to craft a feature that indicates whether or not the post was during this initial time, since it doesn't seem to be a part of the general trend.\n",
    "\n",
    "#### Day of Week"
   ]
  },
  {
   "cell_type": "code",
   "execution_count": 116,
   "metadata": {},
   "outputs": [
    {
     "data": {
      "text/html": [
       "<div>\n",
       "<style>\n",
       "    .dataframe thead tr:only-child th {\n",
       "        text-align: right;\n",
       "    }\n",
       "\n",
       "    .dataframe thead th {\n",
       "        text-align: left;\n",
       "    }\n",
       "\n",
       "    .dataframe tbody tr th {\n",
       "        vertical-align: top;\n",
       "    }\n",
       "</style>\n",
       "<table border=\"1\" class=\"dataframe\">\n",
       "  <thead>\n",
       "    <tr>\n",
       "      <th></th>\n",
       "      <th colspan=\"2\" halign=\"left\">result</th>\n",
       "    </tr>\n",
       "    <tr>\n",
       "      <th></th>\n",
       "      <th>mean</th>\n",
       "      <th>count</th>\n",
       "    </tr>\n",
       "    <tr>\n",
       "      <th>dayofweek</th>\n",
       "      <th></th>\n",
       "      <th></th>\n",
       "    </tr>\n",
       "  </thead>\n",
       "  <tbody>\n",
       "    <tr>\n",
       "      <th>0</th>\n",
       "      <td>0.267894</td>\n",
       "      <td>489</td>\n",
       "    </tr>\n",
       "    <tr>\n",
       "      <th>1</th>\n",
       "      <td>0.232246</td>\n",
       "      <td>521</td>\n",
       "    </tr>\n",
       "    <tr>\n",
       "      <th>2</th>\n",
       "      <td>0.229167</td>\n",
       "      <td>576</td>\n",
       "    </tr>\n",
       "    <tr>\n",
       "      <th>3</th>\n",
       "      <td>0.288503</td>\n",
       "      <td>461</td>\n",
       "    </tr>\n",
       "    <tr>\n",
       "      <th>4</th>\n",
       "      <td>0.259825</td>\n",
       "      <td>458</td>\n",
       "    </tr>\n",
       "    <tr>\n",
       "      <th>5</th>\n",
       "      <td>0.211111</td>\n",
       "      <td>450</td>\n",
       "    </tr>\n",
       "    <tr>\n",
       "      <th>6</th>\n",
       "      <td>0.232323</td>\n",
       "      <td>495</td>\n",
       "    </tr>\n",
       "  </tbody>\n",
       "</table>\n",
       "</div>"
      ],
      "text/plain": [
       "             result      \n",
       "               mean count\n",
       "dayofweek                \n",
       "0          0.267894   489\n",
       "1          0.232246   521\n",
       "2          0.229167   576\n",
       "3          0.288503   461\n",
       "4          0.259825   458\n",
       "5          0.211111   450\n",
       "6          0.232323   495"
      ]
     },
     "execution_count": 116,
     "metadata": {},
     "output_type": "execute_result"
    }
   ],
   "source": [
    "d['dayofweek'] = d['datetime'].dt.dayofweek\n",
    "d.groupby('dayofweek').agg(['mean', 'count'])"
   ]
  },
  {
   "cell_type": "markdown",
   "metadata": {},
   "source": [
    "#### Time of Day"
   ]
  },
  {
   "cell_type": "code",
   "execution_count": 135,
   "metadata": {},
   "outputs": [
    {
     "data": {
      "text/plain": [
       "<matplotlib.text.Text at 0x16719ef0>"
      ]
     },
     "execution_count": 135,
     "metadata": {},
     "output_type": "execute_result"
    },
    {
     "data": {
      "image/png": "[encoded data removed]",
      "text/plain": [
       "<matplotlib.figure.Figure at 0x1420b9e8>"
      ]
     },
     "metadata": {},
     "output_type": "display_data"
    },
    {
     "data": {
      "image/png": "[encoded data removed]",
      "text/plain": [
       "<matplotlib.figure.Figure at 0x1634eeb8>"
      ]
     },
     "metadata": {},
     "output_type": "display_data"
    }
   ],
   "source": [
    "d['hour'] = d['datetime'].dt.hour\n",
    "d[['hour', 'result']].groupby('hour').agg('count').plot().set_title(\"Number of Requests by Hour of Day\")\n",
    "d[['hour', 'result']].groupby('hour').agg('mean').plot().set_title(\"Percent of Requests Fulfilled by Hour of Day\")"
   ]
  },
  {
   "cell_type": "markdown",
   "metadata": {},
   "source": [
    "The fulfillment rate varies from 21.1% to 28.8% by the day of the week and from 11.1% to 39.0% depending on the hour of the day.  Both of these seem like reasonably distinguishing features that we should include.\n",
    "\n",
    "### TODO: More EDA\n",
    "\n",
    "# Modeling"
   ]
  },
  {
   "cell_type": "code",
   "execution_count": 6,
   "metadata": {},
   "outputs": [
    {
     "name": "stdout",
     "output_type": "stream",
     "text": [
      "('orignial train shape:', (4040, 30))\n",
      "('test shape:', (1631, 17))\n",
      "('new shapes:', (4040, 28), (1631, 26))\n",
      "(3, 29)\n",
      "('Numeric features:', [u'requester_account_age_in_days_at_request', u'requester_days_since_first_post_on_raop_at_request', u'requester_number_of_comments_at_request', u'requester_number_of_comments_in_raop_at_request', u'requester_number_of_posts_at_request', u'requester_number_of_posts_on_raop_at_request', u'requester_number_of_subreddits_at_request', u'requester_upvotes_minus_downvotes_at_request', u'requester_upvotes_plus_downvotes_at_request', u'unix_timestamp_of_request', u'unix_timestamp_of_request_utc', 'post_length', 'requester_account_age_in_days_at_request_2', 'requester_days_since_first_post_on_raop_at_request_2', 'requester_number_of_comments_at_request_2', 'requester_number_of_comments_in_raop_at_request_2', 'requester_number_of_posts_at_request_2', 'requester_number_of_subreddits_at_request_2', 'requester_upvotes_minus_downvotes_at_request_2', 'post_length_2', 'requester_giver'])\n"
     ]
    }
   ],
   "source": [
    "#TRANSFORMATIONS & NEW FEATURES\n",
    "\n",
    "# split labels\n",
    "train_labels = raw_train[\"requester_received_pizza\"]\n",
    "train_data = raw_train.drop(['post_was_edited','requester_received_pizza'], 1) #edits not available in test data\n",
    "test_data = raw_test \n",
    "print(\"orignial train shape:\",train_data.shape)\n",
    "print(\"test shape:\",test_data.shape)\n",
    "\n",
    "\n",
    "#get length of post\n",
    "train_data[\"post_length\"] = train_data[\"request_text_edit_aware\"].apply(lambda x: len(x))\n",
    "test_data[\"post_length\"] = test_data[\"request_text_edit_aware\"].apply(lambda x: len(x))\n",
    "#print(train_data[\"post_length\"].head(6))\n",
    "\n",
    "\n",
    "# Create key quadratic terms for the following numeric variables:\n",
    "# NOTE: variables \"at_retrieval\" are NOT available in the test dataset\n",
    "\n",
    "#remove numeric vars pulled \"at_retreival\"\n",
    "for col in train_data.columns.values:\n",
    "    #print(col)\n",
    "    if \"retrieval\" in col:\n",
    "        train_data = train_data.drop(col, 1)\n",
    "\n",
    "\n",
    "# form quadratic terms to capture curved relationship with log-odds\n",
    "for_quad = [\"requester_account_age_in_days_at_request\", \"requester_days_since_first_post_on_raop_at_request\",\n",
    "            \"requester_number_of_comments_at_request\", \"requester_number_of_comments_in_raop_at_request\",\n",
    "            \"requester_number_of_posts_at_request\", \"requester_number_of_subreddits_at_request\",\n",
    "            \"requester_upvotes_minus_downvotes_at_request\", \"post_length\"]\n",
    "\n",
    "for col in for_quad:\n",
    "    train_data[col + \"_2\"] = train_data[col]**2\n",
    "    test_data[col + \"_2\"] = test_data[col]**2\n",
    "print(\"new shapes:\", train_data.shape, test_data.shape)\n",
    "\n",
    "\n",
    "#transform requester_user_flair into two dummy variables for logistic\n",
    "#TEST DATA DOES NOT CONTAIN THIS VARIABLE\n",
    "#flair = [\"shroom\",\"PIF\"]\n",
    "#for f in flair:\n",
    "    #train_data[f] = train_data[\"requester_user_flair\"].apply(lambda x: 1 if x==f else 0)\n",
    "    #test_data[f] = test_data[\"requester_user_flair\"].apply(lambda x: 1 if x==f else 0)\n",
    "\n",
    "    \n",
    "#flag givers (very few givers who are also requesters)\n",
    "successes = raw_train[raw_train['requester_received_pizza']==True]\n",
    "givers = successes['giver_username_if_known']\n",
    "known_givers = list(givers[givers != 'N/A'])\n",
    "\n",
    "train_data[\"requester_giver\"] = train_data[\"requester_username\"].apply(lambda x: 1 if x in known_givers else 0)\n",
    "test_data[\"requester_giver\"] = test_data[\"requester_username\"].apply(lambda x: 1 if x in known_givers else 0)\n",
    "print(train_data[train_data[\"requester_giver\"] == 1].shape)\n",
    "\n",
    "\n",
    "#Here we split the number variables from the string type variables\n",
    "text_columns = ['giver_username_if_known','request_id','request_text','request_text_edit_aware','request_title',\n",
    "              'requester_subreddits_at_request','requester_user_flair','requester_username']\n",
    "#for logistic regression\n",
    "num_columns = [i for i in train_data.columns.values if i not in text_columns]\n",
    "print(\"Numeric features:\",num_columns)\n",
    "col_names = list(train_data.columns.values)\n"
   ]
  },
  {
   "cell_type": "code",
   "execution_count": 7,
   "metadata": {},
   "outputs": [
    {
     "name": "stdout",
     "output_type": "stream",
     "text": [
      "('Mini train size:', (3434, 29), (3434,))\n",
      "('Development set size:', (606, 29), (606,))\n"
     ]
    }
   ],
   "source": [
    "# Create mini train and development set\n",
    "dev_size = int(round(train_data.shape[0]*.15))\n",
    "\n",
    "mini_train_data, mini_train_labels = train_data[dev_size:], train_labels[dev_size:]\n",
    "print(\"Mini train size:\",mini_train_data.shape, mini_train_labels.shape)\n",
    "\n",
    "dev_data, dev_labels = train_data[:dev_size], train_labels[:dev_size]\n",
    "print(\"Development set size:\", dev_data.shape, dev_labels.shape)"
   ]
  },
  {
   "cell_type": "code",
   "execution_count": 8,
   "metadata": {},
   "outputs": [
    {
     "name": "stderr",
     "output_type": "stream",
     "text": [
      "/Users/madereth/anaconda/lib/python2.7/site-packages/ipykernel_launcher.py:8: SettingWithCopyWarning: \n",
      "A value is trying to be set on a copy of a slice from a DataFrame.\n",
      "Try using .loc[row_indexer,col_indexer] = value instead\n",
      "\n",
      "See the the caveats in the documentation: http://pandas.pydata.org/pandas-docs/stable/indexing.html#indexing-view-versus-copy\n",
      "  \n",
      "/Users/madereth/anaconda/lib/python2.7/site-packages/ipykernel_launcher.py:10: SettingWithCopyWarning: \n",
      "A value is trying to be set on a copy of a slice from a DataFrame.\n",
      "Try using .loc[row_indexer,col_indexer] = value instead\n",
      "\n",
      "See the the caveats in the documentation: http://pandas.pydata.org/pandas-docs/stable/indexing.html#indexing-view-versus-copy\n",
      "  # Remove the CWD from sys.path while we load stuff.\n",
      "/Users/madereth/anaconda/lib/python2.7/site-packages/ipykernel_launcher.py:12: SettingWithCopyWarning: \n",
      "A value is trying to be set on a copy of a slice from a DataFrame.\n",
      "Try using .loc[row_indexer,col_indexer] = value instead\n",
      "\n",
      "See the the caveats in the documentation: http://pandas.pydata.org/pandas-docs/stable/indexing.html#indexing-view-versus-copy\n",
      "  if sys.path[0] == '':\n",
      "/Users/madereth/anaconda/lib/python2.7/site-packages/ipykernel_launcher.py:14: SettingWithCopyWarning: \n",
      "A value is trying to be set on a copy of a slice from a DataFrame.\n",
      "Try using .loc[row_indexer,col_indexer] = value instead\n",
      "\n",
      "See the the caveats in the documentation: http://pandas.pydata.org/pandas-docs/stable/indexing.html#indexing-view-versus-copy\n",
      "  \n",
      "/Users/madereth/anaconda/lib/python2.7/site-packages/ipykernel_launcher.py:16: SettingWithCopyWarning: \n",
      "A value is trying to be set on a copy of a slice from a DataFrame.\n",
      "Try using .loc[row_indexer,col_indexer] = value instead\n",
      "\n",
      "See the the caveats in the documentation: http://pandas.pydata.org/pandas-docs/stable/indexing.html#indexing-view-versus-copy\n",
      "  app.launch_new_instance()\n",
      "/Users/madereth/anaconda/lib/python2.7/site-packages/ipykernel_launcher.py:18: SettingWithCopyWarning: \n",
      "A value is trying to be set on a copy of a slice from a DataFrame.\n",
      "Try using .loc[row_indexer,col_indexer] = value instead\n",
      "\n",
      "See the the caveats in the documentation: http://pandas.pydata.org/pandas-docs/stable/indexing.html#indexing-view-versus-copy\n"
     ]
    },
    {
     "name": "stdout",
     "output_type": "stream",
     "text": [
      "(<class 'sklearn.naive_bayes.MultinomialNB'>, '\\n\\n', 'TFIDF = ', True, '\\n')\n",
      "             precision    recall  f1-score   support\n",
      "\n",
      "      False       1.00      0.74      0.85       606\n",
      "       True       0.00      0.00      0.00         0\n",
      "\n",
      "avg / total       1.00      0.74      0.85       606\n",
      "\n"
     ]
    },
    {
     "name": "stderr",
     "output_type": "stream",
     "text": [
      "/Users/madereth/anaconda/lib/python2.7/site-packages/sklearn/metrics/classification.py:960: UndefinedMetricWarning: Recall and F-score are ill-defined and being set to 0.0 in labels with no true samples.\n",
      "  'recall', 'true', average, warn_for)\n"
     ]
    },
    {
     "name": "stdout",
     "output_type": "stream",
     "text": [
      "(<class 'sklearn.naive_bayes.MultinomialNB'>, '\\n\\n', 'TFIDF = ', False, '\\n')\n",
      "             precision    recall  f1-score   support\n",
      "\n",
      "      False       0.96      0.75      0.84       577\n",
      "       True       0.07      0.38      0.12        29\n",
      "\n",
      "avg / total       0.92      0.73      0.81       606\n",
      "\n",
      "(<class 'sklearn.linear_model.logistic.LogisticRegression'>, '\\n\\n', 'TFIDF = ', True, '\\n')\n",
      "             precision    recall  f1-score   support\n",
      "\n",
      "      False       0.99      0.74      0.85       598\n",
      "       True       0.03      0.50      0.05         8\n",
      "\n",
      "avg / total       0.98      0.74      0.84       606\n",
      "\n",
      "(<class 'sklearn.linear_model.logistic.LogisticRegression'>, '\\n\\n', 'TFIDF = ', False, '\\n')\n",
      "             precision    recall  f1-score   support\n",
      "\n",
      "      False       0.86      0.75      0.80       518\n",
      "       True       0.17      0.30      0.21        88\n",
      "\n",
      "avg / total       0.76      0.68      0.72       606\n",
      "\n"
     ]
    }
   ],
   "source": [
    "#Rob's Section\n",
    "\n",
    "#Preprocess\n",
    "def nltk_preprocess(data):\n",
    "    stop = stopwords.words('english')\n",
    "    \n",
    "    #Merge title and request text together, lower string\n",
    "    data['title_and_request'] = data[['request_text_edit_aware', 'request_title']].apply(lambda x: ''.join(x), axis=1).str.lower()\n",
    "    #replacing sequences of numbers with a single token, removing various other non-letter characters, removing strings with underscores\n",
    "    data['title_and_request'] = data['title_and_request'].apply(lambda x: re.sub(r'\\d+', r' ', x)).apply(lambda y: re.sub(r'\\W+', r' ', y)).apply(lambda z: re.sub(r\"_+\",r\" \",z))\n",
    "    #NLTK Tokenize\n",
    "    data['tokenized_requests'] = data['title_and_request'].apply(word_tokenize)\n",
    "    #NLTK Remove Stop Words i.e. the, an, etc\n",
    "    data['tokenized_requests'] = data['tokenized_requests'].apply(lambda x: [item for item in x if item not in stop])\n",
    "    #Word count of leftovers; didn't use this yet\n",
    "    data['word_count'] = [len(data['tokenized_requests'][i]) for i in range(data.index[0], data.index[-1]+1)]\n",
    "    #Rejoin after str split\n",
    "    data['tokenized_requests'] = data['tokenized_requests'].apply(lambda x: ' '.join(x))\n",
    "    return data['tokenized_requests']\n",
    "\n",
    "\n",
    "def classify(model, model_parameters = False, use_tfidf=False):\n",
    "    \"\"\"Takes a model and parameters. \n",
    "       Outputs a classification report on the dev data, scored by f1_weighted.\n",
    "       Prints out the best gridsearch parameter of choice.\"\"\"\n",
    "    if(use_tfidf):\n",
    "        pipeliner = Pipeline([('cv', CountVectorizer()),\n",
    "                        ('tfidf', TfidfTransformer()),\n",
    "                        ('model', model())])\n",
    "    else:\n",
    "        pipeliner = Pipeline([(\"cv\", CountVectorizer()), \n",
    "                              (\"model\", model())])\n",
    "\n",
    "        #Make a simple prediction\n",
    "    pipeliner.fit(processed_mini_train_data, mini_train_labels)\n",
    "    pipeliner_pred = pipeliner.predict(processed_dev_data)\n",
    "    print(model, \"\\n\\n\", \"TFIDF = \", use_tfidf, \"\\n\")\n",
    "    print(classification_report(pipeliner_pred, dev_labels))\n",
    "    return None\n",
    "\n",
    "\n",
    "#process text entries\n",
    "processed_mini_train_data = nltk_preprocess(mini_train_data)\n",
    "processed_dev_data = nltk_preprocess(dev_data)\n",
    "processed_test_data = nltk_preprocess(test_data)\n",
    "\n",
    "classify(MultinomialNB, model_parameters = {\"model__analyzer\":\"word\", \"model__ngram_range\":(1,2)}, use_tfidf = True)\n",
    "classify(MultinomialNB, model_parameters = {\"model__analyzer\":\"word\", \"model__ngram_range\":(1,2)}, use_tfidf = False)\n",
    "classify(LogisticRegression, use_tfidf = True)\n",
    "classify(LogisticRegression, use_tfidf = False)"
   ]
  },
  {
   "cell_type": "code",
   "execution_count": 6,
   "metadata": {},
   "outputs": [
    {
     "name": "stdout",
     "output_type": "stream",
     "text": [
      "11507\n",
      "0.681518151815\n",
      "             precision    recall  f1-score   support\n",
      "\n",
      "      False       0.86      0.75      0.80       518\n",
      "       True       0.17      0.30      0.21        88\n",
      "\n",
      "avg / total       0.76      0.68      0.72       606\n",
      "\n",
      "expected\n",
      "mentioned\n",
      "projects\n",
      "redding\n",
      "relatives\n",
      "denmark\n",
      "state\n",
      "christmas\n",
      "gi\n",
      "tucson\n",
      "receive\n",
      "drink\n",
      "including\n",
      "steam\n",
      "lift\n",
      "oatmeal\n",
      "weather\n",
      "ranch\n",
      "loves\n",
      "cookout\n",
      "rather\n",
      "eye\n",
      "losing\n",
      "except\n",
      "topping\n",
      "sunday\n",
      "leg\n",
      "zolo\n",
      "hurting\n",
      "father\n"
     ]
    }
   ],
   "source": [
    "# Explore terms with the largest coefficients\n",
    "\n",
    "def classify2(model, model_parameters = False, use_tfidf=False):\n",
    "    \"\"\"Takes a model and parameters. \n",
    "       Outputs a classification report on the dev data, scored by f1_weighted.\n",
    "       Prints out the best gridsearch parameter of choice.\"\"\"\n",
    "    vec = CountVectorizer()\n",
    "    train_feats = vec.fit_transform(processed_mini_train_data)\n",
    "    train_vocab = vec.get_feature_names()\n",
    "    print(len(train_vocab))\n",
    "    dev_feats = vec.transform(processed_dev_data)\n",
    "    \n",
    "    lr =  LogisticRegression()\n",
    "    #lr =  LogisticRegression(penalty=\"l1\")\n",
    "    lr.fit(train_feats, mini_train_labels)\n",
    "    lr_preds = lr.predict(dev_feats)\n",
    "    print(metrics.f1_score(dev_labels, lr_preds, average='micro'))\n",
    "    print(classification_report(lr_preds, dev_labels))\n",
    "\n",
    "    coefs = lr.coef_\n",
    "    #print(coefs.shape)\n",
    "    max_coefs = np.argsort(coefs, axis=1)[:,-30:]\n",
    "    #print(max_coefs)\n",
    "    top_features = []\n",
    "    for i in range(max_coefs.shape[1]):\n",
    "        #print(max_coefs[0][i])\n",
    "        print(train_vocab[max_coefs[0][i]])\n",
    "\n",
    "\n",
    "classify2(LogisticRegression, use_tfidf = False)"
   ]
  },
  {
   "cell_type": "code",
   "execution_count": 9,
   "metadata": {},
   "outputs": [
    {
     "name": "stdout",
     "output_type": "stream",
     "text": [
      "('Vocab train:', (3434, 11335))\n",
      "('Numeric train:', (3434, 21))\n",
      "('Combined:', (3434, 11356))\n",
      "('Test:', (1631, 11356))\n"
     ]
    }
   ],
   "source": [
    "#join numeric and vocabulary features\n",
    "\n",
    "#use preprocessed vocab features\n",
    "vec_full = CountVectorizer(stop_words = \"english\")\n",
    "train_feats = vec_full.fit_transform(processed_mini_train_data)\n",
    "train_vocab = vec_full.get_feature_names()\n",
    "dev_feats = vec_full.transform(processed_dev_data)\n",
    "test_feats = vec_full.transform(processed_test_data)\n",
    "\n",
    "#make vocab arrays\n",
    "train_vocab_ar = train_feats.toarray()\n",
    "dev_vocab_ar = dev_feats.toarray()\n",
    "test_vocab_ar = test_feats.toarray()\n",
    "#new_array = np.array(train_feats)\n",
    "print(\"Vocab train:\", train_vocab_ar.shape)\n",
    "\n",
    "#make numeric arrays\n",
    "train_num_ar = mini_train_data[num_columns].as_matrix()\n",
    "dev_num_ar = dev_data[num_columns].as_matrix()\n",
    "test_num_ar = test_data[num_columns].as_matrix()\n",
    "print(\"Numeric train:\",train_num_ar.shape)\n",
    "\n",
    "#join arrays into final feature sets\n",
    "combined_train_feats = np.concatenate((train_vocab_ar,train_num_ar), axis = 1)\n",
    "combined_dev_feats = np.concatenate((dev_vocab_ar,dev_num_ar), axis = 1)\n",
    "combined_test_feats = np.concatenate((test_vocab_ar,test_num_ar), axis = 1)\n",
    "print(\"Combined:\",combined_train_feats.shape)\n",
    "print(\"Test:\",combined_test_feats.shape)"
   ]
  },
  {
   "cell_type": "code",
   "execution_count": 10,
   "metadata": {},
   "outputs": [
    {
     "name": "stdout",
     "output_type": "stream",
     "text": [
      "0.253521126761\n",
      "             precision    recall  f1-score   support\n",
      "\n",
      "      False       0.94      0.76      0.84       550\n",
      "       True       0.17      0.48      0.25        56\n",
      "\n",
      "avg / total       0.86      0.74      0.79       606\n",
      "\n"
     ]
    },
    {
     "name": "stderr",
     "output_type": "stream",
     "text": [
      "/Users/madereth/anaconda/lib/python2.7/site-packages/sklearn/metrics/classification.py:931: DeprecationWarning: From version 0.18, binary input will not be handled specially when using averaged precision/recall/F-score. Please use average='binary' to report only the positive class performance.\n",
      "  'positive class performance.', DeprecationWarning)\n"
     ]
    }
   ],
   "source": [
    "#Build a logistic model based on number value columns + preprocessed text field\n",
    "# test with various values for C\n",
    "full_lr = LogisticRegression(penalty=\"l1\", C = .5)\n",
    "full_lr.fit(combined_train_feats, mini_train_labels)\n",
    "#full_lr.fit(train_feats, mini_train_labels)\n",
    "\n",
    "#print(full_lr.coef_[0:20])\n",
    "\n",
    "dev_preds = full_lr.predict(combined_dev_feats)\n",
    "test_preds = full_lr.predict(combined_test_feats)\n",
    "#dev_preds = full_lr.predict(dev_feats)\n",
    "print(metrics.f1_score(dev_labels, dev_preds, average='micro'))\n",
    "print(classification_report(dev_preds, dev_labels))\n",
    "\n",
    "#test_preds = full_lr.predict(combined_test_feats)\n",
    "\n",
    "test_out = pd.DataFrame()\n",
    "test_out['request_id'] = test_data['request_id']\n",
    "test_out['requester_received_pizza'] = test_preds.astype(int)\n",
    "#num = sum(preds['requester_received_pizza'])\n",
    "\n",
    "#print(num, sum(train_labels))\n",
    "\n",
    "test_out.to_csv('./data/submission2.csv', index=False)"
   ]
  },
  {
   "cell_type": "code",
   "execution_count": 9,
   "metadata": {},
   "outputs": [
    {
     "name": "stdout",
     "output_type": "stream",
     "text": [
      "11244\n",
      "0.729372937294\n",
      "             precision    recall  f1-score   support\n",
      "\n",
      "      False       0.97      0.74      0.84       589\n",
      "       True       0.03      0.29      0.06        17\n",
      "\n",
      "avg / total       0.95      0.73      0.82       606\n",
      "\n"
     ]
    }
   ],
   "source": [
    "#Try looking at request only\n",
    "train_text = mini_train_data['request_text_edit_aware']\n",
    "dev_text = dev_data['request_text_edit_aware']\n",
    "vec = CountVectorizer()\n",
    "train_feats = vec.fit_transform(train_text)\n",
    "train_vocab = vec.get_feature_names()\n",
    "print(len(train_vocab))\n",
    "vec2 = CountVectorizer(vocabulary=train_vocab)\n",
    "dev_feats = vec2.transform(dev_text)\n",
    "\n",
    "nb =  MultinomialNB()\n",
    "nb.fit(train_feats, mini_train_labels)\n",
    "nb_preds = nb.predict(dev_feats)\n",
    "print(metrics.f1_score(dev_labels, nb_preds, average='micro'))\n",
    "print(classification_report(nb_preds, dev_labels))"
   ]
  },
  {
   "cell_type": "code",
   "execution_count": 11,
   "metadata": {},
   "outputs": [
    {
     "name": "stdout",
     "output_type": "stream",
     "text": [
      "103097\n",
      "0.0\n",
      "             precision    recall  f1-score   support\n",
      "\n",
      "      False       1.00      0.74      0.85       606\n",
      "       True       0.00      0.00      0.00         0\n",
      "\n",
      "avg / total       1.00      0.74      0.85       606\n",
      "\n"
     ]
    },
    {
     "name": "stderr",
     "output_type": "stream",
     "text": [
      "/Users/madereth/anaconda/lib/python2.7/site-packages/sklearn/metrics/classification.py:931: DeprecationWarning: From version 0.18, binary input will not be handled specially when using averaged precision/recall/F-score. Please use average='binary' to report only the positive class performance.\n",
      "  'positive class performance.', DeprecationWarning)\n",
      "/Users/madereth/anaconda/lib/python2.7/site-packages/sklearn/metrics/classification.py:958: UndefinedMetricWarning: F-score is ill-defined and being set to 0.0 due to no predicted samples.\n",
      "  'precision', 'predicted', average, warn_for)\n"
     ]
    }
   ],
   "source": [
    "#Try looking at request BIGRAMS only\n",
    "train_text = mini_train_data['request_text_edit_aware']\n",
    "dev_text = dev_data['request_text_edit_aware']\n",
    "vec = CountVectorizer(analyzer=\"word\", ngram_range=(1,2))\n",
    "train_feats = vec.fit_transform(train_text)\n",
    "train_vocab = vec.get_feature_names()\n",
    "print(len(train_vocab))\n",
    "vec2 = CountVectorizer(vocabulary=train_vocab)\n",
    "dev_feats = vec2.transform(dev_text)\n",
    "\n",
    "nb =  MultinomialNB()\n",
    "nb.fit(train_feats, mini_train_labels)\n",
    "nb_preds = nb.predict(dev_feats)\n",
    "print(metrics.f1_score(dev_labels, nb_preds, average='micro'))\n",
    "print(classification_report(nb_preds, dev_labels))"
   ]
  },
  {
   "cell_type": "code",
   "execution_count": 12,
   "metadata": {},
   "outputs": [
    {
     "name": "stdout",
     "output_type": "stream",
     "text": [
      "23071\n",
      "0.0126582278481\n",
      "             precision    recall  f1-score   support\n",
      "\n",
      "      False       1.00      0.74      0.85       605\n",
      "       True       0.01      1.00      0.01         1\n",
      "\n",
      "avg / total       1.00      0.74      0.85       606\n",
      "\n"
     ]
    },
    {
     "name": "stderr",
     "output_type": "stream",
     "text": [
      "/Users/madereth/anaconda/lib/python2.7/site-packages/sklearn/metrics/classification.py:931: DeprecationWarning: From version 0.18, binary input will not be handled specially when using averaged precision/recall/F-score. Please use average='binary' to report only the positive class performance.\n",
      "  'positive class performance.', DeprecationWarning)\n"
     ]
    }
   ],
   "source": [
    "#Try looking at request TITLE only\n",
    "train_text = mini_train_data['request_title']\n",
    "dev_text = dev_data['request_title']\n",
    "vec = CountVectorizer(analyzer=\"word\", ngram_range=(1,2))\n",
    "train_feats = vec.fit_transform(train_text)\n",
    "train_vocab = vec.get_feature_names()\n",
    "print(len(train_vocab))\n",
    "vec2 = CountVectorizer(vocabulary=train_vocab)\n",
    "dev_feats = vec2.transform(dev_text)\n",
    "\n",
    "nb =  MultinomialNB()\n",
    "nb.fit(train_feats, mini_train_labels)\n",
    "nb_preds = nb.predict(dev_feats)\n",
    "print(metrics.f1_score(dev_labels, nb_preds, average='micro'))\n",
    "print(classification_report(nb_preds, dev_labels))"
   ]
  },
  {
   "cell_type": "code",
   "execution_count": 13,
   "metadata": {},
   "outputs": [
    {
     "name": "stdout",
     "output_type": "stream",
     "text": [
      "11244\n",
      "0.0\n",
      "             precision    recall  f1-score   support\n",
      "\n",
      "      False       1.00      0.74      0.85       606\n",
      "       True       0.00      0.00      0.00         0\n",
      "\n",
      "avg / total       1.00      0.74      0.85       606\n",
      "\n"
     ]
    },
    {
     "name": "stderr",
     "output_type": "stream",
     "text": [
      "/Users/madereth/anaconda/lib/python2.7/site-packages/sklearn/metrics/classification.py:931: DeprecationWarning: From version 0.18, binary input will not be handled specially when using averaged precision/recall/F-score. Please use average='binary' to report only the positive class performance.\n",
      "  'positive class performance.', DeprecationWarning)\n"
     ]
    }
   ],
   "source": [
    "#Try looking at request only with TfidfVectorizer\n",
    "train_text = mini_train_data['request_text_edit_aware']\n",
    "dev_text = dev_data['request_text_edit_aware']\n",
    "vec = TfidfVectorizer()\n",
    "train_feats = vec.fit_transform(train_text)\n",
    "train_vocab = vec.get_feature_names()\n",
    "print(len(train_vocab))\n",
    "vec2 = CountVectorizer(vocabulary=train_vocab)\n",
    "dev_feats = vec2.transform(dev_text)\n",
    "\n",
    "nb =  MultinomialNB()\n",
    "nb.fit(train_feats, mini_train_labels)\n",
    "nb_preds = nb.predict(dev_feats)\n",
    "print(metrics.f1_score(dev_labels, nb_preds, average='micro'))\n",
    "print(classification_report(nb_preds, dev_labels))"
   ]
  },
  {
   "cell_type": "code",
   "execution_count": 14,
   "metadata": {},
   "outputs": [
    {
     "name": "stdout",
     "output_type": "stream",
     "text": [
      "(2, 11244)\n",
      "[[ 9159  6925  1679 10022 11181  1206  5366  6201 10853 11088  4720  5376\n",
      "   5149  7433  6867  4048  6570  9974   755 10126]\n",
      " [ 9159 11181 10022  6925  5366  1679  6201  1206 11088 10853  7433  4720\n",
      "   5376  5149  6867  4048  6570  9974   755 10126]]\n",
      "[ 9159  6925  1679 10022 11181  1206  5366  6201 10853 11088  4720  5376\n",
      "  5149  7433  6867  4048  6570  9974   755 10126]\n",
      "so\n",
      "on\n",
      "but\n",
      "this\n",
      "you\n",
      "be\n",
      "is\n",
      "me\n",
      "we\n",
      "would\n",
      "have\n",
      "it\n",
      "in\n",
      "pizza\n",
      "of\n",
      "for\n",
      "my\n",
      "the\n",
      "and\n",
      "to\n",
      "**********\n",
      "so\n",
      "you\n",
      "this\n",
      "on\n",
      "is\n",
      "but\n",
      "me\n",
      "be\n",
      "would\n",
      "we\n",
      "pizza\n",
      "have\n",
      "it\n",
      "in\n",
      "of\n",
      "for\n",
      "my\n",
      "the\n",
      "and\n",
      "to\n"
     ]
    }
   ],
   "source": [
    "#NB weights of vocab without preprocessing step\n",
    "# feature_log_prob_\n",
    "print(nb.feature_log_prob_.shape)\n",
    "max_weights = np.argsort(nb.feature_log_prob_, axis=1)[:,-20:]\n",
    "print(max_weights)\n",
    "print(max_weights[0])\n",
    "for i in max_weights[0]:\n",
    "    print(train_vocab[i])\n",
    "print(\"**********\")\n",
    "for i in max_weights[1]:\n",
    "    print(train_vocab[i])"
   ]
  },
  {
   "cell_type": "code",
   "execution_count": null,
   "metadata": {
    "collapsed": true
   },
   "outputs": [],
   "source": []
  }
 ],
 "metadata": {
  "anaconda-cloud": {},
  "kernelspec": {
   "display_name": "Python 2",
   "language": "python",
   "name": "python2"
  },
  "language_info": {
   "codemirror_mode": {
    "name": "ipython",
    "version": 2
   },
   "file_extension": ".py",
   "mimetype": "text/x-python",
   "name": "python",
   "nbconvert_exporter": "python",
   "pygments_lexer": "ipython2",
   "version": "2.7.13"
  }
 },
 "nbformat": 4,
 "nbformat_minor": 1
}
