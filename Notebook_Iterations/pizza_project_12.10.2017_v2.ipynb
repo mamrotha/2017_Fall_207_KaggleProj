{
 "cells": [
  {
   "cell_type": "markdown",
   "metadata": {},
   "source": [
    "# W207-1 Final Project - \"Random Acts of Pizza\"\n",
    "\n",
    "## Team\n",
    "- Andrew Mamroth\n",
    "- Colby Carter\n",
    "- Matt Adereth\n",
    "- Rob Deng\n",
    "\n",
    "[Team Github](https://github.com/mamrotha/2017_Fall_207_KaggleProj)\n",
    "\n",
    "## Overview\n",
    "\n",
    "[Original Kaggle Description](https://www.kaggle.com/c/random-acts-of-pizza)\n",
    "\n",
    "There is a sub-reddit called [r/Random_Acts_Of_Pizza](https://www.reddit.com/r/Random_Acts_Of_Pizza/) where users can post requests for someone to purchase them a pizza and, shockingly, random internet strangers will then buy them pizza.  In this competition, we are provided with a data set containing over 5,000 posts from this sub-reddit and our goal is to build a model that can predict whether or not the post will result in a pizza purchase."
   ]
  },
  {
   "cell_type": "markdown",
   "metadata": {},
   "source": [
    "# Package Initialization"
   ]
  },
  {
   "cell_type": "code",
   "execution_count": 42,
   "metadata": {},
   "outputs": [],
   "source": [
    "# This tells matplotlib not to try opening a new window for each plot.\n",
    "%matplotlib inline\n",
    "\n",
    "# General libraries.\n",
    "import re\n",
    "import numpy as np\n",
    "import matplotlib.pyplot as plt\n",
    "from sklearn.linear_model import LogisticRegression\n",
    "from sklearn.naive_bayes import MultinomialNB\n",
    "from sklearn.naive_bayes import GaussianNB\n",
    "from sklearn.feature_extraction.text import *\n",
    "from sklearn.grid_search import GridSearchCV\n",
    "from sklearn.pipeline import Pipeline\n",
    "from sklearn.ensemble import RandomForestClassifier\n",
    "\n",
    "import pandas as pd\n",
    "from pandas.tseries.holiday import USFederalHolidayCalendar\n",
    "\n",
    "# ADD METRICS\n",
    "from sklearn import metrics\n",
    "from sklearn.metrics import classification_report\n",
    "\n",
    "#NLTK - NLP Tokenizing and Cleaning\n",
    "import nltk\n",
    "from nltk import pos_tag, pos_tag_sents\n",
    "from nltk.tokenize import word_tokenize, sent_tokenize\n",
    "from nltk.corpus import stopwords\n",
    "from nltk.corpus import wordnet\n",
    "from nltk.stem import WordNetLemmatizer\n",
    "\n",
    "#GMM\n",
    "from sklearn.decomposition import PCA\n",
    "from sklearn.cluster import KMeans\n",
    "from sklearn.mixture import GMM\n",
    "from sklearn.mixture import GaussianMixture"
   ]
  },
  {
   "cell_type": "code",
   "execution_count": 2,
   "metadata": {},
   "outputs": [],
   "source": [
    "# Only evaluate this if you don't already have the NLTK corpora\n",
    "#nltk.download()"
   ]
  },
  {
   "cell_type": "markdown",
   "metadata": {},
   "source": [
    "# Data \n",
    "\n",
    "## Original description of the data from the Kaggle website\n",
    "\n",
    "This dataset includes 5671 requests collected from the Reddit community Random Acts of Pizza between December 8, 2010 and September 29, 2013 (retrieved on September 30, 2013). All requests ask for the same thing: a free pizza. The outcome of each request -- whether its author received a pizza or not -- is known. Meta-data includes information such as: time of the request, activity of the requester, community-age of the requester, etc.\n",
    "\n",
    "Each JSON entry corresponds to one request (the first and only request by the requester on Random Acts of Pizza). We have removed fields from the test set which would not be available at the time of posting.\n",
    "\n",
    "### Field Descriptions\n",
    "\n",
    "| Field Name | Description |\n",
    "| ---------- | ----------- |\n",
    "| giver_username_if_known | Reddit username of giver if known, i.e. the person satisfying the request (\"N/A\" otherwise). |\n",
    "| number_of_downvotes_of_request_at_retrieval | Number of downvotes at the time the request was collected. |\n",
    "| number_of_upvotes_of_request_at_retrieval | Number of upvotes at the time the request was collected. |\n",
    "| post_was_edited | Boolean indicating whether this post was edited (from Reddit). |\n",
    "| request_id | Identifier of the post on Reddit, e.g. \"t3_w5491\". |\n",
    "| request_number_of_comments_at_retrieval | Number of comments for the request at time of retrieval. |\n",
    "| request_text | Full text of the request. |\n",
    "| request_text_edit_aware | Edit aware version of \"request_text\". We use a set of rules to strip edited comments indicating the success of the request such as \"EDIT: Thanks /u/foo, the pizza was delicous\". |\n",
    "| request_title | Title of the request. |\n",
    "| requester_account_age_in_days_at_request | Account age of requester in days at time of request. |\n",
    "| requester_account_age_in_days_at_retrieval | Account age of requester in days at time of retrieval. |\n",
    "| requester_days_since_first_post_on_raop_at_request | Number of days between requesters first post on RAOP and this request (zero if requester has never posted before on RAOP). |\n",
    "| requester_days_since_first_post_on_raop_at_retrieval | Number of days between requesters first post on RAOP and time of retrieval. |\n",
    "| requester_number_of_comments_at_request | Total number of comments on Reddit by requester at time of request. |\n",
    "| requester_number_of_comments_at_retrieval | Total number of comments on Reddit by requester at time of retrieval. |\n",
    "| requester_number_of_comments_in_raop_at_request | Total number of comments in RAOP by requester at time of request. |\n",
    "| requester_number_of_comments_in_raop_at_retrieval | Total number of comments in RAOP by requester at time of retrieval. |\n",
    "| requester_number_of_posts_at_request | Total number of posts on Reddit by requester at time of request. |\n",
    "| requester_number_of_posts_at_retrieval | Total number of posts on Reddit by requester at time of retrieval. |\n",
    "| requester_number_of_posts_on_raop_at_request | Total number of posts in RAOP by requester at time of request. |\n",
    "| requester_number_of_posts_on_raop_at_retrieval | Total number of posts in RAOP by requester at time of retrieval. |\n",
    "| requester_number_of_subreddits_at_request | The number of subreddits in which the author had already posted in at the time of request. |\n",
    "| requester_received_pizza | Boolean indicating the success of the request, i.e., whether the requester received pizza. |\n",
    "| requester_subreddits_at_request | The list of subreddits in which the author had already posted in at the time of request. |\n",
    "| requester_upvotes_minus_downvotes_at_request | Difference of total upvotes and total downvotes of requester at time of request. |\n",
    "| requester_upvotes_minus_downvotes_at_retrieval | Difference of total upvotes and total downvotes of requester at time of retrieval. |\n",
    "| requester_upvotes_plus_downvotes_at_request | Sum of total upvotes and total downvotes of requester at time of request. |\n",
    "| requester_upvotes_plus_downvotes_at_retrieval | Sum of total upvotes and total downvotes of requester at time of retrieval. |\n",
    "| requester_user_flair | Users on RAOP receive badges (Reddit calls them flairs) which is a small picture next to their username. In our data set the user flair is either None (neither given nor received pizza, N=4282), \"shroom\" (received pizza, but not given, N=1306), or \"PIF\" (pizza given after having received, N=83). |\n",
    "| requester_username | Reddit username of requester. |\n",
    "| unix_timestamp_of_request | Unix timestamp of request (supposedly in timezone of user, but in most cases it is equal to the UTC timestamp -- which is incorrect since most RAOP users are from the USA). |\n",
    "| unix_timestamp_of_request_utc | Unit timestamp of request in UTC. |\n",
    "\n",
    "## Initial Loading"
   ]
  },
  {
   "cell_type": "code",
   "execution_count": 61,
   "metadata": {},
   "outputs": [
    {
     "name": "stdout",
     "output_type": "stream",
     "text": [
      "Raw Train Shape: (4040, 32)\n",
      "Raw Test Shape: (1631, 17)\n"
     ]
    }
   ],
   "source": [
    "# Load raw data and create labels\n",
    "raw_train = pd.read_json('./data/train.json')\n",
    "raw_test = pd.read_json('./data/test.json')\n",
    "\n",
    "print(\"Raw Train Shape:\", raw_train.shape)\n",
    "print(\"Raw Test Shape:\", raw_test.shape)"
   ]
  },
  {
   "cell_type": "markdown",
   "metadata": {},
   "source": [
    "## Schema Reconciliation\n",
    "\n",
    "The training data has 32 columns, while the test data only has 17.  Let's look at which columns are different:"
   ]
  },
  {
   "cell_type": "code",
   "execution_count": 62,
   "metadata": {},
   "outputs": [
    {
     "name": "stdout",
     "output_type": "stream",
     "text": [
      "Columns in Train but not Test:\n",
      "  requester_upvotes_plus_downvotes_at_retrieval\n",
      "  request_number_of_comments_at_retrieval\n",
      "  requester_upvotes_minus_downvotes_at_retrieval\n",
      "  requester_account_age_in_days_at_retrieval\n",
      "  requester_days_since_first_post_on_raop_at_retrieval\n",
      "  requester_number_of_posts_at_retrieval\n",
      "  requester_number_of_comments_in_raop_at_retrieval\n",
      "  requester_received_pizza\n",
      "  requester_user_flair\n",
      "  number_of_downvotes_of_request_at_retrieval\n",
      "  post_was_edited\n",
      "  requester_number_of_comments_at_retrieval\n",
      "  request_text\n",
      "  number_of_upvotes_of_request_at_retrieval\n",
      "  requester_number_of_posts_on_raop_at_retrieval\n",
      "\n",
      "No columns in Test but not Train\n"
     ]
    }
   ],
   "source": [
    "raw_train_only_columns = set(raw_train.columns.values) - set(raw_test.columns.values)\n",
    "\n",
    "if len(raw_train_only_columns) > 0:\n",
    "    print (\"Columns in Train but not Test:\")\n",
    "    for c in raw_train_only_columns:\n",
    "        print (\" \", c)\n",
    "else:\n",
    "    print (\"No columns in Train but not Test\")\n",
    "    \n",
    "raw_test_only_columns = set(raw_test.columns.values) - set(raw_train.columns.values)\n",
    "print(\"\")\n",
    "if len(raw_test_only_columns) > 0:\n",
    "    print (\"Columns in Test but not Train:\")\n",
    "    for c in raw_test_only_columns:\n",
    "        print (\" \", c)\n",
    "else:\n",
    "    print (\"No columns in Test but not Train\")"
   ]
  },
  {
   "cell_type": "markdown",
   "metadata": {
    "collapsed": true
   },
   "source": [
    "There are several columns that aren't included in the test data and thus need to be excluded from the training data.\n",
    "\n",
    "- \\*_at_retrival - These are features that are dependent on when the data was pulled.  For real-time prediction when a post is made, these are not relevant since they will be the same as their \\*_at_request counterparts\n",
    "- post_was_edited - Since users are supposed to edit their post if they receive a pizza, this would be a major leak of results.  Additionally, we want to be able to make predictions as soon as the post is made, so subsequent edits won't be available.\n",
    "- requester_user_flair - There isn't historical flair information, so this feature isn't an accurate reflection of the state at the time of the request.  Users who successfully give or receive pizza are granted special flair, so this would also be an unfair indicator of results.\n",
    "- request_text - Since successful posts are often edited to indicate that the request has been fulfilled, the full request_text can't be used.  The additional \"request_text_edit_aware\" field has edits stripped out and is available in both the train and test data and will be used instead."
   ]
  },
  {
   "cell_type": "code",
   "execution_count": 63,
   "metadata": {
    "collapsed": true
   },
   "outputs": [],
   "source": [
    "train_with_test_schema = raw_train[raw_test.columns.values]"
   ]
  },
  {
   "cell_type": "markdown",
   "metadata": {},
   "source": [
    "## Train/Development Data Split\n",
    "\n",
    "We'll hold out ~15% of the training data as our development data set.  All exploratory data analysis and model training will be done only on the ~85% of training data that is not being held out.  We do not know if the order of the training data is meaningful, so we will use random sampling to avoid introducing bias."
   ]
  },
  {
   "cell_type": "code",
   "execution_count": 64,
   "metadata": {
    "collapsed": true
   },
   "outputs": [],
   "source": [
    "np.random.seed(6)\n",
    "in_dev = np.random.choice([True, False], len(raw_train), p=[0.15, 0.85])\n",
    "\n",
    "# train_data will be the training data without any new features added.  This will be used for the EDA.\n",
    "train_data = train_with_test_schema[np.logical_not(in_dev)].copy()\n",
    "\n",
    "train_labels = raw_train[\"requester_received_pizza\"][np.logical_not(in_dev)]\n",
    "dev_labels = raw_train[\"requester_received_pizza\"][in_dev]\n",
    "\n",
    "# We will add new features to extended_data as we explore.  When we complete, we will set the train_data, dev_data, \n",
    "# and test_data to be the appropriate rows from extended_data.\n",
    "extended_data = pd.concat([train_with_test_schema.copy(), raw_test])\n",
    "in_train = np.concatenate((np.logical_not(in_dev), np.full(len(raw_test), False)))\n",
    "in_dev = np.concatenate((in_dev, np.full(len(raw_test), False)))\n",
    "in_test = np.concatenate((np.full(len(raw_train), False), np.full(len(raw_test), True)))"
   ]
  },
  {
   "cell_type": "markdown",
   "metadata": {},
   "source": [
    "## Exploratory Data Analysis\n",
    "We'll now look at the individual fields to understand their types and distributions.\n",
    "\n",
    "### Request Time\n",
    "There are several things to look at with respect to the request time:\n",
    "\n",
    "1. Has the frequency of requests changed over time?\n",
    "2. Has the rate of request fulfillment changed over time?\n",
    "3. Does day of week matter? (Possible new feature)\n",
    "4. Does time of day matter? (Possible new feature)\n",
    "\n",
    "#### Request Frequency"
   ]
  },
  {
   "cell_type": "code",
   "execution_count": 65,
   "metadata": {},
   "outputs": [
    {
     "data": {
      "text/plain": [
       "<matplotlib.text.Text at 0x25d70d7be10>"
      ]
     },
     "execution_count": 65,
     "metadata": {},
     "output_type": "execute_result"
    },
    {
     "data": {
      "image/png": "[encoded data removed]",
      "text/plain": [
       "<matplotlib.figure.Figure at 0x25d70f9eb70>"
      ]
     },
     "metadata": {},
     "output_type": "display_data"
    }
   ],
   "source": [
    "d = pd.DataFrame()\n",
    "d['datetime'] = pd.to_datetime(train_data[\"unix_timestamp_of_request\"], unit = 's')\n",
    "d.index = d['datetime']\n",
    "d['datetime'].resample('W').count().plot().set_title('Number of Posts by Week')"
   ]
  },
  {
   "cell_type": "markdown",
   "metadata": {},
   "source": [
    "#### Request Fulfillment over Time"
   ]
  },
  {
   "cell_type": "code",
   "execution_count": 66,
   "metadata": {},
   "outputs": [
    {
     "data": {
      "text/plain": [
       "<matplotlib.text.Text at 0x25d7233bb70>"
      ]
     },
     "execution_count": 66,
     "metadata": {},
     "output_type": "execute_result"
    },
    {
     "data": {
      "image/png": "[encoded data removed]",
      "text/plain": [
       "<matplotlib.figure.Figure at 0x25d720c39e8>"
      ]
     },
     "metadata": {},
     "output_type": "display_data"
    }
   ],
   "source": [
    "d = pd.DataFrame()\n",
    "d['datetime'] = pd.to_datetime(train_data[\"unix_timestamp_of_request\"], unit = 's')\n",
    "d['result'] = train_labels\n",
    "d.index = d['datetime']\n",
    "d.resample('W').mean().plot().set_title(\"Percent of Requests Fulfilled by Week\")"
   ]
  },
  {
   "cell_type": "markdown",
   "metadata": {},
   "source": [
    "It looks like there was a lot of excitement at the start of the sub-reddit.  There was a burst of requests and an unsustained high rate of fulfillment.  We will add a feature that indicates whether or not the post was during this initial time, since it doesn't seem to be a part of the general trend.  August 1st, 2011 looks like a reasonable cutoff, so there will be a new boolean feature called \"during_initial_period\" that indicates this."
   ]
  },
  {
   "cell_type": "code",
   "execution_count": 67,
   "metadata": {
    "collapsed": true
   },
   "outputs": [],
   "source": [
    "import time\n",
    "import datetime\n",
    "cutoff_date = datetime.date(2011,8,1)\n",
    "cutoff_time = time.mktime(cutoff_date.timetuple())\n",
    "extended_data['during_initial_period'] = np.where(extended_data['unix_timestamp_of_request_utc'] < cutoff_time, 1, 0)"
   ]
  },
  {
   "cell_type": "markdown",
   "metadata": {},
   "source": [
    "#### Day of Week"
   ]
  },
  {
   "cell_type": "code",
   "execution_count": 68,
   "metadata": {},
   "outputs": [
    {
     "data": {
      "text/html": [
       "<div>\n",
       "<style>\n",
       "    .dataframe thead tr:only-child th {\n",
       "        text-align: right;\n",
       "    }\n",
       "\n",
       "    .dataframe thead th {\n",
       "        text-align: left;\n",
       "    }\n",
       "\n",
       "    .dataframe tbody tr th {\n",
       "        vertical-align: top;\n",
       "    }\n",
       "</style>\n",
       "<table border=\"1\" class=\"dataframe\">\n",
       "  <thead>\n",
       "    <tr>\n",
       "      <th></th>\n",
       "      <th colspan=\"2\" halign=\"left\">result</th>\n",
       "    </tr>\n",
       "    <tr>\n",
       "      <th></th>\n",
       "      <th>mean</th>\n",
       "      <th>count</th>\n",
       "    </tr>\n",
       "    <tr>\n",
       "      <th>dayofweek</th>\n",
       "      <th></th>\n",
       "      <th></th>\n",
       "    </tr>\n",
       "  </thead>\n",
       "  <tbody>\n",
       "    <tr>\n",
       "      <th>0</th>\n",
       "      <td>0.253521</td>\n",
       "      <td>497</td>\n",
       "    </tr>\n",
       "    <tr>\n",
       "      <th>1</th>\n",
       "      <td>0.230315</td>\n",
       "      <td>508</td>\n",
       "    </tr>\n",
       "    <tr>\n",
       "      <th>2</th>\n",
       "      <td>0.217241</td>\n",
       "      <td>580</td>\n",
       "    </tr>\n",
       "    <tr>\n",
       "      <th>3</th>\n",
       "      <td>0.296375</td>\n",
       "      <td>469</td>\n",
       "    </tr>\n",
       "    <tr>\n",
       "      <th>4</th>\n",
       "      <td>0.265351</td>\n",
       "      <td>456</td>\n",
       "    </tr>\n",
       "    <tr>\n",
       "      <th>5</th>\n",
       "      <td>0.230088</td>\n",
       "      <td>452</td>\n",
       "    </tr>\n",
       "    <tr>\n",
       "      <th>6</th>\n",
       "      <td>0.230769</td>\n",
       "      <td>481</td>\n",
       "    </tr>\n",
       "  </tbody>\n",
       "</table>\n",
       "</div>"
      ],
      "text/plain": [
       "             result      \n",
       "               mean count\n",
       "dayofweek                \n",
       "0          0.253521   497\n",
       "1          0.230315   508\n",
       "2          0.217241   580\n",
       "3          0.296375   469\n",
       "4          0.265351   456\n",
       "5          0.230088   452\n",
       "6          0.230769   481"
      ]
     },
     "execution_count": 68,
     "metadata": {},
     "output_type": "execute_result"
    }
   ],
   "source": [
    "d['dayofweek'] = d['datetime'].dt.dayofweek\n",
    "d.groupby('dayofweek').agg(['mean', 'count'])"
   ]
  },
  {
   "cell_type": "markdown",
   "metadata": {},
   "source": [
    "#### Time of Day"
   ]
  },
  {
   "cell_type": "code",
   "execution_count": 69,
   "metadata": {},
   "outputs": [
    {
     "data": {
      "text/plain": [
       "<matplotlib.text.Text at 0x25d72359518>"
      ]
     },
     "execution_count": 69,
     "metadata": {},
     "output_type": "execute_result"
    },
    {
     "data": {
      "image/png": "[encoded data removed]",
      "text/plain": [
       "<matplotlib.figure.Figure at 0x25d72380dd8>"
      ]
     },
     "metadata": {},
     "output_type": "display_data"
    },
    {
     "data": {
      "image/png": "[encoded data removed]",
      "text/plain": [
       "<matplotlib.figure.Figure at 0x25d72380f60>"
      ]
     },
     "metadata": {},
     "output_type": "display_data"
    }
   ],
   "source": [
    "d['hour'] = d['datetime'].dt.hour\n",
    "d[['hour', 'result']].groupby('hour').agg('count').plot().set_title(\"Number of Requests by Hour of Day\")\n",
    "d[['hour', 'result']].groupby('hour').agg('mean').plot().set_title(\"Percent of Requests Fulfilled by Hour of Day\")"
   ]
  },
  {
   "cell_type": "markdown",
   "metadata": {},
   "source": [
    "The fulfillment rate varies from 21.1% to 28.8% by the day of the week and from 11.1% to 39.0% depending on the hour of the day. Both of these seem like reasonably distinguishing features that we should include."
   ]
  },
  {
   "cell_type": "code",
   "execution_count": 70,
   "metadata": {
    "collapsed": true
   },
   "outputs": [],
   "source": [
    "extended_data['day_of_week'] = pd.to_datetime(extended_data[\"unix_timestamp_of_request\"], unit = 's').dt.dayofweek\n",
    "extended_data['hour_of_day'] = pd.to_datetime(extended_data[\"unix_timestamp_of_request\"], unit = 's').dt.hour"
   ]
  },
  {
   "cell_type": "markdown",
   "metadata": {},
   "source": [
    "### Field Comparison Utilities"
   ]
  },
  {
   "cell_type": "code",
   "execution_count": 71,
   "metadata": {
    "collapsed": true
   },
   "outputs": [],
   "source": [
    "from scipy.stats import ttest_ind\n",
    "\n",
    "def success_vs_fail_report(feature, try_log = False):\n",
    "    print (feature)\n",
    "    success_values = train_data[feature][train_labels]\n",
    "    print (\"SUCCESS\", \"Mean:\", \"{:.3f}\".format(success_values.mean()), \"StdDev:\", \"{:.3f}\".format(success_values.std()))\n",
    "    fail_values = train_data[feature][np.logical_not(train_labels)]\n",
    "    print (\"FAIL   \", \"Mean:\", \"{:.3f}\".format(fail_values.mean()), \"StdDev:\", \"{:.3f}\".format(fail_values.std()))\n",
    "    ttest = ttest_ind(success_values, fail_values, equal_var=False)\n",
    "    print (\"TStat:\", \"{:.3f}\".format(ttest.statistic))\n",
    "    \n",
    "    if try_log:\n",
    "        ttest_of_log = ttest_ind(np.log(success_values + 1), np.log(fail_values + 1), equal_var=False)\n",
    "        print (\"TStat (log):\", \"{:.3f}\".format(ttest_of_log.statistic))\n",
    "    "
   ]
  },
  {
   "cell_type": "markdown",
   "metadata": {},
   "source": [
    "### Text Field Lengths\n",
    "#### Title Length"
   ]
  },
  {
   "cell_type": "code",
   "execution_count": 72,
   "metadata": {},
   "outputs": [
    {
     "name": "stdout",
     "output_type": "stream",
     "text": [
      "title_length\n",
      "SUCCESS Mean: 73.527 StdDev: 37.051\n",
      "FAIL    Mean: 71.085 StdDev: 35.765\n",
      "TStat: 1.678\n",
      "TStat (log): 2.099\n"
     ]
    }
   ],
   "source": [
    "train_data['title_length'] = train_data['request_title'].str.len()\n",
    "success_vs_fail_report('title_length', try_log=True)"
   ]
  },
  {
   "cell_type": "markdown",
   "metadata": {},
   "source": [
    "#### Request Length"
   ]
  },
  {
   "cell_type": "code",
   "execution_count": 73,
   "metadata": {},
   "outputs": [
    {
     "name": "stdout",
     "output_type": "stream",
     "text": [
      "request_length\n",
      "SUCCESS Mean: 466.801 StdDev: 388.117\n",
      "FAIL    Mean: 371.984 StdDev: 347.083\n",
      "TStat: 6.324\n",
      "TStat (log): 6.540\n"
     ]
    }
   ],
   "source": [
    "train_data['request_length'] = train_data['request_text_edit_aware'].str.len()\n",
    "success_vs_fail_report('request_length', try_log=True)"
   ]
  },
  {
   "cell_type": "markdown",
   "metadata": {},
   "source": [
    "It seems that the title length doesn't seem to vary much for those who received a pizza vs those that did not.  However, it does appear that a longer request is much more likely to get you a pizza.  This is a very good feature to include in the model."
   ]
  },
  {
   "cell_type": "code",
   "execution_count": 74,
   "metadata": {
    "collapsed": true
   },
   "outputs": [],
   "source": [
    "extended_data['request_length'] = extended_data['request_text_edit_aware'].str.len()"
   ]
  },
  {
   "cell_type": "markdown",
   "metadata": {},
   "source": [
    "### Upvotes vs Downvotes\n",
    "\n",
    "Here we compare using the features requester_upvotes_minus_downvotes_at_request and requester_upvotes_plus_downvotes_at_request vs creating new features 'upvotes' and 'downvotes'"
   ]
  },
  {
   "cell_type": "code",
   "execution_count": 75,
   "metadata": {},
   "outputs": [
    {
     "name": "stdout",
     "output_type": "stream",
     "text": [
      "requester_upvotes_minus_downvotes_at_request\n",
      "SUCCESS Mean: 1384.634 StdDev: 5722.983\n",
      "FAIL    Mean: 1099.245 StdDev: 3111.062\n",
      "TStat: 1.384\n",
      "\n",
      "requester_upvotes_plus_downvotes_at_request\n",
      "SUCCESS Mean: 5189.639 StdDev: 45467.228\n",
      "FAIL    Mean: 3412.276 StdDev: 18660.821\n",
      "TStat: 1.106\n",
      "TStat (log): 7.138\n",
      "\n",
      "upvotes\n",
      "SUCCESS Mean: 3287.136 StdDev: 25527.129\n",
      "FAIL    Mean: 2255.761 StdDev: 10711.807\n",
      "TStat: 1.142\n",
      "TStat (log): 7.172\n",
      "\n",
      "downvotes\n",
      "SUCCESS Mean: 8476.775 StdDev: 70988.942\n",
      "FAIL    Mean: 5668.037 StdDev: 29355.211\n",
      "TStat: 1.119\n",
      "TStat (log): 7.297\n",
      "\n",
      "upvotes_ratio\n",
      "SUCCESS Mean: 0.670 StdDev: 0.255\n",
      "FAIL    Mean: 0.597 StdDev: 0.316\n",
      "TStat: 6.753\n"
     ]
    }
   ],
   "source": [
    "success_vs_fail_report('requester_upvotes_minus_downvotes_at_request')  #Not doing log because this can be negative\n",
    "\n",
    "print()\n",
    "success_vs_fail_report('requester_upvotes_plus_downvotes_at_request', try_log=True)\n",
    "\n",
    "print()\n",
    "train_data['upvotes']  = (train_data['requester_upvotes_minus_downvotes_at_request'] +\n",
    "                       train_data['requester_upvotes_plus_downvotes_at_request']) / 2\n",
    "success_vs_fail_report('upvotes', try_log=True)\n",
    "\n",
    "print()\n",
    "train_data['downvotes']  = (train_data['requester_upvotes_plus_downvotes_at_request'] +\n",
    "                       train_data['upvotes'])\n",
    "success_vs_fail_report('downvotes', try_log=True)\n",
    "\n",
    "print()\n",
    "train_data['upvotes_ratio']  = np.nan_to_num(train_data['upvotes'] / train_data['requester_upvotes_plus_downvotes_at_request'], 0)\n",
    "success_vs_fail_report('upvotes_ratio')"
   ]
  },
  {
   "cell_type": "markdown",
   "metadata": {},
   "source": [
    "Both the upvotes_ratio and log(upvotes + 1) are very strong indicators, so they should also be included as a new feature."
   ]
  },
  {
   "cell_type": "code",
   "execution_count": 76,
   "metadata": {
    "collapsed": true
   },
   "outputs": [],
   "source": [
    "extended_data['upvotes'] = (extended_data['requester_upvotes_minus_downvotes_at_request'] +\n",
    "                            extended_data['requester_upvotes_plus_downvotes_at_request']) / 2\n",
    "\n",
    "extended_data['upvotes_log'] = np.log(extended_data['upvotes'] + 1)\n",
    "\n",
    "extended_data['upvotes_ratio'] = np.nan_to_num(\n",
    "   (extended_data['upvotes'] / extended_data['requester_upvotes_plus_downvotes_at_request']), 0)"
   ]
  },
  {
   "cell_type": "markdown",
   "metadata": {},
   "source": [
    "### Requestor Activity"
   ]
  },
  {
   "cell_type": "code",
   "execution_count": 77,
   "metadata": {},
   "outputs": [
    {
     "name": "stdout",
     "output_type": "stream",
     "text": [
      "requester_number_of_posts_at_request\n",
      "SUCCESS Mean: 24.236 StdDev: 54.234\n",
      "FAIL    Mean: 20.962 StdDev: 51.430\n",
      "TStat: 1.543\n",
      "TStat (log): 3.860\n",
      "\n",
      "requester_number_of_posts_on_raop_at_request\n",
      "SUCCESS Mean: 0.139 StdDev: 0.528\n",
      "FAIL    Mean: 0.035 StdDev: 0.212\n",
      "TStat: 5.539\n",
      "TStat (log): 5.823\n",
      "\n",
      "requester_account_age_in_days_at_request\n",
      "SUCCESS Mean: 278.416 StdDev: 310.823\n",
      "FAIL    Mean: 247.189 StdDev: 301.900\n",
      "TStat: 2.554\n",
      "TStat (log): 6.198\n",
      "\n",
      "requester_number_of_subreddits_at_request\n",
      "SUCCESS Mean: 19.722 StdDev: 21.521\n",
      "FAIL    Mean: 17.359 StdDev: 21.529\n",
      "TStat: 2.770\n",
      "TStat (log): 5.856\n"
     ]
    }
   ],
   "source": [
    "success_vs_fail_report('requester_number_of_posts_at_request', try_log=True)\n",
    "print()\n",
    "success_vs_fail_report('requester_number_of_posts_on_raop_at_request', try_log=True)\n",
    "print()\n",
    "success_vs_fail_report('requester_account_age_in_days_at_request', try_log=True)\n",
    "print()\n",
    "success_vs_fail_report('requester_number_of_subreddits_at_request', try_log=True)"
   ]
  },
  {
   "cell_type": "code",
   "execution_count": 78,
   "metadata": {
    "collapsed": true
   },
   "outputs": [],
   "source": [
    "extended_data['requester_number_of_posts_at_request_log'] = np.log(extended_data['requester_number_of_posts_at_request'] + 1)\n",
    "extended_data['requester_account_age_in_days_at_request_log'] = np.log(extended_data['requester_account_age_in_days_at_request'] + 1)\n",
    "extended_data['requester_number_of_subreddits_at_request_log'] = np.log(extended_data['requester_number_of_subreddits_at_request'] + 1)"
   ]
  },
  {
   "cell_type": "markdown",
   "metadata": {},
   "source": [
    "#### First Time Posting\n",
    "We see that the number of posts on r/raop is likely a good indicator.  What about just seeing if this being the first time someone posts is significant?"
   ]
  },
  {
   "cell_type": "code",
   "execution_count": 79,
   "metadata": {
    "scrolled": true
   },
   "outputs": [
    {
     "name": "stdout",
     "output_type": "stream",
     "text": [
      "first_raop_post\n",
      "SUCCESS Mean: 0.911 StdDev: 0.285\n",
      "FAIL    Mean: 0.970 StdDev: 0.172\n",
      "TStat: -5.642\n",
      "\n",
      "Success Rate if First Post: 0.233809668592\n",
      "Success Rate if Not First Post: 0.487012987013\n"
     ]
    }
   ],
   "source": [
    "train_data['first_raop_post'] = train_data['requester_number_of_posts_on_raop_at_request'] == 0\n",
    "success_vs_fail_report('first_raop_post')\n",
    "\n",
    "print()\n",
    "print (\"Success Rate if First Post:\", train_labels[train_data['first_raop_post']].mean())\n",
    "print (\"Success Rate if Not First Post:\", train_labels[np.logical_not(train_data['first_raop_post'])].mean())"
   ]
  },
  {
   "cell_type": "markdown",
   "metadata": {},
   "source": [
    "We can see that the success rate is much higher if this is not the users first time posting on the subreddit.  This is likely a stong feature to add."
   ]
  },
  {
   "cell_type": "code",
   "execution_count": 80,
   "metadata": {
    "collapsed": true
   },
   "outputs": [],
   "source": [
    "extended_data['first_raop_post'] = extended_data['requester_number_of_posts_on_raop_at_request'] == 0"
   ]
  },
  {
   "cell_type": "markdown",
   "metadata": {},
   "source": [
    "### Text Analysis\n",
    "#### Magic Words: Please vs Need\n",
    "As a warm up, let's investigate the hypothesis that being polite makes a difference."
   ]
  },
  {
   "cell_type": "code",
   "execution_count": 81,
   "metadata": {},
   "outputs": [
    {
     "name": "stdout",
     "output_type": "stream",
     "text": [
      "says_please\n",
      "SUCCESS Mean: 0.090 StdDev: 0.286\n",
      "FAIL    Mean: 0.096 StdDev: 0.295\n",
      "TStat: -0.537\n",
      "says_need\n",
      "SUCCESS Mean: 0.168 StdDev: 0.374\n",
      "FAIL    Mean: 0.127 StdDev: 0.333\n",
      "TStat: 2.857\n"
     ]
    }
   ],
   "source": [
    "train_data['says_please'] = train_data['request_text_edit_aware'].str.lower().str.contains(\"please\")\n",
    "success_vs_fail_report('says_please')\n",
    "\n",
    "train_data['says_need'] = train_data['request_text_edit_aware'].str.lower().str.contains(\"need\")\n",
    "success_vs_fail_report('says_need')"
   ]
  },
  {
   "cell_type": "markdown",
   "metadata": {},
   "source": [
    "Here we see that the magic word isn't so magic, but all is not lost.  It seems people in need are more likely to get a pizza.  The NLTK transformations will take care of collecting these features but still nice to check."
   ]
  },
  {
   "cell_type": "markdown",
   "metadata": {},
   "source": [
    "### Vectorizing Request Titles & Text\n",
    "We believe that the titles and request body should be treated separately. We will do so by building a preprocessor that includes NLTK capabilities along with regular expression cleaning.\n",
    "\n",
    "1. Regular Expressions: cleaning out sequences of numbers, non-letter characters, strings with underscores, and lower-casing\n",
    "2. Tokenizing: splits raw text into sentences, words and punctuation\n",
    "3. Stop Words: removing filler words i.e. the, me, then\n",
    "4. Pos Tag: use tokenized words to identify the part of speech WordNet tag from Penn Treebank https://www.ling.upenn.edu/courses/Fall_2003/ling001/penn_treebank_pos.html\n",
    "5. Lemmatizing: Convert the part of speech WordNet tag to identify a noun, verb, adverb, or adjective (based on starting with 'N’, ‘V’, ‘R’, or ‘J’). Then we use the tag to translate to the lemma, or the root word in the english lexicon."
   ]
  },
  {
   "cell_type": "code",
   "execution_count": 24,
   "metadata": {
    "collapsed": true
   },
   "outputs": [],
   "source": [
    "def nltk_preprocess(data):\n",
    "    '''This function preprocesses a data frame, specifing a text_column, \n",
    "    and strips down the document to cleaned, individualized word tokens without\n",
    "    stop words and other excessive parts of speech and eventually rejoins the remaining words.\n",
    "    '''\n",
    "    #Initializes stop words and new column creation\n",
    "    stop = stopwords.words('english')\n",
    "    \n",
    "    \n",
    "    #Initialize Lemmatizer object and final list of lemmatized words\n",
    "    lemmatizer = WordNetLemmatizer()\n",
    "    \n",
    "    def get_wordnet_pos(treebank_tag):\n",
    "        if treebank_tag.startswith('J'):\n",
    "            return wordnet.ADJ\n",
    "        elif treebank_tag.startswith('V'):\n",
    "            return wordnet.VERB\n",
    "        elif treebank_tag.startswith('N'):\n",
    "            return wordnet.NOUN\n",
    "        elif treebank_tag.startswith('R'):\n",
    "            return wordnet.ADV\n",
    "        else:\n",
    "            return None # for easy if-statement\n",
    "        \n",
    "    def lemmatized(word, tag):\n",
    "        wntag = get_wordnet_pos(tag)\n",
    "        if wntag is None:\n",
    "            lemma = str(lemmatizer.lemmatize(word))\n",
    "        else:\n",
    "            lemma = str(lemmatizer.lemmatize(word, pos=wntag))\n",
    "        return lemma\n",
    "\n",
    "    data = data.apply(lambda x: re.sub(r'\\d+', r' ', x)).apply(lambda y: re.sub(r'\\W+', r' ', y)).apply(lambda z: re.sub(r\"_+\",r\" \",z))\n",
    "    data = data.str.lower()\n",
    "    data = data.apply(word_tokenize)\n",
    "    data = data.apply(lambda x: [item for item in x if item not in stop])\n",
    "    data = data.apply(pos_tag)\n",
    "    data = data.apply(lambda x: [lemmatized(word, tag) for (word, tag) in x])\n",
    "    data = data.apply(lambda x: ' '.join(x))\n",
    "    return data\n",
    "    \n",
    "    #new_column = 'Tokenized_' + str(text_column)\n",
    "    #data[new_column] = data[text_column].apply(lambda x: re.sub(r'\\d+', r' ', x)).apply(lambda y: re.sub(r'\\W+', r' ', y)).apply(lambda z: re.sub(r\"_+\",r\" \",z))\n",
    "    #data[new_column] = data[new_column].str.lower()\n",
    "    #data[new_column] = data[new_column].apply(word_tokenize)\n",
    "    #data[new_column] = data[new_column].apply(lambda x: [item for item in x if item not in stop])\n",
    "    #data[new_column] = data[new_column].apply(pos_tag)\n",
    "    #data[new_column] = data[new_column].apply(lambda x: [lemmatized(word, tag) for (word, tag) in x])\n",
    "    #data[new_column] = data[new_column].apply(lambda x: ' '.join(x))\n",
    "    #return data[new_column]"
   ]
  },
  {
   "cell_type": "code",
   "execution_count": 82,
   "metadata": {},
   "outputs": [
    {
     "name": "stdout",
     "output_type": "stream",
     "text": [
      "Request Text Shape: (3443, 371)\n",
      "Request Title Shape: (3443, 59)\n"
     ]
    }
   ],
   "source": [
    "request_text_vectorizer = Pipeline([('cv', CountVectorizer(min_df=.02, max_df=.3, ngram_range=(1,3))),\n",
    "                                    ('tfidf', TfidfTransformer())])\n",
    "train_request_text_wordvecs = request_text_vectorizer.fit_transform(nltk_preprocess(train_data['request_text_edit_aware']))\n",
    "\n",
    "request_title_vectorizer = Pipeline([('cv', CountVectorizer(min_df=.02, max_df=.5, ngram_range=(1,3))),\n",
    "                                     ('tfidf', TfidfTransformer())])\n",
    "train_request_title_wordvecs = request_title_vectorizer.fit_transform(nltk_preprocess(train_data['request_title']))\n",
    "\n",
    "print (\"Request Text Shape:\", train_request_text_wordvecs.shape)\n",
    "print (\"Request Title Shape:\", train_request_title_wordvecs.shape)\n",
    "\n",
    "extended_request_text_wordvecs = request_text_vectorizer.transform(extended_data['request_text_edit_aware'])\n",
    "extended_request_title_wordvecs = request_title_vectorizer.transform(extended_data['request_title'])"
   ]
  },
  {
   "cell_type": "markdown",
   "metadata": {},
   "source": [
    "After NLTK preprocessing, we end up with 371 unique words, bi- and tri-grams for the request text and 59 for the request title; without limiting the document frequency minimum and maximum, this would otherwise prove to be an unreasonably large number of features for some models.  For the models that can deal with huge dimensions, we will provide the original word vectors.  For models that can't handle this, we will perform dimensionality reduction using PCA."
   ]
  },
  {
   "cell_type": "code",
   "execution_count": 31,
   "metadata": {},
   "outputs": [
    {
     "data": {
      "image/png": "[encoded data removed]",
      "text/plain": [
       "<matplotlib.figure.Figure at 0x25d70f61240>"
      ]
     },
     "metadata": {},
     "output_type": "display_data"
    }
   ],
   "source": [
    "title_pca = PCA(50)\n",
    "title_pca.fit(train_request_title_wordvecs.todense())\n",
    "plt.plot(np.cumsum(title_pca.explained_variance_ratio_))\n",
    "plt.xlabel('PCA Component Count')\n",
    "plt.ylabel('Cumulative Explained Variance %')\n",
    "plt.title('Explained Variance for Request Title PCA')\n",
    "plt.show()"
   ]
  },
  {
   "cell_type": "code",
   "execution_count": 34,
   "metadata": {},
   "outputs": [
    {
     "data": {
      "image/png": "[encoded data removed]",
      "text/plain": [
       "<matplotlib.figure.Figure at 0x25d723d74a8>"
      ]
     },
     "metadata": {},
     "output_type": "display_data"
    }
   ],
   "source": [
    "text_pca = PCA(300)\n",
    "text_pca.fit(train_request_text_wordvecs.todense())\n",
    "np.cumsum(text_pca.explained_variance_ratio_)\n",
    "\n",
    "plt.plot(np.cumsum(text_pca.explained_variance_ratio_))\n",
    "plt.xlabel('PCA Component Count')\n",
    "plt.ylabel('Cumulative Explained Variance %')\n",
    "plt.title('Explained Variance for Request Text PCA')\n",
    "plt.show()"
   ]
  },
  {
   "cell_type": "markdown",
   "metadata": {},
   "source": [
    "Because PCA does not allow us to cut down significantly on the feature dimensions while still explaining much of the variance, we look to a Random Forest on only the word vector counts in order to identify the most important features. This also serves to prevent overfitting in classifiers like Logistic regression.\n",
    "\n",
    "So, we fit a Random Forest classifier on the full word-vector list from titles and posts and keep only those with the largest weights after ensembling."
   ]
  },
  {
   "cell_type": "code",
   "execution_count": 106,
   "metadata": {},
   "outputs": [
    {
     "name": "stdout",
     "output_type": "stream",
     "text": [
      "Word vector features: (5671, 430)\n",
      "Development score: 0.544\n"
     ]
    }
   ],
   "source": [
    "extended_wordvecs = np.concatenate((extended_request_title_wordvecs.toarray(),\n",
    "                                extended_request_text_wordvecs.toarray()), axis=1)\n",
    "print(\"Word vector features:\", extended_wordvecs.shape)\n",
    "\n",
    "train_words = extended_wordvecs[in_train]\n",
    "dev_words = extended_wordvecs[in_dev]\n",
    "#test_words = extended_wordvecs[in_test]\n",
    "\n",
    "rf = RandomForestClassifier()\n",
    "rf.fit(train_words, train_labels)\n",
    "\n",
    "dev_score = rf.score(dev_words, dev_labels)\n",
    "dev_probs = rf.predict_proba(dev_words)\n",
    "print(\"Development score:\", \"{:.3f}\".format(metrics.roc_auc_score(dev_labels, dev_probs[:,1])))\n",
    "\n",
    "importance_index = np.argsort(rf.feature_importances_)\n",
    "\n",
    "top = 100\n",
    "restricted_wordvecs = extended_wordvecs[:,importance_index[importance_index.shape[0]-top:]]"
   ]
  },
  {
   "cell_type": "markdown",
   "metadata": {},
   "source": [
    "## Final Data Preparation\n",
    "Now that we've done all our transformations on the \"extended\" data set, we can replace our raw text fields with our transformed vocabulary and keep only our numeric model features."
   ]
  },
  {
   "cell_type": "code",
   "execution_count": 107,
   "metadata": {},
   "outputs": [
    {
     "name": "stdout",
     "output_type": "stream",
     "text": [
      "(5671, 430)\n",
      "(5671, 121)\n"
     ]
    }
   ],
   "source": [
    "model_data = extended_data.copy()\n",
    "\n",
    "exclude_features = ['giver_username_if_known', 'request_id', 'request_text_edit_aware',\n",
    "                    'request_title','requester_subreddits_at_request','requester_username',\n",
    "                    'requester_upvotes_minus_downvotes_at_request']\n",
    "\n",
    "model_data = model_data.drop(exclude_features, axis=1)\n",
    "\n",
    "#extended_request_text_wordvecs = request_text_vectorizer.transform(extended_data['request_text_edit_aware'])\n",
    "#extended_request_title_wordvecs = request_title_vectorizer.transform(extended_data['request_title'])\n",
    "\n",
    "\n",
    "model_data = np.concatenate((model_data, restricted_wordvecs), axis=1)\n",
    "print(extended_wordvecs.shape)\n",
    "print(model_data.shape)"
   ]
  },
  {
   "cell_type": "markdown",
   "metadata": {},
   "source": [
    "Now that we've done all our transformations on the \"extended\" data set, we will split it back up into train, dev, and test."
   ]
  },
  {
   "cell_type": "code",
   "execution_count": 109,
   "metadata": {},
   "outputs": [
    {
     "name": "stdout",
     "output_type": "stream",
     "text": [
      "Train: (3443, 121) Development: (597, 121)\n"
     ]
    }
   ],
   "source": [
    "train_data = model_data[in_train]\n",
    "dev_data = model_data[in_dev]\n",
    "test_data = model_data[in_test]\n",
    "\n",
    "print(\"Train:\", train_data.shape, \"Development:\", dev_data.shape)"
   ]
  },
  {
   "cell_type": "markdown",
   "metadata": {},
   "source": [
    "# Modeling\n",
    "\n",
    "### Logistic Regression\n",
    "We begin modeling with training a series of logistic regression models on our generated word counts and other numeric variables, including log transformations and vote ratios, for hyperparameters C and lasso regularization."
   ]
  },
  {
   "cell_type": "code",
   "execution_count": 110,
   "metadata": {},
   "outputs": [
    {
     "name": "stdout",
     "output_type": "stream",
     "text": [
      "Logistic with c = 0.0001 and l2 regularization:\n",
      "train ROC: 0.579\n",
      "dev ROC:   0.549\n",
      "\n",
      "******************************\n",
      "\n",
      "Logistic with c = 0.001 and l2 regularization:\n",
      "train ROC: 0.579\n",
      "dev ROC:   0.549\n",
      "\n",
      "******************************\n",
      "\n",
      "Logistic with c = 0.005 and l2 regularization:\n",
      "train ROC: 0.579\n",
      "dev ROC:   0.549\n",
      "\n",
      "******************************\n",
      "\n",
      "Logistic with c = 0.01 and l2 regularization:\n",
      "train ROC: 0.579\n",
      "dev ROC:   0.549\n",
      "\n",
      "******************************\n",
      "\n",
      "Logistic with c = 0.025 and l2 regularization:\n",
      "train ROC: 0.579\n",
      "dev ROC:   0.549\n",
      "\n",
      "******************************\n",
      "\n",
      "Logistic with c = 0.05 and l2 regularization:\n",
      "train ROC: 0.579\n",
      "dev ROC:   0.549\n",
      "\n",
      "******************************\n",
      "\n",
      "Logistic with c = 0.1 and l2 regularization:\n",
      "train ROC: 0.579\n",
      "dev ROC:   0.549\n",
      "\n",
      "******************************\n",
      "\n",
      "Logistic with c = 0.125 and l2 regularization:\n",
      "train ROC: 0.579\n",
      "dev ROC:   0.549\n",
      "\n",
      "******************************\n",
      "\n",
      "Logistic with c = 0.25 and l2 regularization:\n",
      "train ROC: 0.579\n",
      "dev ROC:   0.549\n",
      "\n",
      "******************************\n",
      "\n",
      "Logistic with c = 0.5 and l2 regularization:\n",
      "train ROC: 0.579\n",
      "dev ROC:   0.549\n",
      "\n",
      "******************************\n",
      "\n",
      "Logistic with c = 1 and l2 regularization:\n",
      "train ROC: 0.579\n",
      "dev ROC:   0.549\n",
      "\n",
      "******************************\n",
      "\n",
      "Logistic with c = 5 and l2 regularization:\n",
      "train ROC: 0.579\n",
      "dev ROC:   0.549\n",
      "\n",
      "******************************\n",
      "\n",
      "Logistic with c = 10 and l2 regularization:\n",
      "train ROC: 0.579\n",
      "dev ROC:   0.549\n",
      "\n",
      "******************************\n",
      "\n",
      "Logistic with c = 25 and l2 regularization:\n",
      "train ROC: 0.579\n",
      "dev ROC:   0.549\n",
      "\n",
      "******************************\n",
      "\n",
      "Logistic with c = 50 and l2 regularization:\n",
      "train ROC: 0.579\n",
      "dev ROC:   0.549\n",
      "\n",
      "******************************\n",
      "\n",
      "Logistic with c = 100 and l2 regularization:\n",
      "train ROC: 0.579\n",
      "dev ROC:   0.549\n",
      "\n",
      "******************************\n",
      "\n",
      "Logistic with c = 500 and l2 regularization:\n",
      "train ROC: 0.579\n",
      "dev ROC:   0.549\n",
      "\n",
      "******************************\n",
      "\n"
     ]
    },
    {
     "data": {
      "image/png": "[encoded data removed]",
      "text/plain": [
       "<matplotlib.figure.Figure at 0x25d721316a0>"
      ]
     },
     "metadata": {},
     "output_type": "display_data"
    },
    {
     "name": "stdout",
     "output_type": "stream",
     "text": [
      "Logistic with c = 0.0001 and l1 regularization:\n",
      "train ROC: 0.609\n",
      "dev ROC:   0.600\n",
      "\n",
      "******************************\n",
      "\n",
      "Logistic with c = 0.001 and l1 regularization:\n",
      "train ROC: 0.617\n",
      "dev ROC:   0.608\n",
      "\n",
      "******************************\n",
      "\n",
      "Logistic with c = 0.005 and l1 regularization:\n",
      "train ROC: 0.644\n",
      "dev ROC:   0.611\n",
      "\n",
      "******************************\n",
      "\n",
      "Logistic with c = 0.01 and l1 regularization:\n",
      "train ROC: 0.645\n",
      "dev ROC:   0.616\n",
      "\n",
      "******************************\n",
      "\n",
      "Logistic with c = 0.025 and l1 regularization:\n",
      "train ROC: 0.661\n",
      "dev ROC:   0.640\n",
      "\n",
      "******************************\n",
      "\n",
      "Logistic with c = 0.05 and l1 regularization:\n",
      "train ROC: 0.668\n",
      "dev ROC:   0.654\n",
      "\n",
      "******************************\n",
      "\n",
      "Logistic with c = 0.1 and l1 regularization:\n",
      "train ROC: 0.672\n",
      "dev ROC:   0.661\n",
      "\n",
      "******************************\n",
      "\n",
      "Logistic with c = 0.125 and l1 regularization:\n",
      "train ROC: 0.675\n",
      "dev ROC:   0.662\n",
      "\n",
      "******************************\n",
      "\n",
      "Logistic with c = 0.25 and l1 regularization:\n",
      "train ROC: 0.702\n",
      "dev ROC:   0.663\n",
      "\n",
      "******************************\n",
      "\n",
      "Logistic with c = 0.5 and l1 regularization:\n",
      "train ROC: 0.723\n",
      "dev ROC:   0.657\n",
      "\n",
      "******************************\n",
      "\n",
      "Logistic with c = 1 and l1 regularization:\n",
      "train ROC: 0.735\n",
      "dev ROC:   0.655\n",
      "\n",
      "******************************\n",
      "\n",
      "Logistic with c = 5 and l1 regularization:\n",
      "train ROC: 0.744\n",
      "dev ROC:   0.654\n",
      "\n",
      "******************************\n",
      "\n",
      "Logistic with c = 10 and l1 regularization:\n",
      "train ROC: 0.745\n",
      "dev ROC:   0.654\n",
      "\n",
      "******************************\n",
      "\n",
      "Logistic with c = 25 and l1 regularization:\n",
      "train ROC: 0.745\n",
      "dev ROC:   0.654\n",
      "\n",
      "******************************\n",
      "\n",
      "Logistic with c = 50 and l1 regularization:\n",
      "train ROC: 0.745\n",
      "dev ROC:   0.653\n",
      "\n",
      "******************************\n",
      "\n",
      "Logistic with c = 100 and l1 regularization:\n",
      "train ROC: 0.745\n",
      "dev ROC:   0.654\n",
      "\n",
      "******************************\n",
      "\n",
      "Logistic with c = 500 and l1 regularization:\n",
      "train ROC: 0.745\n",
      "dev ROC:   0.654\n",
      "\n",
      "******************************\n",
      "\n"
     ]
    },
    {
     "data": {
      "image/png": "[encoded data removed]",
      "text/plain": [
       "<matplotlib.figure.Figure at 0x25d7237d320>"
      ]
     },
     "metadata": {},
     "output_type": "display_data"
    },
    {
     "name": "stdout",
     "output_type": "stream",
     "text": [
      "Best development ROC: 0.663 (c= 0.25 , reg= l1 )\n"
     ]
    }
   ],
   "source": [
    "def logistic_tester(c=1, p=\"l2\", \n",
    "                    train_data = train_data,\n",
    "                    train_labels = train_labels,\n",
    "                    dev_data = dev_data,\n",
    "                    dev_labels = dev_labels,\n",
    "                    test_data = test_data):\n",
    "    \"\"\"Train logistic for any C, penalty; return ROC score on development set and test set predictions\"\"\"\n",
    "    \n",
    "    print(\"Logistic with c =\", str(c), \"and\", p,\"regularization:\")\n",
    "    full_lr = LogisticRegression(penalty=p, C=c, tol=.001, class_weight=\"balanced\")\n",
    "    full_lr.fit(train_data, train_labels)\n",
    "\n",
    "    train_preds = full_lr.predict(train_data)\n",
    "    train_probs = full_lr.predict_proba(train_data)\n",
    "    train_ROC = metrics.roc_auc_score(train_labels, train_probs[:,1])\n",
    "\n",
    "    dev_preds = full_lr.predict(dev_data)\n",
    "    dev_probs = full_lr.predict_proba(dev_data)\n",
    "    dev_ROC = metrics.roc_auc_score(dev_labels, dev_probs[:,1])\n",
    "\n",
    "    test_preds = full_lr.predict(test_data)\n",
    "\n",
    "    print(\"train ROC:\", \"{:.3f}\".format(train_ROC))\n",
    "    print(\"dev ROC:  \", \"{:.3f}\".format(dev_ROC))\n",
    "\n",
    "    #print(\"For train:\\n\", classification_report(train_preds, train_labels))\n",
    "    #print(\"For dev:\\n\", classification_report(dev_preds, dev_labels))\n",
    "    \n",
    "    print(\"\\n\"+\"*\"*30+\"\\n\")\n",
    "    return train_ROC, dev_ROC, test_preds\n",
    "\n",
    "\n",
    "c_list = [.0001, .001, .005, .01, .025, .05, .1, .125, .25, .5, 1, 5, 10, 25, 50, 100, 500]\n",
    "reg = [\"l2\",\"l1\"]\n",
    "\n",
    "best_dev_roc = 0\n",
    "\n",
    "for r in reg:\n",
    "    train_scores = []\n",
    "    dev_scores = []\n",
    "    for c in c_list:\n",
    "        train_ROC, dev_ROC, test_out = logistic_tester(c=c, p=r)\n",
    "        if (dev_ROC > best_dev_roc):\n",
    "            best_dev_roc = dev_ROC\n",
    "            test_preds = test_out\n",
    "            best_c = c\n",
    "            best_reg = r\n",
    "        train_scores.append(train_ROC)\n",
    "        dev_scores.append(dev_ROC)\n",
    "    plt.plot(c_list, train_scores, \"r\", c_list, dev_scores, \"b\")\n",
    "    plt.title(r+\" Regularization\")\n",
    "    plt.ylim(.55,1)\n",
    "    plt.show()\n",
    "\n",
    "print(\"Best development ROC:\", \"{:.3f}\".format(best_dev_roc), \"(c=\", best_c,\", reg=\", best_reg, \")\")"
   ]
  },
  {
   "cell_type": "code",
   "execution_count": 111,
   "metadata": {
    "collapsed": true
   },
   "outputs": [],
   "source": [
    "def export_test_preds(test_preds=test_preds, model=\"X\"):\n",
    "    test_out = pd.DataFrame()\n",
    "    test_out['request_id'] = extended_data[in_test]['request_id']\n",
    "    test_out['requester_received_pizza'] = test_preds.astype(int)\n",
    "    test_out.to_csv('./data/submission_'+model+'.csv', index=False)\n",
    "    return None\n",
    "\n",
    "export_test_preds(test_preds, \"logit\")"
   ]
  },
  {
   "cell_type": "markdown",
   "metadata": {},
   "source": [
    "### Multinomial Naive Bayes\n",
    "We next try using the Naive Bayes classifier, varying the hyperparameter of alpha and comparing its ROC score on our development set to that of the logistic regression."
   ]
  },
  {
   "cell_type": "code",
   "execution_count": 114,
   "metadata": {},
   "outputs": [
    {
     "name": "stdout",
     "output_type": "stream",
     "text": [
      "Naive Bayes with a = 0.0001 :\n",
      "train ROC: 0.529002678755\n",
      "dev ROC: 0.505316927666\n",
      "******************************\n",
      "\n",
      "Naive Bayes with a = 0.001 :\n",
      "train ROC: 0.529002678755\n",
      "dev ROC: 0.505316927666\n",
      "******************************\n",
      "\n",
      "Naive Bayes with a = 0.01 :\n",
      "train ROC: 0.529002678755\n",
      "dev ROC: 0.505316927666\n",
      "******************************\n",
      "\n",
      "Naive Bayes with a = 0.1 :\n",
      "train ROC: 0.529002678755\n",
      "dev ROC: 0.505316927666\n",
      "******************************\n",
      "\n",
      "Naive Bayes with a = 0.5 :\n",
      "train ROC: 0.529002678755\n",
      "dev ROC: 0.505316927666\n",
      "******************************\n",
      "\n",
      "Naive Bayes with a = 1.0 :\n",
      "train ROC: 0.529002678755\n",
      "dev ROC: 0.505316927666\n",
      "******************************\n",
      "\n",
      "Naive Bayes with a = 2.0 :\n",
      "train ROC: 0.529002678755\n",
      "dev ROC: 0.505316927666\n",
      "******************************\n",
      "\n",
      "Naive Bayes with a = 10.0 :\n",
      "train ROC: 0.529002678755\n",
      "dev ROC: 0.505316927666\n",
      "******************************\n",
      "\n"
     ]
    },
    {
     "data": {
      "image/png": "[encoded data removed]",
      "text/plain": [
       "<matplotlib.figure.Figure at 0x25d71c13278>"
      ]
     },
     "metadata": {},
     "output_type": "display_data"
    },
    {
     "name": "stdout",
     "output_type": "stream",
     "text": [
      "Best development ROC: 0.505316927666 (a= 0.0001 )\n"
     ]
    }
   ],
   "source": [
    "def nb_tester(a=1, \n",
    "                train_data = train_data,\n",
    "                train_labels = train_labels,\n",
    "                dev_data = dev_data,\n",
    "                dev_labels = dev_labels,\n",
    "                test_data = test_data):\n",
    "    \"\"\"Train Multi NB for any alpha a; return ROC score on development set and test set predictions\"\"\"\n",
    "    \n",
    "    print(\"Naive Bayes with a =\", str(a),\":\")\n",
    "    full_nb = MultinomialNB(alpha=a)\n",
    "    full_nb.fit(train_data, train_labels)\n",
    "\n",
    "    train_preds = full_nb.predict(train_data)\n",
    "    train_probs = full_nb.predict_proba(train_data)\n",
    "    train_ROC = metrics.roc_auc_score(train_labels, train_probs[:,1])\n",
    "\n",
    "    dev_preds = full_nb.predict(dev_data)\n",
    "    dev_probs = full_nb.predict_proba(dev_data)\n",
    "    dev_ROC = metrics.roc_auc_score(dev_labels, dev_probs[:,1])\n",
    "\n",
    "    test_preds = full_nb.predict(test_data)\n",
    "\n",
    "    print(\"train ROC:\", train_ROC)\n",
    "    print(\"dev ROC:\", dev_ROC)\n",
    "\n",
    "    #print(classification_report(train_preds, train_labels))\n",
    "    #print(classification_report(dev_preds, dev_labels))\n",
    "    \n",
    "    print(\"*\"*30+\"\\n\")\n",
    "    return train_ROC, dev_ROC, test_preds\n",
    "\n",
    "a_list = [0.0001, 0.001, 0.01, 0.1, 0.5, 1.0, 2.0, 10.0]\n",
    "\n",
    "best_dev_roc = 0\n",
    "\n",
    "train_scores = []\n",
    "dev_scores = []\n",
    "for a in a_list:\n",
    "    train_ROC, dev_ROC, test_out = nb_tester(a=a)\n",
    "    if (dev_ROC > best_dev_roc):\n",
    "        best_dev_roc = dev_ROC\n",
    "        test_preds = test_out\n",
    "        best_a = a\n",
    "    train_scores.append(train_ROC)\n",
    "    dev_scores.append(dev_ROC)\n",
    "plt.plot(a_list, train_scores, \"r\", a_list, dev_scores, \"b\")\n",
    "plt.title(\"ROC of MNB by alpha\")\n",
    "plt.ylim(.50,1)\n",
    "plt.show()\n",
    "\n",
    "print(\"Best development ROC:\", best_dev_roc, \"(a=\", best_a,\")\")"
   ]
  },
  {
   "cell_type": "markdown",
   "metadata": {},
   "source": [
    "Given the presence of numeric features including log-transformations, we consider a Gaussian NB, but like the Multinomial NB for different values of alpha, the classifier struggles to predict true positives."
   ]
  },
  {
   "cell_type": "code",
   "execution_count": 115,
   "metadata": {},
   "outputs": [
    {
     "name": "stdout",
     "output_type": "stream",
     "text": [
      "Gaussian Naive Bayes:\n",
      "             precision    recall  f1-score   support\n",
      "\n",
      "      False       0.99      0.76      0.86      3399\n",
      "       True       0.01      0.27      0.03        44\n",
      "\n",
      "avg / total       0.98      0.75      0.85      3443\n",
      "\n",
      "             precision    recall  f1-score   support\n",
      "\n",
      "      False       0.99      0.75      0.85       590\n",
      "       True       0.01      0.29      0.03         7\n",
      "\n",
      "avg / total       0.98      0.74      0.84       597\n",
      "\n",
      "GNB train ROC:       0.580307272757\n",
      "GNB development ROC: 0.600462341536\n"
     ]
    }
   ],
   "source": [
    "def gnb_tester(train_data = train_data,\n",
    "                train_labels = train_labels,\n",
    "                dev_data = dev_data,\n",
    "                dev_labels = dev_labels,\n",
    "                test_data = test_data):\n",
    "    \"\"\"Train Gaussian NB; return ROC score on development set and test set predictions\"\"\"\n",
    "    \n",
    "    print(\"Gaussian Naive Bayes:\")\n",
    "    gnb = GaussianNB()\n",
    "    gnb.fit(train_data, train_labels)\n",
    "\n",
    "    train_preds = gnb.predict(train_data)\n",
    "    train_probs = gnb.predict_proba(train_data)\n",
    "    train_ROC = metrics.roc_auc_score(train_labels, train_probs[:,1])\n",
    "\n",
    "    dev_preds = gnb.predict(dev_data)\n",
    "    dev_probs = gnb.predict_proba(dev_data)\n",
    "    dev_ROC = metrics.roc_auc_score(dev_labels, dev_probs[:,1])\n",
    "\n",
    "    test_preds = gnb.predict(test_data)\n",
    "\n",
    "    print(classification_report(train_preds, train_labels))\n",
    "    print(classification_report(dev_preds, dev_labels))\n",
    "    \n",
    "    return train_ROC, dev_ROC, test_preds\n",
    "\n",
    "\n",
    "train_ROC, dev_ROC, test_out = gnb_tester()\n",
    "\n",
    "print(\"GNB train ROC:      \", train_ROC)\n",
    "print(\"GNB development ROC:\", dev_ROC)"
   ]
  },
  {
   "cell_type": "markdown",
   "metadata": {},
   "source": [
    "### Gaussian Mixture Model"
   ]
  },
  {
   "cell_type": "code",
   "execution_count": 116,
   "metadata": {},
   "outputs": [
    {
     "name": "stdout",
     "output_type": "stream",
     "text": [
      "Best development accuracy: 0.747 (PCA= 80 , N= 8 , cov= full )\n"
     ]
    }
   ],
   "source": [
    "def gmm_tester(pca_comp=10, n_comp=5, covar=\"full\",\n",
    "               train_data = train_data,\n",
    "               train_labels = train_labels,\n",
    "               dev_data = dev_data,\n",
    "               dev_labels = dev_labels,\n",
    "               test_data = test_data):\n",
    "    \"\"\"Train GMM for n components and each covariance matrix;\n",
    "        return ROC score on development set and test set predictions\"\"\"\n",
    "    \n",
    "    #print(str(pca_comp),\"PCA components,\", str(n_comp), \"GMM components,\", covar)\n",
    "    pca = PCA(n_components=pca_comp)\n",
    "    train_data2 = pca.fit_transform(train_data)\n",
    "    dev_data2 = pca.transform(dev_data)\n",
    "    test_data2 = pca.transform(test_data)\n",
    "    \n",
    "    train_pos, train_neg = train_data2[train_labels == 1], train_data2[train_labels == 0]\n",
    "    \n",
    "    gmm_pos = GaussianMixture(n_components=n_comp, covariance_type=covar)\n",
    "    gmm_pos.fit(train_pos)\n",
    "    train_pos = gmm_pos.score_samples(train_data2)\n",
    "    dev_pos = gmm_pos.score_samples(dev_data2)\n",
    "    test_pos = gmm_pos.score_samples(test_data2)\n",
    "    \n",
    "    gmm_neg = GaussianMixture(n_components=n_comp, covariance_type=covar)\n",
    "    gmm_neg.fit(train_neg)\n",
    "    train_neg = gmm_neg.score_samples(train_data2)\n",
    "    dev_neg = gmm_neg.score_samples(dev_data2)\n",
    "    test_neg = gmm_neg.score_samples(test_data2)\n",
    "    \n",
    "    train_preds = np.zeros(train_pos.shape)\n",
    "    train_preds = (train_pos > train_neg).astype(int)\n",
    "    #train_scores = np.exp(train_pos)/(np.exp(train_pos) + np.exp(train_neg))\n",
    "    train_accuracy = np.sum(train_labels == train_preds) / len(train_labels)\n",
    "\n",
    "    \n",
    "    dev_preds = np.zeros(dev_pos.shape)\n",
    "    dev_preds = (dev_pos > dev_neg).astype(int)\n",
    "    #dev_scores = np.exp(dev_pos)/(np.exp(dev_pos) + np.exp(dev_neg))\n",
    "    dev_accuracy = np.sum(dev_labels == dev_preds) / len(dev_labels)\n",
    "    \n",
    "    #print(\"train accuracy:\", \"{:.3f}\".format(train_accuracy))\n",
    "    #print(\"dev accuracy:  \", \"{:.3f}\".format(dev_accuracy))\n",
    "    #print()\n",
    "    \n",
    "    test_preds = np.zeros(test_pos.shape)\n",
    "    test_preds = (test_pos > test_neg).astype(int)\n",
    "    \n",
    "    #print(classification_report(train_preds, train_labels))\n",
    "    #print(classification_report(dev_preds, dev_labels))\n",
    "    \n",
    "    return train_accuracy, dev_accuracy, test_preds\n",
    "\n",
    "#gmm_tester()\n",
    "\n",
    "\n",
    "pca_comps = [10*i for i in range(1,9)]\n",
    "n_comps = [i for i in range(2,11)]\n",
    "cov = ['full', 'tied', 'diag', 'spherical']\n",
    "\n",
    "best_dev_accuracy = 0\n",
    "\n",
    "for p in pca_comps:\n",
    "    #train_scores = []\n",
    "    #dev_scores = []\n",
    "    for n in n_comps:\n",
    "        for c in cov:\n",
    "            train_accuracy, dev_accuracy, test_out = gmm_tester(p, n, c)\n",
    "            if (dev_accuracy > best_dev_accuracy):\n",
    "                best_dev_accuracy = dev_accuracy\n",
    "                test_preds = test_out\n",
    "                best_p = p\n",
    "                best_n = n\n",
    "                best_c = c\n",
    "            #train_scores.append(train_ROC)\n",
    "            #dev_scores.append(dev_ROC)\n",
    "        #plt.plot(n_comps, train_scores, \"r\", n_comps, dev_scores, \"b\")\n",
    "        #plt.title(str(p)+\" Components\")\n",
    "        #plt.ylim(.5,1)\n",
    "        #plt.show()\n",
    "\n",
    "print(\"Best development accuracy:\", \"{:.3f}\".format(best_dev_accuracy), \"(PCA=\", best_p,\", N=\", best_n,\", cov=\", best_c,\")\")"
   ]
  },
  {
   "cell_type": "markdown",
   "metadata": {},
   "source": [
    "The best performing GMM, with 20 PCA components, 10 GMM components, and a tied covariance matrix, performs poorly on the test dataset, with an ROC close to 50%."
   ]
  },
  {
   "cell_type": "code",
   "execution_count": 243,
   "metadata": {
    "collapsed": true
   },
   "outputs": [],
   "source": [
    "export_test_preds(test_preds, \"gmm\")"
   ]
  },
  {
   "cell_type": "markdown",
   "metadata": {},
   "source": [
    "### Workin progress for NB, need to do feature union for pipeline, add in pca preprocessing, and do more gridsearch"
   ]
  },
  {
   "cell_type": "code",
   "execution_count": null,
   "metadata": {
    "scrolled": true
   },
   "outputs": [
    {
     "name": "stdout",
     "output_type": "stream",
     "text": [
      "Multinomial Naive Bayes\n",
      "\n",
      "             precision    recall  f1-score   support\n",
      "\n",
      "      False       1.00      0.75      0.86       590\n",
      "       True       0.00      0.00      0.00         0\n",
      "\n",
      "avg / total       1.00      0.75      0.86       590\n",
      "\n",
      "The best parameter of choice: {'model__alpha': 0.001} \n",
      "\n",
      "\n",
      "             precision    recall  f1-score   support\n",
      "\n",
      "      False       1.00      0.75      0.86       590\n",
      "       True       0.00      0.00      0.00         0\n",
      "\n",
      "avg / total       1.00      0.75      0.86       590\n",
      "\n",
      "The best parameter of choice: {'model__alpha': 0.001} \n",
      "\n",
      "\n",
      "             precision    recall  f1-score   support\n",
      "\n",
      "      False       1.00      0.75      0.86       590\n",
      "       True       0.00      0.00      0.00         0\n",
      "\n",
      "avg / total       1.00      0.75      0.86       590\n",
      "\n"
     ]
    }
   ],
   "source": [
    "def classify(model_name, model_parameters = False, gs_parameters = False):\n",
    "        \"\"\"Takes a model, parameters, and gridsearch parameters. \n",
    "           Outputs a classification report on the dev data, scored by f1_weighted.\n",
    "           Prints out the best gridsearch parameter of choice.\"\"\"\n",
    "        \n",
    "        pipeliner = Pipeline([(\"cv\", CountVectorizer()), \n",
    "                              ('tfidf', TfidfTransformer()),\n",
    "                              (\"model\", model_name())])\n",
    "        \n",
    "        #Make a simple prediction\n",
    "        pipeliner.fit(train_data['request_text_edit_aware'], train_labels)\n",
    "        pipeliner_pred = pipeliner.predict(dev_data['request_text_edit_aware'])\n",
    "        print(classification_report(pipeliner_pred, dev_labels))\n",
    "        \n",
    "        #Find optimal training parameter\n",
    "        pipeline_gscv = GridSearchCV(pipeliner, gs_parameters, \n",
    "                                     scoring =\"f1_weighted\", verbose = 0)\n",
    "        pipeline_gscv.fit(train_data['request_text_edit_aware'], train_labels)\n",
    "        pipeline_gscv.grid_scores_\n",
    "        print'The best parameter of choice:', pipeline_gscv.best_params_,'\\n\\n'\n",
    "    \n",
    "#Multinomial Naive Bayes\n",
    "print(\"Multinomial Naive Bayes\\n\")\n",
    "classify(MultinomialNB,\n",
    "         model_parameters = {\"model__alpha\":0.01}, \n",
    "         gs_parameters = {\"model__alpha\":np.array([0.001, 0.01, 0.1, 1, 10, 100, 1000])})\n",
    "\n",
    "\n",
    "classify(MultinomialNB, \n",
    "         model_parameters = {\"model__analyzer\":\"word\", \"model__ngram_range\":(1,2)},\n",
    "         gs_parameters = {\"model__alpha\":np.array([0.001, 0.01, 0.1, 1, 10, 100, 1000])})\n",
    "classify(MultinomialNB, \n",
    "         model_parameters = {\"model__analyzer\":\"word\", \"model__ngram_range\":(2,3)},\n",
    "         gs_parameters = {\"model__alpha\":np.array([0.001, 0.01, 0.1, 1, 10, 100, 1000])})\n"
   ]
  }
 ],
 "metadata": {
  "anaconda-cloud": {},
  "kernelspec": {
   "display_name": "Python [conda root]",
   "language": "python",
   "name": "conda-root-py"
  },
  "language_info": {
   "codemirror_mode": {
    "name": "ipython",
    "version": 3
   },
   "file_extension": ".py",
   "mimetype": "text/x-python",
   "name": "python",
   "nbconvert_exporter": "python",
   "pygments_lexer": "ipython3",
   "version": "3.5.3"
  }
 },
 "nbformat": 4,
 "nbformat_minor": 1
}
