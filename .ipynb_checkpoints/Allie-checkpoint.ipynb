{
 "cells": [
  {
   "cell_type": "markdown",
   "metadata": {},
   "source": [
    "# Package Initialization"
   ]
  },
  {
   "cell_type": "code",
   "execution_count": 1,
   "metadata": {},
   "outputs": [
    {
     "name": "stderr",
     "output_type": "stream",
     "text": [
      "/Users/robo/anaconda/envs/py27/lib/python2.7/site-packages/sklearn/cross_validation.py:41: DeprecationWarning: This module was deprecated in version 0.18 in favor of the model_selection module into which all the refactored classes and functions are moved. Also note that the interface of the new CV iterators are different from that of this module. This module will be removed in 0.20.\n",
      "  \"This module will be removed in 0.20.\", DeprecationWarning)\n",
      "/Users/robo/anaconda/envs/py27/lib/python2.7/site-packages/sklearn/grid_search.py:42: DeprecationWarning: This module was deprecated in version 0.18 in favor of the model_selection module into which all the refactored classes and functions are moved. This module will be removed in 0.20.\n",
      "  DeprecationWarning)\n",
      "/Users/robo/anaconda/envs/py27/lib/python2.7/site-packages/nltk/twitter/__init__.py:20: UserWarning: The twython library has not been installed. Some functionality from the twitter package will not be available.\n",
      "  warnings.warn(\"The twython library has not been installed. \"\n"
     ]
    }
   ],
   "source": [
    "# This tells matplotlib not to try opening a new window for each plot.\n",
    "%matplotlib inline\n",
    "\n",
    "# General libraries.\n",
    "import re\n",
    "import numpy as np\n",
    "import matplotlib.pyplot as plt\n",
    "from sklearn.linear_model import LogisticRegression\n",
    "from sklearn.naive_bayes import MultinomialNB\n",
    "from sklearn.naive_bayes import GaussianNB\n",
    "from sklearn.feature_extraction.text import *\n",
    "from sklearn.grid_search import GridSearchCV\n",
    "from sklearn.pipeline import Pipeline\n",
    "from sklearn.ensemble import RandomForestClassifier\n",
    "\n",
    "import pandas as pd\n",
    "from pandas.tseries.holiday import USFederalHolidayCalendar\n",
    "\n",
    "# ADD METRICS\n",
    "from sklearn import metrics\n",
    "from sklearn.metrics import classification_report\n",
    "\n",
    "#NLTK - NLP Tokenizing and Cleaning\n",
    "import nltk\n",
    "from nltk import pos_tag, pos_tag_sents\n",
    "from nltk.tokenize import word_tokenize, sent_tokenize\n",
    "from nltk.corpus import stopwords\n",
    "from nltk.corpus import wordnet\n",
    "from nltk.stem import WordNetLemmatizer\n",
    "from nltk.sentiment.vader import SentimentIntensityAnalyzer\n",
    "\n",
    "#GMM\n",
    "from sklearn.decomposition import PCA\n",
    "from sklearn.cluster import KMeans\n",
    "from sklearn.mixture import GMM\n",
    "from sklearn.mixture import GaussianMixture"
   ]
  },
  {
   "cell_type": "code",
   "execution_count": 79,
   "metadata": {
    "collapsed": true
   },
   "outputs": [],
   "source": [
    "# Only evaluate this if you don't already have the NLTK corpora\n",
    "#nltk.download()"
   ]
  },
  {
   "cell_type": "markdown",
   "metadata": {},
   "source": [
    "# Data \n",
    "\n",
    "## Original description of the data from the Kaggle website\n",
    "\n",
    "This dataset includes 5671 requests collected from the Reddit community Random Acts of Pizza between December 8, 2010 and September 29, 2013 (retrieved on September 30, 2013). All requests ask for the same thing: a free pizza. The outcome of each request -- whether its author received a pizza or not -- is known. Meta-data includes information such as: time of the request, activity of the requester, community-age of the requester, etc.\n",
    "\n",
    "Each JSON entry corresponds to one request (the first and only request by the requester on Random Acts of Pizza). We have removed fields from the test set which would not be available at the time of posting.\n",
    "\n",
    "### Field Descriptions\n",
    "\n",
    "| Field Name | Description |\n",
    "| ---------- | ----------- |\n",
    "| giver_username_if_known | Reddit username of giver if known, i.e. the person satisfying the request (\"N/A\" otherwise). |\n",
    "| number_of_downvotes_of_request_at_retrieval | Number of downvotes at the time the request was collected. |\n",
    "| number_of_upvotes_of_request_at_retrieval | Number of upvotes at the time the request was collected. |\n",
    "| post_was_edited | Boolean indicating whether this post was edited (from Reddit). |\n",
    "| request_id | Identifier of the post on Reddit, e.g. \"t3_w5491\". |\n",
    "| request_number_of_comments_at_retrieval | Number of comments for the request at time of retrieval. |\n",
    "| request_text | Full text of the request. |\n",
    "| request_text_edit_aware | Edit aware version of \"request_text\". We use a set of rules to strip edited comments indicating the success of the request such as \"EDIT: Thanks /u/foo, the pizza was delicous\". |\n",
    "| request_title | Title of the request. |\n",
    "| requester_account_age_in_days_at_request | Account age of requester in days at time of request. |\n",
    "| requester_account_age_in_days_at_retrieval | Account age of requester in days at time of retrieval. |\n",
    "| requester_days_since_first_post_on_raop_at_request | Number of days between requesters first post on RAOP and this request (zero if requester has never posted before on RAOP). |\n",
    "| requester_days_since_first_post_on_raop_at_retrieval | Number of days between requesters first post on RAOP and time of retrieval. |\n",
    "| requester_number_of_comments_at_request | Total number of comments on Reddit by requester at time of request. |\n",
    "| requester_number_of_comments_at_retrieval | Total number of comments on Reddit by requester at time of retrieval. |\n",
    "| requester_number_of_comments_in_raop_at_request | Total number of comments in RAOP by requester at time of request. |\n",
    "| requester_number_of_comments_in_raop_at_retrieval | Total number of comments in RAOP by requester at time of retrieval. |\n",
    "| requester_number_of_posts_at_request | Total number of posts on Reddit by requester at time of request. |\n",
    "| requester_number_of_posts_at_retrieval | Total number of posts on Reddit by requester at time of retrieval. |\n",
    "| requester_number_of_posts_on_raop_at_request | Total number of posts in RAOP by requester at time of request. |\n",
    "| requester_number_of_posts_on_raop_at_retrieval | Total number of posts in RAOP by requester at time of retrieval. |\n",
    "| requester_number_of_subreddits_at_request | The number of subreddits in which the author had already posted in at the time of request. |\n",
    "| requester_received_pizza | Boolean indicating the success of the request, i.e., whether the requester received pizza. |\n",
    "| requester_subreddits_at_request | The list of subreddits in which the author had already posted in at the time of request. |\n",
    "| requester_upvotes_minus_downvotes_at_request | Difference of total upvotes and total downvotes of requester at time of request. |\n",
    "| requester_upvotes_minus_downvotes_at_retrieval | Difference of total upvotes and total downvotes of requester at time of retrieval. |\n",
    "| requester_upvotes_plus_downvotes_at_request | Sum of total upvotes and total downvotes of requester at time of request. |\n",
    "| requester_upvotes_plus_downvotes_at_retrieval | Sum of total upvotes and total downvotes of requester at time of retrieval. |\n",
    "| requester_user_flair | Users on RAOP receive badges (Reddit calls them flairs) which is a small picture next to their username. In our data set the user flair is either None (neither given nor received pizza, N=4282), \"shroom\" (received pizza, but not given, N=1306), or \"PIF\" (pizza given after having received, N=83). |\n",
    "| requester_username | Reddit username of requester. |\n",
    "| unix_timestamp_of_request | Unix timestamp of request (supposedly in timezone of user, but in most cases it is equal to the UTC timestamp -- which is incorrect since most RAOP users are from the USA). |\n",
    "| unix_timestamp_of_request_utc | Unit timestamp of request in UTC. |\n",
    "\n",
    "## Initial Loading"
   ]
  },
  {
   "cell_type": "code",
   "execution_count": 2,
   "metadata": {},
   "outputs": [
    {
     "name": "stdout",
     "output_type": "stream",
     "text": [
      "('Raw Train Shape:', (4040, 32))\n",
      "('Raw Test Shape:', (1631, 17))\n"
     ]
    }
   ],
   "source": [
    "# Load raw data and create labels\n",
    "raw_train = pd.read_json('./data/train.json')\n",
    "raw_test = pd.read_json('./data/test.json')\n",
    "\n",
    "print(\"Raw Train Shape:\", raw_train.shape)\n",
    "print(\"Raw Test Shape:\", raw_test.shape)"
   ]
  },
  {
   "cell_type": "markdown",
   "metadata": {},
   "source": [
    "## Schema Reconciliation\n",
    "\n",
    "The training data has 32 columns, while the test data only has 17.  Let's look at which columns are different:"
   ]
  },
  {
   "cell_type": "code",
   "execution_count": 3,
   "metadata": {},
   "outputs": [
    {
     "name": "stdout",
     "output_type": "stream",
     "text": [
      "Columns in Train but not Test:\n",
      "(' ', u'request_number_of_comments_at_retrieval')\n",
      "(' ', u'requester_number_of_posts_on_raop_at_retrieval')\n",
      "(' ', u'post_was_edited')\n",
      "(' ', u'requester_upvotes_minus_downvotes_at_retrieval')\n",
      "(' ', u'requester_received_pizza')\n",
      "(' ', u'requester_account_age_in_days_at_retrieval')\n",
      "(' ', u'requester_number_of_posts_at_retrieval')\n",
      "(' ', u'requester_upvotes_plus_downvotes_at_retrieval')\n",
      "(' ', u'number_of_upvotes_of_request_at_retrieval')\n",
      "(' ', u'number_of_downvotes_of_request_at_retrieval')\n",
      "(' ', u'request_text')\n",
      "(' ', u'requester_user_flair')\n",
      "(' ', u'requester_number_of_comments_in_raop_at_retrieval')\n",
      "(' ', u'requester_days_since_first_post_on_raop_at_retrieval')\n",
      "(' ', u'requester_number_of_comments_at_retrieval')\n",
      "\n",
      "No columns in Test but not Train\n"
     ]
    }
   ],
   "source": [
    "raw_train_only_columns = set(raw_train.columns.values) - set(raw_test.columns.values)\n",
    "\n",
    "if len(raw_train_only_columns) > 0:\n",
    "    print (\"Columns in Train but not Test:\")\n",
    "    for c in raw_train_only_columns:\n",
    "        print (\" \", c)\n",
    "else:\n",
    "    print (\"No columns in Train but not Test\")\n",
    "    \n",
    "raw_test_only_columns = set(raw_test.columns.values) - set(raw_train.columns.values)\n",
    "print(\"\")\n",
    "if len(raw_test_only_columns) > 0:\n",
    "    print (\"Columns in Test but not Train:\")\n",
    "    for c in raw_test_only_columns:\n",
    "        print (\" \", c)\n",
    "else:\n",
    "    print (\"No columns in Test but not Train\")"
   ]
  },
  {
   "cell_type": "markdown",
   "metadata": {
    "collapsed": true
   },
   "source": [
    "There are several columns that aren't included in the test data and thus need to be excluded from the training data.\n",
    "\n",
    "- \\*_at_retrival - These are features that are dependent on when the data was pulled.  For real-time prediction when a post is made, these are not relevant since they will be the same as their \\*_at_request counterparts\n",
    "- post_was_edited - Since users are supposed to edit their post if they receive a pizza, this would be a major leak of results.  Additionally, we want to be able to make predictions as soon as the post is made, so subsequent edits won't be available.\n",
    "- requester_user_flair - There isn't historical flair information, so this feature isn't an accurate reflection of the state at the time of the request.  Users who successfully give or receive pizza are granted special flair, so this would also be an unfair indicator of results.\n",
    "- request_text - Since successful posts are often edited to indicate that the request has been fulfilled, the full request_text can't be used.  The additional \"request_text_edit_aware\" field has edits stripped out and is available in both the train and test data and will be used instead."
   ]
  },
  {
   "cell_type": "code",
   "execution_count": 4,
   "metadata": {
    "collapsed": true
   },
   "outputs": [],
   "source": [
    "train_with_test_schema = raw_train[raw_test.columns.values]"
   ]
  },
  {
   "cell_type": "markdown",
   "metadata": {},
   "source": [
    "## Train/Development Data Split\n",
    "\n",
    "We'll hold out ~15% of the training data as our development data set.  All exploratory data analysis and model training will be done only on the ~85% of training data that is not being held out.  We do not know if the order of the training data is meaningful, so we will use random sampling to avoid introducing bias."
   ]
  },
  {
   "cell_type": "code",
   "execution_count": 5,
   "metadata": {
    "collapsed": true
   },
   "outputs": [],
   "source": [
    "np.random.seed(6)\n",
    "in_dev = np.random.choice([True, False], len(raw_train), p=[0.15, 0.85])\n",
    "\n",
    "# train_data will be the training data without any new features added.  This will be used for the EDA.\n",
    "train_data = train_with_test_schema[np.logical_not(in_dev)].copy()\n",
    "\n",
    "train_labels = raw_train[\"requester_received_pizza\"][np.logical_not(in_dev)]\n",
    "dev_labels = raw_train[\"requester_received_pizza\"][in_dev]\n",
    "\n",
    "# We will add new features to extended_data as we explore.  When we complete, we will set the train_data, dev_data, \n",
    "# and test_data to be the appropriate rows from extended_data.\n",
    "extended_data = pd.concat([train_with_test_schema.copy(), raw_test])\n",
    "in_train = np.concatenate((np.logical_not(in_dev), np.full(len(raw_test), False)))\n",
    "in_dev = np.concatenate((in_dev, np.full(len(raw_test), False)))\n",
    "in_test = np.concatenate((np.full(len(raw_train), False), np.full(len(raw_test), True)))"
   ]
  },
  {
   "cell_type": "markdown",
   "metadata": {},
   "source": [
    "## Exploratory Data Analysis\n",
    "We'll now look at the individual fields to understand their types and distributions.\n",
    "\n",
    "### Request Time\n",
    "There are several things to look at with respect to the request time:\n",
    "\n",
    "1. Has the frequency of requests changed over time?\n",
    "2. Has the rate of request fulfillment changed over time?\n",
    "3. Does day of week matter? (Possible new feature)\n",
    "4. Does time of day matter? (Possible new feature)\n",
    "\n",
    "#### Request Frequency"
   ]
  },
  {
   "cell_type": "code",
   "execution_count": 6,
   "metadata": {},
   "outputs": [
    {
     "data": {
      "text/plain": [
       "Text(0.5,1,u'Number of Posts by Week')"
      ]
     },
     "execution_count": 6,
     "metadata": {},
     "output_type": "execute_result"
    },
    {
     "data": {
      "image/png": "[encoded data removed]",
      "text/plain": [
       "<matplotlib.figure.Figure at 0x10ecc9950>"
      ]
     },
     "metadata": {},
     "output_type": "display_data"
    }
   ],
   "source": [
    "d = pd.DataFrame()\n",
    "d['datetime'] = pd.to_datetime(train_data[\"unix_timestamp_of_request\"], unit = 's')\n",
    "d.index = d['datetime']\n",
    "d['datetime'].resample('W').count().plot().set_title('Number of Posts by Week')"
   ]
  },
  {
   "cell_type": "markdown",
   "metadata": {},
   "source": [
    "#### Request Fulfillment over Time"
   ]
  },
  {
   "cell_type": "code",
   "execution_count": 85,
   "metadata": {},
   "outputs": [
    {
     "data": {
      "text/plain": [
       "Text(0.5,1,u'Percent of Requests Fulfilled by Week')"
      ]
     },
     "execution_count": 85,
     "metadata": {},
     "output_type": "execute_result"
    },
    {
     "data": {
      "image/png": "[encoded data removed]",
      "text/plain": [
       "<matplotlib.figure.Figure at 0x1a1a67d390>"
      ]
     },
     "metadata": {},
     "output_type": "display_data"
    }
   ],
   "source": [
    "d = pd.DataFrame()\n",
    "d['datetime'] = pd.to_datetime(train_data[\"unix_timestamp_of_request\"], unit = 's')\n",
    "d['result'] = train_labels\n",
    "d.index = d['datetime']\n",
    "d.resample('W').mean().plot().set_title(\"Percent of Requests Fulfilled by Week\")"
   ]
  },
  {
   "cell_type": "markdown",
   "metadata": {},
   "source": [
    "It looks like there was a lot of excitement at the start of the sub-reddit.  There was a burst of requests and an unsustained high rate of fulfillment.  We will add a feature that indicates whether or not the post was during this initial time, since it doesn't seem to be a part of the general trend.  August 1st, 2011 looks like a reasonable cutoff, so there will be a new boolean feature called \"during_initial_period\" that indicates this."
   ]
  },
  {
   "cell_type": "code",
   "execution_count": 86,
   "metadata": {
    "collapsed": true
   },
   "outputs": [],
   "source": [
    "import time\n",
    "import datetime\n",
    "cutoff_date = datetime.date(2011,8,1)\n",
    "cutoff_time = time.mktime(cutoff_date.timetuple())\n",
    "extended_data['during_initial_period'] = np.where(extended_data['unix_timestamp_of_request_utc'] < cutoff_time, 1, 0)"
   ]
  },
  {
   "cell_type": "markdown",
   "metadata": {},
   "source": [
    "#### Day of Week"
   ]
  },
  {
   "cell_type": "code",
   "execution_count": 87,
   "metadata": {},
   "outputs": [
    {
     "data": {
      "text/html": [
       "<div>\n",
       "<style scoped>\n",
       "    .dataframe tbody tr th:only-of-type {\n",
       "        vertical-align: middle;\n",
       "    }\n",
       "\n",
       "    .dataframe tbody tr th {\n",
       "        vertical-align: top;\n",
       "    }\n",
       "\n",
       "    .dataframe thead tr th {\n",
       "        text-align: left;\n",
       "    }\n",
       "\n",
       "    .dataframe thead tr:last-of-type th {\n",
       "        text-align: right;\n",
       "    }\n",
       "</style>\n",
       "<table border=\"1\" class=\"dataframe\">\n",
       "  <thead>\n",
       "    <tr>\n",
       "      <th></th>\n",
       "      <th colspan=\"2\" halign=\"left\">result</th>\n",
       "    </tr>\n",
       "    <tr>\n",
       "      <th></th>\n",
       "      <th>mean</th>\n",
       "      <th>count</th>\n",
       "    </tr>\n",
       "    <tr>\n",
       "      <th>dayofweek</th>\n",
       "      <th></th>\n",
       "      <th></th>\n",
       "    </tr>\n",
       "  </thead>\n",
       "  <tbody>\n",
       "    <tr>\n",
       "      <th>0</th>\n",
       "      <td>0.253521</td>\n",
       "      <td>497</td>\n",
       "    </tr>\n",
       "    <tr>\n",
       "      <th>1</th>\n",
       "      <td>0.230315</td>\n",
       "      <td>508</td>\n",
       "    </tr>\n",
       "    <tr>\n",
       "      <th>2</th>\n",
       "      <td>0.217241</td>\n",
       "      <td>580</td>\n",
       "    </tr>\n",
       "    <tr>\n",
       "      <th>3</th>\n",
       "      <td>0.296375</td>\n",
       "      <td>469</td>\n",
       "    </tr>\n",
       "    <tr>\n",
       "      <th>4</th>\n",
       "      <td>0.265351</td>\n",
       "      <td>456</td>\n",
       "    </tr>\n",
       "    <tr>\n",
       "      <th>5</th>\n",
       "      <td>0.230088</td>\n",
       "      <td>452</td>\n",
       "    </tr>\n",
       "    <tr>\n",
       "      <th>6</th>\n",
       "      <td>0.230769</td>\n",
       "      <td>481</td>\n",
       "    </tr>\n",
       "  </tbody>\n",
       "</table>\n",
       "</div>"
      ],
      "text/plain": [
       "             result      \n",
       "               mean count\n",
       "dayofweek                \n",
       "0          0.253521   497\n",
       "1          0.230315   508\n",
       "2          0.217241   580\n",
       "3          0.296375   469\n",
       "4          0.265351   456\n",
       "5          0.230088   452\n",
       "6          0.230769   481"
      ]
     },
     "execution_count": 87,
     "metadata": {},
     "output_type": "execute_result"
    }
   ],
   "source": [
    "d['dayofweek'] = d['datetime'].dt.dayofweek\n",
    "d.groupby('dayofweek').agg(['mean', 'count'])"
   ]
  },
  {
   "cell_type": "markdown",
   "metadata": {},
   "source": [
    "#### Time of Day"
   ]
  },
  {
   "cell_type": "code",
   "execution_count": 88,
   "metadata": {},
   "outputs": [
    {
     "data": {
      "text/plain": [
       "Text(0.5,1,u'Percent of Requests Fulfilled by Hour of Day')"
      ]
     },
     "execution_count": 88,
     "metadata": {},
     "output_type": "execute_result"
    },
    {
     "data": {
      "image/png": "[encoded data removed]",
      "text/plain": [
       "<matplotlib.figure.Figure at 0x1a0e862590>"
      ]
     },
     "metadata": {},
     "output_type": "display_data"
    },
    {
     "data": {
      "image/png": "[encoded data removed]",
      "text/plain": [
       "<matplotlib.figure.Figure at 0x1a1fe33ed0>"
      ]
     },
     "metadata": {},
     "output_type": "display_data"
    }
   ],
   "source": [
    "d['hour'] = d['datetime'].dt.hour\n",
    "d[['hour', 'result']].groupby('hour').agg('count').plot().set_title(\"Number of Requests by Hour of Day\")\n",
    "d[['hour', 'result']].groupby('hour').agg('mean').plot().set_title(\"Percent of Requests Fulfilled by Hour of Day\")"
   ]
  },
  {
   "cell_type": "markdown",
   "metadata": {},
   "source": [
    "The fulfillment rate varies from 21.1% to 28.8% by the day of the week and from 11.1% to 39.0% depending on the hour of the day. Both of these seem like reasonably distinguishing features that we should include."
   ]
  },
  {
   "cell_type": "code",
   "execution_count": 89,
   "metadata": {
    "collapsed": true
   },
   "outputs": [],
   "source": [
    "extended_data['day_of_week'] = pd.to_datetime(extended_data[\"unix_timestamp_of_request\"], unit = 's').dt.dayofweek\n",
    "extended_data['hour_of_day'] = pd.to_datetime(extended_data[\"unix_timestamp_of_request\"], unit = 's').dt.hour"
   ]
  },
  {
   "cell_type": "markdown",
   "metadata": {},
   "source": [
    "### Field Comparison Utilities"
   ]
  },
  {
   "cell_type": "code",
   "execution_count": 90,
   "metadata": {
    "collapsed": true
   },
   "outputs": [],
   "source": [
    "from scipy.stats import ttest_ind\n",
    "\n",
    "def success_vs_fail_report(feature, try_log = False):\n",
    "    print (feature)\n",
    "    success_values = train_data[feature][train_labels]\n",
    "    print (\"SUCCESS\", \"Mean:\", \"{:.3f}\".format(success_values.mean()), \"StdDev:\", \"{:.3f}\".format(success_values.std()))\n",
    "    fail_values = train_data[feature][np.logical_not(train_labels)]\n",
    "    print (\"FAIL   \", \"Mean:\", \"{:.3f}\".format(fail_values.mean()), \"StdDev:\", \"{:.3f}\".format(fail_values.std()))\n",
    "    ttest = ttest_ind(success_values, fail_values, equal_var=False)\n",
    "    print (\"TStat:\", \"{:.3f}\".format(ttest.statistic))\n",
    "    \n",
    "    if try_log:\n",
    "        ttest_of_log = ttest_ind(np.log(success_values + 1), np.log(fail_values + 1), equal_var=False)\n",
    "        print (\"TStat (log):\", \"{:.3f}\".format(ttest_of_log.statistic))\n",
    "    "
   ]
  },
  {
   "cell_type": "markdown",
   "metadata": {},
   "source": [
    "### Text Field Lengths\n",
    "#### Title Length"
   ]
  },
  {
   "cell_type": "code",
   "execution_count": 91,
   "metadata": {},
   "outputs": [
    {
     "name": "stdout",
     "output_type": "stream",
     "text": [
      "title_length\n",
      "('SUCCESS', 'Mean:', '73.527', 'StdDev:', '37.051')\n",
      "('FAIL   ', 'Mean:', '71.085', 'StdDev:', '35.765')\n",
      "('TStat:', '1.678')\n",
      "('TStat (log):', '2.099')\n"
     ]
    }
   ],
   "source": [
    "train_data['title_length'] = train_data['request_title'].str.len()\n",
    "success_vs_fail_report('title_length', try_log=True)"
   ]
  },
  {
   "cell_type": "markdown",
   "metadata": {},
   "source": [
    "#### Request Length"
   ]
  },
  {
   "cell_type": "code",
   "execution_count": 92,
   "metadata": {},
   "outputs": [
    {
     "name": "stdout",
     "output_type": "stream",
     "text": [
      "request_length\n",
      "('SUCCESS', 'Mean:', '466.801', 'StdDev:', '388.117')\n",
      "('FAIL   ', 'Mean:', '371.984', 'StdDev:', '347.083')\n",
      "('TStat:', '6.324')\n",
      "('TStat (log):', '6.540')\n"
     ]
    }
   ],
   "source": [
    "train_data['request_length'] = train_data['request_text_edit_aware'].str.len()\n",
    "success_vs_fail_report('request_length', try_log=True)"
   ]
  },
  {
   "cell_type": "markdown",
   "metadata": {},
   "source": [
    "It seems that the title length doesn't seem to vary much for those who received a pizza vs those that did not.  However, it does appear that a longer request is much more likely to get you a pizza.  This is a very good feature to include in the model."
   ]
  },
  {
   "cell_type": "code",
   "execution_count": 93,
   "metadata": {
    "collapsed": true
   },
   "outputs": [],
   "source": [
    "extended_data['request_length'] = extended_data['request_text_edit_aware'].str.len()"
   ]
  },
  {
   "cell_type": "markdown",
   "metadata": {},
   "source": [
    "### Upvotes vs Downvotes\n",
    "\n",
    "Here we compare using the features requester_upvotes_minus_downvotes_at_request and requester_upvotes_plus_downvotes_at_request vs creating new features 'upvotes' and 'downvotes'"
   ]
  },
  {
   "cell_type": "code",
   "execution_count": 94,
   "metadata": {},
   "outputs": [
    {
     "name": "stdout",
     "output_type": "stream",
     "text": [
      "requester_upvotes_minus_downvotes_at_request\n",
      "('SUCCESS', 'Mean:', '1384.634', 'StdDev:', '5722.983')\n",
      "('FAIL   ', 'Mean:', '1099.245', 'StdDev:', '3111.062')\n",
      "('TStat:', '1.384')\n",
      "()\n",
      "requester_upvotes_plus_downvotes_at_request\n",
      "('SUCCESS', 'Mean:', '5189.639', 'StdDev:', '45467.228')\n",
      "('FAIL   ', 'Mean:', '3412.276', 'StdDev:', '18660.821')\n",
      "('TStat:', '1.106')\n",
      "('TStat (log):', '7.138')\n",
      "()\n",
      "upvotes\n",
      "('SUCCESS', 'Mean:', '3287.136', 'StdDev:', '25527.129')\n",
      "('FAIL   ', 'Mean:', '2255.761', 'StdDev:', '10711.807')\n",
      "('TStat:', '1.142')\n",
      "('TStat (log):', '7.172')\n",
      "()\n",
      "downvotes\n",
      "('SUCCESS', 'Mean:', '8476.775', 'StdDev:', '70988.942')\n",
      "('FAIL   ', 'Mean:', '5668.037', 'StdDev:', '29355.211')\n",
      "('TStat:', '1.119')\n",
      "('TStat (log):', '7.297')\n",
      "()\n",
      "upvotes_ratio\n",
      "('SUCCESS', 'Mean:', '0.670', 'StdDev:', '0.255')\n",
      "('FAIL   ', 'Mean:', '0.597', 'StdDev:', '0.316')\n",
      "('TStat:', '6.753')\n"
     ]
    }
   ],
   "source": [
    "success_vs_fail_report('requester_upvotes_minus_downvotes_at_request')  #Not doing log because this can be negative\n",
    "\n",
    "print()\n",
    "success_vs_fail_report('requester_upvotes_plus_downvotes_at_request', try_log=True)\n",
    "\n",
    "print()\n",
    "train_data['upvotes']  = (train_data['requester_upvotes_minus_downvotes_at_request'] +\n",
    "                       train_data['requester_upvotes_plus_downvotes_at_request']) / 2\n",
    "success_vs_fail_report('upvotes', try_log=True)\n",
    "\n",
    "print()\n",
    "train_data['downvotes']  = (train_data['requester_upvotes_plus_downvotes_at_request'] +\n",
    "                       train_data['upvotes'])\n",
    "success_vs_fail_report('downvotes', try_log=True)\n",
    "\n",
    "print()\n",
    "train_data['upvotes_ratio']  = np.nan_to_num(train_data['upvotes'] / train_data['requester_upvotes_plus_downvotes_at_request'], 0)\n",
    "success_vs_fail_report('upvotes_ratio')"
   ]
  },
  {
   "cell_type": "markdown",
   "metadata": {},
   "source": [
    "Both the upvotes_ratio and log(upvotes + 1) are very strong indicators, so they should also be included as a new feature."
   ]
  },
  {
   "cell_type": "code",
   "execution_count": 95,
   "metadata": {
    "collapsed": true
   },
   "outputs": [],
   "source": [
    "extended_data['upvotes'] = (extended_data['requester_upvotes_minus_downvotes_at_request'] +\n",
    "                            extended_data['requester_upvotes_plus_downvotes_at_request']) / 2\n",
    "\n",
    "extended_data['upvotes_log'] = np.log(extended_data['upvotes'] + 1)\n",
    "\n",
    "extended_data['upvotes_ratio'] = np.nan_to_num(\n",
    "   (extended_data['upvotes'] / extended_data['requester_upvotes_plus_downvotes_at_request']), 0)"
   ]
  },
  {
   "cell_type": "markdown",
   "metadata": {},
   "source": [
    "### Requestor Activity"
   ]
  },
  {
   "cell_type": "code",
   "execution_count": 96,
   "metadata": {},
   "outputs": [
    {
     "name": "stdout",
     "output_type": "stream",
     "text": [
      "requester_number_of_posts_at_request\n",
      "('SUCCESS', 'Mean:', '24.236', 'StdDev:', '54.234')\n",
      "('FAIL   ', 'Mean:', '20.962', 'StdDev:', '51.430')\n",
      "('TStat:', '1.543')\n",
      "('TStat (log):', '3.860')\n",
      "()\n",
      "requester_number_of_posts_on_raop_at_request\n",
      "('SUCCESS', 'Mean:', '0.139', 'StdDev:', '0.528')\n",
      "('FAIL   ', 'Mean:', '0.035', 'StdDev:', '0.212')\n",
      "('TStat:', '5.539')\n",
      "('TStat (log):', '5.823')\n",
      "()\n",
      "requester_account_age_in_days_at_request\n",
      "('SUCCESS', 'Mean:', '278.416', 'StdDev:', '310.823')\n",
      "('FAIL   ', 'Mean:', '247.189', 'StdDev:', '301.900')\n",
      "('TStat:', '2.554')\n",
      "('TStat (log):', '6.198')\n",
      "()\n",
      "requester_number_of_subreddits_at_request\n",
      "('SUCCESS', 'Mean:', '19.722', 'StdDev:', '21.521')\n",
      "('FAIL   ', 'Mean:', '17.359', 'StdDev:', '21.529')\n",
      "('TStat:', '2.770')\n",
      "('TStat (log):', '5.856')\n"
     ]
    }
   ],
   "source": [
    "success_vs_fail_report('requester_number_of_posts_at_request', try_log=True)\n",
    "print()\n",
    "success_vs_fail_report('requester_number_of_posts_on_raop_at_request', try_log=True)\n",
    "print()\n",
    "success_vs_fail_report('requester_account_age_in_days_at_request', try_log=True)\n",
    "print()\n",
    "success_vs_fail_report('requester_number_of_subreddits_at_request', try_log=True)"
   ]
  },
  {
   "cell_type": "code",
   "execution_count": 97,
   "metadata": {
    "collapsed": true
   },
   "outputs": [],
   "source": [
    "extended_data['requester_number_of_posts_at_request_log'] = np.log(extended_data['requester_number_of_posts_at_request'] + 1)\n",
    "extended_data['requester_account_age_in_days_at_request_log'] = np.log(extended_data['requester_account_age_in_days_at_request'] + 1)\n",
    "extended_data['requester_number_of_subreddits_at_request_log'] = np.log(extended_data['requester_number_of_subreddits_at_request'] + 1)"
   ]
  },
  {
   "cell_type": "markdown",
   "metadata": {},
   "source": [
    "#### First Time Posting\n",
    "We see that the number of posts on r/raop is likely a good indicator.  What about just seeing if this being the first time someone posts is significant?"
   ]
  },
  {
   "cell_type": "code",
   "execution_count": 98,
   "metadata": {
    "scrolled": true
   },
   "outputs": [
    {
     "name": "stdout",
     "output_type": "stream",
     "text": [
      "first_raop_post\n",
      "('SUCCESS', 'Mean:', '0.911', 'StdDev:', '0.285')\n",
      "('FAIL   ', 'Mean:', '0.970', 'StdDev:', '0.172')\n",
      "('TStat:', '-5.642')\n",
      "()\n",
      "('Success Rate if First Post:', 0.23380966859227728)\n",
      "('Success Rate if Not First Post:', 0.48701298701298701)\n"
     ]
    }
   ],
   "source": [
    "train_data['first_raop_post'] = train_data['requester_number_of_posts_on_raop_at_request'] == 0\n",
    "success_vs_fail_report('first_raop_post')\n",
    "\n",
    "print()\n",
    "print (\"Success Rate if First Post:\", train_labels[train_data['first_raop_post']].mean())\n",
    "print (\"Success Rate if Not First Post:\", train_labels[np.logical_not(train_data['first_raop_post'])].mean())"
   ]
  },
  {
   "cell_type": "markdown",
   "metadata": {},
   "source": [
    "We can see that the success rate is much higher if this is not the users first time posting on the subreddit.  This is likely a stong feature to add."
   ]
  },
  {
   "cell_type": "code",
   "execution_count": 99,
   "metadata": {
    "collapsed": true
   },
   "outputs": [],
   "source": [
    "extended_data['first_raop_post'] = extended_data['requester_number_of_posts_on_raop_at_request'] == 0"
   ]
  },
  {
   "cell_type": "markdown",
   "metadata": {},
   "source": [
    "### Text Analysis\n",
    "#### Magic Words: Please vs Need\n",
    "As a warm up, let's investigate the hypothesis that being polite makes a difference."
   ]
  },
  {
   "cell_type": "code",
   "execution_count": 100,
   "metadata": {},
   "outputs": [
    {
     "name": "stdout",
     "output_type": "stream",
     "text": [
      "says_please\n",
      "('SUCCESS', 'Mean:', '0.090', 'StdDev:', '0.286')\n",
      "('FAIL   ', 'Mean:', '0.096', 'StdDev:', '0.295')\n",
      "('TStat:', '-0.537')\n",
      "says_need\n",
      "('SUCCESS', 'Mean:', '0.168', 'StdDev:', '0.374')\n",
      "('FAIL   ', 'Mean:', '0.127', 'StdDev:', '0.333')\n",
      "('TStat:', '2.857')\n"
     ]
    }
   ],
   "source": [
    "train_data['says_please'] = train_data['request_text_edit_aware'].str.lower().str.contains(\"please\")\n",
    "success_vs_fail_report('says_please')\n",
    "\n",
    "train_data['says_need'] = train_data['request_text_edit_aware'].str.lower().str.contains(\"need\")\n",
    "success_vs_fail_report('says_need')"
   ]
  },
  {
   "cell_type": "markdown",
   "metadata": {},
   "source": [
    "Here we see that the magic word isn't so magic, but all is not lost.  It seems people in need are more likely to get a pizza.  The NLTK transformations will take care of collecting these features but still nice to check."
   ]
  },
  {
   "cell_type": "markdown",
   "metadata": {},
   "source": [
    "### Vectorizing Request Titles & Text\n",
    "We believe that the titles and request body should be treated separately. We will do so by building a preprocessor that includes NLTK capabilities along with regular expression cleaning.\n",
    "\n",
    "1. Regular Expressions: cleaning out sequences of numbers, non-letter characters, strings with underscores, and lower-casing\n",
    "2. Tokenizing: splits raw text into sentences, words and punctuation\n",
    "3. Stop Words: removing filler words i.e. the, me, then\n",
    "4. Pos Tag: use tokenized words to identify the part of speech WordNet tag from Penn Treebank https://www.ling.upenn.edu/courses/Fall_2003/ling001/penn_treebank_pos.html\n",
    "5. Lemmatizing: Convert the part of speech WordNet tag to identify a noun, verb, adverb, or adjective (based on starting with 'N’, ‘V’, ‘R’, or ‘J’). Then we use the tag to translate to the lemma, or the root word in the english lexicon."
   ]
  },
  {
   "cell_type": "code",
   "execution_count": 101,
   "metadata": {
    "collapsed": true
   },
   "outputs": [],
   "source": [
    "def nltk_preprocess(data):\n",
    "    '''This function preprocesses a data frame, specifing a text_column, \n",
    "    and strips down the document to cleaned, individualized word tokens without\n",
    "    stop words and other excessive parts of speech and eventually rejoins the remaining words.\n",
    "    '''\n",
    "    #Initializes stop words and new column creation\n",
    "    stop = stopwords.words('english')\n",
    "    \n",
    "    \n",
    "    #Initialize Lemmatizer object and final list of lemmatized words\n",
    "    lemmatizer = WordNetLemmatizer()\n",
    "    \n",
    "    def get_wordnet_pos(treebank_tag):\n",
    "        if treebank_tag.startswith('J'):\n",
    "            return wordnet.ADJ\n",
    "        elif treebank_tag.startswith('V'):\n",
    "            return wordnet.VERB\n",
    "        elif treebank_tag.startswith('N'):\n",
    "            return wordnet.NOUN\n",
    "        elif treebank_tag.startswith('R'):\n",
    "            return wordnet.ADV\n",
    "        else:\n",
    "            return None # for easy if-statement\n",
    "        \n",
    "    def lemmatized(word, tag):\n",
    "        wntag = get_wordnet_pos(tag)\n",
    "        if wntag is None:\n",
    "            lemma = str(lemmatizer.lemmatize(word))\n",
    "        else:\n",
    "            lemma = str(lemmatizer.lemmatize(word, pos=wntag))\n",
    "        return lemma\n",
    "\n",
    "    data = data.apply(lambda x: re.sub(r'\\d+', r' ', x)).apply(lambda y: re.sub(r'\\W+', r' ', y)).apply(lambda z: re.sub(r\"_+\",r\" \",z))\n",
    "    data = data.str.lower()\n",
    "    data = data.apply(word_tokenize)\n",
    "    data = data.apply(lambda x: [item for item in x if item not in stop])\n",
    "    data = data.apply(pos_tag)\n",
    "    data = data.apply(lambda x: [lemmatized(word, tag) for (word, tag) in x])\n",
    "    data = data.apply(lambda x: ' '.join(x))\n",
    "    return data"
   ]
  },
  {
   "cell_type": "code",
   "execution_count": 140,
   "metadata": {},
   "outputs": [
    {
     "name": "stdout",
     "output_type": "stream",
     "text": [
      "('Request Text Shape:', (5671, 364))\n",
      "('Request Title Shape:', (5671, 58))\n"
     ]
    }
   ],
   "source": [
    "request_text_vectorizer = Pipeline([('cv', CountVectorizer(min_df=.02, max_df=.3, ngram_range=(1,3))),\n",
    "                                    ('tfidf', TfidfTransformer())])\n",
    "train_request_text_wordvecs = request_text_vectorizer.fit_transform(nltk_preprocess(extended_data['request_text_edit_aware']))\n",
    "\n",
    "request_title_vectorizer = Pipeline([('cv', CountVectorizer(min_df=.02, max_df=.5, ngram_range=(1,3))),\n",
    "                                     ('tfidf', TfidfTransformer())])\n",
    "train_request_title_wordvecs = request_title_vectorizer.fit_transform(nltk_preprocess(extended_data['request_title']))\n",
    "\n",
    "print (\"Request Text Shape:\", train_request_text_wordvecs.shape)\n",
    "print (\"Request Title Shape:\", train_request_title_wordvecs.shape)"
   ]
  },
  {
   "cell_type": "markdown",
   "metadata": {},
   "source": [
    "After NLTK preprocessing, we end up with 371 unique words, bi- and tri-grams for the request text and 59 for the request title; without limiting the document frequency minimum and maximum, this would otherwise prove to be an unreasonably large number of features for some models. We look to fine tune the min_df / max_df to see if we can further compact our data."
   ]
  },
  {
   "cell_type": "code",
   "execution_count": 104,
   "metadata": {},
   "outputs": [
    {
     "name": "stdout",
     "output_type": "stream",
     "text": [
      "      occurrences      term  frequency\n",
      "5816         3126     pizza   0.349469\n",
      "3200         2406       get   0.268977\n",
      "8800         2249     would   0.251425\n",
      "5637         1411       pay   0.157742\n",
      "3575         1369      help   0.153046\n",
      "3261         1126        go   0.125880\n",
      "6353         1082    really   0.120961\n",
      "8780         1060      work   0.118502\n",
      "1847         1034       day   0.115595\n",
      "8629         1027      week   0.114813\n",
      "2952          999      food   0.111683\n",
      "4977          942     money   0.105310\n",
      "4657          813      make   0.090889\n",
      "4152          806       job   0.090106\n",
      "4459          787      like   0.087982\n",
      "1636          744     could   0.083175\n",
      "7955          742      time   0.082951\n",
      "7859          734    thanks   0.082057\n",
      "2382          669       eat   0.074790\n",
      "4351          647      last   0.072331\n",
      "4571          640      love   0.071548\n",
      "5391          613       one   0.068530\n",
      "8568          608      want   0.067971\n",
      "7256          580   someone   0.064841\n",
      "5036          579      much   0.064729\n",
      "4983          574     month   0.064170\n",
      "4284          558      know   0.062381\n",
      "554           554      back   0.061934\n",
      "314           543    anyone   0.060704\n",
      "897           543     break   0.060704\n",
      "...           ...       ...        ...\n",
      "206           330      also   0.036892\n",
      "45            329   account   0.036780\n",
      "3433          322       guy   0.035998\n",
      "8015          322  tomorrow   0.035998\n",
      "1435          318       com   0.035551\n",
      "3740          318      http   0.035551\n",
      "3717          316     house   0.035327\n",
      "2801          314      feel   0.035103\n",
      "11            313      able   0.034992\n",
      "2743          308    family   0.034433\n",
      "7439          304     start   0.033985\n",
      "5961          303      post   0.033874\n",
      "7550          300   student   0.033538\n",
      "4255          299      kind   0.033426\n",
      "6045          296    pretty   0.033091\n",
      "8604          293       way   0.032756\n",
      "1422          291   college   0.032532\n",
      "732           289      bill   0.032309\n",
      "4534          285      long   0.031861\n",
      "6514          280      rent   0.031302\n",
      "2531          279    enough   0.031191\n",
      "6929          276      send   0.030855\n",
      "5686          275    people   0.030743\n",
      "7506          265     story   0.029625\n",
      "3050          263    friday   0.029402\n",
      "2406          262      edit   0.029290\n",
      "1102          259       car   0.028955\n",
      "7649          258      sure   0.028843\n",
      "3597          256       hey   0.028619\n",
      "6289          256     ramen   0.028619\n",
      "\n",
      "[100 rows x 3 columns]\n"
     ]
    }
   ],
   "source": [
    "vectorizer = CountVectorizer(min_df = 1)\n",
    "rtv = vectorizer.fit_transform(nltk_preprocess(train_data['request_text_edit_aware']))\n",
    "rtv_freq = pd.DataFrame({'term': vectorizer.get_feature_names(), 'occurrences':np.asarray(rtv.sum(axis=0)).ravel().tolist()})\n",
    "rtv_freq['frequency'] = rtv_freq['occurrences']/rtv_freq.shape[0]\n",
    "print rtv_freq.sort_values('frequency', ascending = False).head(100)"
   ]
  },
  {
   "cell_type": "markdown",
   "metadata": {},
   "source": [
    "The most common request text words from the post body are in line with expectation of desperation stories - pizza, help, work, week, food. In effort establish min_df and max_df cutoffs for frequencies, there looks to be meaningful words from **0.028** - ramen, student, rent, bill, enough, all the way to **0.1**, as everything in the top 10 are to generic and commonplace in a pizza subreddit."
   ]
  },
  {
   "cell_type": "code",
   "execution_count": 136,
   "metadata": {
    "scrolled": true
   },
   "outputs": [
    {
     "name": "stdout",
     "output_type": "stream",
     "text": [
      "('The best parameter of choice:', {'cv__ngram_range': (1, 2), 'cv__min_df': 0.077600000000000002, 'cv__max_df': 0.10000000000000001}, '\\n\\n')\n"
     ]
    }
   ],
   "source": [
    "request_text_pipeline = Pipeline([('cv', CountVectorizer()),\n",
    "                          ('tfidf', TfidfTransformer()),\n",
    "                          ('lr', LogisticRegression())])\n",
    "\n",
    "pipeline_gscv = GridSearchCV(request_text_pipeline, [{\"cv__min_df\":np.linspace(0.028,.09,6), \n",
    "                                              \"cv__max_df\":np.linspace(0.1, 0.15, 2), \n",
    "                                              \"cv__ngram_range\":[(1,2), (1,3)]}])\n",
    "\n",
    "pipeline_gscv.fit(train_data[\"request_text_edit_aware\"], train_labels)\n",
    "print('The best parameter of choice:', pipeline_gscv.best_params_,'\\n\\n')"
   ]
  },
  {
   "cell_type": "markdown",
   "metadata": {},
   "source": [
    "#### Updating paramters per gridsearch"
   ]
  },
  {
   "cell_type": "code",
   "execution_count": null,
   "metadata": {
    "collapsed": true
   },
   "outputs": [],
   "source": [
    "request_text_vectorizer = Pipeline([('cv', CountVectorizer(min_df=.07, max_df=.1, ngram_range=(1,2))),\n",
    "                                    ('tfidf', TfidfTransformer())])\n",
    "train_request_text_wordvecs = request_text_vectorizer.fit_transform(nltk_preprocess(extended_data['request_text_edit_aware']))\n",
    "extended_request_text_wordvecs = request_text_vectorizer.transform(extended_data['request_text_edit_aware'])"
   ]
  },
  {
   "cell_type": "code",
   "execution_count": 106,
   "metadata": {},
   "outputs": [
    {
     "name": "stdout",
     "output_type": "stream",
     "text": [
      "      occurrences        term  frequency\n",
      "2546         3465     request   1.004057\n",
      "2294         1353       pizza   0.392060\n",
      "3413          539       would   0.156187\n",
      "363           432       break   0.125181\n",
      "1436          410      hungry   0.118806\n",
      "2964          292     student   0.084613\n",
      "1747          287        love   0.083164\n",
      "1118          282        food   0.081715\n",
      "1215          276         get   0.079977\n",
      "1353          267        help   0.077369\n",
      "3249          235         usa   0.068096\n",
      "643           221       could   0.064039\n",
      "1923          218       money   0.063170\n",
      "577           216     college   0.062591\n",
      "716           211         day   0.061142\n",
      "2482          203      really   0.058824\n",
      "2005          195        need   0.056505\n",
      "3251          189         use   0.054767\n",
      "2223          170         pay   0.049261\n",
      "3336          167        week   0.048392\n",
      "3401          155        work   0.044915\n",
      "908           152         eat   0.044045\n",
      "1551          151         job   0.043755\n",
      "3130          137     tonight   0.039699\n",
      "1235          136          go   0.039409\n",
      "2021          128         new   0.037091\n",
      "3311          127        want   0.036801\n",
      "2315          115      please   0.033324\n",
      "3118          113       today   0.032744\n",
      "1697          112        like   0.032454\n",
      "...           ...         ...        ...\n",
      "213            51         bad   0.014778\n",
      "1112           51     florida   0.014778\n",
      "2120           51         old   0.014778\n",
      "441            51      canada   0.014778\n",
      "2587           50       right   0.014489\n",
      "2125           50         one   0.014489\n",
      "3104           50        till   0.014489\n",
      "210            49        back   0.014199\n",
      "1293           49         guy   0.014199\n",
      "453            49         car   0.014199\n",
      "2534           49        rent   0.014199\n",
      "1062           48        feel   0.013909\n",
      "2942           48       story   0.013909\n",
      "1828           48        meal   0.013909\n",
      "1241           47        good   0.013619\n",
      "2841           47     someone   0.013619\n",
      "77             47       alone   0.013619\n",
      "1103           46          fl   0.013329\n",
      "2227           45      payday   0.013040\n",
      "3225           45  unemployed   0.013040\n",
      "2082           44          ny   0.012750\n",
      "3069           43       texas   0.012460\n",
      "2906           43       start   0.012460\n",
      "227            43        bank   0.012460\n",
      "18             42     account   0.012170\n",
      "2879           42       spend   0.012170\n",
      "1228           42        give   0.012170\n",
      "1712           42        live   0.012170\n",
      "2711           42        send   0.012170\n",
      "3181           41         try   0.011881\n",
      "\n",
      "[100 rows x 3 columns]\n"
     ]
    }
   ],
   "source": [
    "vectorizer = CountVectorizer(min_df = 1)\n",
    "tv = vectorizer.fit_transform(nltk_preprocess(train_data['request_title']))\n",
    "tv_freq = pd.DataFrame({'term': vectorizer.get_feature_names(), 'occurrences':np.asarray(tv.sum(axis=0)).ravel().tolist()})\n",
    "tv_freq['frequency'] = tv_freq['occurrences']/tv_freq.shape[0]\n",
    "print tv_freq.sort_values('frequency', ascending = False).head(100)"
   ]
  },
  {
   "cell_type": "markdown",
   "metadata": {},
   "source": [
    "The title words are less telling compared to the request text, but they still craft desperation stories with meaningful words (bank, account, unemployed, payday, alone) in the low **0.01** range all the way to **0.1** as the top 5 words are too generic and commonplace for this subreddit. (note a frequency > 1 is interpretable and could mean it was used at least once in each post)"
   ]
  },
  {
   "cell_type": "code",
   "execution_count": 134,
   "metadata": {
    "scrolled": false
   },
   "outputs": [
    {
     "name": "stdout",
     "output_type": "stream",
     "text": [
      "('The best parameter of choice:', {'cv__ngram_range': (1, 2), 'cv__min_df': 0.026000000000000002, 'cv__max_df': 0.10000000000000001}, '\\n\\n')\n"
     ]
    }
   ],
   "source": [
    "title_pipeline = Pipeline([('cv', CountVectorizer()),\n",
    "                          ('tfidf', TfidfTransformer()),\n",
    "                          ('lr', LogisticRegression())])\n",
    "\n",
    "pipeline_gscv = GridSearchCV(title_pipeline, [{\"cv__min_df\":np.linspace(0.01,.09,6), \n",
    "                                              \"cv__max_df\":np.linspace(0.1, 0.15, 2), \n",
    "                                              \"cv__ngram_range\":[(1,2), (1,3)]}])\n",
    "\n",
    "pipeline_gscv.fit(train_data[\"request_title\"], train_labels)\n",
    "print('The best parameter of choice:', pipeline_gscv.best_params_,'\\n\\n')"
   ]
  },
  {
   "cell_type": "markdown",
   "metadata": {},
   "source": [
    "#### Updating paramters per gridsearch"
   ]
  },
  {
   "cell_type": "code",
   "execution_count": 142,
   "metadata": {
    "collapsed": true
   },
   "outputs": [],
   "source": [
    "request_title_vectorizer = Pipeline([('cv', CountVectorizer(min_df=.026, max_df=.1, ngram_range=(1,2))),\n",
    "                                     ('tfidf', TfidfTransformer())])\n",
    "train_request_title_wordvecs = request_title_vectorizer.fit_transform(nltk_preprocess(extended_data['request_title']))\n",
    "extended_request_title_wordvecs = request_title_vectorizer.transform(extended_data['request_title'])"
   ]
  },
  {
   "cell_type": "markdown",
   "metadata": {},
   "source": [
    "For the models that can deal with huge dimensions, we will provide the original word vectors.  For models that can't handle this, we will perform dimensionality reduction using PCA."
   ]
  },
  {
   "cell_type": "code",
   "execution_count": 26,
   "metadata": {},
   "outputs": [
    {
     "data": {
      "image/png": "[encoded data removed]",
      "text/plain": [
       "<matplotlib.figure.Figure at 0x10b0a2150>"
      ]
     },
     "metadata": {},
     "output_type": "display_data"
    }
   ],
   "source": [
    "title_pca = PCA(50)\n",
    "title_pca.fit(train_request_title_wordvecs.todense())\n",
    "plt.plot(np.cumsum(title_pca.explained_variance_ratio_))\n",
    "plt.xlabel('PCA Component Count')\n",
    "plt.ylabel('Cumulative Explained Variance %')\n",
    "plt.title('Explained Variance for Request Title PCA')\n",
    "plt.show()"
   ]
  },
  {
   "cell_type": "code",
   "execution_count": 27,
   "metadata": {},
   "outputs": [
    {
     "data": {
      "image/png": "[encoded data removed]",
      "text/plain": [
       "<matplotlib.figure.Figure at 0x10b013810>"
      ]
     },
     "metadata": {},
     "output_type": "display_data"
    }
   ],
   "source": [
    "text_pca = PCA(300)\n",
    "text_pca.fit(train_request_text_wordvecs.todense())\n",
    "np.cumsum(text_pca.explained_variance_ratio_)\n",
    "\n",
    "plt.plot(np.cumsum(text_pca.explained_variance_ratio_))\n",
    "plt.xlabel('PCA Component Count')\n",
    "plt.ylabel('Cumulative Explained Variance %')\n",
    "plt.title('Explained Variance for Request Text PCA')\n",
    "plt.show()"
   ]
  },
  {
   "cell_type": "markdown",
   "metadata": {},
   "source": [
    "Because PCA does not allow us to cut down significantly on the feature dimensions while still explaining much of the variance, we look to a Random Forest on only the word vector counts in order to identify the most important features. This also serves to prevent overfitting in classifiers like Logistic regression.\n",
    "\n",
    "So, we fit a Random Forest classifier on the full word-vector list from titles and posts and keep only those with the largest weights after ensembling."
   ]
  },
  {
   "cell_type": "code",
   "execution_count": 143,
   "metadata": {},
   "outputs": [
    {
     "name": "stdout",
     "output_type": "stream",
     "text": [
      "('Word vector features:', (5671, 403))\n",
      "('Development score:', '0.546')\n"
     ]
    }
   ],
   "source": [
    "extended_wordvecs = np.concatenate((extended_request_title_wordvecs.toarray(),\n",
    "                                extended_request_text_wordvecs.toarray()), axis=1)\n",
    "print(\"Word vector features:\", extended_wordvecs.shape)\n",
    "\n",
    "train_words = extended_wordvecs[in_train]\n",
    "dev_words = extended_wordvecs[in_dev]\n",
    "#test_words = extended_wordvecs[in_test]\n",
    "\n",
    "rf = RandomForestClassifier()\n",
    "rf.fit(train_words, train_labels)\n",
    "\n",
    "dev_score = rf.score(dev_words, dev_labels)\n",
    "dev_probs = rf.predict_proba(dev_words)\n",
    "print(\"Development score:\", \"{:.3f}\".format(metrics.roc_auc_score(dev_labels, dev_probs[:,1])))\n",
    "\n",
    "importance_index = np.argsort(rf.feature_importances_)\n",
    "\n",
    "top = 100\n",
    "restricted_wordvecs = extended_wordvecs[:,importance_index[importance_index.shape[0]-top:]]"
   ]
  },
  {
   "cell_type": "markdown",
   "metadata": {},
   "source": [
    "## Final Data Preparation\n",
    "Now that we've done all our transformations on the \"extended\" data set, we can replace our raw text fields with our transformed vocabulary and keep only our numeric model features."
   ]
  },
  {
   "cell_type": "markdown",
   "metadata": {},
   "source": [
    "We're going to also add in a set of sentiment scores for the two text columns using VADER, which produces four sentiment metrics: positive, neutral and negative, and compound score, which is the sum of all of the lexicon ratings (1.9 and 1.8 in this case) which have been standardised to range between -1 and 1. In our case, compound scores could be negative so we decline to use them."
   ]
  },
  {
   "cell_type": "code",
   "execution_count": 144,
   "metadata": {
    "scrolled": true
   },
   "outputs": [
    {
     "data": {
      "text/html": [
       "<div>\n",
       "<style scoped>\n",
       "    .dataframe tbody tr th:only-of-type {\n",
       "        vertical-align: middle;\n",
       "    }\n",
       "\n",
       "    .dataframe tbody tr th {\n",
       "        vertical-align: top;\n",
       "    }\n",
       "\n",
       "    .dataframe thead th {\n",
       "        text-align: right;\n",
       "    }\n",
       "</style>\n",
       "<table border=\"1\" class=\"dataframe\">\n",
       "  <thead>\n",
       "    <tr style=\"text-align: right;\">\n",
       "      <th></th>\n",
       "      <th>request_text_edit_aware_neg</th>\n",
       "      <th>request_title_neg</th>\n",
       "      <th>request_text_edit_aware_neu</th>\n",
       "      <th>request_title_neu</th>\n",
       "      <th>request_text_edit_aware_pos</th>\n",
       "      <th>request_title_pos</th>\n",
       "    </tr>\n",
       "  </thead>\n",
       "  <tbody>\n",
       "    <tr>\n",
       "      <th>0</th>\n",
       "      <td>0.025</td>\n",
       "      <td>0.000</td>\n",
       "      <td>0.836</td>\n",
       "      <td>0.444</td>\n",
       "      <td>0.139</td>\n",
       "      <td>0.556</td>\n",
       "    </tr>\n",
       "    <tr>\n",
       "      <th>1</th>\n",
       "      <td>0.322</td>\n",
       "      <td>0.216</td>\n",
       "      <td>0.678</td>\n",
       "      <td>0.784</td>\n",
       "      <td>0.000</td>\n",
       "      <td>0.000</td>\n",
       "    </tr>\n",
       "    <tr>\n",
       "      <th>2</th>\n",
       "      <td>0.000</td>\n",
       "      <td>0.000</td>\n",
       "      <td>0.867</td>\n",
       "      <td>0.667</td>\n",
       "      <td>0.133</td>\n",
       "      <td>0.333</td>\n",
       "    </tr>\n",
       "    <tr>\n",
       "      <th>3</th>\n",
       "      <td>0.086</td>\n",
       "      <td>0.000</td>\n",
       "      <td>0.733</td>\n",
       "      <td>1.000</td>\n",
       "      <td>0.180</td>\n",
       "      <td>0.000</td>\n",
       "    </tr>\n",
       "    <tr>\n",
       "      <th>4</th>\n",
       "      <td>0.065</td>\n",
       "      <td>0.000</td>\n",
       "      <td>0.677</td>\n",
       "      <td>0.596</td>\n",
       "      <td>0.258</td>\n",
       "      <td>0.404</td>\n",
       "    </tr>\n",
       "    <tr>\n",
       "      <th>5</th>\n",
       "      <td>0.097</td>\n",
       "      <td>0.000</td>\n",
       "      <td>0.684</td>\n",
       "      <td>1.000</td>\n",
       "      <td>0.219</td>\n",
       "      <td>0.000</td>\n",
       "    </tr>\n",
       "    <tr>\n",
       "      <th>6</th>\n",
       "      <td>0.051</td>\n",
       "      <td>0.000</td>\n",
       "      <td>0.788</td>\n",
       "      <td>0.769</td>\n",
       "      <td>0.161</td>\n",
       "      <td>0.231</td>\n",
       "    </tr>\n",
       "    <tr>\n",
       "      <th>7</th>\n",
       "      <td>0.090</td>\n",
       "      <td>0.000</td>\n",
       "      <td>0.743</td>\n",
       "      <td>1.000</td>\n",
       "      <td>0.167</td>\n",
       "      <td>0.000</td>\n",
       "    </tr>\n",
       "  </tbody>\n",
       "</table>\n",
       "</div>"
      ],
      "text/plain": [
       "   request_text_edit_aware_neg  request_title_neg  \\\n",
       "0                        0.025              0.000   \n",
       "1                        0.322              0.216   \n",
       "2                        0.000              0.000   \n",
       "3                        0.086              0.000   \n",
       "4                        0.065              0.000   \n",
       "5                        0.097              0.000   \n",
       "6                        0.051              0.000   \n",
       "7                        0.090              0.000   \n",
       "\n",
       "   request_text_edit_aware_neu  request_title_neu  \\\n",
       "0                        0.836              0.444   \n",
       "1                        0.678              0.784   \n",
       "2                        0.867              0.667   \n",
       "3                        0.733              1.000   \n",
       "4                        0.677              0.596   \n",
       "5                        0.684              1.000   \n",
       "6                        0.788              0.769   \n",
       "7                        0.743              1.000   \n",
       "\n",
       "   request_text_edit_aware_pos  request_title_pos  \n",
       "0                        0.139              0.556  \n",
       "1                        0.000              0.000  \n",
       "2                        0.133              0.333  \n",
       "3                        0.180              0.000  \n",
       "4                        0.258              0.404  \n",
       "5                        0.219              0.000  \n",
       "6                        0.161              0.231  \n",
       "7                        0.167              0.000  "
      ]
     },
     "execution_count": 144,
     "metadata": {},
     "output_type": "execute_result"
    }
   ],
   "source": [
    "sid_rt = SentimentIntensityAnalyzer()\n",
    "sid_t = SentimentIntensityAnalyzer()\n",
    "sentiment_metrics = ['neg', 'neu', 'pos'] #compound metrics produce negative numbers which we can't use\n",
    "extended_sentiment_data = pd.DataFrame()\n",
    "for metrix in sentiment_metrics:\n",
    "    extended_sentiment_data['request_text_edit_aware_'+ metrix] = extended_data['request_text_edit_aware'].apply(lambda x: sid_rt.polarity_scores(x)[metrix])\n",
    "    extended_sentiment_data['request_title_'+ metrix] = extended_data['request_title'].apply(lambda x: sid_t.polarity_scores(x)[metrix])\n",
    "extended_sentiment_data.head(8)"
   ]
  },
  {
   "cell_type": "code",
   "execution_count": 2,
   "metadata": {},
   "outputs": [
    {
     "ename": "NameError",
     "evalue": "name 'extended_data' is not defined",
     "output_type": "error",
     "traceback": [
      "\u001b[0;31m---------------------------------------------------------------------------\u001b[0m",
      "\u001b[0;31mNameError\u001b[0m                                 Traceback (most recent call last)",
      "\u001b[0;32m<ipython-input-2-cefe57bfe007>\u001b[0m in \u001b[0;36m<module>\u001b[0;34m()\u001b[0m\n\u001b[0;32m----> 1\u001b[0;31m \u001b[0mmodel_data\u001b[0m \u001b[0;34m=\u001b[0m \u001b[0mextended_data\u001b[0m\u001b[0;34m.\u001b[0m\u001b[0mcopy\u001b[0m\u001b[0;34m(\u001b[0m\u001b[0;34m)\u001b[0m\u001b[0;34m\u001b[0m\u001b[0m\n\u001b[0m\u001b[1;32m      2\u001b[0m \u001b[0;34m\u001b[0m\u001b[0m\n\u001b[1;32m      3\u001b[0m exclude_features = ['giver_username_if_known', 'request_id', 'request_text_edit_aware',\n\u001b[1;32m      4\u001b[0m                     \u001b[0;34m'request_title'\u001b[0m\u001b[0;34m,\u001b[0m\u001b[0;34m'requester_subreddits_at_request'\u001b[0m\u001b[0;34m,\u001b[0m\u001b[0;34m'requester_username'\u001b[0m\u001b[0;34m,\u001b[0m\u001b[0;34m\u001b[0m\u001b[0m\n\u001b[1;32m      5\u001b[0m                     'requester_upvotes_minus_downvotes_at_request']\n",
      "\u001b[0;31mNameError\u001b[0m: name 'extended_data' is not defined"
     ]
    }
   ],
   "source": [
    "model_data = extended_data.copy()\n",
    "\n",
    "exclude_features = ['giver_username_if_known', 'request_id', 'request_text_edit_aware',\n",
    "                    'request_title','requester_subreddits_at_request','requester_username',\n",
    "                    'requester_upvotes_minus_downvotes_at_request']\n",
    "\n",
    "model_data = model_data.drop(exclude_features, axis=1)\n",
    "\n",
    "#extended_request_text_wordvecs = request_text_vectorizer.transform(extended_data['request_text_edit_aware'])\n",
    "#extended_request_title_wordvecs = request_title_vectorizer.transform(extended_data['request_title'])\n",
    "\n",
    "\n",
    "model_data = np.concatenate((model_data, extended_sentiment_data,restricted_wordvecs), axis=1)\n",
    "print(extended_wordvecs.shape)\n",
    "print(model_data.shape)"
   ]
  },
  {
   "cell_type": "markdown",
   "metadata": {},
   "source": [
    "Now that we've done all our transformations on the \"extended\" data set, we will split it back up into train, dev, and test."
   ]
  },
  {
   "cell_type": "code",
   "execution_count": 146,
   "metadata": {},
   "outputs": [
    {
     "name": "stdout",
     "output_type": "stream",
     "text": [
      "('Train:', (3443, 127), 'Development:', (597, 127), 'Test:', (1631, 127))\n"
     ]
    }
   ],
   "source": [
    "train_data = model_data[in_train]\n",
    "dev_data = model_data[in_dev]\n",
    "test_data = model_data[in_test]\n",
    "\n",
    "print(\"Train:\", train_data.shape, \"Development:\", dev_data.shape, \"Test:\", test_data.shape)"
   ]
  },
  {
   "cell_type": "markdown",
   "metadata": {},
   "source": [
    "# Modeling\n",
    "\n",
    "### Logistic Regression\n",
    "We begin modeling with training a series of logistic regression models on our generated word counts and other numeric variables, including log transformations and vote ratios, for hyperparameters C and lasso regularization."
   ]
  },
  {
   "cell_type": "code",
   "execution_count": 159,
   "metadata": {
    "scrolled": false
   },
   "outputs": [
    {
     "name": "stdout",
     "output_type": "stream",
     "text": [
      "('Logistic with c =', '0.0001', 'and', 'l2', 'regularization:')\n",
      "('train ROC:', '0.579')\n",
      "('dev ROC:  ', '0.549')\n",
      "\n",
      "******************************\n",
      "\n",
      "('Logistic with c =', '0.001', 'and', 'l2', 'regularization:')\n",
      "('train ROC:', '0.579')\n",
      "('dev ROC:  ', '0.549')\n",
      "\n",
      "******************************\n",
      "\n",
      "('Logistic with c =', '0.005', 'and', 'l2', 'regularization:')\n",
      "('train ROC:', '0.579')\n",
      "('dev ROC:  ', '0.549')\n",
      "\n",
      "******************************\n",
      "\n",
      "('Logistic with c =', '0.01', 'and', 'l2', 'regularization:')\n",
      "('train ROC:', '0.579')\n",
      "('dev ROC:  ', '0.549')\n",
      "\n",
      "******************************\n",
      "\n",
      "('Logistic with c =', '0.025', 'and', 'l2', 'regularization:')\n",
      "('train ROC:', '0.579')\n",
      "('dev ROC:  ', '0.549')\n",
      "\n",
      "******************************\n",
      "\n",
      "('Logistic with c =', '0.05', 'and', 'l2', 'regularization:')\n",
      "('train ROC:', '0.579')\n",
      "('dev ROC:  ', '0.549')\n",
      "\n",
      "******************************\n",
      "\n",
      "('Logistic with c =', '0.1', 'and', 'l2', 'regularization:')\n",
      "('train ROC:', '0.579')\n",
      "('dev ROC:  ', '0.549')\n",
      "\n",
      "******************************\n",
      "\n",
      "('Logistic with c =', '0.125', 'and', 'l2', 'regularization:')\n",
      "('train ROC:', '0.579')\n",
      "('dev ROC:  ', '0.549')\n",
      "\n",
      "******************************\n",
      "\n",
      "('Logistic with c =', '0.25', 'and', 'l2', 'regularization:')\n",
      "('train ROC:', '0.579')\n",
      "('dev ROC:  ', '0.549')\n",
      "\n",
      "******************************\n",
      "\n",
      "('Logistic with c =', '0.5', 'and', 'l2', 'regularization:')\n",
      "('train ROC:', '0.579')\n",
      "('dev ROC:  ', '0.549')\n",
      "\n",
      "******************************\n",
      "\n",
      "('Logistic with c =', '1', 'and', 'l2', 'regularization:')\n",
      "('train ROC:', '0.579')\n",
      "('dev ROC:  ', '0.549')\n",
      "\n",
      "******************************\n",
      "\n",
      "('Logistic with c =', '5', 'and', 'l2', 'regularization:')\n",
      "('train ROC:', '0.579')\n",
      "('dev ROC:  ', '0.549')\n",
      "\n",
      "******************************\n",
      "\n",
      "('Logistic with c =', '10', 'and', 'l2', 'regularization:')\n",
      "('train ROC:', '0.579')\n",
      "('dev ROC:  ', '0.549')\n",
      "\n",
      "******************************\n",
      "\n",
      "('Logistic with c =', '25', 'and', 'l2', 'regularization:')\n",
      "('train ROC:', '0.579')\n",
      "('dev ROC:  ', '0.549')\n",
      "\n",
      "******************************\n",
      "\n",
      "('Logistic with c =', '50', 'and', 'l2', 'regularization:')\n",
      "('train ROC:', '0.579')\n",
      "('dev ROC:  ', '0.549')\n",
      "\n",
      "******************************\n",
      "\n",
      "('Logistic with c =', '100', 'and', 'l2', 'regularization:')\n",
      "('train ROC:', '0.579')\n",
      "('dev ROC:  ', '0.549')\n",
      "\n",
      "******************************\n",
      "\n",
      "('Logistic with c =', '500', 'and', 'l2', 'regularization:')\n",
      "('train ROC:', '0.579')\n",
      "('dev ROC:  ', '0.549')\n",
      "\n",
      "******************************\n",
      "\n"
     ]
    },
    {
     "data": {
      "image/png": "[encoded data removed]",
      "text/plain": [
       "<matplotlib.figure.Figure at 0x1a0d56f710>"
      ]
     },
     "metadata": {},
     "output_type": "display_data"
    },
    {
     "name": "stdout",
     "output_type": "stream",
     "text": [
      "('Logistic with c =', '0.0001', 'and', 'l1', 'regularization:')\n",
      "('train ROC:', '0.609')\n",
      "('dev ROC:  ', '0.600')\n",
      "\n",
      "******************************\n",
      "\n",
      "('Logistic with c =', '0.001', 'and', 'l1', 'regularization:')\n",
      "('train ROC:', '0.617')\n",
      "('dev ROC:  ', '0.609')\n",
      "\n",
      "******************************\n",
      "\n",
      "('Logistic with c =', '0.005', 'and', 'l1', 'regularization:')\n",
      "('train ROC:', '0.644')\n",
      "('dev ROC:  ', '0.611')\n",
      "\n",
      "******************************\n",
      "\n",
      "('Logistic with c =', '0.01', 'and', 'l1', 'regularization:')\n",
      "('train ROC:', '0.645')\n",
      "('dev ROC:  ', '0.616')\n",
      "\n",
      "******************************\n",
      "\n",
      "('Logistic with c =', '0.025', 'and', 'l1', 'regularization:')\n",
      "('train ROC:', '0.661')\n",
      "('dev ROC:  ', '0.640')\n",
      "\n",
      "******************************\n",
      "\n",
      "('Logistic with c =', '0.05', 'and', 'l1', 'regularization:')\n",
      "('train ROC:', '0.668')\n",
      "('dev ROC:  ', '0.654')\n",
      "\n",
      "******************************\n",
      "\n",
      "('Logistic with c =', '0.1', 'and', 'l1', 'regularization:')\n",
      "('train ROC:', '0.670')\n",
      "('dev ROC:  ', '0.661')\n",
      "\n",
      "******************************\n",
      "\n",
      "('Logistic with c =', '0.125', 'and', 'l1', 'regularization:')\n",
      "('train ROC:', '0.672')\n",
      "('dev ROC:  ', '0.657')\n",
      "\n",
      "******************************\n",
      "\n",
      "('Logistic with c =', '0.25', 'and', 'l1', 'regularization:')\n",
      "('train ROC:', '0.696')\n",
      "('dev ROC:  ', '0.653')\n",
      "\n",
      "******************************\n",
      "\n",
      "('Logistic with c =', '0.5', 'and', 'l1', 'regularization:')\n",
      "('train ROC:', '0.721')\n",
      "('dev ROC:  ', '0.651')\n",
      "\n",
      "******************************\n",
      "\n",
      "('Logistic with c =', '1', 'and', 'l1', 'regularization:')\n",
      "('train ROC:', '0.736')\n",
      "('dev ROC:  ', '0.651')\n",
      "\n",
      "******************************\n",
      "\n",
      "('Logistic with c =', '5', 'and', 'l1', 'regularization:')\n",
      "('train ROC:', '0.745')\n",
      "('dev ROC:  ', '0.653')\n",
      "\n",
      "******************************\n",
      "\n",
      "('Logistic with c =', '10', 'and', 'l1', 'regularization:')\n",
      "('train ROC:', '0.746')\n",
      "('dev ROC:  ', '0.654')\n",
      "\n",
      "******************************\n",
      "\n",
      "('Logistic with c =', '25', 'and', 'l1', 'regularization:')\n",
      "('train ROC:', '0.746')\n",
      "('dev ROC:  ', '0.654')\n",
      "\n",
      "******************************\n",
      "\n",
      "('Logistic with c =', '50', 'and', 'l1', 'regularization:')\n",
      "('train ROC:', '0.746')\n",
      "('dev ROC:  ', '0.654')\n",
      "\n",
      "******************************\n",
      "\n",
      "('Logistic with c =', '100', 'and', 'l1', 'regularization:')\n",
      "('train ROC:', '0.746')\n",
      "('dev ROC:  ', '0.654')\n",
      "\n",
      "******************************\n",
      "\n",
      "('Logistic with c =', '500', 'and', 'l1', 'regularization:')\n",
      "('train ROC:', '0.746')\n",
      "('dev ROC:  ', '0.653')\n",
      "\n",
      "******************************\n",
      "\n"
     ]
    },
    {
     "data": {
      "image/png": "[encoded data removed]",
      "text/plain": [
       "<matplotlib.figure.Figure at 0x1a1f9205d0>"
      ]
     },
     "metadata": {},
     "output_type": "display_data"
    },
    {
     "name": "stdout",
     "output_type": "stream",
     "text": [
      "('Best development ROC:', '0.661', '(c=', 0.1, ', reg=', 'l1', ')')\n"
     ]
    }
   ],
   "source": [
    "def logistic_tester(c=1, p=\"l2\", \n",
    "                    train_data = train_data,\n",
    "                    train_labels = train_labels,\n",
    "                    dev_data = dev_data,\n",
    "                    dev_labels = dev_labels,\n",
    "                    test_data = test_data):\n",
    "    \"\"\"Train logistic for any C, penalty; return ROC score on development set and test set predictions\"\"\"\n",
    "    \n",
    "    print(\"Logistic with c =\", str(c), \"and\", p,\"regularization:\")\n",
    "    full_lr = LogisticRegression(penalty=p, C=c, tol=.001, class_weight=\"balanced\")\n",
    "    full_lr.fit(train_data, train_labels)\n",
    "\n",
    "    train_preds = full_lr.predict(train_data)\n",
    "    train_probs = full_lr.predict_proba(train_data)\n",
    "    train_ROC = metrics.roc_auc_score(train_labels, train_probs[:,1])\n",
    "\n",
    "    dev_preds = full_lr.predict(dev_data)\n",
    "    dev_probs = full_lr.predict_proba(dev_data)\n",
    "    dev_ROC = metrics.roc_auc_score(dev_labels, dev_probs[:,1])\n",
    "\n",
    "    #Misclassified\n",
    "    misclassified_lr = np.where(dev_labels != dev_preds)\n",
    "    \n",
    "    test_preds = full_lr.predict(test_data)\n",
    "    \n",
    "    print(\"train ROC:\", \"{:.3f}\".format(train_ROC))\n",
    "    print(\"dev ROC:  \", \"{:.3f}\".format(dev_ROC))\n",
    "\n",
    "    #print(\"For train:\\n\", classification_report(train_preds, train_labels))\n",
    "    #print(\"For dev:\\n\", classification_report(dev_preds, dev_labels))\n",
    "    \n",
    "    print(\"\\n\"+\"*\"*30+\"\\n\")\n",
    "    return train_ROC, dev_ROC, test_preds, misclassified_lr\n",
    "\n",
    "\n",
    "c_list = [.0001, .001, .005, .01, .025, .05, .1, .125, .25, .5, 1, 5, 10, 25, 50, 100, 500]\n",
    "reg = [\"l2\",\"l1\"]\n",
    "\n",
    "best_dev_roc = 0\n",
    "\n",
    "for r in reg:\n",
    "    train_scores = []\n",
    "    dev_scores = []\n",
    "    for c in c_list:\n",
    "        train_ROC, dev_ROC, test_out, misclassified_lr = logistic_tester(c=c, p=r)\n",
    "        if (dev_ROC > best_dev_roc):\n",
    "            best_dev_roc = dev_ROC\n",
    "            test_preds = test_out\n",
    "            best_c = c\n",
    "            best_reg = r\n",
    "        train_scores.append(train_ROC)\n",
    "        dev_scores.append(dev_ROC)\n",
    "    plt.plot(c_list, train_scores, \"r\", c_list, dev_scores, \"b\")\n",
    "    plt.title(r+\" Regularization\")\n",
    "    plt.ylim(.55,1)\n",
    "    plt.show()\n",
    "\n",
    "print(\"Best development ROC:\", \"{:.3f}\".format(best_dev_roc), \"(c=\", best_c,\", reg=\", best_reg, \")\")"
   ]
  },
  {
   "cell_type": "code",
   "execution_count": null,
   "metadata": {
    "collapsed": true
   },
   "outputs": [],
   "source": [
    "def export_test_preds(test_preds=test_preds, model=\"X\"):\n",
    "    test_out = pd.DataFrame()\n",
    "    test_out['request_id'] = extended_data[in_test]['request_id']\n",
    "    test_out['requester_received_pizza'] = test_preds.astype(int)\n",
    "    test_out.to_csv('./data/submission_'+model+'.csv', index=False)\n",
    "    return None\n",
    "\n",
    "export_test_preds(test_preds, \"logit\")"
   ]
  },
  {
   "cell_type": "markdown",
   "metadata": {},
   "source": [
    "### Multinomial Naive Bayes\n",
    "We next try using the Naive Bayes classifier, varying the hyperparameter of alpha and comparing its ROC score on our development set to that of the logistic regression."
   ]
  },
  {
   "cell_type": "code",
   "execution_count": 161,
   "metadata": {
    "scrolled": true
   },
   "outputs": [
    {
     "name": "stdout",
     "output_type": "stream",
     "text": [
      "('Naive Bayes with a =', '0.0001', ':')\n",
      "('train ROC:', 0.52871729739290907)\n",
      "('dev ROC:', 0.50531692766592085)\n",
      "******************************\n",
      "\n",
      "('Naive Bayes with a =', '0.001', ':')\n",
      "('train ROC:', 0.52871729739290907)\n",
      "('dev ROC:', 0.50531692766592085)\n",
      "******************************\n",
      "\n",
      "('Naive Bayes with a =', '0.01', ':')\n",
      "('train ROC:', 0.52871729739290907)\n",
      "('dev ROC:', 0.50531692766592085)\n",
      "******************************\n",
      "\n",
      "('Naive Bayes with a =', '0.1', ':')\n",
      "('train ROC:', 0.52871729739290907)\n",
      "('dev ROC:', 0.50531692766592085)\n",
      "******************************\n",
      "\n",
      "('Naive Bayes with a =', '0.5', ':')\n",
      "('train ROC:', 0.52871729739290907)\n",
      "('dev ROC:', 0.50531692766592085)\n",
      "******************************\n",
      "\n",
      "('Naive Bayes with a =', '1.0', ':')\n",
      "('train ROC:', 0.52871729739290907)\n",
      "('dev ROC:', 0.50531692766592085)\n",
      "******************************\n",
      "\n",
      "('Naive Bayes with a =', '2.0', ':')\n",
      "('train ROC:', 0.52871729739290907)\n",
      "('dev ROC:', 0.50531692766592085)\n",
      "******************************\n",
      "\n",
      "('Naive Bayes with a =', '10.0', ':')\n",
      "('train ROC:', 0.52871638563136747)\n",
      "('dev ROC:', 0.50531692766592085)\n",
      "******************************\n",
      "\n"
     ]
    },
    {
     "data": {
      "image/png": "[encoded data removed]",
      "text/plain": [
       "<matplotlib.figure.Figure at 0x102c71d50>"
      ]
     },
     "metadata": {},
     "output_type": "display_data"
    },
    {
     "name": "stdout",
     "output_type": "stream",
     "text": [
      "('Best development ROC:', 0.50531692766592085, '(a=', 0.0001, ')')\n"
     ]
    }
   ],
   "source": [
    "def nb_tester(a=1, \n",
    "                train_data = train_data,\n",
    "                train_labels = train_labels,\n",
    "                dev_data = dev_data,\n",
    "                dev_labels = dev_labels,\n",
    "                test_data = test_data):\n",
    "    \"\"\"Train Multi NB for any alpha a; return ROC score on development set and test set predictions\"\"\"\n",
    "    \n",
    "    print(\"Naive Bayes with a =\", str(a),\":\")\n",
    "    full_nb = MultinomialNB(alpha=a)\n",
    "    full_nb.fit(train_data, train_labels)\n",
    "\n",
    "    train_preds = full_nb.predict(train_data)\n",
    "    train_probs = full_nb.predict_proba(train_data)\n",
    "    train_ROC = metrics.roc_auc_score(train_labels, train_probs[:,1])\n",
    "\n",
    "    dev_preds = full_nb.predict(dev_data)\n",
    "    dev_probs = full_nb.predict_proba(dev_data)\n",
    "    dev_ROC = metrics.roc_auc_score(dev_labels, dev_probs[:,1])\n",
    "    \n",
    "    #misclassified\n",
    "    misclassified_mnb = np.where(dev_labels != dev_preds)\n",
    "    \n",
    "    test_preds = full_nb.predict(test_data)\n",
    "\n",
    "    print(\"train ROC:\", train_ROC)\n",
    "    print(\"dev ROC:\", dev_ROC)\n",
    "\n",
    "    #print(classification_report(train_preds, train_labels))\n",
    "    #print(classification_report(dev_preds, dev_labels))\n",
    "    \n",
    "    print(\"*\"*30+\"\\n\")\n",
    "    return train_ROC, dev_ROC, test_preds, misclassified_mnb\n",
    "\n",
    "a_list = [0.0001, 0.001, 0.01, 0.1, 0.5, 1.0, 2.0, 10.0]\n",
    "\n",
    "best_dev_roc = 0\n",
    "\n",
    "train_scores = []\n",
    "dev_scores = []\n",
    "for a in a_list:\n",
    "    train_ROC, dev_ROC, test_out, misclassified_mnb = nb_tester(a=a)\n",
    "    if (dev_ROC > best_dev_roc):\n",
    "        best_dev_roc = dev_ROC\n",
    "        test_preds = test_out\n",
    "        best_a = a\n",
    "    train_scores.append(train_ROC)\n",
    "    dev_scores.append(dev_ROC)\n",
    "plt.plot(a_list, train_scores, \"r\", a_list, dev_scores, \"b\")\n",
    "plt.title(\"ROC of MNB by alpha\")\n",
    "plt.ylim(.50,1)\n",
    "plt.show()\n",
    "\n",
    "print(\"Best development ROC:\", best_dev_roc, \"(a=\", best_a,\")\")"
   ]
  },
  {
   "cell_type": "markdown",
   "metadata": {},
   "source": [
    "Given the presence of numeric features including log-transformations, we consider a Gaussian NB, but like the Multinomial NB for different values of alpha, the classifier struggles to predict true positives."
   ]
  },
  {
   "cell_type": "code",
   "execution_count": 162,
   "metadata": {},
   "outputs": [
    {
     "name": "stdout",
     "output_type": "stream",
     "text": [
      "Gaussian Naive Bayes:\n",
      "             precision    recall  f1-score   support\n",
      "\n",
      "      False       0.99      0.76      0.86      3399\n",
      "       True       0.01      0.27      0.03        44\n",
      "\n",
      "avg / total       0.98      0.75      0.85      3443\n",
      "\n",
      "             precision    recall  f1-score   support\n",
      "\n",
      "      False       0.99      0.75      0.85       590\n",
      "       True       0.01      0.29      0.03         7\n",
      "\n",
      "avg / total       0.98      0.74      0.84       597\n",
      "\n",
      "('GNB train ROC:      ', 0.58030727275711225)\n",
      "('GNB development ROC:', 0.60046234153616707)\n"
     ]
    }
   ],
   "source": [
    "def gnb_tester(train_data = train_data,\n",
    "                train_labels = train_labels,\n",
    "                dev_data = dev_data,\n",
    "                dev_labels = dev_labels,\n",
    "                test_data = test_data):\n",
    "    \"\"\"Train Gaussian NB; return ROC score on development set and test set predictions\"\"\"\n",
    "    \n",
    "    print(\"Gaussian Naive Bayes:\")\n",
    "    gnb = GaussianNB()\n",
    "    gnb.fit(train_data, train_labels)\n",
    "\n",
    "    train_preds = gnb.predict(train_data)\n",
    "    train_probs = gnb.predict_proba(train_data)\n",
    "    train_ROC = metrics.roc_auc_score(train_labels, train_probs[:,1])\n",
    "\n",
    "    dev_preds = gnb.predict(dev_data)\n",
    "    dev_probs = gnb.predict_proba(dev_data)\n",
    "    dev_ROC = metrics.roc_auc_score(dev_labels, dev_probs[:,1])\n",
    "    \n",
    "    #misclassified\n",
    "    misclassified_gnb = np.where(dev_labels != dev_preds)\n",
    "    \n",
    "    test_preds = gnb.predict(test_data)\n",
    "\n",
    "    print(classification_report(train_preds, train_labels))\n",
    "    print(classification_report(dev_preds, dev_labels))\n",
    "    \n",
    "    return train_ROC, dev_ROC, test_preds, misclassified_gnb\n",
    "\n",
    "\n",
    "train_ROC, dev_ROC, test_out, misclassified_gnb = gnb_tester()\n",
    "\n",
    "print(\"GNB train ROC:      \", train_ROC)\n",
    "print(\"GNB development ROC:\", dev_ROC)"
   ]
  },
  {
   "cell_type": "markdown",
   "metadata": {},
   "source": [
    "### Gaussian Mixture Model"
   ]
  },
  {
   "cell_type": "code",
   "execution_count": 164,
   "metadata": {},
   "outputs": [
    {
     "ename": "KeyboardInterrupt",
     "evalue": "",
     "output_type": "error",
     "traceback": [
      "\u001b[0;31m---------------------------------------------------------------------------\u001b[0m",
      "\u001b[0;31mKeyboardInterrupt\u001b[0m                         Traceback (most recent call last)",
      "\u001b[0;32m<ipython-input-164-2bb53d9467d4>\u001b[0m in \u001b[0;36m<module>\u001b[0;34m()\u001b[0m\n\u001b[1;32m     67\u001b[0m     \u001b[0;32mfor\u001b[0m \u001b[0mn\u001b[0m \u001b[0;32min\u001b[0m \u001b[0mn_comps\u001b[0m\u001b[0;34m:\u001b[0m\u001b[0;34m\u001b[0m\u001b[0m\n\u001b[1;32m     68\u001b[0m         \u001b[0;32mfor\u001b[0m \u001b[0mc\u001b[0m \u001b[0;32min\u001b[0m \u001b[0mcov\u001b[0m\u001b[0;34m:\u001b[0m\u001b[0;34m\u001b[0m\u001b[0m\n\u001b[0;32m---> 69\u001b[0;31m             \u001b[0mtrain_accuracy\u001b[0m\u001b[0;34m,\u001b[0m \u001b[0mdev_accuracy\u001b[0m\u001b[0;34m,\u001b[0m \u001b[0mtest_out\u001b[0m\u001b[0;34m,\u001b[0m \u001b[0mmisclassified_gmm\u001b[0m \u001b[0;34m=\u001b[0m \u001b[0mgmm_tester\u001b[0m\u001b[0;34m(\u001b[0m\u001b[0mp\u001b[0m\u001b[0;34m,\u001b[0m \u001b[0mn\u001b[0m\u001b[0;34m,\u001b[0m \u001b[0mc\u001b[0m\u001b[0;34m)\u001b[0m\u001b[0;34m\u001b[0m\u001b[0m\n\u001b[0m\u001b[1;32m     70\u001b[0m             \u001b[0;32mif\u001b[0m \u001b[0;34m(\u001b[0m\u001b[0mdev_accuracy\u001b[0m \u001b[0;34m>\u001b[0m \u001b[0mbest_dev_accuracy\u001b[0m\u001b[0;34m)\u001b[0m\u001b[0;34m:\u001b[0m\u001b[0;34m\u001b[0m\u001b[0m\n\u001b[1;32m     71\u001b[0m                 \u001b[0mbest_dev_accuracy\u001b[0m \u001b[0;34m=\u001b[0m \u001b[0mdev_accuracy\u001b[0m\u001b[0;34m\u001b[0m\u001b[0m\n",
      "\u001b[0;32m<ipython-input-164-2bb53d9467d4>\u001b[0m in \u001b[0;36mgmm_tester\u001b[0;34m(pca_comp, n_comp, covar, train_data, train_labels, dev_data, dev_labels, test_data)\u001b[0m\n\u001b[1;32m     10\u001b[0m     \u001b[0;31m#print(str(pca_comp),\"PCA components,\", str(n_comp), \"GMM components,\", covar)\u001b[0m\u001b[0;34m\u001b[0m\u001b[0;34m\u001b[0m\u001b[0m\n\u001b[1;32m     11\u001b[0m     \u001b[0mpca\u001b[0m \u001b[0;34m=\u001b[0m \u001b[0mPCA\u001b[0m\u001b[0;34m(\u001b[0m\u001b[0mn_components\u001b[0m\u001b[0;34m=\u001b[0m\u001b[0mpca_comp\u001b[0m\u001b[0;34m)\u001b[0m\u001b[0;34m\u001b[0m\u001b[0m\n\u001b[0;32m---> 12\u001b[0;31m     \u001b[0mtrain_data2\u001b[0m \u001b[0;34m=\u001b[0m \u001b[0mpca\u001b[0m\u001b[0;34m.\u001b[0m\u001b[0mfit_transform\u001b[0m\u001b[0;34m(\u001b[0m\u001b[0mtrain_data\u001b[0m\u001b[0;34m)\u001b[0m\u001b[0;34m\u001b[0m\u001b[0m\n\u001b[0m\u001b[1;32m     13\u001b[0m     \u001b[0mdev_data2\u001b[0m \u001b[0;34m=\u001b[0m \u001b[0mpca\u001b[0m\u001b[0;34m.\u001b[0m\u001b[0mtransform\u001b[0m\u001b[0;34m(\u001b[0m\u001b[0mdev_data\u001b[0m\u001b[0;34m)\u001b[0m\u001b[0;34m\u001b[0m\u001b[0m\n\u001b[1;32m     14\u001b[0m     \u001b[0mtest_data2\u001b[0m \u001b[0;34m=\u001b[0m \u001b[0mpca\u001b[0m\u001b[0;34m.\u001b[0m\u001b[0mtransform\u001b[0m\u001b[0;34m(\u001b[0m\u001b[0mtest_data\u001b[0m\u001b[0;34m)\u001b[0m\u001b[0;34m\u001b[0m\u001b[0m\n",
      "\u001b[0;32m/Users/robo/anaconda/envs/py27/lib/python2.7/site-packages/sklearn/decomposition/pca.pyc\u001b[0m in \u001b[0;36mfit_transform\u001b[0;34m(self, X, y)\u001b[0m\n\u001b[1;32m    346\u001b[0m \u001b[0;34m\u001b[0m\u001b[0m\n\u001b[1;32m    347\u001b[0m         \"\"\"\n\u001b[0;32m--> 348\u001b[0;31m         \u001b[0mU\u001b[0m\u001b[0;34m,\u001b[0m \u001b[0mS\u001b[0m\u001b[0;34m,\u001b[0m \u001b[0mV\u001b[0m \u001b[0;34m=\u001b[0m \u001b[0mself\u001b[0m\u001b[0;34m.\u001b[0m\u001b[0m_fit\u001b[0m\u001b[0;34m(\u001b[0m\u001b[0mX\u001b[0m\u001b[0;34m)\u001b[0m\u001b[0;34m\u001b[0m\u001b[0m\n\u001b[0m\u001b[1;32m    349\u001b[0m         \u001b[0mU\u001b[0m \u001b[0;34m=\u001b[0m \u001b[0mU\u001b[0m\u001b[0;34m[\u001b[0m\u001b[0;34m:\u001b[0m\u001b[0;34m,\u001b[0m \u001b[0;34m:\u001b[0m\u001b[0mself\u001b[0m\u001b[0;34m.\u001b[0m\u001b[0mn_components_\u001b[0m\u001b[0;34m]\u001b[0m\u001b[0;34m\u001b[0m\u001b[0m\n\u001b[1;32m    350\u001b[0m \u001b[0;34m\u001b[0m\u001b[0m\n",
      "\u001b[0;32m/Users/robo/anaconda/envs/py27/lib/python2.7/site-packages/sklearn/decomposition/pca.pyc\u001b[0m in \u001b[0;36m_fit\u001b[0;34m(self, X)\u001b[0m\n\u001b[1;32m    392\u001b[0m             \u001b[0;32mreturn\u001b[0m \u001b[0mself\u001b[0m\u001b[0;34m.\u001b[0m\u001b[0m_fit_full\u001b[0m\u001b[0;34m(\u001b[0m\u001b[0mX\u001b[0m\u001b[0;34m,\u001b[0m \u001b[0mn_components\u001b[0m\u001b[0;34m)\u001b[0m\u001b[0;34m\u001b[0m\u001b[0m\n\u001b[1;32m    393\u001b[0m         \u001b[0;32melif\u001b[0m \u001b[0msvd_solver\u001b[0m \u001b[0;32min\u001b[0m \u001b[0;34m[\u001b[0m\u001b[0;34m'arpack'\u001b[0m\u001b[0;34m,\u001b[0m \u001b[0;34m'randomized'\u001b[0m\u001b[0;34m]\u001b[0m\u001b[0;34m:\u001b[0m\u001b[0;34m\u001b[0m\u001b[0m\n\u001b[0;32m--> 394\u001b[0;31m             \u001b[0;32mreturn\u001b[0m \u001b[0mself\u001b[0m\u001b[0;34m.\u001b[0m\u001b[0m_fit_truncated\u001b[0m\u001b[0;34m(\u001b[0m\u001b[0mX\u001b[0m\u001b[0;34m,\u001b[0m \u001b[0mn_components\u001b[0m\u001b[0;34m,\u001b[0m \u001b[0msvd_solver\u001b[0m\u001b[0;34m)\u001b[0m\u001b[0;34m\u001b[0m\u001b[0m\n\u001b[0m\u001b[1;32m    395\u001b[0m         \u001b[0;32melse\u001b[0m\u001b[0;34m:\u001b[0m\u001b[0;34m\u001b[0m\u001b[0m\n\u001b[1;32m    396\u001b[0m             raise ValueError(\"Unrecognized svd_solver='{0}'\"\n",
      "\u001b[0;32m/Users/robo/anaconda/envs/py27/lib/python2.7/site-packages/sklearn/decomposition/pca.pyc\u001b[0m in \u001b[0;36m_fit_truncated\u001b[0;34m(self, X, n_components, svd_solver)\u001b[0m\n\u001b[1;32m    493\u001b[0m                                      \u001b[0mn_iter\u001b[0m\u001b[0;34m=\u001b[0m\u001b[0mself\u001b[0m\u001b[0;34m.\u001b[0m\u001b[0miterated_power\u001b[0m\u001b[0;34m,\u001b[0m\u001b[0;34m\u001b[0m\u001b[0m\n\u001b[1;32m    494\u001b[0m                                      \u001b[0mflip_sign\u001b[0m\u001b[0;34m=\u001b[0m\u001b[0mTrue\u001b[0m\u001b[0;34m,\u001b[0m\u001b[0;34m\u001b[0m\u001b[0m\n\u001b[0;32m--> 495\u001b[0;31m                                      random_state=random_state)\n\u001b[0m\u001b[1;32m    496\u001b[0m \u001b[0;34m\u001b[0m\u001b[0m\n\u001b[1;32m    497\u001b[0m         \u001b[0mself\u001b[0m\u001b[0;34m.\u001b[0m\u001b[0mn_samples_\u001b[0m\u001b[0;34m,\u001b[0m \u001b[0mself\u001b[0m\u001b[0;34m.\u001b[0m\u001b[0mn_features_\u001b[0m \u001b[0;34m=\u001b[0m \u001b[0mn_samples\u001b[0m\u001b[0;34m,\u001b[0m \u001b[0mn_features\u001b[0m\u001b[0;34m\u001b[0m\u001b[0m\n",
      "\u001b[0;32m/Users/robo/anaconda/envs/py27/lib/python2.7/site-packages/sklearn/utils/extmath.pyc\u001b[0m in \u001b[0;36mrandomized_svd\u001b[0;34m(M, n_components, n_oversamples, n_iter, power_iteration_normalizer, transpose, flip_sign, random_state)\u001b[0m\n\u001b[1;32m    324\u001b[0m \u001b[0;34m\u001b[0m\u001b[0m\n\u001b[1;32m    325\u001b[0m     Q = randomized_range_finder(M, n_random, n_iter,\n\u001b[0;32m--> 326\u001b[0;31m                                 power_iteration_normalizer, random_state)\n\u001b[0m\u001b[1;32m    327\u001b[0m \u001b[0;34m\u001b[0m\u001b[0m\n\u001b[1;32m    328\u001b[0m     \u001b[0;31m# project M to the (k + p) dimensional space using the basis vectors\u001b[0m\u001b[0;34m\u001b[0m\u001b[0;34m\u001b[0m\u001b[0m\n",
      "\u001b[0;32m/Users/robo/anaconda/envs/py27/lib/python2.7/site-packages/sklearn/utils/extmath.pyc\u001b[0m in \u001b[0;36mrandomized_range_finder\u001b[0;34m(A, size, n_iter, power_iteration_normalizer, random_state)\u001b[0m\n\u001b[1;32m    215\u001b[0m         \u001b[0;32melif\u001b[0m \u001b[0mpower_iteration_normalizer\u001b[0m \u001b[0;34m==\u001b[0m \u001b[0;34m'LU'\u001b[0m\u001b[0;34m:\u001b[0m\u001b[0;34m\u001b[0m\u001b[0m\n\u001b[1;32m    216\u001b[0m             \u001b[0mQ\u001b[0m\u001b[0;34m,\u001b[0m \u001b[0m_\u001b[0m \u001b[0;34m=\u001b[0m \u001b[0mlinalg\u001b[0m\u001b[0;34m.\u001b[0m\u001b[0mlu\u001b[0m\u001b[0;34m(\u001b[0m\u001b[0msafe_sparse_dot\u001b[0m\u001b[0;34m(\u001b[0m\u001b[0mA\u001b[0m\u001b[0;34m,\u001b[0m \u001b[0mQ\u001b[0m\u001b[0;34m)\u001b[0m\u001b[0;34m,\u001b[0m \u001b[0mpermute_l\u001b[0m\u001b[0;34m=\u001b[0m\u001b[0mTrue\u001b[0m\u001b[0;34m)\u001b[0m\u001b[0;34m\u001b[0m\u001b[0m\n\u001b[0;32m--> 217\u001b[0;31m             \u001b[0mQ\u001b[0m\u001b[0;34m,\u001b[0m \u001b[0m_\u001b[0m \u001b[0;34m=\u001b[0m \u001b[0mlinalg\u001b[0m\u001b[0;34m.\u001b[0m\u001b[0mlu\u001b[0m\u001b[0;34m(\u001b[0m\u001b[0msafe_sparse_dot\u001b[0m\u001b[0;34m(\u001b[0m\u001b[0mA\u001b[0m\u001b[0;34m.\u001b[0m\u001b[0mT\u001b[0m\u001b[0;34m,\u001b[0m \u001b[0mQ\u001b[0m\u001b[0;34m)\u001b[0m\u001b[0;34m,\u001b[0m \u001b[0mpermute_l\u001b[0m\u001b[0;34m=\u001b[0m\u001b[0mTrue\u001b[0m\u001b[0;34m)\u001b[0m\u001b[0;34m\u001b[0m\u001b[0m\n\u001b[0m\u001b[1;32m    218\u001b[0m         \u001b[0;32melif\u001b[0m \u001b[0mpower_iteration_normalizer\u001b[0m \u001b[0;34m==\u001b[0m \u001b[0;34m'QR'\u001b[0m\u001b[0;34m:\u001b[0m\u001b[0;34m\u001b[0m\u001b[0m\n\u001b[1;32m    219\u001b[0m             \u001b[0mQ\u001b[0m\u001b[0;34m,\u001b[0m \u001b[0m_\u001b[0m \u001b[0;34m=\u001b[0m \u001b[0mlinalg\u001b[0m\u001b[0;34m.\u001b[0m\u001b[0mqr\u001b[0m\u001b[0;34m(\u001b[0m\u001b[0msafe_sparse_dot\u001b[0m\u001b[0;34m(\u001b[0m\u001b[0mA\u001b[0m\u001b[0;34m,\u001b[0m \u001b[0mQ\u001b[0m\u001b[0;34m)\u001b[0m\u001b[0;34m,\u001b[0m \u001b[0mmode\u001b[0m\u001b[0;34m=\u001b[0m\u001b[0;34m'economic'\u001b[0m\u001b[0;34m)\u001b[0m\u001b[0;34m\u001b[0m\u001b[0m\n",
      "\u001b[0;32m/Users/robo/anaconda/envs/py27/lib/python2.7/site-packages/sklearn/utils/extmath.pyc\u001b[0m in \u001b[0;36msafe_sparse_dot\u001b[0;34m(a, b, dense_output)\u001b[0m\n\u001b[1;32m    138\u001b[0m         \u001b[0;32mreturn\u001b[0m \u001b[0mret\u001b[0m\u001b[0;34m\u001b[0m\u001b[0m\n\u001b[1;32m    139\u001b[0m     \u001b[0;32melse\u001b[0m\u001b[0;34m:\u001b[0m\u001b[0;34m\u001b[0m\u001b[0m\n\u001b[0;32m--> 140\u001b[0;31m         \u001b[0;32mreturn\u001b[0m \u001b[0mnp\u001b[0m\u001b[0;34m.\u001b[0m\u001b[0mdot\u001b[0m\u001b[0;34m(\u001b[0m\u001b[0ma\u001b[0m\u001b[0;34m,\u001b[0m \u001b[0mb\u001b[0m\u001b[0;34m)\u001b[0m\u001b[0;34m\u001b[0m\u001b[0m\n\u001b[0m\u001b[1;32m    141\u001b[0m \u001b[0;34m\u001b[0m\u001b[0m\n\u001b[1;32m    142\u001b[0m \u001b[0;34m\u001b[0m\u001b[0m\n",
      "\u001b[0;31mKeyboardInterrupt\u001b[0m: "
     ]
    }
   ],
   "source": [
    "def gmm_tester(pca_comp=10, n_comp=5, covar=\"full\",\n",
    "               train_data = train_data,\n",
    "               train_labels = train_labels,\n",
    "               dev_data = dev_data,\n",
    "               dev_labels = dev_labels,\n",
    "               test_data = test_data):\n",
    "    \"\"\"Train GMM for n components and each covariance matrix;\n",
    "        return ROC score on development set and test set predictions\"\"\"\n",
    "    \n",
    "    #print(str(pca_comp),\"PCA components,\", str(n_comp), \"GMM components,\", covar)\n",
    "    pca = PCA(n_components=pca_comp)\n",
    "    train_data2 = pca.fit_transform(train_data)\n",
    "    dev_data2 = pca.transform(dev_data)\n",
    "    test_data2 = pca.transform(test_data)\n",
    "    \n",
    "    train_pos, train_neg = train_data2[train_labels == 1], train_data2[train_labels == 0]\n",
    "    \n",
    "    gmm_pos = GaussianMixture(n_components=n_comp, covariance_type=covar)\n",
    "    gmm_pos.fit(train_pos)\n",
    "    train_pos = gmm_pos.score_samples(train_data2)\n",
    "    dev_pos = gmm_pos.score_samples(dev_data2)\n",
    "    test_pos = gmm_pos.score_samples(test_data2)\n",
    "    \n",
    "    gmm_neg = GaussianMixture(n_components=n_comp, covariance_type=covar)\n",
    "    gmm_neg.fit(train_neg)\n",
    "    train_neg = gmm_neg.score_samples(train_data2)\n",
    "    dev_neg = gmm_neg.score_samples(dev_data2)\n",
    "    test_neg = gmm_neg.score_samples(test_data2)\n",
    "    \n",
    "    train_preds = np.zeros(train_pos.shape)\n",
    "    train_preds = (train_pos > train_neg).astype(int)\n",
    "    #train_scores = np.exp(train_pos)/(np.exp(train_pos) + np.exp(train_neg))\n",
    "    train_accuracy = np.sum(train_labels == train_preds) / len(train_labels)\n",
    "\n",
    "    \n",
    "    dev_preds = np.zeros(dev_pos.shape)\n",
    "    dev_preds = (dev_pos > dev_neg).astype(int)\n",
    "    #dev_scores = np.exp(dev_pos)/(np.exp(dev_pos) + np.exp(dev_neg))\n",
    "    dev_accuracy = np.sum(dev_labels == dev_preds) / len(dev_labels)\n",
    "    \n",
    "    #misclassified\n",
    "    misclassified_gmm = np.where(dev_preds != dev_labels)\n",
    "    \n",
    "    #print(\"train accuracy:\", \"{:.3f}\".format(train_accuracy))\n",
    "    #print(\"dev accuracy:  \", \"{:.3f}\".format(dev_accuracy))\n",
    "    #print()\n",
    "    \n",
    "    test_preds = np.zeros(test_pos.shape)\n",
    "    test_preds = (test_pos > test_neg).astype(int)\n",
    "    \n",
    "    #print(classification_report(train_preds, train_labels))\n",
    "    #print(classification_report(dev_preds, dev_labels))\n",
    "    \n",
    "    return train_accuracy, dev_accuracy, test_preds, misclassified_gmm\n",
    "\n",
    "#gmm_tester()\n",
    "\n",
    "\n",
    "pca_comps = [10*i for i in range(1,9)]\n",
    "n_comps = [i for i in range(2,11)]\n",
    "cov = ['full', 'tied', 'diag', 'spherical']\n",
    "\n",
    "best_dev_accuracy = 0\n",
    "for p in pca_comps:\n",
    "    #train_scores = []\n",
    "    #dev_scores = []\n",
    "    for n in n_comps:\n",
    "        for c in cov:\n",
    "            train_accuracy, dev_accuracy, test_out, misclassified_gmm = gmm_tester(p, n, c)\n",
    "            if (dev_accuracy > best_dev_accuracy):\n",
    "                best_dev_accuracy = dev_accuracy\n",
    "                test_preds = test_out\n",
    "                best_p = p\n",
    "                best_n = n\n",
    "                best_c = c\n",
    "                \n",
    "            #train_scores.append(train_ROC)\n",
    "            #dev_scores.append(dev_ROC)\n",
    "        #plt.plot(n_comps, train_scores, \"r\", n_comps, dev_scores, \"b\")\n",
    "        #plt.title(str(p)+\" Components\")\n",
    "        #plt.ylim(.5,1)\n",
    "        #plt.show()\n",
    "print(\"Best development accuracy:\", \"{:.3f}\".format(best_dev_accuracy), \"(PCA=\", best_p,\", N=\", best_n,\", cov=\", best_c,\")\")"
   ]
  },
  {
   "cell_type": "markdown",
   "metadata": {},
   "source": [
    "The best performing GMM, with 20 PCA components, 10 GMM components, and a tied covariance matrix, performs poorly on the test dataset, with an ROC close to 50%."
   ]
  },
  {
   "cell_type": "code",
   "execution_count": 243,
   "metadata": {
    "collapsed": true
   },
   "outputs": [],
   "source": [
    "export_test_preds(test_preds, \"gmm\")"
   ]
  },
  {
   "cell_type": "markdown",
   "metadata": {},
   "source": [
    "## Error Checking"
   ]
  },
  {
   "cell_type": "code",
   "execution_count": null,
   "metadata": {
    "collapsed": true
   },
   "outputs": [],
   "source": [
    "misclassified_lr\n",
    "misclassified_gnb\n",
    "misclassified_mnb\n",
    "misclassified_gmm"
   ]
  },
  {
   "cell_type": "code",
   "execution_count": 202,
   "metadata": {
    "scrolled": false
   },
   "outputs": [
    {
     "data": {
      "text/plain": [
       "array([ 18,  39,  44,  50,  76,  90,  93, 110, 143, 216, 231, 304, 329,\n",
       "       331, 449, 450, 470, 492, 504, 527, 533, 535, 572, 587, 594])"
      ]
     },
     "execution_count": 202,
     "metadata": {},
     "output_type": "execute_result"
    }
   ],
   "source": [
    "misclassified_intersect = np.intersect1d(misclassified_lr, misclassified_gnb)\n",
    "misclassified_intersect = np.intersect1d(misclassified_intersect, misclassified_mnb)\n",
    "misclassified_intersect = np.intersect1d(misclassified_intersect, misclassified_gmm)\n",
    "misclassified_intersect"
   ]
  },
  {
   "cell_type": "markdown",
   "metadata": {},
   "source": [
    "Let's look now at the unique misclassification rates per model to learn how each model performed"
   ]
  },
  {
   "cell_type": "code",
   "execution_count": 223,
   "metadata": {
    "scrolled": true
   },
   "outputs": [
    {
     "name": "stdout",
     "output_type": "stream",
     "text": [
      "misclassified_lr had a 7% unique error rate\n",
      "misclassified_mnb had a 7% unique error rate\n",
      "misclassified_gnb had a 5% unique error rate\n",
      "misclassified_gmm had a 10% unique error rate\n"
     ]
    },
    {
     "name": "stderr",
     "output_type": "stream",
     "text": [
      "/Users/robo/anaconda/envs/py27/lib/python2.7/site-packages/ipykernel_launcher.py:5: DeprecationWarning: elementwise == comparison failed; this will raise an error in the future.\n",
      "  \"\"\"\n"
     ]
    }
   ],
   "source": [
    "common_misclassification_count = len(misclassified_intersect)\n",
    "misclass_list = [misclassified_lr, misclassified_mnb, misclassified_gnb, misclassified_gmm]\n",
    "misclass_list_name = ['misclassified_lr', 'misclassified_mnb', 'misclassified_gnb', 'misclassified_gmm']\n",
    "for i in misclass_list:\n",
    "    print\"{} had a {}% unique error rate\".format(misclass_list_name[misclass_list.index(i)], len(np.setdiff1d(i, misclassified_intersect))/common_misclassification_count)"
   ]
  },
  {
   "cell_type": "markdown",
   "metadata": {},
   "source": [
    "GMM, to no surprise, had the most difficult and unique errors at 10% given how it doesn't perform well with word vectors as word2vec numerical values aren't generally normally distributed hence difficult to model."
   ]
  },
  {
   "cell_type": "code",
   "execution_count": 1,
   "metadata": {},
   "outputs": [
    {
     "ename": "NameError",
     "evalue": "name 'dev_labels' is not defined",
     "output_type": "error",
     "traceback": [
      "\u001b[0;31m---------------------------------------------------------------------------\u001b[0m",
      "\u001b[0;31mNameError\u001b[0m                                 Traceback (most recent call last)",
      "\u001b[0;32m<ipython-input-1-3a29a4939848>\u001b[0m in \u001b[0;36m<module>\u001b[0;34m()\u001b[0m\n\u001b[0;32m----> 1\u001b[0;31m \u001b[0mtrue_labels\u001b[0m \u001b[0;34m=\u001b[0m \u001b[0mdev_labels\u001b[0m\u001b[0;34m[\u001b[0m\u001b[0mmisclassified_intersect\u001b[0m\u001b[0;34m]\u001b[0m\u001b[0;34m\u001b[0m\u001b[0m\n\u001b[0m",
      "\u001b[0;31mNameError\u001b[0m: name 'dev_labels' is not defined"
     ]
    }
   ],
   "source": [
    "true_labels = dev_labels[misclassified_intersect]"
   ]
  },
  {
   "cell_type": "code",
   "execution_count": 203,
   "metadata": {},
   "outputs": [
    {
     "data": {
      "text/html": [
       "<div>\n",
       "<style scoped>\n",
       "    .dataframe tbody tr th:only-of-type {\n",
       "        vertical-align: middle;\n",
       "    }\n",
       "\n",
       "    .dataframe tbody tr th {\n",
       "        vertical-align: top;\n",
       "    }\n",
       "\n",
       "    .dataframe thead th {\n",
       "        text-align: right;\n",
       "    }\n",
       "</style>\n",
       "<table border=\"1\" class=\"dataframe\">\n",
       "  <thead>\n",
       "    <tr style=\"text-align: right;\">\n",
       "      <th></th>\n",
       "      <th>request_title</th>\n",
       "      <th>request_text_edit_aware</th>\n",
       "      <th>requester_received_pizza</th>\n",
       "    </tr>\n",
       "  </thead>\n",
       "  <tbody>\n",
       "    <tr>\n",
       "      <th>126</th>\n",
       "      <td>[Request in MA] Would really love a pizza this...</td>\n",
       "      <td>Would like to surprise my son.  :)</td>\n",
       "      <td>True</td>\n",
       "    </tr>\n",
       "    <tr>\n",
       "      <th>230</th>\n",
       "      <td>(REQUEST) 3guys (2human 1feline) in MONTANA, h...</td>\n",
       "      <td>My friend is visiting from out of town, travel...</td>\n",
       "      <td>True</td>\n",
       "    </tr>\n",
       "    <tr>\n",
       "      <th>268</th>\n",
       "      <td>[Request] I'm hungry and am saving all my mone...</td>\n",
       "      <td>I move soon but in the mean time, I'm saving e...</td>\n",
       "      <td>False</td>\n",
       "    </tr>\n",
       "    <tr>\n",
       "      <th>330</th>\n",
       "      <td>[Request] Brooklyn, NY: Just moved apartments....</td>\n",
       "      <td>EDIT: TAKEN CARE OF YAY.\\n\\nHello lovely Pizza...</td>\n",
       "      <td>True</td>\n",
       "    </tr>\n",
       "    <tr>\n",
       "      <th>479</th>\n",
       "      <td>[REQUEST] All I have is cereal and spoiled milk</td>\n",
       "      <td>I guess I could just eat the cereal, but that'...</td>\n",
       "      <td>True</td>\n",
       "    </tr>\n",
       "    <tr>\n",
       "      <th>566</th>\n",
       "      <td>[REQUEST] Only one 4.75-hour workday this week...</td>\n",
       "      <td>I can forward the e-mailed work schedule as pr...</td>\n",
       "      <td>True</td>\n",
       "    </tr>\n",
       "    <tr>\n",
       "      <th>596</th>\n",
       "      <td>Request. Pizza for my family please we could u...</td>\n",
       "      <td>My family has it rough this time of the year, ...</td>\n",
       "      <td>True</td>\n",
       "    </tr>\n",
       "    <tr>\n",
       "      <th>683</th>\n",
       "      <td>(Request) paycheck at my part time job is comi...</td>\n",
       "      <td>I'm a broke college kid working a part time jo...</td>\n",
       "      <td>True</td>\n",
       "    </tr>\n",
       "    <tr>\n",
       "      <th>967</th>\n",
       "      <td>(Request) Dinner in Pacific, Mo?</td>\n",
       "      <td>Hi everyone. I usually just lurk around reddit...</td>\n",
       "      <td>True</td>\n",
       "    </tr>\n",
       "    <tr>\n",
       "      <th>1407</th>\n",
       "      <td>[Request] US Married couple in between jobs wo...</td>\n",
       "      <td>(Tennessee USA) It is a day to celebrate after...</td>\n",
       "      <td>True</td>\n",
       "    </tr>\n",
       "    <tr>\n",
       "      <th>1485</th>\n",
       "      <td>[REQUEST] Hungry dad with no food in Kent, WA</td>\n",
       "      <td>Hello everyone,\\n\\nThis is my first time here,...</td>\n",
       "      <td>True</td>\n",
       "    </tr>\n",
       "    <tr>\n",
       "      <th>2027</th>\n",
       "      <td>[Request] Missouri, USA - Just got off work. I...</td>\n",
       "      <td>So, I didn't find out my wife was leaving me t...</td>\n",
       "      <td>True</td>\n",
       "    </tr>\n",
       "    <tr>\n",
       "      <th>2184</th>\n",
       "      <td>[Request] Knoxville, TN</td>\n",
       "      <td>Posting here in hopes of pizza. Bit of a story...</td>\n",
       "      <td>True</td>\n",
       "    </tr>\n",
       "    <tr>\n",
       "      <th>2200</th>\n",
       "      <td>[Request] Los Angeles - Just got two rescue ca...</td>\n",
       "      <td>Just rescued two cats (http://imgur.com/fBpUEL...</td>\n",
       "      <td>True</td>\n",
       "    </tr>\n",
       "    <tr>\n",
       "      <th>3126</th>\n",
       "      <td>[Request] Household of 4 grew by 2 tonight, pi...</td>\n",
       "      <td>Hey RAoP, I feel bad even asking for this, but...</td>\n",
       "      <td>True</td>\n",
       "    </tr>\n",
       "    <tr>\n",
       "      <th>3128</th>\n",
       "      <td>Hard working single mom could really use a piz...</td>\n",
       "      <td>Help a girl out? 1 medium cheese pizza to my w...</td>\n",
       "      <td>True</td>\n",
       "    </tr>\n",
       "    <tr>\n",
       "      <th>3231</th>\n",
       "      <td>[Request] Spokane WA We're broke, I'm hormonal...</td>\n",
       "      <td>We're completely broke and craving pizza. I th...</td>\n",
       "      <td>True</td>\n",
       "    </tr>\n",
       "    <tr>\n",
       "      <th>3372</th>\n",
       "      <td>[Request] KY USA - Would love to surprise my s...</td>\n",
       "      <td>I hope I posted the title correctly. I've been...</td>\n",
       "      <td>True</td>\n",
       "    </tr>\n",
       "    <tr>\n",
       "      <th>3454</th>\n",
       "      <td>[REQUEST] Pizza for some firefighters tonight ...</td>\n",
       "      <td>I volunteer at a firehouse and we love pizza!!</td>\n",
       "      <td>True</td>\n",
       "    </tr>\n",
       "    <tr>\n",
       "      <th>3638</th>\n",
       "      <td>[Request] Broke and hungry in Kentucky, would ...</td>\n",
       "      <td>Any help would be appreciated, and reciprocate...</td>\n",
       "      <td>True</td>\n",
       "    </tr>\n",
       "    <tr>\n",
       "      <th>3686</th>\n",
       "      <td>[Request] Probably a lot of these out there ri...</td>\n",
       "      <td>The title pretty much explains it. I live in N...</td>\n",
       "      <td>True</td>\n",
       "    </tr>\n",
       "    <tr>\n",
       "      <th>3702</th>\n",
       "      <td>[request] NC USA, lonely and hungry</td>\n",
       "      <td>Been eating the same stuff in for a week now, ...</td>\n",
       "      <td>True</td>\n",
       "    </tr>\n",
       "    <tr>\n",
       "      <th>3907</th>\n",
       "      <td>[request] St. Louis, MO. About to finish colle...</td>\n",
       "      <td>I just finished my last two finals today and h...</td>\n",
       "      <td>True</td>\n",
       "    </tr>\n",
       "    <tr>\n",
       "      <th>3980</th>\n",
       "      <td>[Request] (UK) Home alone, no bread, would app...</td>\n",
       "      <td>Planned on having some good old beans on toast...</td>\n",
       "      <td>True</td>\n",
       "    </tr>\n",
       "    <tr>\n",
       "      <th>4024</th>\n",
       "      <td>[request] Unemployment check never came, waiti...</td>\n",
       "      <td>*</td>\n",
       "      <td>True</td>\n",
       "    </tr>\n",
       "  </tbody>\n",
       "</table>\n",
       "</div>"
      ],
      "text/plain": [
       "                                          request_title  \\\n",
       "126   [Request in MA] Would really love a pizza this...   \n",
       "230   (REQUEST) 3guys (2human 1feline) in MONTANA, h...   \n",
       "268   [Request] I'm hungry and am saving all my mone...   \n",
       "330   [Request] Brooklyn, NY: Just moved apartments....   \n",
       "479     [REQUEST] All I have is cereal and spoiled milk   \n",
       "566   [REQUEST] Only one 4.75-hour workday this week...   \n",
       "596   Request. Pizza for my family please we could u...   \n",
       "683   (Request) paycheck at my part time job is comi...   \n",
       "967                    (Request) Dinner in Pacific, Mo?   \n",
       "1407  [Request] US Married couple in between jobs wo...   \n",
       "1485      [REQUEST] Hungry dad with no food in Kent, WA   \n",
       "2027  [Request] Missouri, USA - Just got off work. I...   \n",
       "2184                            [Request] Knoxville, TN   \n",
       "2200  [Request] Los Angeles - Just got two rescue ca...   \n",
       "3126  [Request] Household of 4 grew by 2 tonight, pi...   \n",
       "3128  Hard working single mom could really use a piz...   \n",
       "3231  [Request] Spokane WA We're broke, I'm hormonal...   \n",
       "3372  [Request] KY USA - Would love to surprise my s...   \n",
       "3454  [REQUEST] Pizza for some firefighters tonight ...   \n",
       "3638  [Request] Broke and hungry in Kentucky, would ...   \n",
       "3686  [Request] Probably a lot of these out there ri...   \n",
       "3702                [request] NC USA, lonely and hungry   \n",
       "3907  [request] St. Louis, MO. About to finish colle...   \n",
       "3980  [Request] (UK) Home alone, no bread, would app...   \n",
       "4024  [request] Unemployment check never came, waiti...   \n",
       "\n",
       "                                request_text_edit_aware  \\\n",
       "126                  Would like to surprise my son.  :)   \n",
       "230   My friend is visiting from out of town, travel...   \n",
       "268   I move soon but in the mean time, I'm saving e...   \n",
       "330   EDIT: TAKEN CARE OF YAY.\\n\\nHello lovely Pizza...   \n",
       "479   I guess I could just eat the cereal, but that'...   \n",
       "566   I can forward the e-mailed work schedule as pr...   \n",
       "596   My family has it rough this time of the year, ...   \n",
       "683   I'm a broke college kid working a part time jo...   \n",
       "967   Hi everyone. I usually just lurk around reddit...   \n",
       "1407  (Tennessee USA) It is a day to celebrate after...   \n",
       "1485  Hello everyone,\\n\\nThis is my first time here,...   \n",
       "2027  So, I didn't find out my wife was leaving me t...   \n",
       "2184  Posting here in hopes of pizza. Bit of a story...   \n",
       "2200  Just rescued two cats (http://imgur.com/fBpUEL...   \n",
       "3126  Hey RAoP, I feel bad even asking for this, but...   \n",
       "3128  Help a girl out? 1 medium cheese pizza to my w...   \n",
       "3231  We're completely broke and craving pizza. I th...   \n",
       "3372  I hope I posted the title correctly. I've been...   \n",
       "3454     I volunteer at a firehouse and we love pizza!!   \n",
       "3638  Any help would be appreciated, and reciprocate...   \n",
       "3686  The title pretty much explains it. I live in N...   \n",
       "3702  Been eating the same stuff in for a week now, ...   \n",
       "3907  I just finished my last two finals today and h...   \n",
       "3980  Planned on having some good old beans on toast...   \n",
       "4024                                                  *   \n",
       "\n",
       "      requester_received_pizza  \n",
       "126                       True  \n",
       "230                       True  \n",
       "268                      False  \n",
       "330                       True  \n",
       "479                       True  \n",
       "566                       True  \n",
       "596                       True  \n",
       "683                       True  \n",
       "967                       True  \n",
       "1407                      True  \n",
       "1485                      True  \n",
       "2027                      True  \n",
       "2184                      True  \n",
       "2200                      True  \n",
       "3126                      True  \n",
       "3128                      True  \n",
       "3231                      True  \n",
       "3372                      True  \n",
       "3454                      True  \n",
       "3638                      True  \n",
       "3686                      True  \n",
       "3702                      True  \n",
       "3907                      True  \n",
       "3980                      True  \n",
       "4024                      True  "
      ]
     },
     "execution_count": 203,
     "metadata": {},
     "output_type": "execute_result"
    }
   ],
   "source": [
    "dev_data_extended = extended_data[in_dev]\n",
    "true_labels = dev_labels[misclassified_intersect]\n",
    "most_common_misclassfied = pd.concat([dev_data_extended[[\"request_title\", \"request_text_edit_aware\"]].iloc[misclassified_intersect], true_labels], axis = 1) \n",
    "most_common_misclassfied"
   ]
  },
  {
   "cell_type": "code",
   "execution_count": 204,
   "metadata": {
    "collapsed": true
   },
   "outputs": [],
   "source": [
    "most_common_misclassfied.to_csv('./data/most_common_misclassified.csv', index=False)"
   ]
  },
  {
   "cell_type": "markdown",
   "metadata": {},
   "source": [
    "After reading the most common misclassified CSV, most of the fulfilled requests that our models missed were financially related unfortunate events - paycheck to paycheck, unemployed, recently laid off, college/grad school income, followed by personal relational events - pregnant, relocation, lonely, heartbreak, divorce."
   ]
  },
  {
   "cell_type": "code",
   "execution_count": null,
   "metadata": {
    "collapsed": true
   },
   "outputs": [],
   "source": []
  }
 ],
 "metadata": {
  "anaconda-cloud": {},
  "kernelspec": {
   "display_name": "Python 2",
   "language": "python",
   "name": "python2"
  },
  "language_info": {
   "codemirror_mode": {
    "name": "ipython",
    "version": 2
   },
   "file_extension": ".py",
   "mimetype": "text/x-python",
   "name": "python",
   "nbconvert_exporter": "python",
   "pygments_lexer": "ipython2",
   "version": "2.7.13"
  }
 },
 "nbformat": 4,
 "nbformat_minor": 1
}
